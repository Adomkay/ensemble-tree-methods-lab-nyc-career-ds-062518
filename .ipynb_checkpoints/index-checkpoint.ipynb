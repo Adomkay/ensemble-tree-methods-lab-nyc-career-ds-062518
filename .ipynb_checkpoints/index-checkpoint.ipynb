{
 "cells": [
  {
   "cell_type": "markdown",
   "metadata": {},
   "source": [
    "# Ensemble methods"
   ]
  },
  {
   "cell_type": "markdown",
   "metadata": {},
   "source": [
    "## 1. Importing the data"
   ]
  },
  {
   "cell_type": "markdown",
   "metadata": {},
   "source": [
    "We'll use the same data set whe used in the last lab. The salary data set was extracted from the census bureau database and contains salary information. The goal is to use this data set and to try to draw conclusions regarding what drives salaries. More specifically, the target variable is categorical (> 50k; <= 50 k). Let's create a classification tree!"
   ]
  },
  {
   "cell_type": "code",
   "execution_count": 1,
   "metadata": {},
   "outputs": [
    {
     "name": "stderr",
     "output_type": "stream",
     "text": [
      "/anaconda3/lib/python3.6/site-packages/sklearn/cross_validation.py:41: DeprecationWarning: This module was deprecated in version 0.18 in favor of the model_selection module into which all the refactored classes and functions are moved. Also note that the interface of the new CV iterators are different from that of this module. This module will be removed in 0.20.\n",
      "  \"This module will be removed in 0.20.\", DeprecationWarning)\n"
     ]
    }
   ],
   "source": [
    "import pandas as pd\n",
    "import numpy as np\n",
    "import statsmodels as sm\n",
    "import matplotlib.pyplot as plt\n",
    "import sklearn as skl\n",
    "import sklearn.preprocessing as preprocessing\n",
    "import sklearn.linear_model as linear_model\n",
    "from sklearn.cross_validation import train_test_split\n",
    "import sklearn.metrics as metrics\n",
    "import sklearn.tree as tree\n",
    "import seaborn as sns\n",
    "import graphviz \n",
    "from sklearn.tree import export_graphviz"
   ]
  },
  {
   "cell_type": "code",
   "execution_count": 2,
   "metadata": {},
   "outputs": [],
   "source": [
    "salaries = pd.read_csv(\"salaries_final.csv\", index_col = 0)"
   ]
  },
  {
   "cell_type": "markdown",
   "metadata": {},
   "source": [
    "In total, there are 6 predictors, and one outcome variable, the target salary <= 50k/ >50k."
   ]
  },
  {
   "cell_type": "markdown",
   "metadata": {},
   "source": [
    "recall that the 6 predictors are:\n",
    "\n",
    "- `Age`: continuous.\n",
    "\n",
    "- `Education`: Categorical. Bachelors, Some-college, 11th, HS-grad, Prof-school, Assoc-acdm, Assoc-voc, 9th, 7th-8th, 12th, \n",
    "Masters, 1st-4th, 10th, Doctorate, 5th-6th, Preschool.\n",
    "\n",
    "- `Occupation`: Tech-support, Craft-repair, Other-service, Sales, Exec-managerial, Prof-specialty, Handlers-cleaners, Machine-op-inspct, Adm-clerical, Farming-fishing, Transport-moving, Priv-house-serv, Protective-serv, Armed-Forces.\n",
    "\n",
    "- `Relationship`: Wife, Own-child, Husband, Not-in-family, Other-relative, Unmarried.\n",
    "\n",
    "- `Race`: White, Asian-Pac-Islander, Amer-Indian-Eskimo, Other, Black.\n",
    "\n",
    "- `Sex`: Female, Male."
   ]
  },
  {
   "cell_type": "code",
   "execution_count": 3,
   "metadata": {},
   "outputs": [
    {
     "data": {
      "text/html": [
       "<div>\n",
       "<style scoped>\n",
       "    .dataframe tbody tr th:only-of-type {\n",
       "        vertical-align: middle;\n",
       "    }\n",
       "\n",
       "    .dataframe tbody tr th {\n",
       "        vertical-align: top;\n",
       "    }\n",
       "\n",
       "    .dataframe thead th {\n",
       "        text-align: right;\n",
       "    }\n",
       "</style>\n",
       "<table border=\"1\" class=\"dataframe\">\n",
       "  <thead>\n",
       "    <tr style=\"text-align: right;\">\n",
       "      <th></th>\n",
       "      <th>Age</th>\n",
       "      <th>Education</th>\n",
       "      <th>Occupation</th>\n",
       "      <th>Relationship</th>\n",
       "      <th>Race</th>\n",
       "      <th>Sex</th>\n",
       "      <th>Target</th>\n",
       "    </tr>\n",
       "  </thead>\n",
       "  <tbody>\n",
       "    <tr>\n",
       "      <th>0</th>\n",
       "      <td>39</td>\n",
       "      <td>Bachelors</td>\n",
       "      <td>Adm-clerical</td>\n",
       "      <td>Not-in-family</td>\n",
       "      <td>White</td>\n",
       "      <td>Male</td>\n",
       "      <td>&lt;=50K</td>\n",
       "    </tr>\n",
       "    <tr>\n",
       "      <th>1</th>\n",
       "      <td>50</td>\n",
       "      <td>Bachelors</td>\n",
       "      <td>Exec-managerial</td>\n",
       "      <td>Husband</td>\n",
       "      <td>White</td>\n",
       "      <td>Male</td>\n",
       "      <td>&lt;=50K</td>\n",
       "    </tr>\n",
       "    <tr>\n",
       "      <th>2</th>\n",
       "      <td>38</td>\n",
       "      <td>HS-grad</td>\n",
       "      <td>Handlers-cleaners</td>\n",
       "      <td>Not-in-family</td>\n",
       "      <td>White</td>\n",
       "      <td>Male</td>\n",
       "      <td>&lt;=50K</td>\n",
       "    </tr>\n",
       "    <tr>\n",
       "      <th>3</th>\n",
       "      <td>53</td>\n",
       "      <td>11th</td>\n",
       "      <td>Handlers-cleaners</td>\n",
       "      <td>Husband</td>\n",
       "      <td>Black</td>\n",
       "      <td>Male</td>\n",
       "      <td>&lt;=50K</td>\n",
       "    </tr>\n",
       "    <tr>\n",
       "      <th>4</th>\n",
       "      <td>28</td>\n",
       "      <td>Bachelors</td>\n",
       "      <td>Prof-specialty</td>\n",
       "      <td>Wife</td>\n",
       "      <td>Black</td>\n",
       "      <td>Female</td>\n",
       "      <td>&lt;=50K</td>\n",
       "    </tr>\n",
       "  </tbody>\n",
       "</table>\n",
       "</div>"
      ],
      "text/plain": [
       "   Age  Education         Occupation   Relationship   Race     Sex Target\n",
       "0   39  Bachelors       Adm-clerical  Not-in-family  White    Male  <=50K\n",
       "1   50  Bachelors    Exec-managerial        Husband  White    Male  <=50K\n",
       "2   38    HS-grad  Handlers-cleaners  Not-in-family  White    Male  <=50K\n",
       "3   53       11th  Handlers-cleaners        Husband  Black    Male  <=50K\n",
       "4   28  Bachelors     Prof-specialty           Wife  Black  Female  <=50K"
      ]
     },
     "execution_count": 3,
     "metadata": {},
     "output_type": "execute_result"
    }
   ],
   "source": [
    "salaries.head()"
   ]
  },
  {
   "cell_type": "markdown",
   "metadata": {},
   "source": [
    "Let's use `dmatrices` again to get to the right format to start making our trees."
   ]
  },
  {
   "cell_type": "code",
   "execution_count": 4,
   "metadata": {},
   "outputs": [],
   "source": [
    "from patsy import dmatrices\n",
    "target, data = dmatrices('Target ~ Age + C(Education) + \\\n",
    "                  C(Occupation) + C(Relationship) + C(Race) + C(Sex)',\n",
    "                  salaries, return_type = \"dataframe\")"
   ]
  },
  {
   "cell_type": "markdown",
   "metadata": {},
   "source": [
    "Make a train and test split"
   ]
  },
  {
   "cell_type": "code",
   "execution_count": 5,
   "metadata": {},
   "outputs": [],
   "source": [
    "data_train, data_test, target_train, target_test = train_test_split(data, target, \n",
    "                                                                   test_size = 0.25, random_state=123)"
   ]
  },
  {
   "cell_type": "markdown",
   "metadata": {},
   "source": [
    "## 2. Let's rebuild a \"regular\" tree as a baseline"
   ]
  },
  {
   "cell_type": "markdown",
   "metadata": {},
   "source": [
    "### 2.1 Building the tree"
   ]
  },
  {
   "cell_type": "code",
   "execution_count": 6,
   "metadata": {},
   "outputs": [
    {
     "data": {
      "image/svg+xml": [
       "<?xml version=\"1.0\" encoding=\"UTF-8\" standalone=\"no\"?>\n",
       "<!DOCTYPE svg PUBLIC \"-//W3C//DTD SVG 1.1//EN\"\n",
       " \"http://www.w3.org/Graphics/SVG/1.1/DTD/svg11.dtd\">\n",
       "<!-- Generated by graphviz version 2.40.1 (20161225.0304)\n",
       " -->\n",
       "<!-- Title: Tree Pages: 1 -->\n",
       "<svg width=\"4356pt\" height=\"671pt\"\n",
       " viewBox=\"0.00 0.00 4355.50 671.00\" xmlns=\"http://www.w3.org/2000/svg\" xmlns:xlink=\"http://www.w3.org/1999/xlink\">\n",
       "<g id=\"graph0\" class=\"graph\" transform=\"scale(1 1) rotate(0) translate(4 667)\">\n",
       "<title>Tree</title>\n",
       "<polygon fill=\"#ffffff\" stroke=\"transparent\" points=\"-4,4 -4,-667 4351.5,-667 4351.5,4 -4,4\"/>\n",
       "<!-- 0 -->\n",
       "<g id=\"node1\" class=\"node\">\n",
       "<title>0</title>\n",
       "<path fill=\"none\" stroke=\"#000000\" d=\"M2265,-663C2265,-663 2169,-663 2169,-663 2163,-663 2157,-657 2157,-651 2157,-651 2157,-592 2157,-592 2157,-586 2163,-580 2169,-580 2169,-580 2265,-580 2265,-580 2271,-580 2277,-586 2277,-592 2277,-592 2277,-651 2277,-651 2277,-657 2271,-663 2265,-663\"/>\n",
       "<text text-anchor=\"middle\" x=\"2217\" y=\"-647.8\" font-family=\"Helvetica,sans-Serif\" font-size=\"14.00\" fill=\"#000000\">Age &lt;= 29.5</text>\n",
       "<text text-anchor=\"middle\" x=\"2217\" y=\"-632.8\" font-family=\"Helvetica,sans-Serif\" font-size=\"14.00\" fill=\"#000000\">gini = 0.365</text>\n",
       "<text text-anchor=\"middle\" x=\"2217\" y=\"-617.8\" font-family=\"Helvetica,sans-Serif\" font-size=\"14.00\" fill=\"#000000\">samples = 24420</text>\n",
       "<text text-anchor=\"middle\" x=\"2217\" y=\"-602.8\" font-family=\"Helvetica,sans-Serif\" font-size=\"14.00\" fill=\"#000000\">value = [18555, 5865]</text>\n",
       "<text text-anchor=\"middle\" x=\"2217\" y=\"-587.8\" font-family=\"Helvetica,sans-Serif\" font-size=\"14.00\" fill=\"#000000\">class = Target[&lt;=50K]</text>\n",
       "</g>\n",
       "<!-- 1 -->\n",
       "<g id=\"node2\" class=\"node\">\n",
       "<title>1</title>\n",
       "<path fill=\"none\" stroke=\"#000000\" d=\"M1714,-544C1714,-544 1618,-544 1618,-544 1612,-544 1606,-538 1606,-532 1606,-532 1606,-473 1606,-473 1606,-467 1612,-461 1618,-461 1618,-461 1714,-461 1714,-461 1720,-461 1726,-467 1726,-473 1726,-473 1726,-532 1726,-532 1726,-538 1720,-544 1714,-544\"/>\n",
       "<text text-anchor=\"middle\" x=\"1666\" y=\"-528.8\" font-family=\"Helvetica,sans-Serif\" font-size=\"14.00\" fill=\"#000000\">Age &lt;= 25.5</text>\n",
       "<text text-anchor=\"middle\" x=\"1666\" y=\"-513.8\" font-family=\"Helvetica,sans-Serif\" font-size=\"14.00\" fill=\"#000000\">gini = 0.1</text>\n",
       "<text text-anchor=\"middle\" x=\"1666\" y=\"-498.8\" font-family=\"Helvetica,sans-Serif\" font-size=\"14.00\" fill=\"#000000\">samples = 7314</text>\n",
       "<text text-anchor=\"middle\" x=\"1666\" y=\"-483.8\" font-family=\"Helvetica,sans-Serif\" font-size=\"14.00\" fill=\"#000000\">value = [6927, 387]</text>\n",
       "<text text-anchor=\"middle\" x=\"1666\" y=\"-468.8\" font-family=\"Helvetica,sans-Serif\" font-size=\"14.00\" fill=\"#000000\">class = Target[&lt;=50K]</text>\n",
       "</g>\n",
       "<!-- 0&#45;&gt;1 -->\n",
       "<g id=\"edge1\" class=\"edge\">\n",
       "<title>0&#45;&gt;1</title>\n",
       "<path fill=\"none\" stroke=\"#000000\" d=\"M2156.9844,-608.5384C2054.3387,-586.3699 1845.5919,-541.2866 1736.2992,-517.6826\"/>\n",
       "<polygon fill=\"#000000\" stroke=\"#000000\" points=\"1736.8739,-514.2261 1726.3603,-515.5361 1735.3961,-521.0683 1736.8739,-514.2261\"/>\n",
       "<text text-anchor=\"middle\" x=\"1739.9078\" y=\"-532.8472\" font-family=\"Helvetica,sans-Serif\" font-size=\"14.00\" fill=\"#000000\">True</text>\n",
       "</g>\n",
       "<!-- 32 -->\n",
       "<g id=\"node33\" class=\"node\">\n",
       "<title>32</title>\n",
       "<path fill=\"none\" stroke=\"#000000\" d=\"M2761,-544C2761,-544 2665,-544 2665,-544 2659,-544 2653,-538 2653,-532 2653,-532 2653,-473 2653,-473 2653,-467 2659,-461 2665,-461 2665,-461 2761,-461 2761,-461 2767,-461 2773,-467 2773,-473 2773,-473 2773,-532 2773,-532 2773,-538 2767,-544 2761,-544\"/>\n",
       "<text text-anchor=\"middle\" x=\"2713\" y=\"-528.8\" font-family=\"Helvetica,sans-Serif\" font-size=\"14.00\" fill=\"#000000\">C(Sex)[T.Male] &lt;= 0.5</text>\n",
       "<text text-anchor=\"middle\" x=\"2713\" y=\"-513.8\" font-family=\"Helvetica,sans-Serif\" font-size=\"14.00\" fill=\"#000000\">gini = 0.435</text>\n",
       "<text text-anchor=\"middle\" x=\"2713\" y=\"-498.8\" font-family=\"Helvetica,sans-Serif\" font-size=\"14.00\" fill=\"#000000\">samples = 17106</text>\n",
       "<text text-anchor=\"middle\" x=\"2713\" y=\"-483.8\" font-family=\"Helvetica,sans-Serif\" font-size=\"14.00\" fill=\"#000000\">value = [11628, 5478]</text>\n",
       "<text text-anchor=\"middle\" x=\"2713\" y=\"-468.8\" font-family=\"Helvetica,sans-Serif\" font-size=\"14.00\" fill=\"#000000\">class = Target[&lt;=50K]</text>\n",
       "</g>\n",
       "<!-- 0&#45;&gt;32 -->\n",
       "<g id=\"edge32\" class=\"edge\">\n",
       "<title>0&#45;&gt;32</title>\n",
       "<path fill=\"none\" stroke=\"#000000\" d=\"M2277.3235,-607.0272C2369.5512,-584.9 2545.1727,-542.765 2642.9201,-519.3135\"/>\n",
       "<polygon fill=\"#000000\" stroke=\"#000000\" points=\"2643.8014,-522.7015 2652.7089,-516.965 2642.1683,-515.8946 2643.8014,-522.7015\"/>\n",
       "<text text-anchor=\"middle\" x=\"2639.6433\" y=\"-534.579\" font-family=\"Helvetica,sans-Serif\" font-size=\"14.00\" fill=\"#000000\">False</text>\n",
       "</g>\n",
       "<!-- 2 -->\n",
       "<g id=\"node3\" class=\"node\">\n",
       "<title>2</title>\n",
       "<path fill=\"none\" stroke=\"#000000\" d=\"M886,-425C886,-425 752,-425 752,-425 746,-425 740,-419 740,-413 740,-413 740,-354 740,-354 740,-348 746,-342 752,-342 752,-342 886,-342 886,-342 892,-342 898,-348 898,-354 898,-354 898,-413 898,-413 898,-419 892,-425 886,-425\"/>\n",
       "<text text-anchor=\"middle\" x=\"819\" y=\"-409.8\" font-family=\"Helvetica,sans-Serif\" font-size=\"14.00\" fill=\"#000000\">C(Relationship)[T.Wife] &lt;= 0.5</text>\n",
       "<text text-anchor=\"middle\" x=\"819\" y=\"-394.8\" font-family=\"Helvetica,sans-Serif\" font-size=\"14.00\" fill=\"#000000\">gini = 0.035</text>\n",
       "<text text-anchor=\"middle\" x=\"819\" y=\"-379.8\" font-family=\"Helvetica,sans-Serif\" font-size=\"14.00\" fill=\"#000000\">samples = 4823</text>\n",
       "<text text-anchor=\"middle\" x=\"819\" y=\"-364.8\" font-family=\"Helvetica,sans-Serif\" font-size=\"14.00\" fill=\"#000000\">value = [4738, 85]</text>\n",
       "<text text-anchor=\"middle\" x=\"819\" y=\"-349.8\" font-family=\"Helvetica,sans-Serif\" font-size=\"14.00\" fill=\"#000000\">class = Target[&lt;=50K]</text>\n",
       "</g>\n",
       "<!-- 1&#45;&gt;2 -->\n",
       "<g id=\"edge2\" class=\"edge\">\n",
       "<title>1&#45;&gt;2</title>\n",
       "<path fill=\"none\" stroke=\"#000000\" d=\"M1605.7649,-494.0372C1458.8389,-473.3947 1081.4461,-420.3726 908.274,-396.0426\"/>\n",
       "<polygon fill=\"#000000\" stroke=\"#000000\" points=\"908.5613,-392.5487 898.1716,-394.6233 907.5874,-399.4806 908.5613,-392.5487\"/>\n",
       "</g>\n",
       "<!-- 17 -->\n",
       "<g id=\"node18\" class=\"node\">\n",
       "<title>17</title>\n",
       "<path fill=\"none\" stroke=\"#000000\" d=\"M1733,-425C1733,-425 1599,-425 1599,-425 1593,-425 1587,-419 1587,-413 1587,-413 1587,-354 1587,-354 1587,-348 1593,-342 1599,-342 1599,-342 1733,-342 1733,-342 1739,-342 1745,-348 1745,-354 1745,-354 1745,-413 1745,-413 1745,-419 1739,-425 1733,-425\"/>\n",
       "<text text-anchor=\"middle\" x=\"1666\" y=\"-409.8\" font-family=\"Helvetica,sans-Serif\" font-size=\"14.00\" fill=\"#000000\">C(Relationship)[T.Wife] &lt;= 0.5</text>\n",
       "<text text-anchor=\"middle\" x=\"1666\" y=\"-394.8\" font-family=\"Helvetica,sans-Serif\" font-size=\"14.00\" fill=\"#000000\">gini = 0.213</text>\n",
       "<text text-anchor=\"middle\" x=\"1666\" y=\"-379.8\" font-family=\"Helvetica,sans-Serif\" font-size=\"14.00\" fill=\"#000000\">samples = 2491</text>\n",
       "<text text-anchor=\"middle\" x=\"1666\" y=\"-364.8\" font-family=\"Helvetica,sans-Serif\" font-size=\"14.00\" fill=\"#000000\">value = [2189, 302]</text>\n",
       "<text text-anchor=\"middle\" x=\"1666\" y=\"-349.8\" font-family=\"Helvetica,sans-Serif\" font-size=\"14.00\" fill=\"#000000\">class = Target[&lt;=50K]</text>\n",
       "</g>\n",
       "<!-- 1&#45;&gt;17 -->\n",
       "<g id=\"edge17\" class=\"edge\">\n",
       "<title>1&#45;&gt;17</title>\n",
       "<path fill=\"none\" stroke=\"#000000\" d=\"M1666,-460.8796C1666,-452.6838 1666,-443.9891 1666,-435.5013\"/>\n",
       "<polygon fill=\"#000000\" stroke=\"#000000\" points=\"1669.5001,-435.298 1666,-425.2981 1662.5001,-435.2981 1669.5001,-435.298\"/>\n",
       "</g>\n",
       "<!-- 3 -->\n",
       "<g id=\"node4\" class=\"node\">\n",
       "<title>3</title>\n",
       "<path fill=\"none\" stroke=\"#000000\" d=\"M479,-306C479,-306 383,-306 383,-306 377,-306 371,-300 371,-294 371,-294 371,-235 371,-235 371,-229 377,-223 383,-223 383,-223 479,-223 479,-223 485,-223 491,-229 491,-235 491,-235 491,-294 491,-294 491,-300 485,-306 479,-306\"/>\n",
       "<text text-anchor=\"middle\" x=\"431\" y=\"-290.8\" font-family=\"Helvetica,sans-Serif\" font-size=\"14.00\" fill=\"#000000\">Age &lt;= 23.5</text>\n",
       "<text text-anchor=\"middle\" x=\"431\" y=\"-275.8\" font-family=\"Helvetica,sans-Serif\" font-size=\"14.00\" fill=\"#000000\">gini = 0.029</text>\n",
       "<text text-anchor=\"middle\" x=\"431\" y=\"-260.8\" font-family=\"Helvetica,sans-Serif\" font-size=\"14.00\" fill=\"#000000\">samples = 4732</text>\n",
       "<text text-anchor=\"middle\" x=\"431\" y=\"-245.8\" font-family=\"Helvetica,sans-Serif\" font-size=\"14.00\" fill=\"#000000\">value = [4662, 70]</text>\n",
       "<text text-anchor=\"middle\" x=\"431\" y=\"-230.8\" font-family=\"Helvetica,sans-Serif\" font-size=\"14.00\" fill=\"#000000\">class = Target[&lt;=50K]</text>\n",
       "</g>\n",
       "<!-- 2&#45;&gt;3 -->\n",
       "<g id=\"edge3\" class=\"edge\">\n",
       "<title>2&#45;&gt;3</title>\n",
       "<path fill=\"none\" stroke=\"#000000\" d=\"M739.5461,-359.1314C669.3894,-337.6143 568.0951,-306.5472 500.9501,-285.9538\"/>\n",
       "<polygon fill=\"#000000\" stroke=\"#000000\" points=\"501.8857,-282.5799 491.299,-282.9938 499.8331,-289.2722 501.8857,-282.5799\"/>\n",
       "</g>\n",
       "<!-- 10 -->\n",
       "<g id=\"node11\" class=\"node\">\n",
       "<title>10</title>\n",
       "<path fill=\"none\" stroke=\"#000000\" d=\"M905,-306C905,-306 733,-306 733,-306 727,-306 721,-300 721,-294 721,-294 721,-235 721,-235 721,-229 727,-223 733,-223 733,-223 905,-223 905,-223 911,-223 917,-229 917,-235 917,-235 917,-294 917,-294 917,-300 911,-306 905,-306\"/>\n",
       "<text text-anchor=\"middle\" x=\"819\" y=\"-290.8\" font-family=\"Helvetica,sans-Serif\" font-size=\"14.00\" fill=\"#000000\">C(Occupation)[T.Prof&#45;specialty] &lt;= 0.5</text>\n",
       "<text text-anchor=\"middle\" x=\"819\" y=\"-275.8\" font-family=\"Helvetica,sans-Serif\" font-size=\"14.00\" fill=\"#000000\">gini = 0.275</text>\n",
       "<text text-anchor=\"middle\" x=\"819\" y=\"-260.8\" font-family=\"Helvetica,sans-Serif\" font-size=\"14.00\" fill=\"#000000\">samples = 91</text>\n",
       "<text text-anchor=\"middle\" x=\"819\" y=\"-245.8\" font-family=\"Helvetica,sans-Serif\" font-size=\"14.00\" fill=\"#000000\">value = [76, 15]</text>\n",
       "<text text-anchor=\"middle\" x=\"819\" y=\"-230.8\" font-family=\"Helvetica,sans-Serif\" font-size=\"14.00\" fill=\"#000000\">class = Target[&lt;=50K]</text>\n",
       "</g>\n",
       "<!-- 2&#45;&gt;10 -->\n",
       "<g id=\"edge10\" class=\"edge\">\n",
       "<title>2&#45;&gt;10</title>\n",
       "<path fill=\"none\" stroke=\"#000000\" d=\"M819,-341.8796C819,-333.6838 819,-324.9891 819,-316.5013\"/>\n",
       "<polygon fill=\"#000000\" stroke=\"#000000\" points=\"822.5001,-316.298 819,-306.2981 815.5001,-316.2981 822.5001,-316.298\"/>\n",
       "</g>\n",
       "<!-- 4 -->\n",
       "<g id=\"node5\" class=\"node\">\n",
       "<title>4</title>\n",
       "<path fill=\"none\" stroke=\"#000000\" d=\"M267.5,-187C267.5,-187 128.5,-187 128.5,-187 122.5,-187 116.5,-181 116.5,-175 116.5,-175 116.5,-116 116.5,-116 116.5,-110 122.5,-104 128.5,-104 128.5,-104 267.5,-104 267.5,-104 273.5,-104 279.5,-110 279.5,-116 279.5,-116 279.5,-175 279.5,-175 279.5,-181 273.5,-187 267.5,-187\"/>\n",
       "<text text-anchor=\"middle\" x=\"198\" y=\"-171.8\" font-family=\"Helvetica,sans-Serif\" font-size=\"14.00\" fill=\"#000000\">C(Education)[T.Masters] &lt;= 0.5</text>\n",
       "<text text-anchor=\"middle\" x=\"198\" y=\"-156.8\" font-family=\"Helvetica,sans-Serif\" font-size=\"14.00\" fill=\"#000000\">gini = 0.011</text>\n",
       "<text text-anchor=\"middle\" x=\"198\" y=\"-141.8\" font-family=\"Helvetica,sans-Serif\" font-size=\"14.00\" fill=\"#000000\">samples = 3523</text>\n",
       "<text text-anchor=\"middle\" x=\"198\" y=\"-126.8\" font-family=\"Helvetica,sans-Serif\" font-size=\"14.00\" fill=\"#000000\">value = [3504, 19]</text>\n",
       "<text text-anchor=\"middle\" x=\"198\" y=\"-111.8\" font-family=\"Helvetica,sans-Serif\" font-size=\"14.00\" fill=\"#000000\">class = Target[&lt;=50K]</text>\n",
       "</g>\n",
       "<!-- 3&#45;&gt;4 -->\n",
       "<g id=\"edge4\" class=\"edge\">\n",
       "<title>3&#45;&gt;4</title>\n",
       "<path fill=\"none\" stroke=\"#000000\" d=\"M370.9967,-233.8545C345.8113,-220.9916 315.9778,-205.7547 288.2395,-191.588\"/>\n",
       "<polygon fill=\"#000000\" stroke=\"#000000\" points=\"289.8134,-188.4618 279.3157,-187.0304 286.6295,-194.6958 289.8134,-188.4618\"/>\n",
       "</g>\n",
       "<!-- 7 -->\n",
       "<g id=\"node8\" class=\"node\">\n",
       "<title>7</title>\n",
       "<path fill=\"none\" stroke=\"#000000\" d=\"M510.5,-187C510.5,-187 351.5,-187 351.5,-187 345.5,-187 339.5,-181 339.5,-175 339.5,-175 339.5,-116 339.5,-116 339.5,-110 345.5,-104 351.5,-104 351.5,-104 510.5,-104 510.5,-104 516.5,-104 522.5,-110 522.5,-116 522.5,-116 522.5,-175 522.5,-175 522.5,-181 516.5,-187 510.5,-187\"/>\n",
       "<text text-anchor=\"middle\" x=\"431\" y=\"-171.8\" font-family=\"Helvetica,sans-Serif\" font-size=\"14.00\" fill=\"#000000\">C(Relationship)[T.Own&#45;child] &lt;= 0.5</text>\n",
       "<text text-anchor=\"middle\" x=\"431\" y=\"-156.8\" font-family=\"Helvetica,sans-Serif\" font-size=\"14.00\" fill=\"#000000\">gini = 0.081</text>\n",
       "<text text-anchor=\"middle\" x=\"431\" y=\"-141.8\" font-family=\"Helvetica,sans-Serif\" font-size=\"14.00\" fill=\"#000000\">samples = 1209</text>\n",
       "<text text-anchor=\"middle\" x=\"431\" y=\"-126.8\" font-family=\"Helvetica,sans-Serif\" font-size=\"14.00\" fill=\"#000000\">value = [1158, 51]</text>\n",
       "<text text-anchor=\"middle\" x=\"431\" y=\"-111.8\" font-family=\"Helvetica,sans-Serif\" font-size=\"14.00\" fill=\"#000000\">class = Target[&lt;=50K]</text>\n",
       "</g>\n",
       "<!-- 3&#45;&gt;7 -->\n",
       "<g id=\"edge7\" class=\"edge\">\n",
       "<title>3&#45;&gt;7</title>\n",
       "<path fill=\"none\" stroke=\"#000000\" d=\"M431,-222.8796C431,-214.6838 431,-205.9891 431,-197.5013\"/>\n",
       "<polygon fill=\"#000000\" stroke=\"#000000\" points=\"434.5001,-197.298 431,-187.2981 427.5001,-197.2981 434.5001,-197.298\"/>\n",
       "</g>\n",
       "<!-- 5 -->\n",
       "<g id=\"node6\" class=\"node\">\n",
       "<title>5</title>\n",
       "<path fill=\"none\" stroke=\"#000000\" d=\"M108,-68C108,-68 12,-68 12,-68 6,-68 0,-62 0,-56 0,-56 0,-12 0,-12 0,-6 6,0 12,0 12,0 108,0 108,0 114,0 120,-6 120,-12 120,-12 120,-56 120,-56 120,-62 114,-68 108,-68\"/>\n",
       "<text text-anchor=\"middle\" x=\"60\" y=\"-52.8\" font-family=\"Helvetica,sans-Serif\" font-size=\"14.00\" fill=\"#000000\">gini = 0.01</text>\n",
       "<text text-anchor=\"middle\" x=\"60\" y=\"-37.8\" font-family=\"Helvetica,sans-Serif\" font-size=\"14.00\" fill=\"#000000\">samples = 3517</text>\n",
       "<text text-anchor=\"middle\" x=\"60\" y=\"-22.8\" font-family=\"Helvetica,sans-Serif\" font-size=\"14.00\" fill=\"#000000\">value = [3499, 18]</text>\n",
       "<text text-anchor=\"middle\" x=\"60\" y=\"-7.8\" font-family=\"Helvetica,sans-Serif\" font-size=\"14.00\" fill=\"#000000\">class = Target[&lt;=50K]</text>\n",
       "</g>\n",
       "<!-- 4&#45;&gt;5 -->\n",
       "<g id=\"edge5\" class=\"edge\">\n",
       "<title>4&#45;&gt;5</title>\n",
       "<path fill=\"none\" stroke=\"#000000\" d=\"M146.6139,-103.9815C134.7839,-94.4232 122.2136,-84.2668 110.4249,-74.7419\"/>\n",
       "<polygon fill=\"#000000\" stroke=\"#000000\" points=\"112.3851,-71.826 102.4071,-68.2637 107.9858,-77.2708 112.3851,-71.826\"/>\n",
       "</g>\n",
       "<!-- 6 -->\n",
       "<g id=\"node7\" class=\"node\">\n",
       "<title>6</title>\n",
       "<path fill=\"none\" stroke=\"#000000\" d=\"M246,-68C246,-68 150,-68 150,-68 144,-68 138,-62 138,-56 138,-56 138,-12 138,-12 138,-6 144,0 150,0 150,0 246,0 246,0 252,0 258,-6 258,-12 258,-12 258,-56 258,-56 258,-62 252,-68 246,-68\"/>\n",
       "<text text-anchor=\"middle\" x=\"198\" y=\"-52.8\" font-family=\"Helvetica,sans-Serif\" font-size=\"14.00\" fill=\"#000000\">gini = 0.278</text>\n",
       "<text text-anchor=\"middle\" x=\"198\" y=\"-37.8\" font-family=\"Helvetica,sans-Serif\" font-size=\"14.00\" fill=\"#000000\">samples = 6</text>\n",
       "<text text-anchor=\"middle\" x=\"198\" y=\"-22.8\" font-family=\"Helvetica,sans-Serif\" font-size=\"14.00\" fill=\"#000000\">value = [5, 1]</text>\n",
       "<text text-anchor=\"middle\" x=\"198\" y=\"-7.8\" font-family=\"Helvetica,sans-Serif\" font-size=\"14.00\" fill=\"#000000\">class = Target[&lt;=50K]</text>\n",
       "</g>\n",
       "<!-- 4&#45;&gt;6 -->\n",
       "<g id=\"edge6\" class=\"edge\">\n",
       "<title>4&#45;&gt;6</title>\n",
       "<path fill=\"none\" stroke=\"#000000\" d=\"M198,-103.9815C198,-95.618 198,-86.7965 198,-78.3409\"/>\n",
       "<polygon fill=\"#000000\" stroke=\"#000000\" points=\"201.5001,-78.2636 198,-68.2637 194.5001,-78.2637 201.5001,-78.2636\"/>\n",
       "</g>\n",
       "<!-- 8 -->\n",
       "<g id=\"node9\" class=\"node\">\n",
       "<title>8</title>\n",
       "<path fill=\"none\" stroke=\"#000000\" d=\"M384,-68C384,-68 288,-68 288,-68 282,-68 276,-62 276,-56 276,-56 276,-12 276,-12 276,-6 282,0 288,0 288,0 384,0 384,0 390,0 396,-6 396,-12 396,-12 396,-56 396,-56 396,-62 390,-68 384,-68\"/>\n",
       "<text text-anchor=\"middle\" x=\"336\" y=\"-52.8\" font-family=\"Helvetica,sans-Serif\" font-size=\"14.00\" fill=\"#000000\">gini = 0.111</text>\n",
       "<text text-anchor=\"middle\" x=\"336\" y=\"-37.8\" font-family=\"Helvetica,sans-Serif\" font-size=\"14.00\" fill=\"#000000\">samples = 811</text>\n",
       "<text text-anchor=\"middle\" x=\"336\" y=\"-22.8\" font-family=\"Helvetica,sans-Serif\" font-size=\"14.00\" fill=\"#000000\">value = [763, 48]</text>\n",
       "<text text-anchor=\"middle\" x=\"336\" y=\"-7.8\" font-family=\"Helvetica,sans-Serif\" font-size=\"14.00\" fill=\"#000000\">class = Target[&lt;=50K]</text>\n",
       "</g>\n",
       "<!-- 7&#45;&gt;8 -->\n",
       "<g id=\"edge8\" class=\"edge\">\n",
       "<title>7&#45;&gt;8</title>\n",
       "<path fill=\"none\" stroke=\"#000000\" d=\"M395.6255,-103.9815C387.8732,-94.8828 379.6591,-85.242 371.8869,-76.1199\"/>\n",
       "<polygon fill=\"#000000\" stroke=\"#000000\" points=\"374.3428,-73.6056 365.1933,-68.2637 369.0146,-78.1454 374.3428,-73.6056\"/>\n",
       "</g>\n",
       "<!-- 9 -->\n",
       "<g id=\"node10\" class=\"node\">\n",
       "<title>9</title>\n",
       "<path fill=\"none\" stroke=\"#000000\" d=\"M522,-68C522,-68 426,-68 426,-68 420,-68 414,-62 414,-56 414,-56 414,-12 414,-12 414,-6 420,0 426,0 426,0 522,0 522,0 528,0 534,-6 534,-12 534,-12 534,-56 534,-56 534,-62 528,-68 522,-68\"/>\n",
       "<text text-anchor=\"middle\" x=\"474\" y=\"-52.8\" font-family=\"Helvetica,sans-Serif\" font-size=\"14.00\" fill=\"#000000\">gini = 0.015</text>\n",
       "<text text-anchor=\"middle\" x=\"474\" y=\"-37.8\" font-family=\"Helvetica,sans-Serif\" font-size=\"14.00\" fill=\"#000000\">samples = 398</text>\n",
       "<text text-anchor=\"middle\" x=\"474\" y=\"-22.8\" font-family=\"Helvetica,sans-Serif\" font-size=\"14.00\" fill=\"#000000\">value = [395, 3]</text>\n",
       "<text text-anchor=\"middle\" x=\"474\" y=\"-7.8\" font-family=\"Helvetica,sans-Serif\" font-size=\"14.00\" fill=\"#000000\">class = Target[&lt;=50K]</text>\n",
       "</g>\n",
       "<!-- 7&#45;&gt;9 -->\n",
       "<g id=\"edge9\" class=\"edge\">\n",
       "<title>7&#45;&gt;9</title>\n",
       "<path fill=\"none\" stroke=\"#000000\" d=\"M447.0116,-103.9815C450.3079,-95.4342 453.7886,-86.4086 457.1147,-77.7839\"/>\n",
       "<polygon fill=\"#000000\" stroke=\"#000000\" points=\"460.4535,-78.8533 460.7862,-68.2637 453.9224,-76.3345 460.4535,-78.8533\"/>\n",
       "</g>\n",
       "<!-- 11 -->\n",
       "<g id=\"node12\" class=\"node\">\n",
       "<title>11</title>\n",
       "<path fill=\"none\" stroke=\"#000000\" d=\"M798,-187C798,-187 702,-187 702,-187 696,-187 690,-181 690,-175 690,-175 690,-116 690,-116 690,-110 696,-104 702,-104 702,-104 798,-104 798,-104 804,-104 810,-110 810,-116 810,-116 810,-175 810,-175 810,-181 804,-187 798,-187\"/>\n",
       "<text text-anchor=\"middle\" x=\"750\" y=\"-171.8\" font-family=\"Helvetica,sans-Serif\" font-size=\"14.00\" fill=\"#000000\">Age &lt;= 24.5</text>\n",
       "<text text-anchor=\"middle\" x=\"750\" y=\"-156.8\" font-family=\"Helvetica,sans-Serif\" font-size=\"14.00\" fill=\"#000000\">gini = 0.198</text>\n",
       "<text text-anchor=\"middle\" x=\"750\" y=\"-141.8\" font-family=\"Helvetica,sans-Serif\" font-size=\"14.00\" fill=\"#000000\">samples = 81</text>\n",
       "<text text-anchor=\"middle\" x=\"750\" y=\"-126.8\" font-family=\"Helvetica,sans-Serif\" font-size=\"14.00\" fill=\"#000000\">value = [72, 9]</text>\n",
       "<text text-anchor=\"middle\" x=\"750\" y=\"-111.8\" font-family=\"Helvetica,sans-Serif\" font-size=\"14.00\" fill=\"#000000\">class = Target[&lt;=50K]</text>\n",
       "</g>\n",
       "<!-- 10&#45;&gt;11 -->\n",
       "<g id=\"edge11\" class=\"edge\">\n",
       "<title>10&#45;&gt;11</title>\n",
       "<path fill=\"none\" stroke=\"#000000\" d=\"M794.8671,-222.8796C789.8539,-214.2335 784.5187,-205.0322 779.3419,-196.1042\"/>\n",
       "<polygon fill=\"#000000\" stroke=\"#000000\" points=\"782.2798,-194.1934 774.2359,-187.2981 776.2242,-197.7047 782.2798,-194.1934\"/>\n",
       "</g>\n",
       "<!-- 14 -->\n",
       "<g id=\"node15\" class=\"node\">\n",
       "<title>14</title>\n",
       "<path fill=\"none\" stroke=\"#000000\" d=\"M932.5,-187C932.5,-187 843.5,-187 843.5,-187 837.5,-187 831.5,-181 831.5,-175 831.5,-175 831.5,-116 831.5,-116 831.5,-110 837.5,-104 843.5,-104 843.5,-104 932.5,-104 932.5,-104 938.5,-104 944.5,-110 944.5,-116 944.5,-116 944.5,-175 944.5,-175 944.5,-181 938.5,-187 932.5,-187\"/>\n",
       "<text text-anchor=\"middle\" x=\"888\" y=\"-171.8\" font-family=\"Helvetica,sans-Serif\" font-size=\"14.00\" fill=\"#000000\">Age &lt;= 23.5</text>\n",
       "<text text-anchor=\"middle\" x=\"888\" y=\"-156.8\" font-family=\"Helvetica,sans-Serif\" font-size=\"14.00\" fill=\"#000000\">gini = 0.48</text>\n",
       "<text text-anchor=\"middle\" x=\"888\" y=\"-141.8\" font-family=\"Helvetica,sans-Serif\" font-size=\"14.00\" fill=\"#000000\">samples = 10</text>\n",
       "<text text-anchor=\"middle\" x=\"888\" y=\"-126.8\" font-family=\"Helvetica,sans-Serif\" font-size=\"14.00\" fill=\"#000000\">value = [4, 6]</text>\n",
       "<text text-anchor=\"middle\" x=\"888\" y=\"-111.8\" font-family=\"Helvetica,sans-Serif\" font-size=\"14.00\" fill=\"#000000\">class = Target[&gt;50K]</text>\n",
       "</g>\n",
       "<!-- 10&#45;&gt;14 -->\n",
       "<g id=\"edge14\" class=\"edge\">\n",
       "<title>10&#45;&gt;14</title>\n",
       "<path fill=\"none\" stroke=\"#000000\" d=\"M843.1329,-222.8796C848.1461,-214.2335 853.4813,-205.0322 858.6581,-196.1042\"/>\n",
       "<polygon fill=\"#000000\" stroke=\"#000000\" points=\"861.7758,-197.7047 863.7641,-187.2981 855.7202,-194.1934 861.7758,-197.7047\"/>\n",
       "</g>\n",
       "<!-- 12 -->\n",
       "<g id=\"node13\" class=\"node\">\n",
       "<title>12</title>\n",
       "<path fill=\"none\" stroke=\"#000000\" d=\"M660,-68C660,-68 564,-68 564,-68 558,-68 552,-62 552,-56 552,-56 552,-12 552,-12 552,-6 558,0 564,0 564,0 660,0 660,0 666,0 672,-6 672,-12 672,-12 672,-56 672,-56 672,-62 666,-68 660,-68\"/>\n",
       "<text text-anchor=\"middle\" x=\"612\" y=\"-52.8\" font-family=\"Helvetica,sans-Serif\" font-size=\"14.00\" fill=\"#000000\">gini = 0.065</text>\n",
       "<text text-anchor=\"middle\" x=\"612\" y=\"-37.8\" font-family=\"Helvetica,sans-Serif\" font-size=\"14.00\" fill=\"#000000\">samples = 59</text>\n",
       "<text text-anchor=\"middle\" x=\"612\" y=\"-22.8\" font-family=\"Helvetica,sans-Serif\" font-size=\"14.00\" fill=\"#000000\">value = [57, 2]</text>\n",
       "<text text-anchor=\"middle\" x=\"612\" y=\"-7.8\" font-family=\"Helvetica,sans-Serif\" font-size=\"14.00\" fill=\"#000000\">class = Target[&lt;=50K]</text>\n",
       "</g>\n",
       "<!-- 11&#45;&gt;12 -->\n",
       "<g id=\"edge12\" class=\"edge\">\n",
       "<title>11&#45;&gt;12</title>\n",
       "<path fill=\"none\" stroke=\"#000000\" d=\"M698.6139,-103.9815C686.7839,-94.4232 674.2136,-84.2668 662.4249,-74.7419\"/>\n",
       "<polygon fill=\"#000000\" stroke=\"#000000\" points=\"664.3851,-71.826 654.4071,-68.2637 659.9858,-77.2708 664.3851,-71.826\"/>\n",
       "</g>\n",
       "<!-- 13 -->\n",
       "<g id=\"node14\" class=\"node\">\n",
       "<title>13</title>\n",
       "<path fill=\"none\" stroke=\"#000000\" d=\"M798,-68C798,-68 702,-68 702,-68 696,-68 690,-62 690,-56 690,-56 690,-12 690,-12 690,-6 696,0 702,0 702,0 798,0 798,0 804,0 810,-6 810,-12 810,-12 810,-56 810,-56 810,-62 804,-68 798,-68\"/>\n",
       "<text text-anchor=\"middle\" x=\"750\" y=\"-52.8\" font-family=\"Helvetica,sans-Serif\" font-size=\"14.00\" fill=\"#000000\">gini = 0.434</text>\n",
       "<text text-anchor=\"middle\" x=\"750\" y=\"-37.8\" font-family=\"Helvetica,sans-Serif\" font-size=\"14.00\" fill=\"#000000\">samples = 22</text>\n",
       "<text text-anchor=\"middle\" x=\"750\" y=\"-22.8\" font-family=\"Helvetica,sans-Serif\" font-size=\"14.00\" fill=\"#000000\">value = [15, 7]</text>\n",
       "<text text-anchor=\"middle\" x=\"750\" y=\"-7.8\" font-family=\"Helvetica,sans-Serif\" font-size=\"14.00\" fill=\"#000000\">class = Target[&lt;=50K]</text>\n",
       "</g>\n",
       "<!-- 11&#45;&gt;13 -->\n",
       "<g id=\"edge13\" class=\"edge\">\n",
       "<title>11&#45;&gt;13</title>\n",
       "<path fill=\"none\" stroke=\"#000000\" d=\"M750,-103.9815C750,-95.618 750,-86.7965 750,-78.3409\"/>\n",
       "<polygon fill=\"#000000\" stroke=\"#000000\" points=\"753.5001,-78.2636 750,-68.2637 746.5001,-78.2637 753.5001,-78.2636\"/>\n",
       "</g>\n",
       "<!-- 15 -->\n",
       "<g id=\"node16\" class=\"node\">\n",
       "<title>15</title>\n",
       "<path fill=\"none\" stroke=\"#000000\" d=\"M936,-68C936,-68 840,-68 840,-68 834,-68 828,-62 828,-56 828,-56 828,-12 828,-12 828,-6 834,0 840,0 840,0 936,0 936,0 942,0 948,-6 948,-12 948,-12 948,-56 948,-56 948,-62 942,-68 936,-68\"/>\n",
       "<text text-anchor=\"middle\" x=\"888\" y=\"-52.8\" font-family=\"Helvetica,sans-Serif\" font-size=\"14.00\" fill=\"#000000\">gini = 0.0</text>\n",
       "<text text-anchor=\"middle\" x=\"888\" y=\"-37.8\" font-family=\"Helvetica,sans-Serif\" font-size=\"14.00\" fill=\"#000000\">samples = 2</text>\n",
       "<text text-anchor=\"middle\" x=\"888\" y=\"-22.8\" font-family=\"Helvetica,sans-Serif\" font-size=\"14.00\" fill=\"#000000\">value = [2, 0]</text>\n",
       "<text text-anchor=\"middle\" x=\"888\" y=\"-7.8\" font-family=\"Helvetica,sans-Serif\" font-size=\"14.00\" fill=\"#000000\">class = Target[&lt;=50K]</text>\n",
       "</g>\n",
       "<!-- 14&#45;&gt;15 -->\n",
       "<g id=\"edge15\" class=\"edge\">\n",
       "<title>14&#45;&gt;15</title>\n",
       "<path fill=\"none\" stroke=\"#000000\" d=\"M888,-103.9815C888,-95.618 888,-86.7965 888,-78.3409\"/>\n",
       "<polygon fill=\"#000000\" stroke=\"#000000\" points=\"891.5001,-78.2636 888,-68.2637 884.5001,-78.2637 891.5001,-78.2636\"/>\n",
       "</g>\n",
       "<!-- 16 -->\n",
       "<g id=\"node17\" class=\"node\">\n",
       "<title>16</title>\n",
       "<path fill=\"none\" stroke=\"#000000\" d=\"M1067.5,-68C1067.5,-68 978.5,-68 978.5,-68 972.5,-68 966.5,-62 966.5,-56 966.5,-56 966.5,-12 966.5,-12 966.5,-6 972.5,0 978.5,0 978.5,0 1067.5,0 1067.5,0 1073.5,0 1079.5,-6 1079.5,-12 1079.5,-12 1079.5,-56 1079.5,-56 1079.5,-62 1073.5,-68 1067.5,-68\"/>\n",
       "<text text-anchor=\"middle\" x=\"1023\" y=\"-52.8\" font-family=\"Helvetica,sans-Serif\" font-size=\"14.00\" fill=\"#000000\">gini = 0.375</text>\n",
       "<text text-anchor=\"middle\" x=\"1023\" y=\"-37.8\" font-family=\"Helvetica,sans-Serif\" font-size=\"14.00\" fill=\"#000000\">samples = 8</text>\n",
       "<text text-anchor=\"middle\" x=\"1023\" y=\"-22.8\" font-family=\"Helvetica,sans-Serif\" font-size=\"14.00\" fill=\"#000000\">value = [2, 6]</text>\n",
       "<text text-anchor=\"middle\" x=\"1023\" y=\"-7.8\" font-family=\"Helvetica,sans-Serif\" font-size=\"14.00\" fill=\"#000000\">class = Target[&gt;50K]</text>\n",
       "</g>\n",
       "<!-- 14&#45;&gt;16 -->\n",
       "<g id=\"edge16\" class=\"edge\">\n",
       "<title>14&#45;&gt;16</title>\n",
       "<path fill=\"none\" stroke=\"#000000\" d=\"M938.269,-103.9815C949.8418,-94.4232 962.1389,-84.2668 973.6713,-74.7419\"/>\n",
       "<polygon fill=\"#000000\" stroke=\"#000000\" points=\"976.0334,-77.3304 981.5148,-68.2637 971.5757,-71.9332 976.0334,-77.3304\"/>\n",
       "</g>\n",
       "<!-- 18 -->\n",
       "<g id=\"node19\" class=\"node\">\n",
       "<title>18</title>\n",
       "<path fill=\"none\" stroke=\"#000000\" d=\"M1577,-306C1577,-306 1481,-306 1481,-306 1475,-306 1469,-300 1469,-294 1469,-294 1469,-235 1469,-235 1469,-229 1475,-223 1481,-223 1481,-223 1577,-223 1577,-223 1583,-223 1589,-229 1589,-235 1589,-235 1589,-294 1589,-294 1589,-300 1583,-306 1577,-306\"/>\n",
       "<text text-anchor=\"middle\" x=\"1529\" y=\"-290.8\" font-family=\"Helvetica,sans-Serif\" font-size=\"14.00\" fill=\"#000000\">C(Sex)[T.Male] &lt;= 0.5</text>\n",
       "<text text-anchor=\"middle\" x=\"1529\" y=\"-275.8\" font-family=\"Helvetica,sans-Serif\" font-size=\"14.00\" fill=\"#000000\">gini = 0.186</text>\n",
       "<text text-anchor=\"middle\" x=\"1529\" y=\"-260.8\" font-family=\"Helvetica,sans-Serif\" font-size=\"14.00\" fill=\"#000000\">samples = 2345</text>\n",
       "<text text-anchor=\"middle\" x=\"1529\" y=\"-245.8\" font-family=\"Helvetica,sans-Serif\" font-size=\"14.00\" fill=\"#000000\">value = [2101, 244]</text>\n",
       "<text text-anchor=\"middle\" x=\"1529\" y=\"-230.8\" font-family=\"Helvetica,sans-Serif\" font-size=\"14.00\" fill=\"#000000\">class = Target[&lt;=50K]</text>\n",
       "</g>\n",
       "<!-- 17&#45;&gt;18 -->\n",
       "<g id=\"edge18\" class=\"edge\">\n",
       "<title>17&#45;&gt;18</title>\n",
       "<path fill=\"none\" stroke=\"#000000\" d=\"M1618.084,-341.8796C1607.3007,-332.513 1595.7671,-322.4948 1584.6961,-312.8784\"/>\n",
       "<polygon fill=\"#000000\" stroke=\"#000000\" points=\"1586.9653,-310.2134 1577.1205,-306.2981 1582.3749,-315.4982 1586.9653,-310.2134\"/>\n",
       "</g>\n",
       "<!-- 25 -->\n",
       "<g id=\"node26\" class=\"node\">\n",
       "<title>25</title>\n",
       "<path fill=\"none\" stroke=\"#000000\" d=\"M1841,-306C1841,-306 1693,-306 1693,-306 1687,-306 1681,-300 1681,-294 1681,-294 1681,-235 1681,-235 1681,-229 1687,-223 1693,-223 1693,-223 1841,-223 1841,-223 1847,-223 1853,-229 1853,-235 1853,-235 1853,-294 1853,-294 1853,-300 1847,-306 1841,-306\"/>\n",
       "<text text-anchor=\"middle\" x=\"1767\" y=\"-290.8\" font-family=\"Helvetica,sans-Serif\" font-size=\"14.00\" fill=\"#000000\">C(Education)[T.Bachelors] &lt;= 0.5</text>\n",
       "<text text-anchor=\"middle\" x=\"1767\" y=\"-275.8\" font-family=\"Helvetica,sans-Serif\" font-size=\"14.00\" fill=\"#000000\">gini = 0.479</text>\n",
       "<text text-anchor=\"middle\" x=\"1767\" y=\"-260.8\" font-family=\"Helvetica,sans-Serif\" font-size=\"14.00\" fill=\"#000000\">samples = 146</text>\n",
       "<text text-anchor=\"middle\" x=\"1767\" y=\"-245.8\" font-family=\"Helvetica,sans-Serif\" font-size=\"14.00\" fill=\"#000000\">value = [88, 58]</text>\n",
       "<text text-anchor=\"middle\" x=\"1767\" y=\"-230.8\" font-family=\"Helvetica,sans-Serif\" font-size=\"14.00\" fill=\"#000000\">class = Target[&lt;=50K]</text>\n",
       "</g>\n",
       "<!-- 17&#45;&gt;25 -->\n",
       "<g id=\"edge25\" class=\"edge\">\n",
       "<title>17&#45;&gt;25</title>\n",
       "<path fill=\"none\" stroke=\"#000000\" d=\"M1701.3249,-341.8796C1708.9689,-332.8733 1717.1243,-323.2644 1724.9961,-313.9897\"/>\n",
       "<polygon fill=\"#000000\" stroke=\"#000000\" points=\"1727.7218,-316.1871 1731.5243,-306.2981 1722.3849,-311.6574 1727.7218,-316.1871\"/>\n",
       "</g>\n",
       "<!-- 19 -->\n",
       "<g id=\"node20\" class=\"node\">\n",
       "<title>19</title>\n",
       "<path fill=\"none\" stroke=\"#000000\" d=\"M1369.5,-187C1369.5,-187 1222.5,-187 1222.5,-187 1216.5,-187 1210.5,-181 1210.5,-175 1210.5,-175 1210.5,-116 1210.5,-116 1210.5,-110 1216.5,-104 1222.5,-104 1222.5,-104 1369.5,-104 1369.5,-104 1375.5,-104 1381.5,-110 1381.5,-116 1381.5,-116 1381.5,-175 1381.5,-175 1381.5,-181 1375.5,-187 1369.5,-187\"/>\n",
       "<text text-anchor=\"middle\" x=\"1296\" y=\"-171.8\" font-family=\"Helvetica,sans-Serif\" font-size=\"14.00\" fill=\"#000000\">C(Education)[T.Doctorate] &lt;= 0.5</text>\n",
       "<text text-anchor=\"middle\" x=\"1296\" y=\"-156.8\" font-family=\"Helvetica,sans-Serif\" font-size=\"14.00\" fill=\"#000000\">gini = 0.05</text>\n",
       "<text text-anchor=\"middle\" x=\"1296\" y=\"-141.8\" font-family=\"Helvetica,sans-Serif\" font-size=\"14.00\" fill=\"#000000\">samples = 740</text>\n",
       "<text text-anchor=\"middle\" x=\"1296\" y=\"-126.8\" font-family=\"Helvetica,sans-Serif\" font-size=\"14.00\" fill=\"#000000\">value = [721, 19]</text>\n",
       "<text text-anchor=\"middle\" x=\"1296\" y=\"-111.8\" font-family=\"Helvetica,sans-Serif\" font-size=\"14.00\" fill=\"#000000\">class = Target[&lt;=50K]</text>\n",
       "</g>\n",
       "<!-- 18&#45;&gt;19 -->\n",
       "<g id=\"edge19\" class=\"edge\">\n",
       "<title>18&#45;&gt;19</title>\n",
       "<path fill=\"none\" stroke=\"#000000\" d=\"M1468.9967,-233.8545C1443.8113,-220.9916 1413.9778,-205.7547 1386.2395,-191.588\"/>\n",
       "<polygon fill=\"#000000\" stroke=\"#000000\" points=\"1387.8134,-188.4618 1377.3157,-187.0304 1384.6295,-194.6958 1387.8134,-188.4618\"/>\n",
       "</g>\n",
       "<!-- 22 -->\n",
       "<g id=\"node23\" class=\"node\">\n",
       "<title>22</title>\n",
       "<path fill=\"none\" stroke=\"#000000\" d=\"M1603,-187C1603,-187 1455,-187 1455,-187 1449,-187 1443,-181 1443,-175 1443,-175 1443,-116 1443,-116 1443,-110 1449,-104 1455,-104 1455,-104 1603,-104 1603,-104 1609,-104 1615,-110 1615,-116 1615,-116 1615,-175 1615,-175 1615,-181 1609,-187 1603,-187\"/>\n",
       "<text text-anchor=\"middle\" x=\"1529\" y=\"-171.8\" font-family=\"Helvetica,sans-Serif\" font-size=\"14.00\" fill=\"#000000\">C(Education)[T.Bachelors] &lt;= 0.5</text>\n",
       "<text text-anchor=\"middle\" x=\"1529\" y=\"-156.8\" font-family=\"Helvetica,sans-Serif\" font-size=\"14.00\" fill=\"#000000\">gini = 0.241</text>\n",
       "<text text-anchor=\"middle\" x=\"1529\" y=\"-141.8\" font-family=\"Helvetica,sans-Serif\" font-size=\"14.00\" fill=\"#000000\">samples = 1605</text>\n",
       "<text text-anchor=\"middle\" x=\"1529\" y=\"-126.8\" font-family=\"Helvetica,sans-Serif\" font-size=\"14.00\" fill=\"#000000\">value = [1380, 225]</text>\n",
       "<text text-anchor=\"middle\" x=\"1529\" y=\"-111.8\" font-family=\"Helvetica,sans-Serif\" font-size=\"14.00\" fill=\"#000000\">class = Target[&lt;=50K]</text>\n",
       "</g>\n",
       "<!-- 18&#45;&gt;22 -->\n",
       "<g id=\"edge22\" class=\"edge\">\n",
       "<title>18&#45;&gt;22</title>\n",
       "<path fill=\"none\" stroke=\"#000000\" d=\"M1529,-222.8796C1529,-214.6838 1529,-205.9891 1529,-197.5013\"/>\n",
       "<polygon fill=\"#000000\" stroke=\"#000000\" points=\"1532.5001,-197.298 1529,-187.2981 1525.5001,-197.2981 1532.5001,-197.298\"/>\n",
       "</g>\n",
       "<!-- 20 -->\n",
       "<g id=\"node21\" class=\"node\">\n",
       "<title>20</title>\n",
       "<path fill=\"none\" stroke=\"#000000\" d=\"M1206,-68C1206,-68 1110,-68 1110,-68 1104,-68 1098,-62 1098,-56 1098,-56 1098,-12 1098,-12 1098,-6 1104,0 1110,0 1110,0 1206,0 1206,0 1212,0 1218,-6 1218,-12 1218,-12 1218,-56 1218,-56 1218,-62 1212,-68 1206,-68\"/>\n",
       "<text text-anchor=\"middle\" x=\"1158\" y=\"-52.8\" font-family=\"Helvetica,sans-Serif\" font-size=\"14.00\" fill=\"#000000\">gini = 0.045</text>\n",
       "<text text-anchor=\"middle\" x=\"1158\" y=\"-37.8\" font-family=\"Helvetica,sans-Serif\" font-size=\"14.00\" fill=\"#000000\">samples = 736</text>\n",
       "<text text-anchor=\"middle\" x=\"1158\" y=\"-22.8\" font-family=\"Helvetica,sans-Serif\" font-size=\"14.00\" fill=\"#000000\">value = [719, 17]</text>\n",
       "<text text-anchor=\"middle\" x=\"1158\" y=\"-7.8\" font-family=\"Helvetica,sans-Serif\" font-size=\"14.00\" fill=\"#000000\">class = Target[&lt;=50K]</text>\n",
       "</g>\n",
       "<!-- 19&#45;&gt;20 -->\n",
       "<g id=\"edge20\" class=\"edge\">\n",
       "<title>19&#45;&gt;20</title>\n",
       "<path fill=\"none\" stroke=\"#000000\" d=\"M1244.6139,-103.9815C1232.7839,-94.4232 1220.2136,-84.2668 1208.4249,-74.7419\"/>\n",
       "<polygon fill=\"#000000\" stroke=\"#000000\" points=\"1210.3851,-71.826 1200.4071,-68.2637 1205.9858,-77.2708 1210.3851,-71.826\"/>\n",
       "</g>\n",
       "<!-- 21 -->\n",
       "<g id=\"node22\" class=\"node\">\n",
       "<title>21</title>\n",
       "<path fill=\"none\" stroke=\"#000000\" d=\"M1344,-68C1344,-68 1248,-68 1248,-68 1242,-68 1236,-62 1236,-56 1236,-56 1236,-12 1236,-12 1236,-6 1242,0 1248,0 1248,0 1344,0 1344,0 1350,0 1356,-6 1356,-12 1356,-12 1356,-56 1356,-56 1356,-62 1350,-68 1344,-68\"/>\n",
       "<text text-anchor=\"middle\" x=\"1296\" y=\"-52.8\" font-family=\"Helvetica,sans-Serif\" font-size=\"14.00\" fill=\"#000000\">gini = 0.5</text>\n",
       "<text text-anchor=\"middle\" x=\"1296\" y=\"-37.8\" font-family=\"Helvetica,sans-Serif\" font-size=\"14.00\" fill=\"#000000\">samples = 4</text>\n",
       "<text text-anchor=\"middle\" x=\"1296\" y=\"-22.8\" font-family=\"Helvetica,sans-Serif\" font-size=\"14.00\" fill=\"#000000\">value = [2, 2]</text>\n",
       "<text text-anchor=\"middle\" x=\"1296\" y=\"-7.8\" font-family=\"Helvetica,sans-Serif\" font-size=\"14.00\" fill=\"#000000\">class = Target[&lt;=50K]</text>\n",
       "</g>\n",
       "<!-- 19&#45;&gt;21 -->\n",
       "<g id=\"edge21\" class=\"edge\">\n",
       "<title>19&#45;&gt;21</title>\n",
       "<path fill=\"none\" stroke=\"#000000\" d=\"M1296,-103.9815C1296,-95.618 1296,-86.7965 1296,-78.3409\"/>\n",
       "<polygon fill=\"#000000\" stroke=\"#000000\" points=\"1299.5001,-78.2636 1296,-68.2637 1292.5001,-78.2637 1299.5001,-78.2636\"/>\n",
       "</g>\n",
       "<!-- 23 -->\n",
       "<g id=\"node24\" class=\"node\">\n",
       "<title>23</title>\n",
       "<path fill=\"none\" stroke=\"#000000\" d=\"M1482,-68C1482,-68 1386,-68 1386,-68 1380,-68 1374,-62 1374,-56 1374,-56 1374,-12 1374,-12 1374,-6 1380,0 1386,0 1386,0 1482,0 1482,0 1488,0 1494,-6 1494,-12 1494,-12 1494,-56 1494,-56 1494,-62 1488,-68 1482,-68\"/>\n",
       "<text text-anchor=\"middle\" x=\"1434\" y=\"-52.8\" font-family=\"Helvetica,sans-Serif\" font-size=\"14.00\" fill=\"#000000\">gini = 0.188</text>\n",
       "<text text-anchor=\"middle\" x=\"1434\" y=\"-37.8\" font-family=\"Helvetica,sans-Serif\" font-size=\"14.00\" fill=\"#000000\">samples = 1285</text>\n",
       "<text text-anchor=\"middle\" x=\"1434\" y=\"-22.8\" font-family=\"Helvetica,sans-Serif\" font-size=\"14.00\" fill=\"#000000\">value = [1150, 135]</text>\n",
       "<text text-anchor=\"middle\" x=\"1434\" y=\"-7.8\" font-family=\"Helvetica,sans-Serif\" font-size=\"14.00\" fill=\"#000000\">class = Target[&lt;=50K]</text>\n",
       "</g>\n",
       "<!-- 22&#45;&gt;23 -->\n",
       "<g id=\"edge23\" class=\"edge\">\n",
       "<title>22&#45;&gt;23</title>\n",
       "<path fill=\"none\" stroke=\"#000000\" d=\"M1493.6255,-103.9815C1485.8732,-94.8828 1477.6591,-85.242 1469.8869,-76.1199\"/>\n",
       "<polygon fill=\"#000000\" stroke=\"#000000\" points=\"1472.3428,-73.6056 1463.1933,-68.2637 1467.0146,-78.1454 1472.3428,-73.6056\"/>\n",
       "</g>\n",
       "<!-- 24 -->\n",
       "<g id=\"node25\" class=\"node\">\n",
       "<title>24</title>\n",
       "<path fill=\"none\" stroke=\"#000000\" d=\"M1620,-68C1620,-68 1524,-68 1524,-68 1518,-68 1512,-62 1512,-56 1512,-56 1512,-12 1512,-12 1512,-6 1518,0 1524,0 1524,0 1620,0 1620,0 1626,0 1632,-6 1632,-12 1632,-12 1632,-56 1632,-56 1632,-62 1626,-68 1620,-68\"/>\n",
       "<text text-anchor=\"middle\" x=\"1572\" y=\"-52.8\" font-family=\"Helvetica,sans-Serif\" font-size=\"14.00\" fill=\"#000000\">gini = 0.404</text>\n",
       "<text text-anchor=\"middle\" x=\"1572\" y=\"-37.8\" font-family=\"Helvetica,sans-Serif\" font-size=\"14.00\" fill=\"#000000\">samples = 320</text>\n",
       "<text text-anchor=\"middle\" x=\"1572\" y=\"-22.8\" font-family=\"Helvetica,sans-Serif\" font-size=\"14.00\" fill=\"#000000\">value = [230, 90]</text>\n",
       "<text text-anchor=\"middle\" x=\"1572\" y=\"-7.8\" font-family=\"Helvetica,sans-Serif\" font-size=\"14.00\" fill=\"#000000\">class = Target[&lt;=50K]</text>\n",
       "</g>\n",
       "<!-- 22&#45;&gt;24 -->\n",
       "<g id=\"edge24\" class=\"edge\">\n",
       "<title>22&#45;&gt;24</title>\n",
       "<path fill=\"none\" stroke=\"#000000\" d=\"M1545.0116,-103.9815C1548.3079,-95.4342 1551.7886,-86.4086 1555.1147,-77.7839\"/>\n",
       "<polygon fill=\"#000000\" stroke=\"#000000\" points=\"1558.4535,-78.8533 1558.7862,-68.2637 1551.9224,-76.3345 1558.4535,-78.8533\"/>\n",
       "</g>\n",
       "<!-- 26 -->\n",
       "<g id=\"node27\" class=\"node\">\n",
       "<title>26</title>\n",
       "<path fill=\"none\" stroke=\"#000000\" d=\"M1836.5,-187C1836.5,-187 1697.5,-187 1697.5,-187 1691.5,-187 1685.5,-181 1685.5,-175 1685.5,-175 1685.5,-116 1685.5,-116 1685.5,-110 1691.5,-104 1697.5,-104 1697.5,-104 1836.5,-104 1836.5,-104 1842.5,-104 1848.5,-110 1848.5,-116 1848.5,-116 1848.5,-175 1848.5,-175 1848.5,-181 1842.5,-187 1836.5,-187\"/>\n",
       "<text text-anchor=\"middle\" x=\"1767\" y=\"-171.8\" font-family=\"Helvetica,sans-Serif\" font-size=\"14.00\" fill=\"#000000\">C(Education)[T.Masters] &lt;= 0.5</text>\n",
       "<text text-anchor=\"middle\" x=\"1767\" y=\"-156.8\" font-family=\"Helvetica,sans-Serif\" font-size=\"14.00\" fill=\"#000000\">gini = 0.405</text>\n",
       "<text text-anchor=\"middle\" x=\"1767\" y=\"-141.8\" font-family=\"Helvetica,sans-Serif\" font-size=\"14.00\" fill=\"#000000\">samples = 110</text>\n",
       "<text text-anchor=\"middle\" x=\"1767\" y=\"-126.8\" font-family=\"Helvetica,sans-Serif\" font-size=\"14.00\" fill=\"#000000\">value = [79, 31]</text>\n",
       "<text text-anchor=\"middle\" x=\"1767\" y=\"-111.8\" font-family=\"Helvetica,sans-Serif\" font-size=\"14.00\" fill=\"#000000\">class = Target[&lt;=50K]</text>\n",
       "</g>\n",
       "<!-- 25&#45;&gt;26 -->\n",
       "<g id=\"edge26\" class=\"edge\">\n",
       "<title>25&#45;&gt;26</title>\n",
       "<path fill=\"none\" stroke=\"#000000\" d=\"M1767,-222.8796C1767,-214.6838 1767,-205.9891 1767,-197.5013\"/>\n",
       "<polygon fill=\"#000000\" stroke=\"#000000\" points=\"1770.5001,-197.298 1767,-187.2981 1763.5001,-197.2981 1770.5001,-197.298\"/>\n",
       "</g>\n",
       "<!-- 29 -->\n",
       "<g id=\"node30\" class=\"node\">\n",
       "<title>29</title>\n",
       "<path fill=\"none\" stroke=\"#000000\" d=\"M2065,-187C2065,-187 1887,-187 1887,-187 1881,-187 1875,-181 1875,-175 1875,-175 1875,-116 1875,-116 1875,-110 1881,-104 1887,-104 1887,-104 2065,-104 2065,-104 2071,-104 2077,-110 2077,-116 2077,-116 2077,-175 2077,-175 2077,-181 2071,-187 2065,-187\"/>\n",
       "<text text-anchor=\"middle\" x=\"1976\" y=\"-171.8\" font-family=\"Helvetica,sans-Serif\" font-size=\"14.00\" fill=\"#000000\">C(Occupation)[T.Protective&#45;serv] &lt;= 0.5</text>\n",
       "<text text-anchor=\"middle\" x=\"1976\" y=\"-156.8\" font-family=\"Helvetica,sans-Serif\" font-size=\"14.00\" fill=\"#000000\">gini = 0.375</text>\n",
       "<text text-anchor=\"middle\" x=\"1976\" y=\"-141.8\" font-family=\"Helvetica,sans-Serif\" font-size=\"14.00\" fill=\"#000000\">samples = 36</text>\n",
       "<text text-anchor=\"middle\" x=\"1976\" y=\"-126.8\" font-family=\"Helvetica,sans-Serif\" font-size=\"14.00\" fill=\"#000000\">value = [9, 27]</text>\n",
       "<text text-anchor=\"middle\" x=\"1976\" y=\"-111.8\" font-family=\"Helvetica,sans-Serif\" font-size=\"14.00\" fill=\"#000000\">class = Target[&gt;50K]</text>\n",
       "</g>\n",
       "<!-- 25&#45;&gt;29 -->\n",
       "<g id=\"edge29\" class=\"edge\">\n",
       "<title>25&#45;&gt;29</title>\n",
       "<path fill=\"none\" stroke=\"#000000\" d=\"M1840.0981,-222.8796C1857.4397,-213.0056 1876.0533,-202.4075 1893.7711,-192.3193\"/>\n",
       "<polygon fill=\"#000000\" stroke=\"#000000\" points=\"1895.9849,-195.0865 1902.9432,-187.0969 1892.5213,-189.0034 1895.9849,-195.0865\"/>\n",
       "</g>\n",
       "<!-- 27 -->\n",
       "<g id=\"node28\" class=\"node\">\n",
       "<title>27</title>\n",
       "<path fill=\"none\" stroke=\"#000000\" d=\"M1758,-68C1758,-68 1662,-68 1662,-68 1656,-68 1650,-62 1650,-56 1650,-56 1650,-12 1650,-12 1650,-6 1656,0 1662,0 1662,0 1758,0 1758,0 1764,0 1770,-6 1770,-12 1770,-12 1770,-56 1770,-56 1770,-62 1764,-68 1758,-68\"/>\n",
       "<text text-anchor=\"middle\" x=\"1710\" y=\"-52.8\" font-family=\"Helvetica,sans-Serif\" font-size=\"14.00\" fill=\"#000000\">gini = 0.346</text>\n",
       "<text text-anchor=\"middle\" x=\"1710\" y=\"-37.8\" font-family=\"Helvetica,sans-Serif\" font-size=\"14.00\" fill=\"#000000\">samples = 99</text>\n",
       "<text text-anchor=\"middle\" x=\"1710\" y=\"-22.8\" font-family=\"Helvetica,sans-Serif\" font-size=\"14.00\" fill=\"#000000\">value = [77, 22]</text>\n",
       "<text text-anchor=\"middle\" x=\"1710\" y=\"-7.8\" font-family=\"Helvetica,sans-Serif\" font-size=\"14.00\" fill=\"#000000\">class = Target[&lt;=50K]</text>\n",
       "</g>\n",
       "<!-- 26&#45;&gt;27 -->\n",
       "<g id=\"edge27\" class=\"edge\">\n",
       "<title>26&#45;&gt;27</title>\n",
       "<path fill=\"none\" stroke=\"#000000\" d=\"M1745.7753,-103.9815C1741.3119,-95.2504 1736.5933,-86.0202 1732.0987,-77.2281\"/>\n",
       "<polygon fill=\"#000000\" stroke=\"#000000\" points=\"1735.1842,-75.5745 1727.516,-68.2637 1728.9514,-78.7608 1735.1842,-75.5745\"/>\n",
       "</g>\n",
       "<!-- 28 -->\n",
       "<g id=\"node29\" class=\"node\">\n",
       "<title>28</title>\n",
       "<path fill=\"none\" stroke=\"#000000\" d=\"M1889.5,-68C1889.5,-68 1800.5,-68 1800.5,-68 1794.5,-68 1788.5,-62 1788.5,-56 1788.5,-56 1788.5,-12 1788.5,-12 1788.5,-6 1794.5,0 1800.5,0 1800.5,0 1889.5,0 1889.5,0 1895.5,0 1901.5,-6 1901.5,-12 1901.5,-12 1901.5,-56 1901.5,-56 1901.5,-62 1895.5,-68 1889.5,-68\"/>\n",
       "<text text-anchor=\"middle\" x=\"1845\" y=\"-52.8\" font-family=\"Helvetica,sans-Serif\" font-size=\"14.00\" fill=\"#000000\">gini = 0.298</text>\n",
       "<text text-anchor=\"middle\" x=\"1845\" y=\"-37.8\" font-family=\"Helvetica,sans-Serif\" font-size=\"14.00\" fill=\"#000000\">samples = 11</text>\n",
       "<text text-anchor=\"middle\" x=\"1845\" y=\"-22.8\" font-family=\"Helvetica,sans-Serif\" font-size=\"14.00\" fill=\"#000000\">value = [2, 9]</text>\n",
       "<text text-anchor=\"middle\" x=\"1845\" y=\"-7.8\" font-family=\"Helvetica,sans-Serif\" font-size=\"14.00\" fill=\"#000000\">class = Target[&gt;50K]</text>\n",
       "</g>\n",
       "<!-- 26&#45;&gt;28 -->\n",
       "<g id=\"edge28\" class=\"edge\">\n",
       "<title>26&#45;&gt;28</title>\n",
       "<path fill=\"none\" stroke=\"#000000\" d=\"M1796.0443,-103.9815C1802.2808,-95.0666 1808.8813,-85.6313 1815.1478,-76.6734\"/>\n",
       "<polygon fill=\"#000000\" stroke=\"#000000\" points=\"1818.1665,-78.464 1821.0308,-68.2637 1812.4307,-74.4515 1818.1665,-78.464\"/>\n",
       "</g>\n",
       "<!-- 30 -->\n",
       "<g id=\"node31\" class=\"node\">\n",
       "<title>30</title>\n",
       "<path fill=\"none\" stroke=\"#000000\" d=\"M2020.5,-68C2020.5,-68 1931.5,-68 1931.5,-68 1925.5,-68 1919.5,-62 1919.5,-56 1919.5,-56 1919.5,-12 1919.5,-12 1919.5,-6 1925.5,0 1931.5,0 1931.5,0 2020.5,0 2020.5,0 2026.5,0 2032.5,-6 2032.5,-12 2032.5,-12 2032.5,-56 2032.5,-56 2032.5,-62 2026.5,-68 2020.5,-68\"/>\n",
       "<text text-anchor=\"middle\" x=\"1976\" y=\"-52.8\" font-family=\"Helvetica,sans-Serif\" font-size=\"14.00\" fill=\"#000000\">gini = 0.353</text>\n",
       "<text text-anchor=\"middle\" x=\"1976\" y=\"-37.8\" font-family=\"Helvetica,sans-Serif\" font-size=\"14.00\" fill=\"#000000\">samples = 35</text>\n",
       "<text text-anchor=\"middle\" x=\"1976\" y=\"-22.8\" font-family=\"Helvetica,sans-Serif\" font-size=\"14.00\" fill=\"#000000\">value = [8, 27]</text>\n",
       "<text text-anchor=\"middle\" x=\"1976\" y=\"-7.8\" font-family=\"Helvetica,sans-Serif\" font-size=\"14.00\" fill=\"#000000\">class = Target[&gt;50K]</text>\n",
       "</g>\n",
       "<!-- 29&#45;&gt;30 -->\n",
       "<g id=\"edge30\" class=\"edge\">\n",
       "<title>29&#45;&gt;30</title>\n",
       "<path fill=\"none\" stroke=\"#000000\" d=\"M1976,-103.9815C1976,-95.618 1976,-86.7965 1976,-78.3409\"/>\n",
       "<polygon fill=\"#000000\" stroke=\"#000000\" points=\"1979.5001,-78.2636 1976,-68.2637 1972.5001,-78.2637 1979.5001,-78.2636\"/>\n",
       "</g>\n",
       "<!-- 31 -->\n",
       "<g id=\"node32\" class=\"node\">\n",
       "<title>31</title>\n",
       "<path fill=\"none\" stroke=\"#000000\" d=\"M2159,-68C2159,-68 2063,-68 2063,-68 2057,-68 2051,-62 2051,-56 2051,-56 2051,-12 2051,-12 2051,-6 2057,0 2063,0 2063,0 2159,0 2159,0 2165,0 2171,-6 2171,-12 2171,-12 2171,-56 2171,-56 2171,-62 2165,-68 2159,-68\"/>\n",
       "<text text-anchor=\"middle\" x=\"2111\" y=\"-52.8\" font-family=\"Helvetica,sans-Serif\" font-size=\"14.00\" fill=\"#000000\">gini = 0.0</text>\n",
       "<text text-anchor=\"middle\" x=\"2111\" y=\"-37.8\" font-family=\"Helvetica,sans-Serif\" font-size=\"14.00\" fill=\"#000000\">samples = 1</text>\n",
       "<text text-anchor=\"middle\" x=\"2111\" y=\"-22.8\" font-family=\"Helvetica,sans-Serif\" font-size=\"14.00\" fill=\"#000000\">value = [1, 0]</text>\n",
       "<text text-anchor=\"middle\" x=\"2111\" y=\"-7.8\" font-family=\"Helvetica,sans-Serif\" font-size=\"14.00\" fill=\"#000000\">class = Target[&lt;=50K]</text>\n",
       "</g>\n",
       "<!-- 29&#45;&gt;31 -->\n",
       "<g id=\"edge31\" class=\"edge\">\n",
       "<title>29&#45;&gt;31</title>\n",
       "<path fill=\"none\" stroke=\"#000000\" d=\"M2026.269,-103.9815C2037.8418,-94.4232 2050.1389,-84.2668 2061.6713,-74.7419\"/>\n",
       "<polygon fill=\"#000000\" stroke=\"#000000\" points=\"2064.0334,-77.3304 2069.5148,-68.2637 2059.5757,-71.9332 2064.0334,-77.3304\"/>\n",
       "</g>\n",
       "<!-- 33 -->\n",
       "<g id=\"node34\" class=\"node\">\n",
       "<title>33</title>\n",
       "<path fill=\"none\" stroke=\"#000000\" d=\"M2780,-425C2780,-425 2646,-425 2646,-425 2640,-425 2634,-419 2634,-413 2634,-413 2634,-354 2634,-354 2634,-348 2640,-342 2646,-342 2646,-342 2780,-342 2780,-342 2786,-342 2792,-348 2792,-354 2792,-354 2792,-413 2792,-413 2792,-419 2786,-425 2780,-425\"/>\n",
       "<text text-anchor=\"middle\" x=\"2713\" y=\"-409.8\" font-family=\"Helvetica,sans-Serif\" font-size=\"14.00\" fill=\"#000000\">C(Relationship)[T.Wife] &lt;= 0.5</text>\n",
       "<text text-anchor=\"middle\" x=\"2713\" y=\"-394.8\" font-family=\"Helvetica,sans-Serif\" font-size=\"14.00\" fill=\"#000000\">gini = 0.265</text>\n",
       "<text text-anchor=\"middle\" x=\"2713\" y=\"-379.8\" font-family=\"Helvetica,sans-Serif\" font-size=\"14.00\" fill=\"#000000\">samples = 5037</text>\n",
       "<text text-anchor=\"middle\" x=\"2713\" y=\"-364.8\" font-family=\"Helvetica,sans-Serif\" font-size=\"14.00\" fill=\"#000000\">value = [4245, 792]</text>\n",
       "<text text-anchor=\"middle\" x=\"2713\" y=\"-349.8\" font-family=\"Helvetica,sans-Serif\" font-size=\"14.00\" fill=\"#000000\">class = Target[&lt;=50K]</text>\n",
       "</g>\n",
       "<!-- 32&#45;&gt;33 -->\n",
       "<g id=\"edge33\" class=\"edge\">\n",
       "<title>32&#45;&gt;33</title>\n",
       "<path fill=\"none\" stroke=\"#000000\" d=\"M2713,-460.8796C2713,-452.6838 2713,-443.9891 2713,-435.5013\"/>\n",
       "<polygon fill=\"#000000\" stroke=\"#000000\" points=\"2716.5001,-435.298 2713,-425.2981 2709.5001,-435.2981 2716.5001,-435.298\"/>\n",
       "</g>\n",
       "<!-- 48 -->\n",
       "<g id=\"node49\" class=\"node\">\n",
       "<title>48</title>\n",
       "<path fill=\"none\" stroke=\"#000000\" d=\"M3749.5,-425C3749.5,-425 3562.5,-425 3562.5,-425 3556.5,-425 3550.5,-419 3550.5,-413 3550.5,-413 3550.5,-354 3550.5,-354 3550.5,-348 3556.5,-342 3562.5,-342 3562.5,-342 3749.5,-342 3749.5,-342 3755.5,-342 3761.5,-348 3761.5,-354 3761.5,-354 3761.5,-413 3761.5,-413 3761.5,-419 3755.5,-425 3749.5,-425\"/>\n",
       "<text text-anchor=\"middle\" x=\"3656\" y=\"-409.8\" font-family=\"Helvetica,sans-Serif\" font-size=\"14.00\" fill=\"#000000\">C(Occupation)[T.Exec&#45;managerial] &lt;= 0.5</text>\n",
       "<text text-anchor=\"middle\" x=\"3656\" y=\"-394.8\" font-family=\"Helvetica,sans-Serif\" font-size=\"14.00\" fill=\"#000000\">gini = 0.475</text>\n",
       "<text text-anchor=\"middle\" x=\"3656\" y=\"-379.8\" font-family=\"Helvetica,sans-Serif\" font-size=\"14.00\" fill=\"#000000\">samples = 12069</text>\n",
       "<text text-anchor=\"middle\" x=\"3656\" y=\"-364.8\" font-family=\"Helvetica,sans-Serif\" font-size=\"14.00\" fill=\"#000000\">value = [7383, 4686]</text>\n",
       "<text text-anchor=\"middle\" x=\"3656\" y=\"-349.8\" font-family=\"Helvetica,sans-Serif\" font-size=\"14.00\" fill=\"#000000\">class = Target[&lt;=50K]</text>\n",
       "</g>\n",
       "<!-- 32&#45;&gt;48 -->\n",
       "<g id=\"edge48\" class=\"edge\">\n",
       "<title>32&#45;&gt;48</title>\n",
       "<path fill=\"none\" stroke=\"#000000\" d=\"M2773.0634,-494.9204C2927.0583,-475.4873 3338.027,-423.626 3540.2891,-398.1019\"/>\n",
       "<polygon fill=\"#000000\" stroke=\"#000000\" points=\"3540.869,-401.5566 3550.352,-396.832 3539.9925,-394.6117 3540.869,-401.5566\"/>\n",
       "</g>\n",
       "<!-- 34 -->\n",
       "<g id=\"node35\" class=\"node\">\n",
       "<title>34</title>\n",
       "<path fill=\"none\" stroke=\"#000000\" d=\"M2699.5,-306C2699.5,-306 2552.5,-306 2552.5,-306 2546.5,-306 2540.5,-300 2540.5,-294 2540.5,-294 2540.5,-235 2540.5,-235 2540.5,-229 2546.5,-223 2552.5,-223 2552.5,-223 2699.5,-223 2699.5,-223 2705.5,-223 2711.5,-229 2711.5,-235 2711.5,-235 2711.5,-294 2711.5,-294 2711.5,-300 2705.5,-306 2699.5,-306\"/>\n",
       "<text text-anchor=\"middle\" x=\"2626\" y=\"-290.8\" font-family=\"Helvetica,sans-Serif\" font-size=\"14.00\" fill=\"#000000\">C(Education)[T.Doctorate] &lt;= 0.5</text>\n",
       "<text text-anchor=\"middle\" x=\"2626\" y=\"-275.8\" font-family=\"Helvetica,sans-Serif\" font-size=\"14.00\" fill=\"#000000\">gini = 0.134</text>\n",
       "<text text-anchor=\"middle\" x=\"2626\" y=\"-260.8\" font-family=\"Helvetica,sans-Serif\" font-size=\"14.00\" fill=\"#000000\">samples = 4107</text>\n",
       "<text text-anchor=\"middle\" x=\"2626\" y=\"-245.8\" font-family=\"Helvetica,sans-Serif\" font-size=\"14.00\" fill=\"#000000\">value = [3811, 296]</text>\n",
       "<text text-anchor=\"middle\" x=\"2626\" y=\"-230.8\" font-family=\"Helvetica,sans-Serif\" font-size=\"14.00\" fill=\"#000000\">class = Target[&lt;=50K]</text>\n",
       "</g>\n",
       "<!-- 33&#45;&gt;34 -->\n",
       "<g id=\"edge34\" class=\"edge\">\n",
       "<title>33&#45;&gt;34</title>\n",
       "<path fill=\"none\" stroke=\"#000000\" d=\"M2682.5716,-341.8796C2676.1189,-333.0534 2669.243,-323.6485 2662.5887,-314.5466\"/>\n",
       "<polygon fill=\"#000000\" stroke=\"#000000\" points=\"2665.2856,-312.3051 2656.5583,-306.2981 2659.6347,-316.4364 2665.2856,-312.3051\"/>\n",
       "</g>\n",
       "<!-- 41 -->\n",
       "<g id=\"node42\" class=\"node\">\n",
       "<title>41</title>\n",
       "<path fill=\"none\" stroke=\"#000000\" d=\"M2940.5,-306C2940.5,-306 2769.5,-306 2769.5,-306 2763.5,-306 2757.5,-300 2757.5,-294 2757.5,-294 2757.5,-235 2757.5,-235 2757.5,-229 2763.5,-223 2769.5,-223 2769.5,-223 2940.5,-223 2940.5,-223 2946.5,-223 2952.5,-229 2952.5,-235 2952.5,-235 2952.5,-294 2952.5,-294 2952.5,-300 2946.5,-306 2940.5,-306\"/>\n",
       "<text text-anchor=\"middle\" x=\"2855\" y=\"-290.8\" font-family=\"Helvetica,sans-Serif\" font-size=\"14.00\" fill=\"#000000\">C(Occupation)[T.Other&#45;service] &lt;= 0.5</text>\n",
       "<text text-anchor=\"middle\" x=\"2855\" y=\"-275.8\" font-family=\"Helvetica,sans-Serif\" font-size=\"14.00\" fill=\"#000000\">gini = 0.498</text>\n",
       "<text text-anchor=\"middle\" x=\"2855\" y=\"-260.8\" font-family=\"Helvetica,sans-Serif\" font-size=\"14.00\" fill=\"#000000\">samples = 930</text>\n",
       "<text text-anchor=\"middle\" x=\"2855\" y=\"-245.8\" font-family=\"Helvetica,sans-Serif\" font-size=\"14.00\" fill=\"#000000\">value = [434, 496]</text>\n",
       "<text text-anchor=\"middle\" x=\"2855\" y=\"-230.8\" font-family=\"Helvetica,sans-Serif\" font-size=\"14.00\" fill=\"#000000\">class = Target[&gt;50K]</text>\n",
       "</g>\n",
       "<!-- 33&#45;&gt;41 -->\n",
       "<g id=\"edge41\" class=\"edge\">\n",
       "<title>33&#45;&gt;41</title>\n",
       "<path fill=\"none\" stroke=\"#000000\" d=\"M2762.6647,-341.8796C2773.8416,-332.513 2785.7962,-322.4948 2797.2712,-312.8784\"/>\n",
       "<polygon fill=\"#000000\" stroke=\"#000000\" points=\"2799.7069,-315.4037 2805.1233,-306.2981 2795.2107,-310.0386 2799.7069,-315.4037\"/>\n",
       "</g>\n",
       "<!-- 35 -->\n",
       "<g id=\"node36\" class=\"node\">\n",
       "<title>35</title>\n",
       "<path fill=\"none\" stroke=\"#000000\" d=\"M2456.5,-187C2456.5,-187 2317.5,-187 2317.5,-187 2311.5,-187 2305.5,-181 2305.5,-175 2305.5,-175 2305.5,-116 2305.5,-116 2305.5,-110 2311.5,-104 2317.5,-104 2317.5,-104 2456.5,-104 2456.5,-104 2462.5,-104 2468.5,-110 2468.5,-116 2468.5,-116 2468.5,-175 2468.5,-175 2468.5,-181 2462.5,-187 2456.5,-187\"/>\n",
       "<text text-anchor=\"middle\" x=\"2387\" y=\"-171.8\" font-family=\"Helvetica,sans-Serif\" font-size=\"14.00\" fill=\"#000000\">C(Education)[T.Masters] &lt;= 0.5</text>\n",
       "<text text-anchor=\"middle\" x=\"2387\" y=\"-156.8\" font-family=\"Helvetica,sans-Serif\" font-size=\"14.00\" fill=\"#000000\">gini = 0.126</text>\n",
       "<text text-anchor=\"middle\" x=\"2387\" y=\"-141.8\" font-family=\"Helvetica,sans-Serif\" font-size=\"14.00\" fill=\"#000000\">samples = 4064</text>\n",
       "<text text-anchor=\"middle\" x=\"2387\" y=\"-126.8\" font-family=\"Helvetica,sans-Serif\" font-size=\"14.00\" fill=\"#000000\">value = [3790, 274]</text>\n",
       "<text text-anchor=\"middle\" x=\"2387\" y=\"-111.8\" font-family=\"Helvetica,sans-Serif\" font-size=\"14.00\" fill=\"#000000\">class = Target[&lt;=50K]</text>\n",
       "</g>\n",
       "<!-- 34&#45;&gt;35 -->\n",
       "<g id=\"edge35\" class=\"edge\">\n",
       "<title>34&#45;&gt;35</title>\n",
       "<path fill=\"none\" stroke=\"#000000\" d=\"M2542.4094,-222.8796C2521.4438,-212.4406 2498.8525,-201.1922 2477.5646,-190.5928\"/>\n",
       "<polygon fill=\"#000000\" stroke=\"#000000\" points=\"2479.0414,-187.4183 2468.5296,-186.0942 2475.9213,-193.6846 2479.0414,-187.4183\"/>\n",
       "</g>\n",
       "<!-- 38 -->\n",
       "<g id=\"node39\" class=\"node\">\n",
       "<title>38</title>\n",
       "<path fill=\"none\" stroke=\"#000000\" d=\"M2719.5,-187C2719.5,-187 2532.5,-187 2532.5,-187 2526.5,-187 2520.5,-181 2520.5,-175 2520.5,-175 2520.5,-116 2520.5,-116 2520.5,-110 2526.5,-104 2532.5,-104 2532.5,-104 2719.5,-104 2719.5,-104 2725.5,-104 2731.5,-110 2731.5,-116 2731.5,-116 2731.5,-175 2731.5,-175 2731.5,-181 2725.5,-187 2719.5,-187\"/>\n",
       "<text text-anchor=\"middle\" x=\"2626\" y=\"-171.8\" font-family=\"Helvetica,sans-Serif\" font-size=\"14.00\" fill=\"#000000\">C(Occupation)[T.Exec&#45;managerial] &lt;= 0.5</text>\n",
       "<text text-anchor=\"middle\" x=\"2626\" y=\"-156.8\" font-family=\"Helvetica,sans-Serif\" font-size=\"14.00\" fill=\"#000000\">gini = 0.5</text>\n",
       "<text text-anchor=\"middle\" x=\"2626\" y=\"-141.8\" font-family=\"Helvetica,sans-Serif\" font-size=\"14.00\" fill=\"#000000\">samples = 43</text>\n",
       "<text text-anchor=\"middle\" x=\"2626\" y=\"-126.8\" font-family=\"Helvetica,sans-Serif\" font-size=\"14.00\" fill=\"#000000\">value = [21, 22]</text>\n",
       "<text text-anchor=\"middle\" x=\"2626\" y=\"-111.8\" font-family=\"Helvetica,sans-Serif\" font-size=\"14.00\" fill=\"#000000\">class = Target[&gt;50K]</text>\n",
       "</g>\n",
       "<!-- 34&#45;&gt;38 -->\n",
       "<g id=\"edge38\" class=\"edge\">\n",
       "<title>34&#45;&gt;38</title>\n",
       "<path fill=\"none\" stroke=\"#000000\" d=\"M2626,-222.8796C2626,-214.6838 2626,-205.9891 2626,-197.5013\"/>\n",
       "<polygon fill=\"#000000\" stroke=\"#000000\" points=\"2629.5001,-197.298 2626,-187.2981 2622.5001,-197.2981 2629.5001,-197.298\"/>\n",
       "</g>\n",
       "<!-- 36 -->\n",
       "<g id=\"node37\" class=\"node\">\n",
       "<title>36</title>\n",
       "<path fill=\"none\" stroke=\"#000000\" d=\"M2297,-68C2297,-68 2201,-68 2201,-68 2195,-68 2189,-62 2189,-56 2189,-56 2189,-12 2189,-12 2189,-6 2195,0 2201,0 2201,0 2297,0 2297,0 2303,0 2309,-6 2309,-12 2309,-12 2309,-56 2309,-56 2309,-62 2303,-68 2297,-68\"/>\n",
       "<text text-anchor=\"middle\" x=\"2249\" y=\"-52.8\" font-family=\"Helvetica,sans-Serif\" font-size=\"14.00\" fill=\"#000000\">gini = 0.104</text>\n",
       "<text text-anchor=\"middle\" x=\"2249\" y=\"-37.8\" font-family=\"Helvetica,sans-Serif\" font-size=\"14.00\" fill=\"#000000\">samples = 3783</text>\n",
       "<text text-anchor=\"middle\" x=\"2249\" y=\"-22.8\" font-family=\"Helvetica,sans-Serif\" font-size=\"14.00\" fill=\"#000000\">value = [3574, 209]</text>\n",
       "<text text-anchor=\"middle\" x=\"2249\" y=\"-7.8\" font-family=\"Helvetica,sans-Serif\" font-size=\"14.00\" fill=\"#000000\">class = Target[&lt;=50K]</text>\n",
       "</g>\n",
       "<!-- 35&#45;&gt;36 -->\n",
       "<g id=\"edge36\" class=\"edge\">\n",
       "<title>35&#45;&gt;36</title>\n",
       "<path fill=\"none\" stroke=\"#000000\" d=\"M2335.6139,-103.9815C2323.7839,-94.4232 2311.2136,-84.2668 2299.4249,-74.7419\"/>\n",
       "<polygon fill=\"#000000\" stroke=\"#000000\" points=\"2301.3851,-71.826 2291.4071,-68.2637 2296.9858,-77.2708 2301.3851,-71.826\"/>\n",
       "</g>\n",
       "<!-- 37 -->\n",
       "<g id=\"node38\" class=\"node\">\n",
       "<title>37</title>\n",
       "<path fill=\"none\" stroke=\"#000000\" d=\"M2435,-68C2435,-68 2339,-68 2339,-68 2333,-68 2327,-62 2327,-56 2327,-56 2327,-12 2327,-12 2327,-6 2333,0 2339,0 2339,0 2435,0 2435,0 2441,0 2447,-6 2447,-12 2447,-12 2447,-56 2447,-56 2447,-62 2441,-68 2435,-68\"/>\n",
       "<text text-anchor=\"middle\" x=\"2387\" y=\"-52.8\" font-family=\"Helvetica,sans-Serif\" font-size=\"14.00\" fill=\"#000000\">gini = 0.356</text>\n",
       "<text text-anchor=\"middle\" x=\"2387\" y=\"-37.8\" font-family=\"Helvetica,sans-Serif\" font-size=\"14.00\" fill=\"#000000\">samples = 281</text>\n",
       "<text text-anchor=\"middle\" x=\"2387\" y=\"-22.8\" font-family=\"Helvetica,sans-Serif\" font-size=\"14.00\" fill=\"#000000\">value = [216, 65]</text>\n",
       "<text text-anchor=\"middle\" x=\"2387\" y=\"-7.8\" font-family=\"Helvetica,sans-Serif\" font-size=\"14.00\" fill=\"#000000\">class = Target[&lt;=50K]</text>\n",
       "</g>\n",
       "<!-- 35&#45;&gt;37 -->\n",
       "<g id=\"edge37\" class=\"edge\">\n",
       "<title>35&#45;&gt;37</title>\n",
       "<path fill=\"none\" stroke=\"#000000\" d=\"M2387,-103.9815C2387,-95.618 2387,-86.7965 2387,-78.3409\"/>\n",
       "<polygon fill=\"#000000\" stroke=\"#000000\" points=\"2390.5001,-78.2636 2387,-68.2637 2383.5001,-78.2637 2390.5001,-78.2636\"/>\n",
       "</g>\n",
       "<!-- 39 -->\n",
       "<g id=\"node40\" class=\"node\">\n",
       "<title>39</title>\n",
       "<path fill=\"none\" stroke=\"#000000\" d=\"M2573,-68C2573,-68 2477,-68 2477,-68 2471,-68 2465,-62 2465,-56 2465,-56 2465,-12 2465,-12 2465,-6 2471,0 2477,0 2477,0 2573,0 2573,0 2579,0 2585,-6 2585,-12 2585,-12 2585,-56 2585,-56 2585,-62 2579,-68 2573,-68\"/>\n",
       "<text text-anchor=\"middle\" x=\"2525\" y=\"-52.8\" font-family=\"Helvetica,sans-Serif\" font-size=\"14.00\" fill=\"#000000\">gini = 0.49</text>\n",
       "<text text-anchor=\"middle\" x=\"2525\" y=\"-37.8\" font-family=\"Helvetica,sans-Serif\" font-size=\"14.00\" fill=\"#000000\">samples = 35</text>\n",
       "<text text-anchor=\"middle\" x=\"2525\" y=\"-22.8\" font-family=\"Helvetica,sans-Serif\" font-size=\"14.00\" fill=\"#000000\">value = [20, 15]</text>\n",
       "<text text-anchor=\"middle\" x=\"2525\" y=\"-7.8\" font-family=\"Helvetica,sans-Serif\" font-size=\"14.00\" fill=\"#000000\">class = Target[&lt;=50K]</text>\n",
       "</g>\n",
       "<!-- 38&#45;&gt;39 -->\n",
       "<g id=\"edge39\" class=\"edge\">\n",
       "<title>38&#45;&gt;39</title>\n",
       "<path fill=\"none\" stroke=\"#000000\" d=\"M2588.3913,-103.9815C2580.0661,-94.7908 2571.24,-85.0472 2562.9032,-75.8436\"/>\n",
       "<polygon fill=\"#000000\" stroke=\"#000000\" points=\"2565.3446,-73.3254 2556.037,-68.2637 2560.1566,-78.0248 2565.3446,-73.3254\"/>\n",
       "</g>\n",
       "<!-- 40 -->\n",
       "<g id=\"node41\" class=\"node\">\n",
       "<title>40</title>\n",
       "<path fill=\"none\" stroke=\"#000000\" d=\"M2704.5,-68C2704.5,-68 2615.5,-68 2615.5,-68 2609.5,-68 2603.5,-62 2603.5,-56 2603.5,-56 2603.5,-12 2603.5,-12 2603.5,-6 2609.5,0 2615.5,0 2615.5,0 2704.5,0 2704.5,0 2710.5,0 2716.5,-6 2716.5,-12 2716.5,-12 2716.5,-56 2716.5,-56 2716.5,-62 2710.5,-68 2704.5,-68\"/>\n",
       "<text text-anchor=\"middle\" x=\"2660\" y=\"-52.8\" font-family=\"Helvetica,sans-Serif\" font-size=\"14.00\" fill=\"#000000\">gini = 0.219</text>\n",
       "<text text-anchor=\"middle\" x=\"2660\" y=\"-37.8\" font-family=\"Helvetica,sans-Serif\" font-size=\"14.00\" fill=\"#000000\">samples = 8</text>\n",
       "<text text-anchor=\"middle\" x=\"2660\" y=\"-22.8\" font-family=\"Helvetica,sans-Serif\" font-size=\"14.00\" fill=\"#000000\">value = [1, 7]</text>\n",
       "<text text-anchor=\"middle\" x=\"2660\" y=\"-7.8\" font-family=\"Helvetica,sans-Serif\" font-size=\"14.00\" fill=\"#000000\">class = Target[&gt;50K]</text>\n",
       "</g>\n",
       "<!-- 38&#45;&gt;40 -->\n",
       "<g id=\"edge40\" class=\"edge\">\n",
       "<title>38&#45;&gt;40</title>\n",
       "<path fill=\"none\" stroke=\"#000000\" d=\"M2638.6603,-103.9815C2641.2387,-95.5261 2643.9597,-86.6026 2646.564,-78.0623\"/>\n",
       "<polygon fill=\"#000000\" stroke=\"#000000\" points=\"2649.9829,-78.8497 2649.5519,-68.2637 2643.2873,-76.808 2649.9829,-78.8497\"/>\n",
       "</g>\n",
       "<!-- 42 -->\n",
       "<g id=\"node43\" class=\"node\">\n",
       "<title>42</title>\n",
       "<path fill=\"none\" stroke=\"#000000\" d=\"M2925.5,-187C2925.5,-187 2784.5,-187 2784.5,-187 2778.5,-187 2772.5,-181 2772.5,-175 2772.5,-175 2772.5,-116 2772.5,-116 2772.5,-110 2778.5,-104 2784.5,-104 2784.5,-104 2925.5,-104 2925.5,-104 2931.5,-104 2937.5,-110 2937.5,-116 2937.5,-116 2937.5,-175 2937.5,-175 2937.5,-181 2931.5,-187 2925.5,-187\"/>\n",
       "<text text-anchor=\"middle\" x=\"2855\" y=\"-171.8\" font-family=\"Helvetica,sans-Serif\" font-size=\"14.00\" fill=\"#000000\">C(Education)[T.HS&#45;grad] &lt;= 0.5</text>\n",
       "<text text-anchor=\"middle\" x=\"2855\" y=\"-156.8\" font-family=\"Helvetica,sans-Serif\" font-size=\"14.00\" fill=\"#000000\">gini = 0.488</text>\n",
       "<text text-anchor=\"middle\" x=\"2855\" y=\"-141.8\" font-family=\"Helvetica,sans-Serif\" font-size=\"14.00\" fill=\"#000000\">samples = 821</text>\n",
       "<text text-anchor=\"middle\" x=\"2855\" y=\"-126.8\" font-family=\"Helvetica,sans-Serif\" font-size=\"14.00\" fill=\"#000000\">value = [346, 475]</text>\n",
       "<text text-anchor=\"middle\" x=\"2855\" y=\"-111.8\" font-family=\"Helvetica,sans-Serif\" font-size=\"14.00\" fill=\"#000000\">class = Target[&gt;50K]</text>\n",
       "</g>\n",
       "<!-- 41&#45;&gt;42 -->\n",
       "<g id=\"edge42\" class=\"edge\">\n",
       "<title>41&#45;&gt;42</title>\n",
       "<path fill=\"none\" stroke=\"#000000\" d=\"M2855,-222.8796C2855,-214.6838 2855,-205.9891 2855,-197.5013\"/>\n",
       "<polygon fill=\"#000000\" stroke=\"#000000\" points=\"2858.5001,-197.298 2855,-187.2981 2851.5001,-197.2981 2858.5001,-197.298\"/>\n",
       "</g>\n",
       "<!-- 45 -->\n",
       "<g id=\"node46\" class=\"node\">\n",
       "<title>45</title>\n",
       "<path fill=\"none\" stroke=\"#000000\" d=\"M3138,-187C3138,-187 2990,-187 2990,-187 2984,-187 2978,-181 2978,-175 2978,-175 2978,-116 2978,-116 2978,-110 2984,-104 2990,-104 2990,-104 3138,-104 3138,-104 3144,-104 3150,-110 3150,-116 3150,-116 3150,-175 3150,-175 3150,-181 3144,-187 3138,-187\"/>\n",
       "<text text-anchor=\"middle\" x=\"3064\" y=\"-171.8\" font-family=\"Helvetica,sans-Serif\" font-size=\"14.00\" fill=\"#000000\">C(Education)[T.Bachelors] &lt;= 0.5</text>\n",
       "<text text-anchor=\"middle\" x=\"3064\" y=\"-156.8\" font-family=\"Helvetica,sans-Serif\" font-size=\"14.00\" fill=\"#000000\">gini = 0.311</text>\n",
       "<text text-anchor=\"middle\" x=\"3064\" y=\"-141.8\" font-family=\"Helvetica,sans-Serif\" font-size=\"14.00\" fill=\"#000000\">samples = 109</text>\n",
       "<text text-anchor=\"middle\" x=\"3064\" y=\"-126.8\" font-family=\"Helvetica,sans-Serif\" font-size=\"14.00\" fill=\"#000000\">value = [88, 21]</text>\n",
       "<text text-anchor=\"middle\" x=\"3064\" y=\"-111.8\" font-family=\"Helvetica,sans-Serif\" font-size=\"14.00\" fill=\"#000000\">class = Target[&lt;=50K]</text>\n",
       "</g>\n",
       "<!-- 41&#45;&gt;45 -->\n",
       "<g id=\"edge45\" class=\"edge\">\n",
       "<title>41&#45;&gt;45</title>\n",
       "<path fill=\"none\" stroke=\"#000000\" d=\"M2928.0981,-222.8796C2945.4397,-213.0056 2964.0533,-202.4075 2981.7711,-192.3193\"/>\n",
       "<polygon fill=\"#000000\" stroke=\"#000000\" points=\"2983.9849,-195.0865 2990.9432,-187.0969 2980.5213,-189.0034 2983.9849,-195.0865\"/>\n",
       "</g>\n",
       "<!-- 43 -->\n",
       "<g id=\"node44\" class=\"node\">\n",
       "<title>43</title>\n",
       "<path fill=\"none\" stroke=\"#000000\" d=\"M2835.5,-68C2835.5,-68 2746.5,-68 2746.5,-68 2740.5,-68 2734.5,-62 2734.5,-56 2734.5,-56 2734.5,-12 2734.5,-12 2734.5,-6 2740.5,0 2746.5,0 2746.5,0 2835.5,0 2835.5,0 2841.5,0 2847.5,-6 2847.5,-12 2847.5,-12 2847.5,-56 2847.5,-56 2847.5,-62 2841.5,-68 2835.5,-68\"/>\n",
       "<text text-anchor=\"middle\" x=\"2791\" y=\"-52.8\" font-family=\"Helvetica,sans-Serif\" font-size=\"14.00\" fill=\"#000000\">gini = 0.456</text>\n",
       "<text text-anchor=\"middle\" x=\"2791\" y=\"-37.8\" font-family=\"Helvetica,sans-Serif\" font-size=\"14.00\" fill=\"#000000\">samples = 556</text>\n",
       "<text text-anchor=\"middle\" x=\"2791\" y=\"-22.8\" font-family=\"Helvetica,sans-Serif\" font-size=\"14.00\" fill=\"#000000\">value = [196, 360]</text>\n",
       "<text text-anchor=\"middle\" x=\"2791\" y=\"-7.8\" font-family=\"Helvetica,sans-Serif\" font-size=\"14.00\" fill=\"#000000\">class = Target[&gt;50K]</text>\n",
       "</g>\n",
       "<!-- 42&#45;&gt;43 -->\n",
       "<g id=\"edge43\" class=\"edge\">\n",
       "<title>42&#45;&gt;43</title>\n",
       "<path fill=\"none\" stroke=\"#000000\" d=\"M2831.1688,-103.9815C2826.1044,-95.1585 2820.7475,-85.8258 2815.6532,-76.9506\"/>\n",
       "<polygon fill=\"#000000\" stroke=\"#000000\" points=\"2818.6807,-75.1942 2810.667,-68.2637 2812.6097,-78.6789 2818.6807,-75.1942\"/>\n",
       "</g>\n",
       "<!-- 44 -->\n",
       "<g id=\"node45\" class=\"node\">\n",
       "<title>44</title>\n",
       "<path fill=\"none\" stroke=\"#000000\" d=\"M2974,-68C2974,-68 2878,-68 2878,-68 2872,-68 2866,-62 2866,-56 2866,-56 2866,-12 2866,-12 2866,-6 2872,0 2878,0 2878,0 2974,0 2974,0 2980,0 2986,-6 2986,-12 2986,-12 2986,-56 2986,-56 2986,-62 2980,-68 2974,-68\"/>\n",
       "<text text-anchor=\"middle\" x=\"2926\" y=\"-52.8\" font-family=\"Helvetica,sans-Serif\" font-size=\"14.00\" fill=\"#000000\">gini = 0.491</text>\n",
       "<text text-anchor=\"middle\" x=\"2926\" y=\"-37.8\" font-family=\"Helvetica,sans-Serif\" font-size=\"14.00\" fill=\"#000000\">samples = 265</text>\n",
       "<text text-anchor=\"middle\" x=\"2926\" y=\"-22.8\" font-family=\"Helvetica,sans-Serif\" font-size=\"14.00\" fill=\"#000000\">value = [150, 115]</text>\n",
       "<text text-anchor=\"middle\" x=\"2926\" y=\"-7.8\" font-family=\"Helvetica,sans-Serif\" font-size=\"14.00\" fill=\"#000000\">class = Target[&lt;=50K]</text>\n",
       "</g>\n",
       "<!-- 42&#45;&gt;44 -->\n",
       "<g id=\"edge44\" class=\"edge\">\n",
       "<title>42&#45;&gt;44</title>\n",
       "<path fill=\"none\" stroke=\"#000000\" d=\"M2881.4378,-103.9815C2887.056,-95.1585 2892.9988,-85.8258 2898.6503,-76.9506\"/>\n",
       "<polygon fill=\"#000000\" stroke=\"#000000\" points=\"2901.7629,-78.5787 2904.1819,-68.2637 2895.8584,-74.8188 2901.7629,-78.5787\"/>\n",
       "</g>\n",
       "<!-- 46 -->\n",
       "<g id=\"node47\" class=\"node\">\n",
       "<title>46</title>\n",
       "<path fill=\"none\" stroke=\"#000000\" d=\"M3112,-68C3112,-68 3016,-68 3016,-68 3010,-68 3004,-62 3004,-56 3004,-56 3004,-12 3004,-12 3004,-6 3010,0 3016,0 3016,0 3112,0 3112,0 3118,0 3124,-6 3124,-12 3124,-12 3124,-56 3124,-56 3124,-62 3118,-68 3112,-68\"/>\n",
       "<text text-anchor=\"middle\" x=\"3064\" y=\"-52.8\" font-family=\"Helvetica,sans-Serif\" font-size=\"14.00\" fill=\"#000000\">gini = 0.271</text>\n",
       "<text text-anchor=\"middle\" x=\"3064\" y=\"-37.8\" font-family=\"Helvetica,sans-Serif\" font-size=\"14.00\" fill=\"#000000\">samples = 99</text>\n",
       "<text text-anchor=\"middle\" x=\"3064\" y=\"-22.8\" font-family=\"Helvetica,sans-Serif\" font-size=\"14.00\" fill=\"#000000\">value = [83, 16]</text>\n",
       "<text text-anchor=\"middle\" x=\"3064\" y=\"-7.8\" font-family=\"Helvetica,sans-Serif\" font-size=\"14.00\" fill=\"#000000\">class = Target[&lt;=50K]</text>\n",
       "</g>\n",
       "<!-- 45&#45;&gt;46 -->\n",
       "<g id=\"edge46\" class=\"edge\">\n",
       "<title>45&#45;&gt;46</title>\n",
       "<path fill=\"none\" stroke=\"#000000\" d=\"M3064,-103.9815C3064,-95.618 3064,-86.7965 3064,-78.3409\"/>\n",
       "<polygon fill=\"#000000\" stroke=\"#000000\" points=\"3067.5001,-78.2636 3064,-68.2637 3060.5001,-78.2637 3067.5001,-78.2636\"/>\n",
       "</g>\n",
       "<!-- 47 -->\n",
       "<g id=\"node48\" class=\"node\">\n",
       "<title>47</title>\n",
       "<path fill=\"none\" stroke=\"#000000\" d=\"M3250,-68C3250,-68 3154,-68 3154,-68 3148,-68 3142,-62 3142,-56 3142,-56 3142,-12 3142,-12 3142,-6 3148,0 3154,0 3154,0 3250,0 3250,0 3256,0 3262,-6 3262,-12 3262,-12 3262,-56 3262,-56 3262,-62 3256,-68 3250,-68\"/>\n",
       "<text text-anchor=\"middle\" x=\"3202\" y=\"-52.8\" font-family=\"Helvetica,sans-Serif\" font-size=\"14.00\" fill=\"#000000\">gini = 0.5</text>\n",
       "<text text-anchor=\"middle\" x=\"3202\" y=\"-37.8\" font-family=\"Helvetica,sans-Serif\" font-size=\"14.00\" fill=\"#000000\">samples = 10</text>\n",
       "<text text-anchor=\"middle\" x=\"3202\" y=\"-22.8\" font-family=\"Helvetica,sans-Serif\" font-size=\"14.00\" fill=\"#000000\">value = [5, 5]</text>\n",
       "<text text-anchor=\"middle\" x=\"3202\" y=\"-7.8\" font-family=\"Helvetica,sans-Serif\" font-size=\"14.00\" fill=\"#000000\">class = Target[&lt;=50K]</text>\n",
       "</g>\n",
       "<!-- 45&#45;&gt;47 -->\n",
       "<g id=\"edge47\" class=\"edge\">\n",
       "<title>45&#45;&gt;47</title>\n",
       "<path fill=\"none\" stroke=\"#000000\" d=\"M3115.3861,-103.9815C3127.2161,-94.4232 3139.7864,-84.2668 3151.5751,-74.7419\"/>\n",
       "<polygon fill=\"#000000\" stroke=\"#000000\" points=\"3154.0142,-77.2708 3159.5929,-68.2637 3149.6149,-71.826 3154.0142,-77.2708\"/>\n",
       "</g>\n",
       "<!-- 49 -->\n",
       "<g id=\"node50\" class=\"node\">\n",
       "<title>49</title>\n",
       "<path fill=\"none\" stroke=\"#000000\" d=\"M3742,-306C3742,-306 3570,-306 3570,-306 3564,-306 3558,-300 3558,-294 3558,-294 3558,-235 3558,-235 3558,-229 3564,-223 3570,-223 3570,-223 3742,-223 3742,-223 3748,-223 3754,-229 3754,-235 3754,-235 3754,-294 3754,-294 3754,-300 3748,-306 3742,-306\"/>\n",
       "<text text-anchor=\"middle\" x=\"3656\" y=\"-290.8\" font-family=\"Helvetica,sans-Serif\" font-size=\"14.00\" fill=\"#000000\">C(Occupation)[T.Prof&#45;specialty] &lt;= 0.5</text>\n",
       "<text text-anchor=\"middle\" x=\"3656\" y=\"-275.8\" font-family=\"Helvetica,sans-Serif\" font-size=\"14.00\" fill=\"#000000\">gini = 0.45</text>\n",
       "<text text-anchor=\"middle\" x=\"3656\" y=\"-260.8\" font-family=\"Helvetica,sans-Serif\" font-size=\"14.00\" fill=\"#000000\">samples = 10144</text>\n",
       "<text text-anchor=\"middle\" x=\"3656\" y=\"-245.8\" font-family=\"Helvetica,sans-Serif\" font-size=\"14.00\" fill=\"#000000\">value = [6676, 3468]</text>\n",
       "<text text-anchor=\"middle\" x=\"3656\" y=\"-230.8\" font-family=\"Helvetica,sans-Serif\" font-size=\"14.00\" fill=\"#000000\">class = Target[&lt;=50K]</text>\n",
       "</g>\n",
       "<!-- 48&#45;&gt;49 -->\n",
       "<g id=\"edge49\" class=\"edge\">\n",
       "<title>48&#45;&gt;49</title>\n",
       "<path fill=\"none\" stroke=\"#000000\" d=\"M3656,-341.8796C3656,-333.6838 3656,-324.9891 3656,-316.5013\"/>\n",
       "<polygon fill=\"#000000\" stroke=\"#000000\" points=\"3659.5001,-316.298 3656,-306.2981 3652.5001,-316.2981 3659.5001,-316.298\"/>\n",
       "</g>\n",
       "<!-- 56 -->\n",
       "<g id=\"node57\" class=\"node\">\n",
       "<title>56</title>\n",
       "<path fill=\"none\" stroke=\"#000000\" d=\"M3984,-306C3984,-306 3812,-306 3812,-306 3806,-306 3800,-300 3800,-294 3800,-294 3800,-235 3800,-235 3800,-229 3806,-223 3812,-223 3812,-223 3984,-223 3984,-223 3990,-223 3996,-229 3996,-235 3996,-235 3996,-294 3996,-294 3996,-300 3990,-306 3984,-306\"/>\n",
       "<text text-anchor=\"middle\" x=\"3898\" y=\"-290.8\" font-family=\"Helvetica,sans-Serif\" font-size=\"14.00\" fill=\"#000000\">C(Relationship)[T.Not&#45;in&#45;family] &lt;= 0.5</text>\n",
       "<text text-anchor=\"middle\" x=\"3898\" y=\"-275.8\" font-family=\"Helvetica,sans-Serif\" font-size=\"14.00\" fill=\"#000000\">gini = 0.465</text>\n",
       "<text text-anchor=\"middle\" x=\"3898\" y=\"-260.8\" font-family=\"Helvetica,sans-Serif\" font-size=\"14.00\" fill=\"#000000\">samples = 1925</text>\n",
       "<text text-anchor=\"middle\" x=\"3898\" y=\"-245.8\" font-family=\"Helvetica,sans-Serif\" font-size=\"14.00\" fill=\"#000000\">value = [707, 1218]</text>\n",
       "<text text-anchor=\"middle\" x=\"3898\" y=\"-230.8\" font-family=\"Helvetica,sans-Serif\" font-size=\"14.00\" fill=\"#000000\">class = Target[&gt;50K]</text>\n",
       "</g>\n",
       "<!-- 48&#45;&gt;56 -->\n",
       "<g id=\"edge56\" class=\"edge\">\n",
       "<title>48&#45;&gt;56</title>\n",
       "<path fill=\"none\" stroke=\"#000000\" d=\"M3740.6399,-341.8796C3761.1802,-331.7791 3783.2617,-320.9209 3804.1975,-310.626\"/>\n",
       "<polygon fill=\"#000000\" stroke=\"#000000\" points=\"3805.9787,-313.6505 3813.4079,-306.0969 3802.8897,-307.3689 3805.9787,-313.6505\"/>\n",
       "</g>\n",
       "<!-- 50 -->\n",
       "<g id=\"node51\" class=\"node\">\n",
       "<title>50</title>\n",
       "<path fill=\"none\" stroke=\"#000000\" d=\"M3549,-187C3549,-187 3377,-187 3377,-187 3371,-187 3365,-181 3365,-175 3365,-175 3365,-116 3365,-116 3365,-110 3371,-104 3377,-104 3377,-104 3549,-104 3549,-104 3555,-104 3561,-110 3561,-116 3561,-116 3561,-175 3561,-175 3561,-181 3555,-187 3549,-187\"/>\n",
       "<text text-anchor=\"middle\" x=\"3463\" y=\"-171.8\" font-family=\"Helvetica,sans-Serif\" font-size=\"14.00\" fill=\"#000000\">C(Relationship)[T.Not&#45;in&#45;family] &lt;= 0.5</text>\n",
       "<text text-anchor=\"middle\" x=\"3463\" y=\"-156.8\" font-family=\"Helvetica,sans-Serif\" font-size=\"14.00\" fill=\"#000000\">gini = 0.408</text>\n",
       "<text text-anchor=\"middle\" x=\"3463\" y=\"-141.8\" font-family=\"Helvetica,sans-Serif\" font-size=\"14.00\" fill=\"#000000\">samples = 8499</text>\n",
       "<text text-anchor=\"middle\" x=\"3463\" y=\"-126.8\" font-family=\"Helvetica,sans-Serif\" font-size=\"14.00\" fill=\"#000000\">value = [6068, 2431]</text>\n",
       "<text text-anchor=\"middle\" x=\"3463\" y=\"-111.8\" font-family=\"Helvetica,sans-Serif\" font-size=\"14.00\" fill=\"#000000\">class = Target[&lt;=50K]</text>\n",
       "</g>\n",
       "<!-- 49&#45;&gt;50 -->\n",
       "<g id=\"edge50\" class=\"edge\">\n",
       "<title>49&#45;&gt;50</title>\n",
       "<path fill=\"none\" stroke=\"#000000\" d=\"M3588.498,-222.8796C3572.6308,-213.0962 3555.6106,-202.6019 3539.3844,-192.5971\"/>\n",
       "<polygon fill=\"#000000\" stroke=\"#000000\" points=\"3540.8129,-189.3661 3530.4639,-187.0969 3537.139,-195.3245 3540.8129,-189.3661\"/>\n",
       "</g>\n",
       "<!-- 53 -->\n",
       "<g id=\"node54\" class=\"node\">\n",
       "<title>53</title>\n",
       "<path fill=\"none\" stroke=\"#000000\" d=\"M3763,-187C3763,-187 3591,-187 3591,-187 3585,-187 3579,-181 3579,-175 3579,-175 3579,-116 3579,-116 3579,-110 3585,-104 3591,-104 3591,-104 3763,-104 3763,-104 3769,-104 3775,-110 3775,-116 3775,-116 3775,-175 3775,-175 3775,-181 3769,-187 3763,-187\"/>\n",
       "<text text-anchor=\"middle\" x=\"3677\" y=\"-171.8\" font-family=\"Helvetica,sans-Serif\" font-size=\"14.00\" fill=\"#000000\">C(Relationship)[T.Not&#45;in&#45;family] &lt;= 0.5</text>\n",
       "<text text-anchor=\"middle\" x=\"3677\" y=\"-156.8\" font-family=\"Helvetica,sans-Serif\" font-size=\"14.00\" fill=\"#000000\">gini = 0.466</text>\n",
       "<text text-anchor=\"middle\" x=\"3677\" y=\"-141.8\" font-family=\"Helvetica,sans-Serif\" font-size=\"14.00\" fill=\"#000000\">samples = 1645</text>\n",
       "<text text-anchor=\"middle\" x=\"3677\" y=\"-126.8\" font-family=\"Helvetica,sans-Serif\" font-size=\"14.00\" fill=\"#000000\">value = [608, 1037]</text>\n",
       "<text text-anchor=\"middle\" x=\"3677\" y=\"-111.8\" font-family=\"Helvetica,sans-Serif\" font-size=\"14.00\" fill=\"#000000\">class = Target[&gt;50K]</text>\n",
       "</g>\n",
       "<!-- 49&#45;&gt;53 -->\n",
       "<g id=\"edge53\" class=\"edge\">\n",
       "<title>49&#45;&gt;53</title>\n",
       "<path fill=\"none\" stroke=\"#000000\" d=\"M3663.3448,-222.8796C3664.807,-214.5938 3666.3592,-205.798 3667.8727,-197.2216\"/>\n",
       "<polygon fill=\"#000000\" stroke=\"#000000\" points=\"3671.3327,-197.7542 3669.6239,-187.2981 3664.4392,-196.5376 3671.3327,-197.7542\"/>\n",
       "</g>\n",
       "<!-- 51 -->\n",
       "<g id=\"node52\" class=\"node\">\n",
       "<title>51</title>\n",
       "<path fill=\"none\" stroke=\"#000000\" d=\"M3388,-68C3388,-68 3292,-68 3292,-68 3286,-68 3280,-62 3280,-56 3280,-56 3280,-12 3280,-12 3280,-6 3286,0 3292,0 3292,0 3388,0 3388,0 3394,0 3400,-6 3400,-12 3400,-12 3400,-56 3400,-56 3400,-62 3394,-68 3388,-68\"/>\n",
       "<text text-anchor=\"middle\" x=\"3340\" y=\"-52.8\" font-family=\"Helvetica,sans-Serif\" font-size=\"14.00\" fill=\"#000000\">gini = 0.44</text>\n",
       "<text text-anchor=\"middle\" x=\"3340\" y=\"-37.8\" font-family=\"Helvetica,sans-Serif\" font-size=\"14.00\" fill=\"#000000\">samples = 6927</text>\n",
       "<text text-anchor=\"middle\" x=\"3340\" y=\"-22.8\" font-family=\"Helvetica,sans-Serif\" font-size=\"14.00\" fill=\"#000000\">value = [4664, 2263]</text>\n",
       "<text text-anchor=\"middle\" x=\"3340\" y=\"-7.8\" font-family=\"Helvetica,sans-Serif\" font-size=\"14.00\" fill=\"#000000\">class = Target[&lt;=50K]</text>\n",
       "</g>\n",
       "<!-- 50&#45;&gt;51 -->\n",
       "<g id=\"edge51\" class=\"edge\">\n",
       "<title>50&#45;&gt;51</title>\n",
       "<path fill=\"none\" stroke=\"#000000\" d=\"M3417.1993,-103.9815C3406.7566,-94.5151 3395.6667,-84.462 3385.2472,-75.0168\"/>\n",
       "<polygon fill=\"#000000\" stroke=\"#000000\" points=\"3387.5572,-72.3868 3377.7976,-68.2637 3382.8559,-77.5731 3387.5572,-72.3868\"/>\n",
       "</g>\n",
       "<!-- 52 -->\n",
       "<g id=\"node53\" class=\"node\">\n",
       "<title>52</title>\n",
       "<path fill=\"none\" stroke=\"#000000\" d=\"M3526,-68C3526,-68 3430,-68 3430,-68 3424,-68 3418,-62 3418,-56 3418,-56 3418,-12 3418,-12 3418,-6 3424,0 3430,0 3430,0 3526,0 3526,0 3532,0 3538,-6 3538,-12 3538,-12 3538,-56 3538,-56 3538,-62 3532,-68 3526,-68\"/>\n",
       "<text text-anchor=\"middle\" x=\"3478\" y=\"-52.8\" font-family=\"Helvetica,sans-Serif\" font-size=\"14.00\" fill=\"#000000\">gini = 0.191</text>\n",
       "<text text-anchor=\"middle\" x=\"3478\" y=\"-37.8\" font-family=\"Helvetica,sans-Serif\" font-size=\"14.00\" fill=\"#000000\">samples = 1572</text>\n",
       "<text text-anchor=\"middle\" x=\"3478\" y=\"-22.8\" font-family=\"Helvetica,sans-Serif\" font-size=\"14.00\" fill=\"#000000\">value = [1404, 168]</text>\n",
       "<text text-anchor=\"middle\" x=\"3478\" y=\"-7.8\" font-family=\"Helvetica,sans-Serif\" font-size=\"14.00\" fill=\"#000000\">class = Target[&lt;=50K]</text>\n",
       "</g>\n",
       "<!-- 50&#45;&gt;52 -->\n",
       "<g id=\"edge52\" class=\"edge\">\n",
       "<title>50&#45;&gt;52</title>\n",
       "<path fill=\"none\" stroke=\"#000000\" d=\"M3468.5854,-103.9815C3469.7106,-95.618 3470.8973,-86.7965 3472.0349,-78.3409\"/>\n",
       "<polygon fill=\"#000000\" stroke=\"#000000\" points=\"3475.5259,-78.6411 3473.3905,-68.2637 3468.5884,-77.7077 3475.5259,-78.6411\"/>\n",
       "</g>\n",
       "<!-- 54 -->\n",
       "<g id=\"node55\" class=\"node\">\n",
       "<title>54</title>\n",
       "<path fill=\"none\" stroke=\"#000000\" d=\"M3657.5,-68C3657.5,-68 3568.5,-68 3568.5,-68 3562.5,-68 3556.5,-62 3556.5,-56 3556.5,-56 3556.5,-12 3556.5,-12 3556.5,-6 3562.5,0 3568.5,0 3568.5,0 3657.5,0 3657.5,0 3663.5,0 3669.5,-6 3669.5,-12 3669.5,-12 3669.5,-56 3669.5,-56 3669.5,-62 3663.5,-68 3657.5,-68\"/>\n",
       "<text text-anchor=\"middle\" x=\"3613\" y=\"-52.8\" font-family=\"Helvetica,sans-Serif\" font-size=\"14.00\" fill=\"#000000\">gini = 0.419</text>\n",
       "<text text-anchor=\"middle\" x=\"3613\" y=\"-37.8\" font-family=\"Helvetica,sans-Serif\" font-size=\"14.00\" fill=\"#000000\">samples = 1338</text>\n",
       "<text text-anchor=\"middle\" x=\"3613\" y=\"-22.8\" font-family=\"Helvetica,sans-Serif\" font-size=\"14.00\" fill=\"#000000\">value = [399, 939]</text>\n",
       "<text text-anchor=\"middle\" x=\"3613\" y=\"-7.8\" font-family=\"Helvetica,sans-Serif\" font-size=\"14.00\" fill=\"#000000\">class = Target[&gt;50K]</text>\n",
       "</g>\n",
       "<!-- 53&#45;&gt;54 -->\n",
       "<g id=\"edge54\" class=\"edge\">\n",
       "<title>53&#45;&gt;54</title>\n",
       "<path fill=\"none\" stroke=\"#000000\" d=\"M3653.1688,-103.9815C3648.1044,-95.1585 3642.7475,-85.8258 3637.6532,-76.9506\"/>\n",
       "<polygon fill=\"#000000\" stroke=\"#000000\" points=\"3640.6807,-75.1942 3632.667,-68.2637 3634.6097,-78.6789 3640.6807,-75.1942\"/>\n",
       "</g>\n",
       "<!-- 55 -->\n",
       "<g id=\"node56\" class=\"node\">\n",
       "<title>55</title>\n",
       "<path fill=\"none\" stroke=\"#000000\" d=\"M3796,-68C3796,-68 3700,-68 3700,-68 3694,-68 3688,-62 3688,-56 3688,-56 3688,-12 3688,-12 3688,-6 3694,0 3700,0 3700,0 3796,0 3796,0 3802,0 3808,-6 3808,-12 3808,-12 3808,-56 3808,-56 3808,-62 3802,-68 3796,-68\"/>\n",
       "<text text-anchor=\"middle\" x=\"3748\" y=\"-52.8\" font-family=\"Helvetica,sans-Serif\" font-size=\"14.00\" fill=\"#000000\">gini = 0.435</text>\n",
       "<text text-anchor=\"middle\" x=\"3748\" y=\"-37.8\" font-family=\"Helvetica,sans-Serif\" font-size=\"14.00\" fill=\"#000000\">samples = 307</text>\n",
       "<text text-anchor=\"middle\" x=\"3748\" y=\"-22.8\" font-family=\"Helvetica,sans-Serif\" font-size=\"14.00\" fill=\"#000000\">value = [209, 98]</text>\n",
       "<text text-anchor=\"middle\" x=\"3748\" y=\"-7.8\" font-family=\"Helvetica,sans-Serif\" font-size=\"14.00\" fill=\"#000000\">class = Target[&lt;=50K]</text>\n",
       "</g>\n",
       "<!-- 53&#45;&gt;55 -->\n",
       "<g id=\"edge55\" class=\"edge\">\n",
       "<title>53&#45;&gt;55</title>\n",
       "<path fill=\"none\" stroke=\"#000000\" d=\"M3703.4378,-103.9815C3709.056,-95.1585 3714.9988,-85.8258 3720.6503,-76.9506\"/>\n",
       "<polygon fill=\"#000000\" stroke=\"#000000\" points=\"3723.7629,-78.5787 3726.1819,-68.2637 3717.8584,-74.8188 3723.7629,-78.5787\"/>\n",
       "</g>\n",
       "<!-- 57 -->\n",
       "<g id=\"node58\" class=\"node\">\n",
       "<title>57</title>\n",
       "<path fill=\"none\" stroke=\"#000000\" d=\"M3968.5,-187C3968.5,-187 3827.5,-187 3827.5,-187 3821.5,-187 3815.5,-181 3815.5,-175 3815.5,-175 3815.5,-116 3815.5,-116 3815.5,-110 3821.5,-104 3827.5,-104 3827.5,-104 3968.5,-104 3968.5,-104 3974.5,-104 3980.5,-110 3980.5,-116 3980.5,-116 3980.5,-175 3980.5,-175 3980.5,-181 3974.5,-187 3968.5,-187\"/>\n",
       "<text text-anchor=\"middle\" x=\"3898\" y=\"-171.8\" font-family=\"Helvetica,sans-Serif\" font-size=\"14.00\" fill=\"#000000\">C(Education)[T.HS&#45;grad] &lt;= 0.5</text>\n",
       "<text text-anchor=\"middle\" x=\"3898\" y=\"-156.8\" font-family=\"Helvetica,sans-Serif\" font-size=\"14.00\" fill=\"#000000\">gini = 0.43</text>\n",
       "<text text-anchor=\"middle\" x=\"3898\" y=\"-141.8\" font-family=\"Helvetica,sans-Serif\" font-size=\"14.00\" fill=\"#000000\">samples = 1631</text>\n",
       "<text text-anchor=\"middle\" x=\"3898\" y=\"-126.8\" font-family=\"Helvetica,sans-Serif\" font-size=\"14.00\" fill=\"#000000\">value = [511, 1120]</text>\n",
       "<text text-anchor=\"middle\" x=\"3898\" y=\"-111.8\" font-family=\"Helvetica,sans-Serif\" font-size=\"14.00\" fill=\"#000000\">class = Target[&gt;50K]</text>\n",
       "</g>\n",
       "<!-- 56&#45;&gt;57 -->\n",
       "<g id=\"edge57\" class=\"edge\">\n",
       "<title>56&#45;&gt;57</title>\n",
       "<path fill=\"none\" stroke=\"#000000\" d=\"M3898,-222.8796C3898,-214.6838 3898,-205.9891 3898,-197.5013\"/>\n",
       "<polygon fill=\"#000000\" stroke=\"#000000\" points=\"3901.5001,-197.298 3898,-187.2981 3894.5001,-197.2981 3901.5001,-197.298\"/>\n",
       "</g>\n",
       "<!-- 60 -->\n",
       "<g id=\"node61\" class=\"node\">\n",
       "<title>60</title>\n",
       "<path fill=\"none\" stroke=\"#000000\" d=\"M4225.5,-187C4225.5,-187 4086.5,-187 4086.5,-187 4080.5,-187 4074.5,-181 4074.5,-175 4074.5,-175 4074.5,-116 4074.5,-116 4074.5,-110 4080.5,-104 4086.5,-104 4086.5,-104 4225.5,-104 4225.5,-104 4231.5,-104 4237.5,-110 4237.5,-116 4237.5,-116 4237.5,-175 4237.5,-175 4237.5,-181 4231.5,-187 4225.5,-187\"/>\n",
       "<text text-anchor=\"middle\" x=\"4156\" y=\"-171.8\" font-family=\"Helvetica,sans-Serif\" font-size=\"14.00\" fill=\"#000000\">C(Education)[T.Masters] &lt;= 0.5</text>\n",
       "<text text-anchor=\"middle\" x=\"4156\" y=\"-156.8\" font-family=\"Helvetica,sans-Serif\" font-size=\"14.00\" fill=\"#000000\">gini = 0.444</text>\n",
       "<text text-anchor=\"middle\" x=\"4156\" y=\"-141.8\" font-family=\"Helvetica,sans-Serif\" font-size=\"14.00\" fill=\"#000000\">samples = 294</text>\n",
       "<text text-anchor=\"middle\" x=\"4156\" y=\"-126.8\" font-family=\"Helvetica,sans-Serif\" font-size=\"14.00\" fill=\"#000000\">value = [196, 98]</text>\n",
       "<text text-anchor=\"middle\" x=\"4156\" y=\"-111.8\" font-family=\"Helvetica,sans-Serif\" font-size=\"14.00\" fill=\"#000000\">class = Target[&lt;=50K]</text>\n",
       "</g>\n",
       "<!-- 56&#45;&gt;60 -->\n",
       "<g id=\"edge60\" class=\"edge\">\n",
       "<title>56&#45;&gt;60</title>\n",
       "<path fill=\"none\" stroke=\"#000000\" d=\"M3988.2359,-222.8796C4013.2136,-211.3588 4040.3289,-198.8522 4065.3312,-187.3201\"/>\n",
       "<polygon fill=\"#000000\" stroke=\"#000000\" points=\"4066.8245,-190.4858 4074.4391,-183.1192 4063.8926,-184.1293 4066.8245,-190.4858\"/>\n",
       "</g>\n",
       "<!-- 58 -->\n",
       "<g id=\"node59\" class=\"node\">\n",
       "<title>58</title>\n",
       "<path fill=\"none\" stroke=\"#000000\" d=\"M3927.5,-68C3927.5,-68 3838.5,-68 3838.5,-68 3832.5,-68 3826.5,-62 3826.5,-56 3826.5,-56 3826.5,-12 3826.5,-12 3826.5,-6 3832.5,0 3838.5,0 3838.5,0 3927.5,0 3927.5,0 3933.5,0 3939.5,-6 3939.5,-12 3939.5,-12 3939.5,-56 3939.5,-56 3939.5,-62 3933.5,-68 3927.5,-68\"/>\n",
       "<text text-anchor=\"middle\" x=\"3883\" y=\"-52.8\" font-family=\"Helvetica,sans-Serif\" font-size=\"14.00\" fill=\"#000000\">gini = 0.393</text>\n",
       "<text text-anchor=\"middle\" x=\"3883\" y=\"-37.8\" font-family=\"Helvetica,sans-Serif\" font-size=\"14.00\" fill=\"#000000\">samples = 1329</text>\n",
       "<text text-anchor=\"middle\" x=\"3883\" y=\"-22.8\" font-family=\"Helvetica,sans-Serif\" font-size=\"14.00\" fill=\"#000000\">value = [357, 972]</text>\n",
       "<text text-anchor=\"middle\" x=\"3883\" y=\"-7.8\" font-family=\"Helvetica,sans-Serif\" font-size=\"14.00\" fill=\"#000000\">class = Target[&gt;50K]</text>\n",
       "</g>\n",
       "<!-- 57&#45;&gt;58 -->\n",
       "<g id=\"edge58\" class=\"edge\">\n",
       "<title>57&#45;&gt;58</title>\n",
       "<path fill=\"none\" stroke=\"#000000\" d=\"M3892.4146,-103.9815C3891.2894,-95.618 3890.1027,-86.7965 3888.9651,-78.3409\"/>\n",
       "<polygon fill=\"#000000\" stroke=\"#000000\" points=\"3892.4116,-77.7077 3887.6095,-68.2637 3885.4741,-78.6411 3892.4116,-77.7077\"/>\n",
       "</g>\n",
       "<!-- 59 -->\n",
       "<g id=\"node60\" class=\"node\">\n",
       "<title>59</title>\n",
       "<path fill=\"none\" stroke=\"#000000\" d=\"M4066,-68C4066,-68 3970,-68 3970,-68 3964,-68 3958,-62 3958,-56 3958,-56 3958,-12 3958,-12 3958,-6 3964,0 3970,0 3970,0 4066,0 4066,0 4072,0 4078,-6 4078,-12 4078,-12 4078,-56 4078,-56 4078,-62 4072,-68 4066,-68\"/>\n",
       "<text text-anchor=\"middle\" x=\"4018\" y=\"-52.8\" font-family=\"Helvetica,sans-Serif\" font-size=\"14.00\" fill=\"#000000\">gini = 0.5</text>\n",
       "<text text-anchor=\"middle\" x=\"4018\" y=\"-37.8\" font-family=\"Helvetica,sans-Serif\" font-size=\"14.00\" fill=\"#000000\">samples = 302</text>\n",
       "<text text-anchor=\"middle\" x=\"4018\" y=\"-22.8\" font-family=\"Helvetica,sans-Serif\" font-size=\"14.00\" fill=\"#000000\">value = [154, 148]</text>\n",
       "<text text-anchor=\"middle\" x=\"4018\" y=\"-7.8\" font-family=\"Helvetica,sans-Serif\" font-size=\"14.00\" fill=\"#000000\">class = Target[&lt;=50K]</text>\n",
       "</g>\n",
       "<!-- 57&#45;&gt;59 -->\n",
       "<g id=\"edge59\" class=\"edge\">\n",
       "<title>57&#45;&gt;59</title>\n",
       "<path fill=\"none\" stroke=\"#000000\" d=\"M3942.6836,-103.9815C3952.7727,-94.607 3963.481,-84.6572 3973.5601,-75.2921\"/>\n",
       "<polygon fill=\"#000000\" stroke=\"#000000\" points=\"3976.1809,-77.6346 3981.1243,-68.2637 3971.4161,-72.5065 3976.1809,-77.6346\"/>\n",
       "</g>\n",
       "<!-- 61 -->\n",
       "<g id=\"node62\" class=\"node\">\n",
       "<title>61</title>\n",
       "<path fill=\"none\" stroke=\"#000000\" d=\"M4204,-68C4204,-68 4108,-68 4108,-68 4102,-68 4096,-62 4096,-56 4096,-56 4096,-12 4096,-12 4096,-6 4102,0 4108,0 4108,0 4204,0 4204,0 4210,0 4216,-6 4216,-12 4216,-12 4216,-56 4216,-56 4216,-62 4210,-68 4204,-68\"/>\n",
       "<text text-anchor=\"middle\" x=\"4156\" y=\"-52.8\" font-family=\"Helvetica,sans-Serif\" font-size=\"14.00\" fill=\"#000000\">gini = 0.398</text>\n",
       "<text text-anchor=\"middle\" x=\"4156\" y=\"-37.8\" font-family=\"Helvetica,sans-Serif\" font-size=\"14.00\" fill=\"#000000\">samples = 248</text>\n",
       "<text text-anchor=\"middle\" x=\"4156\" y=\"-22.8\" font-family=\"Helvetica,sans-Serif\" font-size=\"14.00\" fill=\"#000000\">value = [180, 68]</text>\n",
       "<text text-anchor=\"middle\" x=\"4156\" y=\"-7.8\" font-family=\"Helvetica,sans-Serif\" font-size=\"14.00\" fill=\"#000000\">class = Target[&lt;=50K]</text>\n",
       "</g>\n",
       "<!-- 60&#45;&gt;61 -->\n",
       "<g id=\"edge61\" class=\"edge\">\n",
       "<title>60&#45;&gt;61</title>\n",
       "<path fill=\"none\" stroke=\"#000000\" d=\"M4156,-103.9815C4156,-95.618 4156,-86.7965 4156,-78.3409\"/>\n",
       "<polygon fill=\"#000000\" stroke=\"#000000\" points=\"4159.5001,-78.2636 4156,-68.2637 4152.5001,-78.2637 4159.5001,-78.2636\"/>\n",
       "</g>\n",
       "<!-- 62 -->\n",
       "<g id=\"node63\" class=\"node\">\n",
       "<title>62</title>\n",
       "<path fill=\"none\" stroke=\"#000000\" d=\"M4335.5,-68C4335.5,-68 4246.5,-68 4246.5,-68 4240.5,-68 4234.5,-62 4234.5,-56 4234.5,-56 4234.5,-12 4234.5,-12 4234.5,-6 4240.5,0 4246.5,0 4246.5,0 4335.5,0 4335.5,0 4341.5,0 4347.5,-6 4347.5,-12 4347.5,-12 4347.5,-56 4347.5,-56 4347.5,-62 4341.5,-68 4335.5,-68\"/>\n",
       "<text text-anchor=\"middle\" x=\"4291\" y=\"-52.8\" font-family=\"Helvetica,sans-Serif\" font-size=\"14.00\" fill=\"#000000\">gini = 0.454</text>\n",
       "<text text-anchor=\"middle\" x=\"4291\" y=\"-37.8\" font-family=\"Helvetica,sans-Serif\" font-size=\"14.00\" fill=\"#000000\">samples = 46</text>\n",
       "<text text-anchor=\"middle\" x=\"4291\" y=\"-22.8\" font-family=\"Helvetica,sans-Serif\" font-size=\"14.00\" fill=\"#000000\">value = [16, 30]</text>\n",
       "<text text-anchor=\"middle\" x=\"4291\" y=\"-7.8\" font-family=\"Helvetica,sans-Serif\" font-size=\"14.00\" fill=\"#000000\">class = Target[&gt;50K]</text>\n",
       "</g>\n",
       "<!-- 60&#45;&gt;62 -->\n",
       "<g id=\"edge62\" class=\"edge\">\n",
       "<title>60&#45;&gt;62</title>\n",
       "<path fill=\"none\" stroke=\"#000000\" d=\"M4206.269,-103.9815C4217.8418,-94.4232 4230.1389,-84.2668 4241.6713,-74.7419\"/>\n",
       "<polygon fill=\"#000000\" stroke=\"#000000\" points=\"4244.0334,-77.3304 4249.5148,-68.2637 4239.5757,-71.9332 4244.0334,-77.3304\"/>\n",
       "</g>\n",
       "</g>\n",
       "</svg>\n"
      ],
      "text/plain": [
       "<graphviz.files.Source at 0x10b5e58d0>"
      ]
     },
     "execution_count": 6,
     "metadata": {},
     "output_type": "execute_result"
    }
   ],
   "source": [
    "from sklearn import tree\n",
    "tree = tree.DecisionTreeClassifier(criterion = \"gini\", max_depth = 5) \n",
    "tree = tree.fit(data_train, target_train.iloc[:,1])\n",
    "\n",
    "export_graphviz(tree, out_file=\"mytree.dot\", feature_names=data_train.columns , class_names=list(target_train), rounded=True)\n",
    "with open(\"mytree.dot\") as f:\n",
    "    dot_graph = f.read()\n",
    "graphviz.Source(dot_graph)"
   ]
  },
  {
   "cell_type": "markdown",
   "metadata": {},
   "source": [
    "### 2.1 Feature importance"
   ]
  },
  {
   "cell_type": "code",
   "execution_count": 7,
   "metadata": {},
   "outputs": [
    {
     "data": {
      "text/plain": [
       "array([0.        , 0.        , 0.        , 0.        , 0.        ,\n",
       "       0.        , 0.        , 0.        , 0.        , 0.01174726,\n",
       "       0.00731382, 0.01770231, 0.01362388, 0.        , 0.        ,\n",
       "       0.        , 0.        , 0.        , 0.        , 0.10865096,\n",
       "       0.        , 0.        , 0.        , 0.01126856, 0.        ,\n",
       "       0.13019604, 0.00045497, 0.        , 0.        , 0.        ,\n",
       "       0.10188485, 0.        , 0.00056004, 0.        , 0.13774195,\n",
       "       0.        , 0.        , 0.        , 0.        , 0.15438617,\n",
       "       0.30446918])"
      ]
     },
     "execution_count": 7,
     "metadata": {},
     "output_type": "execute_result"
    }
   ],
   "source": [
    "tree.feature_importances_"
   ]
  },
  {
   "cell_type": "code",
   "execution_count": 8,
   "metadata": {},
   "outputs": [
    {
     "data": {
      "image/png": "[encoded data removed]",
      "text/plain": [
       "<matplotlib.figure.Figure at 0x10a8967f0>"
      ]
     },
     "metadata": {},
     "output_type": "display_data"
    }
   ],
   "source": [
    "def plot_feature_importances(model):\n",
    "    n_features = data_train.shape[1]\n",
    "    plt.figure(figsize=(8,8))\n",
    "    plt.barh(range(n_features), model.feature_importances_, align='center') \n",
    "    plt.yticks(np.arange(n_features), data_train.columns.values) \n",
    "    plt.xlabel(\"Feature importance\")\n",
    "    plt.ylabel(\"Feature\")\n",
    "\n",
    "plot_feature_importances(tree)"
   ]
  },
  {
   "cell_type": "markdown",
   "metadata": {},
   "source": [
    "### 2.3 Model performance"
   ]
  },
  {
   "cell_type": "code",
   "execution_count": 9,
   "metadata": {},
   "outputs": [],
   "source": [
    "from sklearn.metrics import accuracy_score"
   ]
  },
  {
   "cell_type": "code",
   "execution_count": 10,
   "metadata": {},
   "outputs": [
    {
     "name": "stdout",
     "output_type": "stream",
     "text": [
      "[[5825  340]\n",
      " [1201  775]]\n",
      "             precision    recall  f1-score   support\n",
      "\n",
      "        0.0       0.83      0.94      0.88      6165\n",
      "        1.0       0.70      0.39      0.50      1976\n",
      "\n",
      "avg / total       0.80      0.81      0.79      8141\n",
      "\n"
     ]
    }
   ],
   "source": [
    "pred= tree.predict(data_test)\n",
    "print(metrics.confusion_matrix(target_test.iloc[:,1], pred))\n",
    "print(metrics.classification_report(target_test.iloc[:,1], pred))"
   ]
  },
  {
   "cell_type": "code",
   "execution_count": 11,
   "metadata": {},
   "outputs": [
    {
     "data": {
      "text/plain": [
       "0.810711214838472"
      ]
     },
     "execution_count": 11,
     "metadata": {},
     "output_type": "execute_result"
    }
   ],
   "source": [
    "accuracy_score(target_test.iloc[:,1], pred)"
   ]
  },
  {
   "cell_type": "markdown",
   "metadata": {},
   "source": [
    "## 3. Bagged trees"
   ]
  },
  {
   "cell_type": "code",
   "execution_count": 19,
   "metadata": {},
   "outputs": [],
   "source": [
    "from sklearn.ensemble import BaggingClassifier\n",
    "from sklearn import tree\n"
   ]
  },
  {
   "cell_type": "code",
   "execution_count": 20,
   "metadata": {},
   "outputs": [],
   "source": [
    "bagged_tree =  BaggingClassifier(tree.DecisionTreeClassifier(criterion = \"gini\", max_depth = 5), n_estimators=20)"
   ]
  },
  {
   "cell_type": "code",
   "execution_count": 21,
   "metadata": {},
   "outputs": [
    {
     "data": {
      "text/plain": [
       "BaggingClassifier(base_estimator=DecisionTreeClassifier(class_weight=None, criterion='gini', max_depth=5,\n",
       "            max_features=None, max_leaf_nodes=None,\n",
       "            min_impurity_decrease=0.0, min_impurity_split=None,\n",
       "            min_samples_leaf=1, min_samples_split=2,\n",
       "            min_weight_fraction_leaf=0.0, presort=False, random_state=None,\n",
       "            splitter='best'),\n",
       "         bootstrap=True, bootstrap_features=False, max_features=1.0,\n",
       "         max_samples=1.0, n_estimators=20, n_jobs=1, oob_score=False,\n",
       "         random_state=None, verbose=0, warm_start=False)"
      ]
     },
     "execution_count": 21,
     "metadata": {},
     "output_type": "execute_result"
    }
   ],
   "source": [
    "bagged_tree.fit(data_train, target_train.iloc[:,1])"
   ]
  },
  {
   "cell_type": "code",
   "execution_count": 22,
   "metadata": {},
   "outputs": [
    {
     "data": {
      "text/plain": [
       "0.8171580671580672"
      ]
     },
     "execution_count": 22,
     "metadata": {},
     "output_type": "execute_result"
    }
   ],
   "source": [
    "bagged_tree.score(data_train, target_train.iloc[:,1])"
   ]
  },
  {
   "cell_type": "code",
   "execution_count": 23,
   "metadata": {},
   "outputs": [
    {
     "data": {
      "text/plain": [
       "0.816361626335831"
      ]
     },
     "execution_count": 23,
     "metadata": {},
     "output_type": "execute_result"
    }
   ],
   "source": [
    "bagged_tree.score(data_test, target_test.iloc[:,1])"
   ]
  },
  {
   "cell_type": "markdown",
   "metadata": {},
   "source": [
    "## 4. Random forests"
   ]
  },
  {
   "cell_type": "markdown",
   "metadata": {},
   "source": [
    "### 4.1 Fitting a random forests model"
   ]
  },
  {
   "cell_type": "code",
   "execution_count": 24,
   "metadata": {},
   "outputs": [],
   "source": [
    "from sklearn.ensemble import RandomForestClassifier "
   ]
  },
  {
   "cell_type": "markdown",
   "metadata": {},
   "source": [
    "The default for `max_features` is `auto`. This means sqrt(total n of features) "
   ]
  },
  {
   "cell_type": "code",
   "execution_count": 25,
   "metadata": {},
   "outputs": [
    {
     "data": {
      "text/plain": [
       "RandomForestClassifier(bootstrap=True, class_weight=None, criterion='gini',\n",
       "            max_depth=5, max_features=20, max_leaf_nodes=None,\n",
       "            min_impurity_decrease=0.0, min_impurity_split=None,\n",
       "            min_samples_leaf=1, min_samples_split=2,\n",
       "            min_weight_fraction_leaf=0.0, n_estimators=100, n_jobs=1,\n",
       "            oob_score=False, random_state=123, verbose=0, warm_start=False)"
      ]
     },
     "execution_count": 25,
     "metadata": {},
     "output_type": "execute_result"
    }
   ],
   "source": [
    "forest = RandomForestClassifier(n_estimators=100, max_features= 20, random_state=123, max_depth= 5)\n",
    "forest.fit(data_train, target_train)"
   ]
  },
  {
   "cell_type": "code",
   "execution_count": 26,
   "metadata": {},
   "outputs": [
    {
     "data": {
      "text/plain": [
       "0.8177313677313678"
      ]
     },
     "execution_count": 26,
     "metadata": {},
     "output_type": "execute_result"
    }
   ],
   "source": [
    "forest.score(data_train, target_train)"
   ]
  },
  {
   "cell_type": "code",
   "execution_count": 27,
   "metadata": {},
   "outputs": [
    {
     "data": {
      "text/plain": [
       "0.8170986365311387"
      ]
     },
     "execution_count": 27,
     "metadata": {},
     "output_type": "execute_result"
    }
   ],
   "source": [
    "forest.score(data_test, target_test)"
   ]
  },
  {
   "cell_type": "markdown",
   "metadata": {},
   "source": [
    "### 4.2 Look at the feature importances"
   ]
  },
  {
   "cell_type": "code",
   "execution_count": 28,
   "metadata": {},
   "outputs": [
    {
     "data": {
      "image/png": "[encoded data removed]",
      "text/plain": [
       "<matplotlib.figure.Figure at 0x1a135763c8>"
      ]
     },
     "metadata": {},
     "output_type": "display_data"
    }
   ],
   "source": [
    "plot_feature_importances(forest)"
   ]
  },
  {
   "cell_type": "markdown",
   "metadata": {},
   "source": [
    "Note: \"relationship\" represents what this individual is relative to others. For example an\n",
    "individual could be a Husband. Each entry only has one relationship, so it is a bit of a weird attribute.\n",
    "\n",
    "Note that more geatures show up. This is a pretty typical result. "
   ]
  },
  {
   "cell_type": "markdown",
   "metadata": {},
   "source": [
    "### 4.3 Look at the trees in your forest"
   ]
  },
  {
   "cell_type": "markdown",
   "metadata": {},
   "source": [
    "Let's create a forest with some small trees. You'll learn how to access trees in your forest!"
   ]
  },
  {
   "cell_type": "code",
   "execution_count": 29,
   "metadata": {},
   "outputs": [
    {
     "data": {
      "text/plain": [
       "RandomForestClassifier(bootstrap=True, class_weight=None, criterion='gini',\n",
       "            max_depth=2, max_features=10, max_leaf_nodes=None,\n",
       "            min_impurity_decrease=0.0, min_impurity_split=None,\n",
       "            min_samples_leaf=1, min_samples_split=2,\n",
       "            min_weight_fraction_leaf=0.0, n_estimators=5, n_jobs=1,\n",
       "            oob_score=False, random_state=123, verbose=0, warm_start=False)"
      ]
     },
     "execution_count": 29,
     "metadata": {},
     "output_type": "execute_result"
    }
   ],
   "source": [
    "forest_2 = RandomForestClassifier(n_estimators = 5, max_features= 10, random_state=123, max_depth= 2)\n",
    "forest_2.fit(data_train, target_train)"
   ]
  },
  {
   "cell_type": "markdown",
   "metadata": {},
   "source": [
    "Making `max_features` smaller will lead to very different trees in your forest!"
   ]
  },
  {
   "cell_type": "markdown",
   "metadata": {},
   "source": [
    "The trees in your forest are stored in the `.estimators_` attribute."
   ]
  },
  {
   "cell_type": "code",
   "execution_count": 30,
   "metadata": {},
   "outputs": [
    {
     "data": {
      "text/plain": [
       "DecisionTreeClassifier(class_weight=None, criterion='gini', max_depth=2,\n",
       "            max_features=10, max_leaf_nodes=None,\n",
       "            min_impurity_decrease=0.0, min_impurity_split=None,\n",
       "            min_samples_leaf=1, min_samples_split=2,\n",
       "            min_weight_fraction_leaf=0.0, presort=False,\n",
       "            random_state=843828734, splitter='best')"
      ]
     },
     "execution_count": 30,
     "metadata": {},
     "output_type": "execute_result"
    }
   ],
   "source": [
    "forest_2.estimators_[0]"
   ]
  },
  {
   "cell_type": "code",
   "execution_count": 31,
   "metadata": {},
   "outputs": [
    {
     "data": {
      "text/plain": [
       "DecisionTreeClassifier(class_weight=None, criterion='gini', max_depth=2,\n",
       "            max_features=10, max_leaf_nodes=None,\n",
       "            min_impurity_decrease=0.0, min_impurity_split=None,\n",
       "            min_samples_leaf=1, min_samples_split=2,\n",
       "            min_weight_fraction_leaf=0.0, presort=False,\n",
       "            random_state=914636141, splitter='best')"
      ]
     },
     "execution_count": 31,
     "metadata": {},
     "output_type": "execute_result"
    }
   ],
   "source": [
    "forest_2.estimators_[1]"
   ]
  },
  {
   "cell_type": "code",
   "execution_count": 32,
   "metadata": {},
   "outputs": [],
   "source": [
    "tree_1 = forest_2.estimators_[0].fit(data_train, target_train.iloc[:,1])"
   ]
  },
  {
   "cell_type": "code",
   "execution_count": 33,
   "metadata": {},
   "outputs": [
    {
     "data": {
      "image/svg+xml": [
       "<?xml version=\"1.0\" encoding=\"UTF-8\" standalone=\"no\"?>\n",
       "<!DOCTYPE svg PUBLIC \"-//W3C//DTD SVG 1.1//EN\"\n",
       " \"http://www.w3.org/Graphics/SVG/1.1/DTD/svg11.dtd\">\n",
       "<!-- Generated by graphviz version 2.40.1 (20161225.0304)\n",
       " -->\n",
       "<!-- Title: Tree Pages: 1 -->\n",
       "<svg width=\"555pt\" height=\"314pt\"\n",
       " viewBox=\"0.00 0.00 554.50 314.00\" xmlns=\"http://www.w3.org/2000/svg\" xmlns:xlink=\"http://www.w3.org/1999/xlink\">\n",
       "<g id=\"graph0\" class=\"graph\" transform=\"scale(1 1) rotate(0) translate(4 310)\">\n",
       "<title>Tree</title>\n",
       "<polygon fill=\"#ffffff\" stroke=\"transparent\" points=\"-4,4 -4,-310 550.5,-310 550.5,4 -4,4\"/>\n",
       "<!-- 0 -->\n",
       "<g id=\"node1\" class=\"node\">\n",
       "<title>0</title>\n",
       "<path fill=\"none\" stroke=\"#000000\" d=\"M369.5,-306C369.5,-306 182.5,-306 182.5,-306 176.5,-306 170.5,-300 170.5,-294 170.5,-294 170.5,-235 170.5,-235 170.5,-229 176.5,-223 182.5,-223 182.5,-223 369.5,-223 369.5,-223 375.5,-223 381.5,-229 381.5,-235 381.5,-235 381.5,-294 381.5,-294 381.5,-300 375.5,-306 369.5,-306\"/>\n",
       "<text text-anchor=\"middle\" x=\"276\" y=\"-290.8\" font-family=\"Helvetica,sans-Serif\" font-size=\"14.00\" fill=\"#000000\">C(Occupation)[T.Exec&#45;managerial] &lt;= 0.5</text>\n",
       "<text text-anchor=\"middle\" x=\"276\" y=\"-275.8\" font-family=\"Helvetica,sans-Serif\" font-size=\"14.00\" fill=\"#000000\">gini = 0.365</text>\n",
       "<text text-anchor=\"middle\" x=\"276\" y=\"-260.8\" font-family=\"Helvetica,sans-Serif\" font-size=\"14.00\" fill=\"#000000\">samples = 24420</text>\n",
       "<text text-anchor=\"middle\" x=\"276\" y=\"-245.8\" font-family=\"Helvetica,sans-Serif\" font-size=\"14.00\" fill=\"#000000\">value = [18555, 5865]</text>\n",
       "<text text-anchor=\"middle\" x=\"276\" y=\"-230.8\" font-family=\"Helvetica,sans-Serif\" font-size=\"14.00\" fill=\"#000000\">class = Target[&lt;=50K]</text>\n",
       "</g>\n",
       "<!-- 1 -->\n",
       "<g id=\"node2\" class=\"node\">\n",
       "<title>1</title>\n",
       "<path fill=\"none\" stroke=\"#000000\" d=\"M274,-187C274,-187 102,-187 102,-187 96,-187 90,-181 90,-175 90,-175 90,-116 90,-116 90,-110 96,-104 102,-104 102,-104 274,-104 274,-104 280,-104 286,-110 286,-116 286,-116 286,-175 286,-175 286,-181 280,-187 274,-187\"/>\n",
       "<text text-anchor=\"middle\" x=\"188\" y=\"-171.8\" font-family=\"Helvetica,sans-Serif\" font-size=\"14.00\" fill=\"#000000\">C(Occupation)[T.Prof&#45;specialty] &lt;= 0.5</text>\n",
       "<text text-anchor=\"middle\" x=\"188\" y=\"-156.8\" font-family=\"Helvetica,sans-Serif\" font-size=\"14.00\" fill=\"#000000\">gini = 0.327</text>\n",
       "<text text-anchor=\"middle\" x=\"188\" y=\"-141.8\" font-family=\"Helvetica,sans-Serif\" font-size=\"14.00\" fill=\"#000000\">samples = 21332</text>\n",
       "<text text-anchor=\"middle\" x=\"188\" y=\"-126.8\" font-family=\"Helvetica,sans-Serif\" font-size=\"14.00\" fill=\"#000000\">value = [16942, 4390]</text>\n",
       "<text text-anchor=\"middle\" x=\"188\" y=\"-111.8\" font-family=\"Helvetica,sans-Serif\" font-size=\"14.00\" fill=\"#000000\">class = Target[&lt;=50K]</text>\n",
       "</g>\n",
       "<!-- 0&#45;&gt;1 -->\n",
       "<g id=\"edge1\" class=\"edge\">\n",
       "<title>0&#45;&gt;1</title>\n",
       "<path fill=\"none\" stroke=\"#000000\" d=\"M245.2219,-222.8796C238.6949,-214.0534 231.7401,-204.6485 225.0092,-195.5466\"/>\n",
       "<polygon fill=\"#000000\" stroke=\"#000000\" points=\"227.6695,-193.2574 218.9095,-187.2981 222.0412,-197.4195 227.6695,-193.2574\"/>\n",
       "<text text-anchor=\"middle\" x=\"215.2068\" y=\"-208.3224\" font-family=\"Helvetica,sans-Serif\" font-size=\"14.00\" fill=\"#000000\">True</text>\n",
       "</g>\n",
       "<!-- 4 -->\n",
       "<g id=\"node5\" class=\"node\">\n",
       "<title>4</title>\n",
       "<path fill=\"none\" stroke=\"#000000\" d=\"M412,-187C412,-187 316,-187 316,-187 310,-187 304,-181 304,-175 304,-175 304,-116 304,-116 304,-110 310,-104 316,-104 316,-104 412,-104 412,-104 418,-104 424,-110 424,-116 424,-116 424,-175 424,-175 424,-181 418,-187 412,-187\"/>\n",
       "<text text-anchor=\"middle\" x=\"364\" y=\"-171.8\" font-family=\"Helvetica,sans-Serif\" font-size=\"14.00\" fill=\"#000000\">C(Sex)[T.Male] &lt;= 0.5</text>\n",
       "<text text-anchor=\"middle\" x=\"364\" y=\"-156.8\" font-family=\"Helvetica,sans-Serif\" font-size=\"14.00\" fill=\"#000000\">gini = 0.499</text>\n",
       "<text text-anchor=\"middle\" x=\"364\" y=\"-141.8\" font-family=\"Helvetica,sans-Serif\" font-size=\"14.00\" fill=\"#000000\">samples = 3088</text>\n",
       "<text text-anchor=\"middle\" x=\"364\" y=\"-126.8\" font-family=\"Helvetica,sans-Serif\" font-size=\"14.00\" fill=\"#000000\">value = [1613, 1475]</text>\n",
       "<text text-anchor=\"middle\" x=\"364\" y=\"-111.8\" font-family=\"Helvetica,sans-Serif\" font-size=\"14.00\" fill=\"#000000\">class = Target[&lt;=50K]</text>\n",
       "</g>\n",
       "<!-- 0&#45;&gt;4 -->\n",
       "<g id=\"edge4\" class=\"edge\">\n",
       "<title>0&#45;&gt;4</title>\n",
       "<path fill=\"none\" stroke=\"#000000\" d=\"M306.7781,-222.8796C313.3051,-214.0534 320.2599,-204.6485 326.9908,-195.5466\"/>\n",
       "<polygon fill=\"#000000\" stroke=\"#000000\" points=\"329.9588,-197.4195 333.0905,-187.2981 324.3305,-193.2574 329.9588,-197.4195\"/>\n",
       "<text text-anchor=\"middle\" x=\"336.7932\" y=\"-208.3224\" font-family=\"Helvetica,sans-Serif\" font-size=\"14.00\" fill=\"#000000\">False</text>\n",
       "</g>\n",
       "<!-- 2 -->\n",
       "<g id=\"node3\" class=\"node\">\n",
       "<title>2</title>\n",
       "<path fill=\"none\" stroke=\"#000000\" d=\"M108,-68C108,-68 12,-68 12,-68 6,-68 0,-62 0,-56 0,-56 0,-12 0,-12 0,-6 6,0 12,0 12,0 108,0 108,0 114,0 120,-6 120,-12 120,-12 120,-56 120,-56 120,-62 114,-68 108,-68\"/>\n",
       "<text text-anchor=\"middle\" x=\"60\" y=\"-52.8\" font-family=\"Helvetica,sans-Serif\" font-size=\"14.00\" fill=\"#000000\">gini = 0.276</text>\n",
       "<text text-anchor=\"middle\" x=\"60\" y=\"-37.8\" font-family=\"Helvetica,sans-Serif\" font-size=\"14.00\" fill=\"#000000\">samples = 18215</text>\n",
       "<text text-anchor=\"middle\" x=\"60\" y=\"-22.8\" font-family=\"Helvetica,sans-Serif\" font-size=\"14.00\" fill=\"#000000\">value = [15208, 3007]</text>\n",
       "<text text-anchor=\"middle\" x=\"60\" y=\"-7.8\" font-family=\"Helvetica,sans-Serif\" font-size=\"14.00\" fill=\"#000000\">class = Target[&lt;=50K]</text>\n",
       "</g>\n",
       "<!-- 1&#45;&gt;2 -->\n",
       "<g id=\"edge2\" class=\"edge\">\n",
       "<title>1&#45;&gt;2</title>\n",
       "<path fill=\"none\" stroke=\"#000000\" d=\"M140.3375,-103.9815C129.4703,-94.5151 117.9295,-84.462 107.0865,-75.0168\"/>\n",
       "<polygon fill=\"#000000\" stroke=\"#000000\" points=\"109.1734,-72.1929 99.3341,-68.2637 104.5755,-77.4712 109.1734,-72.1929\"/>\n",
       "</g>\n",
       "<!-- 3 -->\n",
       "<g id=\"node4\" class=\"node\">\n",
       "<title>3</title>\n",
       "<path fill=\"none\" stroke=\"#000000\" d=\"M246,-68C246,-68 150,-68 150,-68 144,-68 138,-62 138,-56 138,-56 138,-12 138,-12 138,-6 144,0 150,0 150,0 246,0 246,0 252,0 258,-6 258,-12 258,-12 258,-56 258,-56 258,-62 252,-68 246,-68\"/>\n",
       "<text text-anchor=\"middle\" x=\"198\" y=\"-52.8\" font-family=\"Helvetica,sans-Serif\" font-size=\"14.00\" fill=\"#000000\">gini = 0.494</text>\n",
       "<text text-anchor=\"middle\" x=\"198\" y=\"-37.8\" font-family=\"Helvetica,sans-Serif\" font-size=\"14.00\" fill=\"#000000\">samples = 3117</text>\n",
       "<text text-anchor=\"middle\" x=\"198\" y=\"-22.8\" font-family=\"Helvetica,sans-Serif\" font-size=\"14.00\" fill=\"#000000\">value = [1734, 1383]</text>\n",
       "<text text-anchor=\"middle\" x=\"198\" y=\"-7.8\" font-family=\"Helvetica,sans-Serif\" font-size=\"14.00\" fill=\"#000000\">class = Target[&lt;=50K]</text>\n",
       "</g>\n",
       "<!-- 1&#45;&gt;3 -->\n",
       "<g id=\"edge3\" class=\"edge\">\n",
       "<title>1&#45;&gt;3</title>\n",
       "<path fill=\"none\" stroke=\"#000000\" d=\"M191.7236,-103.9815C192.4737,-95.618 193.2649,-86.7965 194.0232,-78.3409\"/>\n",
       "<polygon fill=\"#000000\" stroke=\"#000000\" points=\"197.5197,-78.5364 194.927,-68.2637 190.5477,-77.911 197.5197,-78.5364\"/>\n",
       "</g>\n",
       "<!-- 5 -->\n",
       "<g id=\"node6\" class=\"node\">\n",
       "<title>5</title>\n",
       "<path fill=\"none\" stroke=\"#000000\" d=\"M403,-68C403,-68 307,-68 307,-68 301,-68 295,-62 295,-56 295,-56 295,-12 295,-12 295,-6 301,0 307,0 307,0 403,0 403,0 409,0 415,-6 415,-12 415,-12 415,-56 415,-56 415,-62 409,-68 403,-68\"/>\n",
       "<text text-anchor=\"middle\" x=\"355\" y=\"-52.8\" font-family=\"Helvetica,sans-Serif\" font-size=\"14.00\" fill=\"#000000\">gini = 0.356</text>\n",
       "<text text-anchor=\"middle\" x=\"355\" y=\"-37.8\" font-family=\"Helvetica,sans-Serif\" font-size=\"14.00\" fill=\"#000000\">samples = 890</text>\n",
       "<text text-anchor=\"middle\" x=\"355\" y=\"-22.8\" font-family=\"Helvetica,sans-Serif\" font-size=\"14.00\" fill=\"#000000\">value = [684, 206]</text>\n",
       "<text text-anchor=\"middle\" x=\"355\" y=\"-7.8\" font-family=\"Helvetica,sans-Serif\" font-size=\"14.00\" fill=\"#000000\">class = Target[&lt;=50K]</text>\n",
       "</g>\n",
       "<!-- 4&#45;&gt;5 -->\n",
       "<g id=\"edge5\" class=\"edge\">\n",
       "<title>4&#45;&gt;5</title>\n",
       "<path fill=\"none\" stroke=\"#000000\" d=\"M360.6487,-103.9815C359.9737,-95.618 359.2616,-86.7965 358.5791,-78.3409\"/>\n",
       "<polygon fill=\"#000000\" stroke=\"#000000\" points=\"362.059,-77.9496 357.7657,-68.2637 355.0817,-78.5129 362.059,-77.9496\"/>\n",
       "</g>\n",
       "<!-- 6 -->\n",
       "<g id=\"node7\" class=\"node\">\n",
       "<title>6</title>\n",
       "<path fill=\"none\" stroke=\"#000000\" d=\"M534.5,-68C534.5,-68 445.5,-68 445.5,-68 439.5,-68 433.5,-62 433.5,-56 433.5,-56 433.5,-12 433.5,-12 433.5,-6 439.5,0 445.5,0 445.5,0 534.5,0 534.5,0 540.5,0 546.5,-6 546.5,-12 546.5,-12 546.5,-56 546.5,-56 546.5,-62 540.5,-68 534.5,-68\"/>\n",
       "<text text-anchor=\"middle\" x=\"490\" y=\"-52.8\" font-family=\"Helvetica,sans-Serif\" font-size=\"14.00\" fill=\"#000000\">gini = 0.488</text>\n",
       "<text text-anchor=\"middle\" x=\"490\" y=\"-37.8\" font-family=\"Helvetica,sans-Serif\" font-size=\"14.00\" fill=\"#000000\">samples = 2198</text>\n",
       "<text text-anchor=\"middle\" x=\"490\" y=\"-22.8\" font-family=\"Helvetica,sans-Serif\" font-size=\"14.00\" fill=\"#000000\">value = [929, 1269]</text>\n",
       "<text text-anchor=\"middle\" x=\"490\" y=\"-7.8\" font-family=\"Helvetica,sans-Serif\" font-size=\"14.00\" fill=\"#000000\">class = Target[&gt;50K]</text>\n",
       "</g>\n",
       "<!-- 4&#45;&gt;6 -->\n",
       "<g id=\"edge6\" class=\"edge\">\n",
       "<title>4&#45;&gt;6</title>\n",
       "<path fill=\"none\" stroke=\"#000000\" d=\"M410.9177,-103.9815C421.6152,-94.5151 432.9756,-84.462 443.6492,-75.0168\"/>\n",
       "<polygon fill=\"#000000\" stroke=\"#000000\" points=\"446.1111,-77.5118 451.2805,-68.2637 441.4722,-72.2696 446.1111,-77.5118\"/>\n",
       "</g>\n",
       "</g>\n",
       "</svg>\n"
      ],
      "text/plain": [
       "<graphviz.files.Source at 0x1a12992198>"
      ]
     },
     "execution_count": 33,
     "metadata": {},
     "output_type": "execute_result"
    }
   ],
   "source": [
    "export_graphviz(tree_1, out_file=\"mytree.dot\", feature_names=data_train.columns , class_names=list(target_train), rounded=True)\n",
    "with open(\"mytree.dot\") as f:\n",
    "    dot_graph = f.read()\n",
    "graphviz.Source(dot_graph)"
   ]
  },
  {
   "cell_type": "code",
   "execution_count": 34,
   "metadata": {},
   "outputs": [
    {
     "data": {
      "image/svg+xml": [
       "<?xml version=\"1.0\" encoding=\"UTF-8\" standalone=\"no\"?>\n",
       "<!DOCTYPE svg PUBLIC \"-//W3C//DTD SVG 1.1//EN\"\n",
       " \"http://www.w3.org/Graphics/SVG/1.1/DTD/svg11.dtd\">\n",
       "<!-- Generated by graphviz version 2.40.1 (20161225.0304)\n",
       " -->\n",
       "<!-- Title: Tree Pages: 1 -->\n",
       "<svg width=\"550pt\" height=\"314pt\"\n",
       " viewBox=\"0.00 0.00 550.00 314.00\" xmlns=\"http://www.w3.org/2000/svg\" xmlns:xlink=\"http://www.w3.org/1999/xlink\">\n",
       "<g id=\"graph0\" class=\"graph\" transform=\"scale(1 1) rotate(0) translate(4 310)\">\n",
       "<title>Tree</title>\n",
       "<polygon fill=\"#ffffff\" stroke=\"transparent\" points=\"-4,4 -4,-310 546,-310 546,4 -4,4\"/>\n",
       "<!-- 0 -->\n",
       "<g id=\"node1\" class=\"node\">\n",
       "<title>0</title>\n",
       "<path fill=\"none\" stroke=\"#000000\" d=\"M317,-306C317,-306 221,-306 221,-306 215,-306 209,-300 209,-294 209,-294 209,-235 209,-235 209,-229 215,-223 221,-223 221,-223 317,-223 317,-223 323,-223 329,-229 329,-235 329,-235 329,-294 329,-294 329,-300 323,-306 317,-306\"/>\n",
       "<text text-anchor=\"middle\" x=\"269\" y=\"-290.8\" font-family=\"Helvetica,sans-Serif\" font-size=\"14.00\" fill=\"#000000\">C(Sex)[T.Male] &lt;= 0.5</text>\n",
       "<text text-anchor=\"middle\" x=\"269\" y=\"-275.8\" font-family=\"Helvetica,sans-Serif\" font-size=\"14.00\" fill=\"#000000\">gini = 0.365</text>\n",
       "<text text-anchor=\"middle\" x=\"269\" y=\"-260.8\" font-family=\"Helvetica,sans-Serif\" font-size=\"14.00\" fill=\"#000000\">samples = 24420</text>\n",
       "<text text-anchor=\"middle\" x=\"269\" y=\"-245.8\" font-family=\"Helvetica,sans-Serif\" font-size=\"14.00\" fill=\"#000000\">value = [18555, 5865]</text>\n",
       "<text text-anchor=\"middle\" x=\"269\" y=\"-230.8\" font-family=\"Helvetica,sans-Serif\" font-size=\"14.00\" fill=\"#000000\">class = Target[&lt;=50K]</text>\n",
       "</g>\n",
       "<!-- 1 -->\n",
       "<g id=\"node2\" class=\"node\">\n",
       "<title>1</title>\n",
       "<path fill=\"none\" stroke=\"#000000\" d=\"M260.5,-187C260.5,-187 113.5,-187 113.5,-187 107.5,-187 101.5,-181 101.5,-175 101.5,-175 101.5,-116 101.5,-116 101.5,-110 107.5,-104 113.5,-104 113.5,-104 260.5,-104 260.5,-104 266.5,-104 272.5,-110 272.5,-116 272.5,-116 272.5,-175 272.5,-175 272.5,-181 266.5,-187 260.5,-187\"/>\n",
       "<text text-anchor=\"middle\" x=\"187\" y=\"-171.8\" font-family=\"Helvetica,sans-Serif\" font-size=\"14.00\" fill=\"#000000\">C(Education)[T.Doctorate] &lt;= 0.5</text>\n",
       "<text text-anchor=\"middle\" x=\"187\" y=\"-156.8\" font-family=\"Helvetica,sans-Serif\" font-size=\"14.00\" fill=\"#000000\">gini = 0.197</text>\n",
       "<text text-anchor=\"middle\" x=\"187\" y=\"-141.8\" font-family=\"Helvetica,sans-Serif\" font-size=\"14.00\" fill=\"#000000\">samples = 8035</text>\n",
       "<text text-anchor=\"middle\" x=\"187\" y=\"-126.8\" font-family=\"Helvetica,sans-Serif\" font-size=\"14.00\" fill=\"#000000\">value = [7143, 892]</text>\n",
       "<text text-anchor=\"middle\" x=\"187\" y=\"-111.8\" font-family=\"Helvetica,sans-Serif\" font-size=\"14.00\" fill=\"#000000\">class = Target[&lt;=50K]</text>\n",
       "</g>\n",
       "<!-- 0&#45;&gt;1 -->\n",
       "<g id=\"edge1\" class=\"edge\">\n",
       "<title>0&#45;&gt;1</title>\n",
       "<path fill=\"none\" stroke=\"#000000\" d=\"M240.3204,-222.8796C234.2385,-214.0534 227.7578,-204.6485 221.4859,-195.5466\"/>\n",
       "<polygon fill=\"#000000\" stroke=\"#000000\" points=\"224.3582,-193.5465 215.802,-187.2981 218.5941,-197.5184 224.3582,-193.5465\"/>\n",
       "<text text-anchor=\"middle\" x=\"211.2761\" y=\"-208.185\" font-family=\"Helvetica,sans-Serif\" font-size=\"14.00\" fill=\"#000000\">True</text>\n",
       "</g>\n",
       "<!-- 4 -->\n",
       "<g id=\"node5\" class=\"node\">\n",
       "<title>4</title>\n",
       "<path fill=\"none\" stroke=\"#000000\" d=\"M399,-187C399,-187 303,-187 303,-187 297,-187 291,-181 291,-175 291,-175 291,-116 291,-116 291,-110 297,-104 303,-104 303,-104 399,-104 399,-104 405,-104 411,-110 411,-116 411,-116 411,-175 411,-175 411,-181 405,-187 399,-187\"/>\n",
       "<text text-anchor=\"middle\" x=\"351\" y=\"-171.8\" font-family=\"Helvetica,sans-Serif\" font-size=\"14.00\" fill=\"#000000\">Age &lt;= 29.5</text>\n",
       "<text text-anchor=\"middle\" x=\"351\" y=\"-156.8\" font-family=\"Helvetica,sans-Serif\" font-size=\"14.00\" fill=\"#000000\">gini = 0.423</text>\n",
       "<text text-anchor=\"middle\" x=\"351\" y=\"-141.8\" font-family=\"Helvetica,sans-Serif\" font-size=\"14.00\" fill=\"#000000\">samples = 16385</text>\n",
       "<text text-anchor=\"middle\" x=\"351\" y=\"-126.8\" font-family=\"Helvetica,sans-Serif\" font-size=\"14.00\" fill=\"#000000\">value = [11412, 4973]</text>\n",
       "<text text-anchor=\"middle\" x=\"351\" y=\"-111.8\" font-family=\"Helvetica,sans-Serif\" font-size=\"14.00\" fill=\"#000000\">class = Target[&lt;=50K]</text>\n",
       "</g>\n",
       "<!-- 0&#45;&gt;4 -->\n",
       "<g id=\"edge4\" class=\"edge\">\n",
       "<title>0&#45;&gt;4</title>\n",
       "<path fill=\"none\" stroke=\"#000000\" d=\"M297.6796,-222.8796C303.7615,-214.0534 310.2422,-204.6485 316.5141,-195.5466\"/>\n",
       "<polygon fill=\"#000000\" stroke=\"#000000\" points=\"319.4059,-197.5184 322.198,-187.2981 313.6418,-193.5465 319.4059,-197.5184\"/>\n",
       "<text text-anchor=\"middle\" x=\"326.7239\" y=\"-208.185\" font-family=\"Helvetica,sans-Serif\" font-size=\"14.00\" fill=\"#000000\">False</text>\n",
       "</g>\n",
       "<!-- 2 -->\n",
       "<g id=\"node3\" class=\"node\">\n",
       "<title>2</title>\n",
       "<path fill=\"none\" stroke=\"#000000\" d=\"M108,-68C108,-68 12,-68 12,-68 6,-68 0,-62 0,-56 0,-56 0,-12 0,-12 0,-6 6,0 12,0 12,0 108,0 108,0 114,0 120,-6 120,-12 120,-12 120,-56 120,-56 120,-62 114,-68 108,-68\"/>\n",
       "<text text-anchor=\"middle\" x=\"60\" y=\"-52.8\" font-family=\"Helvetica,sans-Serif\" font-size=\"14.00\" fill=\"#000000\">gini = 0.191</text>\n",
       "<text text-anchor=\"middle\" x=\"60\" y=\"-37.8\" font-family=\"Helvetica,sans-Serif\" font-size=\"14.00\" fill=\"#000000\">samples = 7970</text>\n",
       "<text text-anchor=\"middle\" x=\"60\" y=\"-22.8\" font-family=\"Helvetica,sans-Serif\" font-size=\"14.00\" fill=\"#000000\">value = [7116, 854]</text>\n",
       "<text text-anchor=\"middle\" x=\"60\" y=\"-7.8\" font-family=\"Helvetica,sans-Serif\" font-size=\"14.00\" fill=\"#000000\">class = Target[&lt;=50K]</text>\n",
       "</g>\n",
       "<!-- 1&#45;&gt;2 -->\n",
       "<g id=\"edge2\" class=\"edge\">\n",
       "<title>1&#45;&gt;2</title>\n",
       "<path fill=\"none\" stroke=\"#000000\" d=\"M139.7099,-103.9815C128.9275,-94.5151 117.477,-84.462 106.7187,-75.0168\"/>\n",
       "<polygon fill=\"#000000\" stroke=\"#000000\" points=\"108.8507,-72.2311 99.0268,-68.2637 104.2324,-77.4915 108.8507,-72.2311\"/>\n",
       "</g>\n",
       "<!-- 3 -->\n",
       "<g id=\"node4\" class=\"node\">\n",
       "<title>3</title>\n",
       "<path fill=\"none\" stroke=\"#000000\" d=\"M239.5,-68C239.5,-68 150.5,-68 150.5,-68 144.5,-68 138.5,-62 138.5,-56 138.5,-56 138.5,-12 138.5,-12 138.5,-6 144.5,0 150.5,0 150.5,0 239.5,0 239.5,0 245.5,0 251.5,-6 251.5,-12 251.5,-12 251.5,-56 251.5,-56 251.5,-62 245.5,-68 239.5,-68\"/>\n",
       "<text text-anchor=\"middle\" x=\"195\" y=\"-52.8\" font-family=\"Helvetica,sans-Serif\" font-size=\"14.00\" fill=\"#000000\">gini = 0.486</text>\n",
       "<text text-anchor=\"middle\" x=\"195\" y=\"-37.8\" font-family=\"Helvetica,sans-Serif\" font-size=\"14.00\" fill=\"#000000\">samples = 65</text>\n",
       "<text text-anchor=\"middle\" x=\"195\" y=\"-22.8\" font-family=\"Helvetica,sans-Serif\" font-size=\"14.00\" fill=\"#000000\">value = [27, 38]</text>\n",
       "<text text-anchor=\"middle\" x=\"195\" y=\"-7.8\" font-family=\"Helvetica,sans-Serif\" font-size=\"14.00\" fill=\"#000000\">class = Target[&gt;50K]</text>\n",
       "</g>\n",
       "<!-- 1&#45;&gt;3 -->\n",
       "<g id=\"edge3\" class=\"edge\">\n",
       "<title>1&#45;&gt;3</title>\n",
       "<path fill=\"none\" stroke=\"#000000\" d=\"M189.9789,-103.9815C190.579,-95.618 191.2119,-86.7965 191.8186,-78.3409\"/>\n",
       "<polygon fill=\"#000000\" stroke=\"#000000\" points=\"195.3169,-78.4885 192.5416,-68.2637 188.3349,-77.9875 195.3169,-78.4885\"/>\n",
       "</g>\n",
       "<!-- 5 -->\n",
       "<g id=\"node6\" class=\"node\">\n",
       "<title>5</title>\n",
       "<path fill=\"none\" stroke=\"#000000\" d=\"M392,-68C392,-68 296,-68 296,-68 290,-68 284,-62 284,-56 284,-56 284,-12 284,-12 284,-6 290,0 296,0 296,0 392,0 392,0 398,0 404,-6 404,-12 404,-12 404,-56 404,-56 404,-62 398,-68 392,-68\"/>\n",
       "<text text-anchor=\"middle\" x=\"344\" y=\"-52.8\" font-family=\"Helvetica,sans-Serif\" font-size=\"14.00\" fill=\"#000000\">gini = 0.124</text>\n",
       "<text text-anchor=\"middle\" x=\"344\" y=\"-37.8\" font-family=\"Helvetica,sans-Serif\" font-size=\"14.00\" fill=\"#000000\">samples = 4316</text>\n",
       "<text text-anchor=\"middle\" x=\"344\" y=\"-22.8\" font-family=\"Helvetica,sans-Serif\" font-size=\"14.00\" fill=\"#000000\">value = [4029, 287]</text>\n",
       "<text text-anchor=\"middle\" x=\"344\" y=\"-7.8\" font-family=\"Helvetica,sans-Serif\" font-size=\"14.00\" fill=\"#000000\">class = Target[&lt;=50K]</text>\n",
       "</g>\n",
       "<!-- 4&#45;&gt;5 -->\n",
       "<g id=\"edge5\" class=\"edge\">\n",
       "<title>4&#45;&gt;5</title>\n",
       "<path fill=\"none\" stroke=\"#000000\" d=\"M348.3935,-103.9815C347.8684,-95.618 347.3146,-86.7965 346.7837,-78.3409\"/>\n",
       "<polygon fill=\"#000000\" stroke=\"#000000\" points=\"350.2709,-78.0247 346.1511,-68.2637 343.2846,-78.4634 350.2709,-78.0247\"/>\n",
       "</g>\n",
       "<!-- 6 -->\n",
       "<g id=\"node7\" class=\"node\">\n",
       "<title>6</title>\n",
       "<path fill=\"none\" stroke=\"#000000\" d=\"M530,-68C530,-68 434,-68 434,-68 428,-68 422,-62 422,-56 422,-56 422,-12 422,-12 422,-6 428,0 434,0 434,0 530,0 530,0 536,0 542,-6 542,-12 542,-12 542,-56 542,-56 542,-62 536,-68 530,-68\"/>\n",
       "<text text-anchor=\"middle\" x=\"482\" y=\"-52.8\" font-family=\"Helvetica,sans-Serif\" font-size=\"14.00\" fill=\"#000000\">gini = 0.475</text>\n",
       "<text text-anchor=\"middle\" x=\"482\" y=\"-37.8\" font-family=\"Helvetica,sans-Serif\" font-size=\"14.00\" fill=\"#000000\">samples = 12069</text>\n",
       "<text text-anchor=\"middle\" x=\"482\" y=\"-22.8\" font-family=\"Helvetica,sans-Serif\" font-size=\"14.00\" fill=\"#000000\">value = [7383, 4686]</text>\n",
       "<text text-anchor=\"middle\" x=\"482\" y=\"-7.8\" font-family=\"Helvetica,sans-Serif\" font-size=\"14.00\" fill=\"#000000\">class = Target[&lt;=50K]</text>\n",
       "</g>\n",
       "<!-- 4&#45;&gt;6 -->\n",
       "<g id=\"edge6\" class=\"edge\">\n",
       "<title>4&#45;&gt;6</title>\n",
       "<path fill=\"none\" stroke=\"#000000\" d=\"M399.7796,-103.9815C410.9015,-94.5151 422.7128,-84.462 433.8099,-75.0168\"/>\n",
       "<polygon fill=\"#000000\" stroke=\"#000000\" points=\"436.3975,-77.4105 441.744,-68.2637 431.8604,-72.08 436.3975,-77.4105\"/>\n",
       "</g>\n",
       "</g>\n",
       "</svg>\n"
      ],
      "text/plain": [
       "<graphviz.files.Source at 0x1a1d3d64a8>"
      ]
     },
     "execution_count": 34,
     "metadata": {},
     "output_type": "execute_result"
    }
   ],
   "source": [
    "tree_2 = forest_2.estimators_[1].fit(data_train, target_train.iloc[:,1])\n",
    "export_graphviz(tree_2, out_file=\"mytree.dot\", feature_names=data_train.columns , class_names=list(target_train), rounded=True)\n",
    "with open(\"mytree.dot\") as f:\n",
    "    dot_graph = f.read()\n",
    "graphviz.Source(dot_graph)"
   ]
  },
  {
   "cell_type": "markdown",
   "metadata": {},
   "source": [
    "## 5. Gradient boosting"
   ]
  },
  {
   "cell_type": "markdown",
   "metadata": {},
   "source": [
    "### 5.1 GBRT"
   ]
  },
  {
   "cell_type": "code",
   "execution_count": 50,
   "metadata": {},
   "outputs": [],
   "source": [
    "from sklearn.ensemble import GradientBoostingClassifier"
   ]
  },
  {
   "cell_type": "markdown",
   "metadata": {},
   "source": [
    "#### 5.1.1 Fitting a GBRT model"
   ]
  },
  {
   "cell_type": "code",
   "execution_count": 51,
   "metadata": {},
   "outputs": [
    {
     "data": {
      "text/plain": [
       "GradientBoostingClassifier(criterion='friedman_mse', init=None,\n",
       "              learning_rate=0.01, loss='deviance', max_depth=5,\n",
       "              max_features=None, max_leaf_nodes=None,\n",
       "              min_impurity_decrease=0.0, min_impurity_split=None,\n",
       "              min_samples_leaf=1, min_samples_split=2,\n",
       "              min_weight_fraction_leaf=0.0, n_estimators=100,\n",
       "              presort='auto', random_state=123, subsample=1.0, verbose=0,\n",
       "              warm_start=False)"
      ]
     },
     "execution_count": 51,
     "metadata": {},
     "output_type": "execute_result"
    }
   ],
   "source": [
    "gradboost = GradientBoostingClassifier(random_state = 123, max_depth = 5, learning_rate = 0.01)\n",
    "gradboost.fit(data_train, target_train.iloc[:,1])"
   ]
  },
  {
   "cell_type": "code",
   "execution_count": 52,
   "metadata": {},
   "outputs": [
    {
     "data": {
      "text/plain": [
       "0.8041359541359542"
      ]
     },
     "execution_count": 52,
     "metadata": {},
     "output_type": "execute_result"
    }
   ],
   "source": [
    "gradboost.score(data_train, target_train.iloc[:,1])"
   ]
  },
  {
   "cell_type": "code",
   "execution_count": 53,
   "metadata": {},
   "outputs": [
    {
     "data": {
      "text/plain": [
       "0.8024812676575359"
      ]
     },
     "execution_count": 53,
     "metadata": {},
     "output_type": "execute_result"
    }
   ],
   "source": [
    "gradboost.score(data_test, target_test.iloc[:,1])"
   ]
  },
  {
   "cell_type": "code",
   "execution_count": 54,
   "metadata": {},
   "outputs": [
    {
     "data": {
      "image/png": "[encoded data removed]",
      "text/plain": [
       "<matplotlib.figure.Figure at 0x1a1299d470>"
      ]
     },
     "metadata": {},
     "output_type": "display_data"
    }
   ],
   "source": [
    "plot_feature_importances(gradboost)"
   ]
  },
  {
   "cell_type": "markdown",
   "metadata": {},
   "source": [
    "This isn't really an improvement compared to our Random forests. We told you that gradient boosting methods can generate excellent results, if you set your hyperparameters right! As you know, gradient descent is a delicate process and the learning rate should be set correctly. Let's have a look at what changing the learning rate does to our model."
   ]
  },
  {
   "cell_type": "markdown",
   "metadata": {},
   "source": [
    "#### 5.1.2 Changing the learning rate"
   ]
  },
  {
   "cell_type": "code",
   "execution_count": 55,
   "metadata": {},
   "outputs": [
    {
     "data": {
      "text/plain": [
       "GradientBoostingClassifier(criterion='friedman_mse', init=None,\n",
       "              learning_rate=0.09, loss='deviance', max_depth=5,\n",
       "              max_features=None, max_leaf_nodes=None,\n",
       "              min_impurity_decrease=0.0, min_impurity_split=None,\n",
       "              min_samples_leaf=1, min_samples_split=2,\n",
       "              min_weight_fraction_leaf=0.0, n_estimators=100,\n",
       "              presort='auto', random_state=123, subsample=1.0, verbose=0,\n",
       "              warm_start=False)"
      ]
     },
     "execution_count": 55,
     "metadata": {},
     "output_type": "execute_result"
    }
   ],
   "source": [
    "gradboost_2 = GradientBoostingClassifier(random_state = 123, max_depth = 5, learning_rate = 0.09)\n",
    "gradboost_2.fit(data_train, target_train.iloc[:,1])"
   ]
  },
  {
   "cell_type": "code",
   "execution_count": 56,
   "metadata": {},
   "outputs": [
    {
     "data": {
      "text/plain": [
       "0.8422604422604423"
      ]
     },
     "execution_count": 56,
     "metadata": {},
     "output_type": "execute_result"
    }
   ],
   "source": [
    "gradboost_2.score(data_train, target_train.iloc[:,1])"
   ]
  },
  {
   "cell_type": "code",
   "execution_count": 57,
   "metadata": {},
   "outputs": [
    {
     "data": {
      "text/plain": [
       "0.8354010563812799"
      ]
     },
     "execution_count": 57,
     "metadata": {},
     "output_type": "execute_result"
    }
   ],
   "source": [
    "gradboost_2.score(data_test, target_test.iloc[:,1])"
   ]
  },
  {
   "cell_type": "code",
   "execution_count": 58,
   "metadata": {},
   "outputs": [
    {
     "data": {
      "image/png": "[encoded data removed]",
      "text/plain": [
       "<matplotlib.figure.Figure at 0x1a1d9e79b0>"
      ]
     },
     "metadata": {},
     "output_type": "display_data"
    }
   ],
   "source": [
    "plot_feature_importances(gradboost_2)"
   ]
  },
  {
   "cell_type": "markdown",
   "metadata": {},
   "source": [
    "The feature importances plot has changed drastically! This model is definitely more complex, as mentioned in the lecture."
   ]
  },
  {
   "cell_type": "markdown",
   "metadata": {},
   "source": [
    "### 5.2 AdaBoost"
   ]
  },
  {
   "cell_type": "code",
   "execution_count": 59,
   "metadata": {},
   "outputs": [],
   "source": [
    "from sklearn.ensemble import AdaBoostClassifier"
   ]
  },
  {
   "cell_type": "code",
   "execution_count": 60,
   "metadata": {},
   "outputs": [
    {
     "data": {
      "text/plain": [
       "AdaBoostClassifier(algorithm='SAMME.R', base_estimator=None,\n",
       "          learning_rate=1.0, n_estimators=100, random_state=123)"
      ]
     },
     "execution_count": 60,
     "metadata": {},
     "output_type": "execute_result"
    }
   ],
   "source": [
    "adaboost = AdaBoostClassifier(random_state = 123, n_estimators=100)\n",
    "adaboost.fit(data_train, target_train.iloc[:,1])"
   ]
  },
  {
   "cell_type": "code",
   "execution_count": 61,
   "metadata": {},
   "outputs": [
    {
     "data": {
      "text/plain": [
       "0.8350941850941851"
      ]
     },
     "execution_count": 61,
     "metadata": {},
     "output_type": "execute_result"
    }
   ],
   "source": [
    "adaboost.score(data_train, target_train.iloc[:,1])"
   ]
  },
  {
   "cell_type": "code",
   "execution_count": 62,
   "metadata": {},
   "outputs": [
    {
     "data": {
      "text/plain": [
       "0.8355238914138312"
      ]
     },
     "execution_count": 62,
     "metadata": {},
     "output_type": "execute_result"
    }
   ],
   "source": [
    "adaboost.score(data_test, target_test.iloc[:,1])"
   ]
  },
  {
   "cell_type": "code",
   "execution_count": 63,
   "metadata": {},
   "outputs": [
    {
     "data": {
      "image/png": "[encoded data removed]",
      "text/plain": [
       "<matplotlib.figure.Figure at 0x1a1da57cc0>"
      ]
     },
     "metadata": {},
     "output_type": "display_data"
    }
   ],
   "source": [
    "plot_feature_importances(adaboost)"
   ]
  },
  {
   "cell_type": "markdown",
   "metadata": {},
   "source": [
    "Seems to be performing similarly to gradient boosting, even more focus on Age."
   ]
  },
  {
   "cell_type": "markdown",
   "metadata": {},
   "source": [
    "## 6. To wrap up: let's look at a regression tree"
   ]
  },
  {
   "cell_type": "code",
   "execution_count": 64,
   "metadata": {},
   "outputs": [
    {
     "data": {
      "text/html": [
       "<div>\n",
       "<style scoped>\n",
       "    .dataframe tbody tr th:only-of-type {\n",
       "        vertical-align: middle;\n",
       "    }\n",
       "\n",
       "    .dataframe tbody tr th {\n",
       "        vertical-align: top;\n",
       "    }\n",
       "\n",
       "    .dataframe thead th {\n",
       "        text-align: right;\n",
       "    }\n",
       "</style>\n",
       "<table border=\"1\" class=\"dataframe\">\n",
       "  <thead>\n",
       "    <tr style=\"text-align: right;\">\n",
       "      <th></th>\n",
       "      <th>Page total likes</th>\n",
       "      <th>Type</th>\n",
       "      <th>Category</th>\n",
       "      <th>Post Month</th>\n",
       "      <th>Post Weekday</th>\n",
       "      <th>Post Hour</th>\n",
       "      <th>Paid</th>\n",
       "      <th>Lifetime Post Total Reach</th>\n",
       "      <th>Lifetime Post Total Impressions</th>\n",
       "      <th>Lifetime Engaged Users</th>\n",
       "      <th>Lifetime Post Consumers</th>\n",
       "      <th>Lifetime Post Consumptions</th>\n",
       "      <th>Lifetime Post Impressions by people who have liked your Page</th>\n",
       "      <th>Lifetime Post reach by people who like your Page</th>\n",
       "      <th>Lifetime People who have liked your Page and engaged with your post</th>\n",
       "      <th>comment</th>\n",
       "      <th>like</th>\n",
       "      <th>share</th>\n",
       "      <th>Total Interactions</th>\n",
       "    </tr>\n",
       "  </thead>\n",
       "  <tbody>\n",
       "    <tr>\n",
       "      <th>0</th>\n",
       "      <td>139441</td>\n",
       "      <td>Photo</td>\n",
       "      <td>2</td>\n",
       "      <td>12</td>\n",
       "      <td>4</td>\n",
       "      <td>3</td>\n",
       "      <td>0.0</td>\n",
       "      <td>2752</td>\n",
       "      <td>5091</td>\n",
       "      <td>178</td>\n",
       "      <td>109</td>\n",
       "      <td>159</td>\n",
       "      <td>3078</td>\n",
       "      <td>1640</td>\n",
       "      <td>119</td>\n",
       "      <td>4</td>\n",
       "      <td>79.0</td>\n",
       "      <td>17.0</td>\n",
       "      <td>100</td>\n",
       "    </tr>\n",
       "    <tr>\n",
       "      <th>1</th>\n",
       "      <td>139441</td>\n",
       "      <td>Status</td>\n",
       "      <td>2</td>\n",
       "      <td>12</td>\n",
       "      <td>3</td>\n",
       "      <td>10</td>\n",
       "      <td>0.0</td>\n",
       "      <td>10460</td>\n",
       "      <td>19057</td>\n",
       "      <td>1457</td>\n",
       "      <td>1361</td>\n",
       "      <td>1674</td>\n",
       "      <td>11710</td>\n",
       "      <td>6112</td>\n",
       "      <td>1108</td>\n",
       "      <td>5</td>\n",
       "      <td>130.0</td>\n",
       "      <td>29.0</td>\n",
       "      <td>164</td>\n",
       "    </tr>\n",
       "    <tr>\n",
       "      <th>2</th>\n",
       "      <td>139441</td>\n",
       "      <td>Photo</td>\n",
       "      <td>3</td>\n",
       "      <td>12</td>\n",
       "      <td>3</td>\n",
       "      <td>3</td>\n",
       "      <td>0.0</td>\n",
       "      <td>2413</td>\n",
       "      <td>4373</td>\n",
       "      <td>177</td>\n",
       "      <td>113</td>\n",
       "      <td>154</td>\n",
       "      <td>2812</td>\n",
       "      <td>1503</td>\n",
       "      <td>132</td>\n",
       "      <td>0</td>\n",
       "      <td>66.0</td>\n",
       "      <td>14.0</td>\n",
       "      <td>80</td>\n",
       "    </tr>\n",
       "    <tr>\n",
       "      <th>3</th>\n",
       "      <td>139441</td>\n",
       "      <td>Photo</td>\n",
       "      <td>2</td>\n",
       "      <td>12</td>\n",
       "      <td>2</td>\n",
       "      <td>10</td>\n",
       "      <td>1.0</td>\n",
       "      <td>50128</td>\n",
       "      <td>87991</td>\n",
       "      <td>2211</td>\n",
       "      <td>790</td>\n",
       "      <td>1119</td>\n",
       "      <td>61027</td>\n",
       "      <td>32048</td>\n",
       "      <td>1386</td>\n",
       "      <td>58</td>\n",
       "      <td>1572.0</td>\n",
       "      <td>147.0</td>\n",
       "      <td>1777</td>\n",
       "    </tr>\n",
       "    <tr>\n",
       "      <th>4</th>\n",
       "      <td>139441</td>\n",
       "      <td>Photo</td>\n",
       "      <td>2</td>\n",
       "      <td>12</td>\n",
       "      <td>2</td>\n",
       "      <td>3</td>\n",
       "      <td>0.0</td>\n",
       "      <td>7244</td>\n",
       "      <td>13594</td>\n",
       "      <td>671</td>\n",
       "      <td>410</td>\n",
       "      <td>580</td>\n",
       "      <td>6228</td>\n",
       "      <td>3200</td>\n",
       "      <td>396</td>\n",
       "      <td>19</td>\n",
       "      <td>325.0</td>\n",
       "      <td>49.0</td>\n",
       "      <td>393</td>\n",
       "    </tr>\n",
       "  </tbody>\n",
       "</table>\n",
       "</div>"
      ],
      "text/plain": [
       "   Page total likes    Type  Category  Post Month  Post Weekday  Post Hour  \\\n",
       "0            139441   Photo         2          12             4          3   \n",
       "1            139441  Status         2          12             3         10   \n",
       "2            139441   Photo         3          12             3          3   \n",
       "3            139441   Photo         2          12             2         10   \n",
       "4            139441   Photo         2          12             2          3   \n",
       "\n",
       "   Paid  Lifetime Post Total Reach  Lifetime Post Total Impressions  \\\n",
       "0   0.0                       2752                             5091   \n",
       "1   0.0                      10460                            19057   \n",
       "2   0.0                       2413                             4373   \n",
       "3   1.0                      50128                            87991   \n",
       "4   0.0                       7244                            13594   \n",
       "\n",
       "   Lifetime Engaged Users  Lifetime Post Consumers  \\\n",
       "0                     178                      109   \n",
       "1                    1457                     1361   \n",
       "2                     177                      113   \n",
       "3                    2211                      790   \n",
       "4                     671                      410   \n",
       "\n",
       "   Lifetime Post Consumptions  \\\n",
       "0                         159   \n",
       "1                        1674   \n",
       "2                         154   \n",
       "3                        1119   \n",
       "4                         580   \n",
       "\n",
       "   Lifetime Post Impressions by people who have liked your Page  \\\n",
       "0                                               3078              \n",
       "1                                              11710              \n",
       "2                                               2812              \n",
       "3                                              61027              \n",
       "4                                               6228              \n",
       "\n",
       "   Lifetime Post reach by people who like your Page  \\\n",
       "0                                              1640   \n",
       "1                                              6112   \n",
       "2                                              1503   \n",
       "3                                             32048   \n",
       "4                                              3200   \n",
       "\n",
       "   Lifetime People who have liked your Page and engaged with your post  \\\n",
       "0                                                119                     \n",
       "1                                               1108                     \n",
       "2                                                132                     \n",
       "3                                               1386                     \n",
       "4                                                396                     \n",
       "\n",
       "   comment    like  share  Total Interactions  \n",
       "0        4    79.0   17.0                 100  \n",
       "1        5   130.0   29.0                 164  \n",
       "2        0    66.0   14.0                  80  \n",
       "3       58  1572.0  147.0                1777  \n",
       "4       19   325.0   49.0                 393  "
      ]
     },
     "execution_count": 64,
     "metadata": {},
     "output_type": "execute_result"
    }
   ],
   "source": [
    "# load dataset\n",
    "data = pd.read_csv(\"dataset_Facebook.csv\", sep = \";\", header=0)\n",
    "data = data.dropna()\n",
    "data.head()"
   ]
  },
  {
   "cell_type": "code",
   "execution_count": 65,
   "metadata": {},
   "outputs": [],
   "source": [
    "facebook = data[[\"Page total likes\",\"Type\", \"Category\", \"Post Month\", \"Post Weekday\", \"Post Hour\", \"Paid\"]]"
   ]
  },
  {
   "cell_type": "code",
   "execution_count": 66,
   "metadata": {},
   "outputs": [],
   "source": [
    "facebook = facebook.rename(index=str, columns={\"Page total likes\": \"Likes\", \"Post Month\": \"Post_month\", \"Post Weekday\": \"Post_day\", \"Post Hour\": \"Post_hour\" })"
   ]
  },
  {
   "cell_type": "code",
   "execution_count": 67,
   "metadata": {},
   "outputs": [],
   "source": [
    "likes, fb_data = dmatrices('Likes ~ C(Category) + C(Post_month)+ \\\n",
    "                 C(Post_day) + Post_hour + C(Paid) + C(Type)',\n",
    "                  facebook, return_type = \"dataframe\")"
   ]
  },
  {
   "cell_type": "code",
   "execution_count": 68,
   "metadata": {},
   "outputs": [
    {
     "data": {
      "image/svg+xml": [
       "<?xml version=\"1.0\" encoding=\"UTF-8\" standalone=\"no\"?>\n",
       "<!DOCTYPE svg PUBLIC \"-//W3C//DTD SVG 1.1//EN\"\n",
       " \"http://www.w3.org/Graphics/SVG/1.1/DTD/svg11.dtd\">\n",
       "<!-- Generated by graphviz version 2.40.1 (20161225.0304)\n",
       " -->\n",
       "<!-- Title: Tree Pages: 1 -->\n",
       "<svg width=\"1846pt\" height=\"673pt\"\n",
       " viewBox=\"0.00 0.00 1846.00 673.00\" xmlns=\"http://www.w3.org/2000/svg\" xmlns:xlink=\"http://www.w3.org/1999/xlink\">\n",
       "<g id=\"graph0\" class=\"graph\" transform=\"scale(1 1) rotate(0) translate(4 669)\">\n",
       "<title>Tree</title>\n",
       "<polygon fill=\"#ffffff\" stroke=\"transparent\" points=\"-4,4 -4,-669 1842,-669 1842,4 -4,4\"/>\n",
       "<!-- 0 -->\n",
       "<g id=\"node1\" class=\"node\">\n",
       "<title>0</title>\n",
       "<path fill=\"none\" stroke=\"#000000\" d=\"M1014,-665C1014,-665 824,-665 824,-665 818,-665 812,-659 812,-653 812,-653 812,-534 812,-534 812,-528 818,-522 824,-522 824,-522 1014,-522 1014,-522 1020,-522 1026,-528 1026,-534 1026,-534 1026,-653 1026,-653 1026,-659 1020,-665 1014,-665\"/>\n",
       "<text text-anchor=\"middle\" x=\"919\" y=\"-649.8\" font-family=\"Helvetica,sans-Serif\" font-size=\"14.00\" fill=\"#000000\">C(Post_month)[T.6] &lt;= 0.5</text>\n",
       "<text text-anchor=\"middle\" x=\"919\" y=\"-634.8\" font-family=\"Helvetica,sans-Serif\" font-size=\"14.00\" fill=\"#000000\">gini = 0.982</text>\n",
       "<text text-anchor=\"middle\" x=\"919\" y=\"-619.8\" font-family=\"Helvetica,sans-Serif\" font-size=\"14.00\" fill=\"#000000\">samples = 371</text>\n",
       "<text text-anchor=\"middle\" x=\"919\" y=\"-604.8\" font-family=\"Helvetica,sans-Serif\" font-size=\"14.00\" fill=\"#000000\">value = [3, 2, 5, 5, 4, 1, 1, 1, 1, 1, 1, 1, 1, 1</text>\n",
       "<text text-anchor=\"middle\" x=\"919\" y=\"-589.8\" font-family=\"Helvetica,sans-Serif\" font-size=\"14.00\" fill=\"#000000\">1, 1, 1, 1, 1, 1, 1, 1, 1, 1, 5, 2, 10, 5</text>\n",
       "<text text-anchor=\"middle\" x=\"919\" y=\"-574.8\" font-family=\"Helvetica,sans-Serif\" font-size=\"14.00\" fill=\"#000000\">5, 4, 10, 8, 5, 4, 1, 2, 6, 6, 5, 6, 4, 2</text>\n",
       "<text text-anchor=\"middle\" x=\"919\" y=\"-559.8\" font-family=\"Helvetica,sans-Serif\" font-size=\"14.00\" fill=\"#000000\">8, 14, 7, 4, 3, 4, 1, 7, 13, 6, 3, 6, 3, 3</text>\n",
       "<text text-anchor=\"middle\" x=\"919\" y=\"-544.8\" font-family=\"Helvetica,sans-Serif\" font-size=\"14.00\" fill=\"#000000\">5, 7, 5, 1, 4, 3, 4, 9, 3, 3, 3, 7, 7, 12</text>\n",
       "<text text-anchor=\"middle\" x=\"919\" y=\"-529.8\" font-family=\"Helvetica,sans-Serif\" font-size=\"14.00\" fill=\"#000000\">5, 4, 7, 7, 10, 6, 8, 6, 6, 8, 2, 10, 9]</text>\n",
       "</g>\n",
       "<!-- 1 -->\n",
       "<g id=\"node2\" class=\"node\">\n",
       "<title>1</title>\n",
       "<path fill=\"none\" stroke=\"#000000\" d=\"M782,-486C782,-486 592,-486 592,-486 586,-486 580,-480 580,-474 580,-474 580,-355 580,-355 580,-349 586,-343 592,-343 592,-343 782,-343 782,-343 788,-343 794,-349 794,-355 794,-355 794,-474 794,-474 794,-480 788,-486 782,-486\"/>\n",
       "<text text-anchor=\"middle\" x=\"687\" y=\"-470.8\" font-family=\"Helvetica,sans-Serif\" font-size=\"14.00\" fill=\"#000000\">C(Post_month)[T.12] &lt;= 0.5</text>\n",
       "<text text-anchor=\"middle\" x=\"687\" y=\"-455.8\" font-family=\"Helvetica,sans-Serif\" font-size=\"14.00\" fill=\"#000000\">gini = 0.981</text>\n",
       "<text text-anchor=\"middle\" x=\"687\" y=\"-440.8\" font-family=\"Helvetica,sans-Serif\" font-size=\"14.00\" fill=\"#000000\">samples = 333</text>\n",
       "<text text-anchor=\"middle\" x=\"687\" y=\"-425.8\" font-family=\"Helvetica,sans-Serif\" font-size=\"14.00\" fill=\"#000000\">value = [3, 2, 5, 5, 4, 1, 1, 1, 1, 1, 1, 1, 1, 1</text>\n",
       "<text text-anchor=\"middle\" x=\"687\" y=\"-410.8\" font-family=\"Helvetica,sans-Serif\" font-size=\"14.00\" fill=\"#000000\">1, 1, 1, 1, 1, 1, 1, 1, 1, 1, 5, 2, 10, 5</text>\n",
       "<text text-anchor=\"middle\" x=\"687\" y=\"-395.8\" font-family=\"Helvetica,sans-Serif\" font-size=\"14.00\" fill=\"#000000\">5, 4, 10, 8, 5, 4, 1, 2, 6, 6, 5, 6, 4, 1</text>\n",
       "<text text-anchor=\"middle\" x=\"687\" y=\"-380.8\" font-family=\"Helvetica,sans-Serif\" font-size=\"14.00\" fill=\"#000000\">0, 0, 0, 0, 0, 3, 1, 7, 13, 6, 3, 6, 3, 3</text>\n",
       "<text text-anchor=\"middle\" x=\"687\" y=\"-365.8\" font-family=\"Helvetica,sans-Serif\" font-size=\"14.00\" fill=\"#000000\">5, 7, 5, 1, 4, 3, 4, 9, 3, 3, 3, 7, 7, 12</text>\n",
       "<text text-anchor=\"middle\" x=\"687\" y=\"-350.8\" font-family=\"Helvetica,sans-Serif\" font-size=\"14.00\" fill=\"#000000\">5, 4, 7, 7, 10, 6, 8, 6, 6, 8, 2, 10, 9]</text>\n",
       "</g>\n",
       "<!-- 0&#45;&gt;1 -->\n",
       "<g id=\"edge1\" class=\"edge\">\n",
       "<title>0&#45;&gt;1</title>\n",
       "<path fill=\"none\" stroke=\"#000000\" d=\"M826.3073,-521.9828C813.6603,-512.225 800.6279,-502.1698 787.8452,-492.3073\"/>\n",
       "<polygon fill=\"#000000\" stroke=\"#000000\" points=\"789.9795,-489.5334 779.9241,-486.1958 785.7035,-495.0755 789.9795,-489.5334\"/>\n",
       "<text text-anchor=\"middle\" x=\"783.1215\" y=\"-507.2905\" font-family=\"Helvetica,sans-Serif\" font-size=\"14.00\" fill=\"#000000\">True</text>\n",
       "</g>\n",
       "<!-- 8 -->\n",
       "<g id=\"node9\" class=\"node\">\n",
       "<title>8</title>\n",
       "<path fill=\"none\" stroke=\"#000000\" d=\"M1246,-486C1246,-486 1056,-486 1056,-486 1050,-486 1044,-480 1044,-474 1044,-474 1044,-355 1044,-355 1044,-349 1050,-343 1056,-343 1056,-343 1246,-343 1246,-343 1252,-343 1258,-349 1258,-355 1258,-355 1258,-474 1258,-474 1258,-480 1252,-486 1246,-486\"/>\n",
       "<text text-anchor=\"middle\" x=\"1151\" y=\"-470.8\" font-family=\"Helvetica,sans-Serif\" font-size=\"14.00\" fill=\"#000000\">C(Category)[T.3] &lt;= 0.5</text>\n",
       "<text text-anchor=\"middle\" x=\"1151\" y=\"-455.8\" font-family=\"Helvetica,sans-Serif\" font-size=\"14.00\" fill=\"#000000\">gini = 0.767</text>\n",
       "<text text-anchor=\"middle\" x=\"1151\" y=\"-440.8\" font-family=\"Helvetica,sans-Serif\" font-size=\"14.00\" fill=\"#000000\">samples = 38</text>\n",
       "<text text-anchor=\"middle\" x=\"1151\" y=\"-425.8\" font-family=\"Helvetica,sans-Serif\" font-size=\"14.00\" fill=\"#000000\">value = [0, 0, 0, 0, 0, 0, 0, 0, 0, 0, 0, 0, 0, 0</text>\n",
       "<text text-anchor=\"middle\" x=\"1151\" y=\"-410.8\" font-family=\"Helvetica,sans-Serif\" font-size=\"14.00\" fill=\"#000000\">0, 0, 0, 0, 0, 0, 0, 0, 0, 0, 0, 0, 0, 0</text>\n",
       "<text text-anchor=\"middle\" x=\"1151\" y=\"-395.8\" font-family=\"Helvetica,sans-Serif\" font-size=\"14.00\" fill=\"#000000\">0, 0, 0, 0, 0, 0, 0, 0, 0, 0, 0, 0, 0, 1</text>\n",
       "<text text-anchor=\"middle\" x=\"1151\" y=\"-380.8\" font-family=\"Helvetica,sans-Serif\" font-size=\"14.00\" fill=\"#000000\">8, 14, 7, 4, 3, 1, 0, 0, 0, 0, 0, 0, 0, 0</text>\n",
       "<text text-anchor=\"middle\" x=\"1151\" y=\"-365.8\" font-family=\"Helvetica,sans-Serif\" font-size=\"14.00\" fill=\"#000000\">0, 0, 0, 0, 0, 0, 0, 0, 0, 0, 0, 0, 0, 0</text>\n",
       "<text text-anchor=\"middle\" x=\"1151\" y=\"-350.8\" font-family=\"Helvetica,sans-Serif\" font-size=\"14.00\" fill=\"#000000\">0, 0, 0, 0, 0, 0, 0, 0, 0, 0, 0, 0, 0]</text>\n",
       "</g>\n",
       "<!-- 0&#45;&gt;8 -->\n",
       "<g id=\"edge8\" class=\"edge\">\n",
       "<title>0&#45;&gt;8</title>\n",
       "<path fill=\"none\" stroke=\"#000000\" d=\"M1011.6927,-521.9828C1024.3397,-512.225 1037.3721,-502.1698 1050.1548,-492.3073\"/>\n",
       "<polygon fill=\"#000000\" stroke=\"#000000\" points=\"1052.2965,-495.0755 1058.0759,-486.1958 1048.0205,-489.5334 1052.2965,-495.0755\"/>\n",
       "<text text-anchor=\"middle\" x=\"1054.8785\" y=\"-507.2905\" font-family=\"Helvetica,sans-Serif\" font-size=\"14.00\" fill=\"#000000\">False</text>\n",
       "</g>\n",
       "<!-- 2 -->\n",
       "<g id=\"node3\" class=\"node\">\n",
       "<title>2</title>\n",
       "<path fill=\"none\" stroke=\"#000000\" d=\"M434,-307C434,-307 244,-307 244,-307 238,-307 232,-301 232,-295 232,-295 232,-176 232,-176 232,-170 238,-164 244,-164 244,-164 434,-164 434,-164 440,-164 446,-170 446,-176 446,-176 446,-295 446,-295 446,-301 440,-307 434,-307\"/>\n",
       "<text text-anchor=\"middle\" x=\"339\" y=\"-291.8\" font-family=\"Helvetica,sans-Serif\" font-size=\"14.00\" fill=\"#000000\">C(Post_month)[T.7] &lt;= 0.5</text>\n",
       "<text text-anchor=\"middle\" x=\"339\" y=\"-276.8\" font-family=\"Helvetica,sans-Serif\" font-size=\"14.00\" fill=\"#000000\">gini = 0.979</text>\n",
       "<text text-anchor=\"middle\" x=\"339\" y=\"-261.8\" font-family=\"Helvetica,sans-Serif\" font-size=\"14.00\" fill=\"#000000\">samples = 299</text>\n",
       "<text text-anchor=\"middle\" x=\"339\" y=\"-246.8\" font-family=\"Helvetica,sans-Serif\" font-size=\"14.00\" fill=\"#000000\">value = [3, 2, 5, 5, 4, 1, 1, 1, 1, 1, 1, 1, 1, 1</text>\n",
       "<text text-anchor=\"middle\" x=\"339\" y=\"-231.8\" font-family=\"Helvetica,sans-Serif\" font-size=\"14.00\" fill=\"#000000\">1, 1, 1, 1, 1, 1, 1, 1, 1, 1, 5, 2, 10, 5</text>\n",
       "<text text-anchor=\"middle\" x=\"339\" y=\"-216.8\" font-family=\"Helvetica,sans-Serif\" font-size=\"14.00\" fill=\"#000000\">5, 4, 10, 8, 5, 4, 1, 2, 6, 6, 5, 6, 4, 1</text>\n",
       "<text text-anchor=\"middle\" x=\"339\" y=\"-201.8\" font-family=\"Helvetica,sans-Serif\" font-size=\"14.00\" fill=\"#000000\">0, 0, 0, 0, 0, 3, 1, 7, 13, 6, 3, 6, 3, 3</text>\n",
       "<text text-anchor=\"middle\" x=\"339\" y=\"-186.8\" font-family=\"Helvetica,sans-Serif\" font-size=\"14.00\" fill=\"#000000\">5, 7, 5, 1, 4, 3, 4, 9, 3, 3, 3, 7, 7, 12</text>\n",
       "<text text-anchor=\"middle\" x=\"339\" y=\"-171.8\" font-family=\"Helvetica,sans-Serif\" font-size=\"14.00\" fill=\"#000000\">5, 4, 7, 7, 10, 6, 8, 6, 1, 0, 0, 0, 0]</text>\n",
       "</g>\n",
       "<!-- 1&#45;&gt;2 -->\n",
       "<g id=\"edge2\" class=\"edge\">\n",
       "<title>1&#45;&gt;2</title>\n",
       "<path fill=\"none\" stroke=\"#000000\" d=\"M579.749,-359.3335C540.2949,-339.0396 495.444,-315.9698 455.2353,-295.2877\"/>\n",
       "<polygon fill=\"#000000\" stroke=\"#000000\" points=\"456.6899,-292.1 446.1963,-290.6383 453.488,-298.3249 456.6899,-292.1\"/>\n",
       "</g>\n",
       "<!-- 5 -->\n",
       "<g id=\"node6\" class=\"node\">\n",
       "<title>5</title>\n",
       "<path fill=\"none\" stroke=\"#000000\" d=\"M782,-307C782,-307 592,-307 592,-307 586,-307 580,-301 580,-295 580,-295 580,-176 580,-176 580,-170 586,-164 592,-164 592,-164 782,-164 782,-164 788,-164 794,-170 794,-176 794,-176 794,-295 794,-295 794,-301 788,-307 782,-307\"/>\n",
       "<text text-anchor=\"middle\" x=\"687\" y=\"-291.8\" font-family=\"Helvetica,sans-Serif\" font-size=\"14.00\" fill=\"#000000\">C(Category)[T.2] &lt;= 0.5</text>\n",
       "<text text-anchor=\"middle\" x=\"687\" y=\"-276.8\" font-family=\"Helvetica,sans-Serif\" font-size=\"14.00\" fill=\"#000000\">gini = 0.763</text>\n",
       "<text text-anchor=\"middle\" x=\"687\" y=\"-261.8\" font-family=\"Helvetica,sans-Serif\" font-size=\"14.00\" fill=\"#000000\">samples = 34</text>\n",
       "<text text-anchor=\"middle\" x=\"687\" y=\"-246.8\" font-family=\"Helvetica,sans-Serif\" font-size=\"14.00\" fill=\"#000000\">value = [0, 0, 0, 0, 0, 0, 0, 0, 0, 0, 0, 0, 0, 0</text>\n",
       "<text text-anchor=\"middle\" x=\"687\" y=\"-231.8\" font-family=\"Helvetica,sans-Serif\" font-size=\"14.00\" fill=\"#000000\">0, 0, 0, 0, 0, 0, 0, 0, 0, 0, 0, 0, 0, 0</text>\n",
       "<text text-anchor=\"middle\" x=\"687\" y=\"-216.8\" font-family=\"Helvetica,sans-Serif\" font-size=\"14.00\" fill=\"#000000\">0, 0, 0, 0, 0, 0, 0, 0, 0, 0, 0, 0, 0, 0</text>\n",
       "<text text-anchor=\"middle\" x=\"687\" y=\"-201.8\" font-family=\"Helvetica,sans-Serif\" font-size=\"14.00\" fill=\"#000000\">0, 0, 0, 0, 0, 0, 0, 0, 0, 0, 0, 0, 0, 0</text>\n",
       "<text text-anchor=\"middle\" x=\"687\" y=\"-186.8\" font-family=\"Helvetica,sans-Serif\" font-size=\"14.00\" fill=\"#000000\">0, 0, 0, 0, 0, 0, 0, 0, 0, 0, 0, 0, 0, 0</text>\n",
       "<text text-anchor=\"middle\" x=\"687\" y=\"-171.8\" font-family=\"Helvetica,sans-Serif\" font-size=\"14.00\" fill=\"#000000\">0, 0, 0, 0, 0, 0, 0, 0, 5, 8, 2, 10, 9]</text>\n",
       "</g>\n",
       "<!-- 1&#45;&gt;5 -->\n",
       "<g id=\"edge5\" class=\"edge\">\n",
       "<title>1&#45;&gt;5</title>\n",
       "<path fill=\"none\" stroke=\"#000000\" d=\"M687,-342.9828C687,-334.5138 687,-325.8207 687,-317.224\"/>\n",
       "<polygon fill=\"#000000\" stroke=\"#000000\" points=\"690.5001,-317.1957 687,-307.1958 683.5001,-317.1958 690.5001,-317.1957\"/>\n",
       "</g>\n",
       "<!-- 3 -->\n",
       "<g id=\"node4\" class=\"node\">\n",
       "<title>3</title>\n",
       "<path fill=\"none\" stroke=\"#000000\" d=\"M202,-128C202,-128 12,-128 12,-128 6,-128 0,-122 0,-116 0,-116 0,-12 0,-12 0,-6 6,0 12,0 12,0 202,0 202,0 208,0 214,-6 214,-12 214,-12 214,-116 214,-116 214,-122 208,-128 202,-128\"/>\n",
       "<text text-anchor=\"middle\" x=\"107\" y=\"-112.8\" font-family=\"Helvetica,sans-Serif\" font-size=\"14.00\" fill=\"#000000\">gini = 0.977</text>\n",
       "<text text-anchor=\"middle\" x=\"107\" y=\"-97.8\" font-family=\"Helvetica,sans-Serif\" font-size=\"14.00\" fill=\"#000000\">samples = 257</text>\n",
       "<text text-anchor=\"middle\" x=\"107\" y=\"-82.8\" font-family=\"Helvetica,sans-Serif\" font-size=\"14.00\" fill=\"#000000\">value = [3, 2, 5, 5, 4, 1, 1, 1, 1, 1, 1, 1, 1, 1</text>\n",
       "<text text-anchor=\"middle\" x=\"107\" y=\"-67.8\" font-family=\"Helvetica,sans-Serif\" font-size=\"14.00\" fill=\"#000000\">1, 1, 1, 1, 1, 1, 1, 1, 1, 1, 5, 2, 10, 5</text>\n",
       "<text text-anchor=\"middle\" x=\"107\" y=\"-52.8\" font-family=\"Helvetica,sans-Serif\" font-size=\"14.00\" fill=\"#000000\">5, 4, 10, 8, 5, 4, 1, 2, 6, 6, 5, 6, 4, 1</text>\n",
       "<text text-anchor=\"middle\" x=\"107\" y=\"-37.8\" font-family=\"Helvetica,sans-Serif\" font-size=\"14.00\" fill=\"#000000\">0, 0, 0, 0, 0, 0, 0, 0, 0, 0, 0, 0, 0, 3</text>\n",
       "<text text-anchor=\"middle\" x=\"107\" y=\"-22.8\" font-family=\"Helvetica,sans-Serif\" font-size=\"14.00\" fill=\"#000000\">5, 7, 5, 1, 4, 3, 4, 9, 3, 3, 3, 7, 7, 12</text>\n",
       "<text text-anchor=\"middle\" x=\"107\" y=\"-7.8\" font-family=\"Helvetica,sans-Serif\" font-size=\"14.00\" fill=\"#000000\">5, 4, 7, 7, 10, 6, 8, 6, 1, 0, 0, 0, 0]</text>\n",
       "</g>\n",
       "<!-- 2&#45;&gt;3 -->\n",
       "<g id=\"edge3\" class=\"edge\">\n",
       "<title>2&#45;&gt;3</title>\n",
       "<path fill=\"none\" stroke=\"#000000\" d=\"M241.9554,-163.7623C228.6907,-153.9567 215.0862,-143.8999 201.8611,-134.1236\"/>\n",
       "<polygon fill=\"#000000\" stroke=\"#000000\" points=\"203.804,-131.2074 193.6821,-128.0775 199.6429,-136.8364 203.804,-131.2074\"/>\n",
       "</g>\n",
       "<!-- 4 -->\n",
       "<g id=\"node5\" class=\"node\">\n",
       "<title>4</title>\n",
       "<path fill=\"none\" stroke=\"#000000\" d=\"M434,-128C434,-128 244,-128 244,-128 238,-128 232,-122 232,-116 232,-116 232,-12 232,-12 232,-6 238,0 244,0 244,0 434,0 434,0 440,0 446,-6 446,-12 446,-12 446,-116 446,-116 446,-122 440,-128 434,-128\"/>\n",
       "<text text-anchor=\"middle\" x=\"339\" y=\"-112.8\" font-family=\"Helvetica,sans-Serif\" font-size=\"14.00\" fill=\"#000000\">gini = 0.82</text>\n",
       "<text text-anchor=\"middle\" x=\"339\" y=\"-97.8\" font-family=\"Helvetica,sans-Serif\" font-size=\"14.00\" fill=\"#000000\">samples = 42</text>\n",
       "<text text-anchor=\"middle\" x=\"339\" y=\"-82.8\" font-family=\"Helvetica,sans-Serif\" font-size=\"14.00\" fill=\"#000000\">value = [0, 0, 0, 0, 0, 0, 0, 0, 0, 0, 0, 0, 0, 0</text>\n",
       "<text text-anchor=\"middle\" x=\"339\" y=\"-67.8\" font-family=\"Helvetica,sans-Serif\" font-size=\"14.00\" fill=\"#000000\">0, 0, 0, 0, 0, 0, 0, 0, 0, 0, 0, 0, 0, 0</text>\n",
       "<text text-anchor=\"middle\" x=\"339\" y=\"-52.8\" font-family=\"Helvetica,sans-Serif\" font-size=\"14.00\" fill=\"#000000\">0, 0, 0, 0, 0, 0, 0, 0, 0, 0, 0, 0, 0, 0</text>\n",
       "<text text-anchor=\"middle\" x=\"339\" y=\"-37.8\" font-family=\"Helvetica,sans-Serif\" font-size=\"14.00\" fill=\"#000000\">0, 0, 0, 0, 0, 3, 1, 7, 13, 6, 3, 6, 3, 0</text>\n",
       "<text text-anchor=\"middle\" x=\"339\" y=\"-22.8\" font-family=\"Helvetica,sans-Serif\" font-size=\"14.00\" fill=\"#000000\">0, 0, 0, 0, 0, 0, 0, 0, 0, 0, 0, 0, 0, 0</text>\n",
       "<text text-anchor=\"middle\" x=\"339\" y=\"-7.8\" font-family=\"Helvetica,sans-Serif\" font-size=\"14.00\" fill=\"#000000\">0, 0, 0, 0, 0, 0, 0, 0, 0, 0, 0, 0, 0]</text>\n",
       "</g>\n",
       "<!-- 2&#45;&gt;4 -->\n",
       "<g id=\"edge4\" class=\"edge\">\n",
       "<title>2&#45;&gt;4</title>\n",
       "<path fill=\"none\" stroke=\"#000000\" d=\"M339,-163.7623C339,-155.3443 339,-146.7412 339,-138.2893\"/>\n",
       "<polygon fill=\"#000000\" stroke=\"#000000\" points=\"342.5001,-138.0774 339,-128.0775 335.5001,-138.0775 342.5001,-138.0774\"/>\n",
       "</g>\n",
       "<!-- 6 -->\n",
       "<g id=\"node7\" class=\"node\">\n",
       "<title>6</title>\n",
       "<path fill=\"none\" stroke=\"#000000\" d=\"M666,-128C666,-128 476,-128 476,-128 470,-128 464,-122 464,-116 464,-116 464,-12 464,-12 464,-6 470,0 476,0 476,0 666,0 666,0 672,0 678,-6 678,-12 678,-12 678,-116 678,-116 678,-122 672,-128 666,-128\"/>\n",
       "<text text-anchor=\"middle\" x=\"571\" y=\"-112.8\" font-family=\"Helvetica,sans-Serif\" font-size=\"14.00\" fill=\"#000000\">gini = 0.75</text>\n",
       "<text text-anchor=\"middle\" x=\"571\" y=\"-97.8\" font-family=\"Helvetica,sans-Serif\" font-size=\"14.00\" fill=\"#000000\">samples = 20</text>\n",
       "<text text-anchor=\"middle\" x=\"571\" y=\"-82.8\" font-family=\"Helvetica,sans-Serif\" font-size=\"14.00\" fill=\"#000000\">value = [0, 0, 0, 0, 0, 0, 0, 0, 0, 0, 0, 0, 0, 0</text>\n",
       "<text text-anchor=\"middle\" x=\"571\" y=\"-67.8\" font-family=\"Helvetica,sans-Serif\" font-size=\"14.00\" fill=\"#000000\">0, 0, 0, 0, 0, 0, 0, 0, 0, 0, 0, 0, 0, 0</text>\n",
       "<text text-anchor=\"middle\" x=\"571\" y=\"-52.8\" font-family=\"Helvetica,sans-Serif\" font-size=\"14.00\" fill=\"#000000\">0, 0, 0, 0, 0, 0, 0, 0, 0, 0, 0, 0, 0, 0</text>\n",
       "<text text-anchor=\"middle\" x=\"571\" y=\"-37.8\" font-family=\"Helvetica,sans-Serif\" font-size=\"14.00\" fill=\"#000000\">0, 0, 0, 0, 0, 0, 0, 0, 0, 0, 0, 0, 0, 0</text>\n",
       "<text text-anchor=\"middle\" x=\"571\" y=\"-22.8\" font-family=\"Helvetica,sans-Serif\" font-size=\"14.00\" fill=\"#000000\">0, 0, 0, 0, 0, 0, 0, 0, 0, 0, 0, 0, 0, 0</text>\n",
       "<text text-anchor=\"middle\" x=\"571\" y=\"-7.8\" font-family=\"Helvetica,sans-Serif\" font-size=\"14.00\" fill=\"#000000\">0, 0, 0, 0, 0, 0, 0, 0, 5, 7, 1, 4, 3]</text>\n",
       "</g>\n",
       "<!-- 5&#45;&gt;6 -->\n",
       "<g id=\"edge6\" class=\"edge\">\n",
       "<title>5&#45;&gt;6</title>\n",
       "<path fill=\"none\" stroke=\"#000000\" d=\"M638.4777,-163.7623C632.4085,-154.7893 626.197,-145.6059 620.1188,-136.6195\"/>\n",
       "<polygon fill=\"#000000\" stroke=\"#000000\" points=\"622.8428,-134.3997 614.341,-128.0775 617.0446,-138.3216 622.8428,-134.3997\"/>\n",
       "</g>\n",
       "<!-- 7 -->\n",
       "<g id=\"node8\" class=\"node\">\n",
       "<title>7</title>\n",
       "<path fill=\"none\" stroke=\"#000000\" d=\"M898,-128C898,-128 708,-128 708,-128 702,-128 696,-122 696,-116 696,-116 696,-12 696,-12 696,-6 702,0 708,0 708,0 898,0 898,0 904,0 910,-6 910,-12 910,-12 910,-116 910,-116 910,-122 904,-128 898,-128\"/>\n",
       "<text text-anchor=\"middle\" x=\"803\" y=\"-112.8\" font-family=\"Helvetica,sans-Serif\" font-size=\"14.00\" fill=\"#000000\">gini = 0.622</text>\n",
       "<text text-anchor=\"middle\" x=\"803\" y=\"-97.8\" font-family=\"Helvetica,sans-Serif\" font-size=\"14.00\" fill=\"#000000\">samples = 14</text>\n",
       "<text text-anchor=\"middle\" x=\"803\" y=\"-82.8\" font-family=\"Helvetica,sans-Serif\" font-size=\"14.00\" fill=\"#000000\">value = [0, 0, 0, 0, 0, 0, 0, 0, 0, 0, 0, 0, 0, 0</text>\n",
       "<text text-anchor=\"middle\" x=\"803\" y=\"-67.8\" font-family=\"Helvetica,sans-Serif\" font-size=\"14.00\" fill=\"#000000\">0, 0, 0, 0, 0, 0, 0, 0, 0, 0, 0, 0, 0, 0</text>\n",
       "<text text-anchor=\"middle\" x=\"803\" y=\"-52.8\" font-family=\"Helvetica,sans-Serif\" font-size=\"14.00\" fill=\"#000000\">0, 0, 0, 0, 0, 0, 0, 0, 0, 0, 0, 0, 0, 0</text>\n",
       "<text text-anchor=\"middle\" x=\"803\" y=\"-37.8\" font-family=\"Helvetica,sans-Serif\" font-size=\"14.00\" fill=\"#000000\">0, 0, 0, 0, 0, 0, 0, 0, 0, 0, 0, 0, 0, 0</text>\n",
       "<text text-anchor=\"middle\" x=\"803\" y=\"-22.8\" font-family=\"Helvetica,sans-Serif\" font-size=\"14.00\" fill=\"#000000\">0, 0, 0, 0, 0, 0, 0, 0, 0, 0, 0, 0, 0, 0</text>\n",
       "<text text-anchor=\"middle\" x=\"803\" y=\"-7.8\" font-family=\"Helvetica,sans-Serif\" font-size=\"14.00\" fill=\"#000000\">0, 0, 0, 0, 0, 0, 0, 0, 0, 1, 1, 6, 6]</text>\n",
       "</g>\n",
       "<!-- 5&#45;&gt;7 -->\n",
       "<g id=\"edge7\" class=\"edge\">\n",
       "<title>5&#45;&gt;7</title>\n",
       "<path fill=\"none\" stroke=\"#000000\" d=\"M735.5223,-163.7623C741.5915,-154.7893 747.803,-145.6059 753.8812,-136.6195\"/>\n",
       "<polygon fill=\"#000000\" stroke=\"#000000\" points=\"756.9554,-138.3216 759.659,-128.0775 751.1572,-134.3997 756.9554,-138.3216\"/>\n",
       "</g>\n",
       "<!-- 9 -->\n",
       "<g id=\"node10\" class=\"node\">\n",
       "<title>9</title>\n",
       "<path fill=\"none\" stroke=\"#000000\" d=\"M1246,-307C1246,-307 1056,-307 1056,-307 1050,-307 1044,-301 1044,-295 1044,-295 1044,-176 1044,-176 1044,-170 1050,-164 1056,-164 1056,-164 1246,-164 1246,-164 1252,-164 1258,-170 1258,-176 1258,-176 1258,-295 1258,-295 1258,-301 1252,-307 1246,-307\"/>\n",
       "<text text-anchor=\"middle\" x=\"1151\" y=\"-291.8\" font-family=\"Helvetica,sans-Serif\" font-size=\"14.00\" fill=\"#000000\">C(Paid)[T.1.0] &lt;= 0.5</text>\n",
       "<text text-anchor=\"middle\" x=\"1151\" y=\"-276.8\" font-family=\"Helvetica,sans-Serif\" font-size=\"14.00\" fill=\"#000000\">gini = 0.807</text>\n",
       "<text text-anchor=\"middle\" x=\"1151\" y=\"-261.8\" font-family=\"Helvetica,sans-Serif\" font-size=\"14.00\" fill=\"#000000\">samples = 21</text>\n",
       "<text text-anchor=\"middle\" x=\"1151\" y=\"-246.8\" font-family=\"Helvetica,sans-Serif\" font-size=\"14.00\" fill=\"#000000\">value = [0, 0, 0, 0, 0, 0, 0, 0, 0, 0, 0, 0, 0, 0</text>\n",
       "<text text-anchor=\"middle\" x=\"1151\" y=\"-231.8\" font-family=\"Helvetica,sans-Serif\" font-size=\"14.00\" fill=\"#000000\">0, 0, 0, 0, 0, 0, 0, 0, 0, 0, 0, 0, 0, 0</text>\n",
       "<text text-anchor=\"middle\" x=\"1151\" y=\"-216.8\" font-family=\"Helvetica,sans-Serif\" font-size=\"14.00\" fill=\"#000000\">0, 0, 0, 0, 0, 0, 0, 0, 0, 0, 0, 0, 0, 0</text>\n",
       "<text text-anchor=\"middle\" x=\"1151\" y=\"-201.8\" font-family=\"Helvetica,sans-Serif\" font-size=\"14.00\" fill=\"#000000\">3, 5, 5, 4, 3, 1, 0, 0, 0, 0, 0, 0, 0, 0</text>\n",
       "<text text-anchor=\"middle\" x=\"1151\" y=\"-186.8\" font-family=\"Helvetica,sans-Serif\" font-size=\"14.00\" fill=\"#000000\">0, 0, 0, 0, 0, 0, 0, 0, 0, 0, 0, 0, 0, 0</text>\n",
       "<text text-anchor=\"middle\" x=\"1151\" y=\"-171.8\" font-family=\"Helvetica,sans-Serif\" font-size=\"14.00\" fill=\"#000000\">0, 0, 0, 0, 0, 0, 0, 0, 0, 0, 0, 0, 0]</text>\n",
       "</g>\n",
       "<!-- 8&#45;&gt;9 -->\n",
       "<g id=\"edge9\" class=\"edge\">\n",
       "<title>8&#45;&gt;9</title>\n",
       "<path fill=\"none\" stroke=\"#000000\" d=\"M1151,-342.9828C1151,-334.5138 1151,-325.8207 1151,-317.224\"/>\n",
       "<polygon fill=\"#000000\" stroke=\"#000000\" points=\"1154.5001,-317.1957 1151,-307.1958 1147.5001,-317.1958 1154.5001,-317.1957\"/>\n",
       "</g>\n",
       "<!-- 12 -->\n",
       "<g id=\"node13\" class=\"node\">\n",
       "<title>12</title>\n",
       "<path fill=\"none\" stroke=\"#000000\" d=\"M1594,-307C1594,-307 1404,-307 1404,-307 1398,-307 1392,-301 1392,-295 1392,-295 1392,-176 1392,-176 1392,-170 1398,-164 1404,-164 1404,-164 1594,-164 1594,-164 1600,-164 1606,-170 1606,-176 1606,-176 1606,-295 1606,-295 1606,-301 1600,-307 1594,-307\"/>\n",
       "<text text-anchor=\"middle\" x=\"1499\" y=\"-291.8\" font-family=\"Helvetica,sans-Serif\" font-size=\"14.00\" fill=\"#000000\">Post_hour &lt;= 4.5</text>\n",
       "<text text-anchor=\"middle\" x=\"1499\" y=\"-276.8\" font-family=\"Helvetica,sans-Serif\" font-size=\"14.00\" fill=\"#000000\">gini = 0.616</text>\n",
       "<text text-anchor=\"middle\" x=\"1499\" y=\"-261.8\" font-family=\"Helvetica,sans-Serif\" font-size=\"14.00\" fill=\"#000000\">samples = 17</text>\n",
       "<text text-anchor=\"middle\" x=\"1499\" y=\"-246.8\" font-family=\"Helvetica,sans-Serif\" font-size=\"14.00\" fill=\"#000000\">value = [0, 0, 0, 0, 0, 0, 0, 0, 0, 0, 0, 0, 0, 0</text>\n",
       "<text text-anchor=\"middle\" x=\"1499\" y=\"-231.8\" font-family=\"Helvetica,sans-Serif\" font-size=\"14.00\" fill=\"#000000\">0, 0, 0, 0, 0, 0, 0, 0, 0, 0, 0, 0, 0, 0</text>\n",
       "<text text-anchor=\"middle\" x=\"1499\" y=\"-216.8\" font-family=\"Helvetica,sans-Serif\" font-size=\"14.00\" fill=\"#000000\">0, 0, 0, 0, 0, 0, 0, 0, 0, 0, 0, 0, 0, 1</text>\n",
       "<text text-anchor=\"middle\" x=\"1499\" y=\"-201.8\" font-family=\"Helvetica,sans-Serif\" font-size=\"14.00\" fill=\"#000000\">5, 9, 2, 0, 0, 0, 0, 0, 0, 0, 0, 0, 0, 0</text>\n",
       "<text text-anchor=\"middle\" x=\"1499\" y=\"-186.8\" font-family=\"Helvetica,sans-Serif\" font-size=\"14.00\" fill=\"#000000\">0, 0, 0, 0, 0, 0, 0, 0, 0, 0, 0, 0, 0, 0</text>\n",
       "<text text-anchor=\"middle\" x=\"1499\" y=\"-171.8\" font-family=\"Helvetica,sans-Serif\" font-size=\"14.00\" fill=\"#000000\">0, 0, 0, 0, 0, 0, 0, 0, 0, 0, 0, 0, 0]</text>\n",
       "</g>\n",
       "<!-- 8&#45;&gt;12 -->\n",
       "<g id=\"edge12\" class=\"edge\">\n",
       "<title>8&#45;&gt;12</title>\n",
       "<path fill=\"none\" stroke=\"#000000\" d=\"M1258.251,-359.3335C1297.7051,-339.0396 1342.556,-315.9698 1382.7647,-295.2877\"/>\n",
       "<polygon fill=\"#000000\" stroke=\"#000000\" points=\"1384.512,-298.3249 1391.8037,-290.6383 1381.3101,-292.1 1384.512,-298.3249\"/>\n",
       "</g>\n",
       "<!-- 10 -->\n",
       "<g id=\"node11\" class=\"node\">\n",
       "<title>10</title>\n",
       "<path fill=\"none\" stroke=\"#000000\" d=\"M1130,-128C1130,-128 940,-128 940,-128 934,-128 928,-122 928,-116 928,-116 928,-12 928,-12 928,-6 934,0 940,0 940,0 1130,0 1130,0 1136,0 1142,-6 1142,-12 1142,-12 1142,-116 1142,-116 1142,-122 1136,-128 1130,-128\"/>\n",
       "<text text-anchor=\"middle\" x=\"1035\" y=\"-112.8\" font-family=\"Helvetica,sans-Serif\" font-size=\"14.00\" fill=\"#000000\">gini = 0.79</text>\n",
       "<text text-anchor=\"middle\" x=\"1035\" y=\"-97.8\" font-family=\"Helvetica,sans-Serif\" font-size=\"14.00\" fill=\"#000000\">samples = 18</text>\n",
       "<text text-anchor=\"middle\" x=\"1035\" y=\"-82.8\" font-family=\"Helvetica,sans-Serif\" font-size=\"14.00\" fill=\"#000000\">value = [0, 0, 0, 0, 0, 0, 0, 0, 0, 0, 0, 0, 0, 0</text>\n",
       "<text text-anchor=\"middle\" x=\"1035\" y=\"-67.8\" font-family=\"Helvetica,sans-Serif\" font-size=\"14.00\" fill=\"#000000\">0, 0, 0, 0, 0, 0, 0, 0, 0, 0, 0, 0, 0, 0</text>\n",
       "<text text-anchor=\"middle\" x=\"1035\" y=\"-52.8\" font-family=\"Helvetica,sans-Serif\" font-size=\"14.00\" fill=\"#000000\">0, 0, 0, 0, 0, 0, 0, 0, 0, 0, 0, 0, 0, 0</text>\n",
       "<text text-anchor=\"middle\" x=\"1035\" y=\"-37.8\" font-family=\"Helvetica,sans-Serif\" font-size=\"14.00\" fill=\"#000000\">2, 5, 5, 2, 3, 1, 0, 0, 0, 0, 0, 0, 0, 0</text>\n",
       "<text text-anchor=\"middle\" x=\"1035\" y=\"-22.8\" font-family=\"Helvetica,sans-Serif\" font-size=\"14.00\" fill=\"#000000\">0, 0, 0, 0, 0, 0, 0, 0, 0, 0, 0, 0, 0, 0</text>\n",
       "<text text-anchor=\"middle\" x=\"1035\" y=\"-7.8\" font-family=\"Helvetica,sans-Serif\" font-size=\"14.00\" fill=\"#000000\">0, 0, 0, 0, 0, 0, 0, 0, 0, 0, 0, 0, 0]</text>\n",
       "</g>\n",
       "<!-- 9&#45;&gt;10 -->\n",
       "<g id=\"edge10\" class=\"edge\">\n",
       "<title>9&#45;&gt;10</title>\n",
       "<path fill=\"none\" stroke=\"#000000\" d=\"M1102.4777,-163.7623C1096.4085,-154.7893 1090.197,-145.6059 1084.1188,-136.6195\"/>\n",
       "<polygon fill=\"#000000\" stroke=\"#000000\" points=\"1086.8428,-134.3997 1078.341,-128.0775 1081.0446,-138.3216 1086.8428,-134.3997\"/>\n",
       "</g>\n",
       "<!-- 11 -->\n",
       "<g id=\"node12\" class=\"node\">\n",
       "<title>11</title>\n",
       "<path fill=\"none\" stroke=\"#000000\" d=\"M1362,-128C1362,-128 1172,-128 1172,-128 1166,-128 1160,-122 1160,-116 1160,-116 1160,-12 1160,-12 1160,-6 1166,0 1172,0 1172,0 1362,0 1362,0 1368,0 1374,-6 1374,-12 1374,-12 1374,-116 1374,-116 1374,-122 1368,-128 1362,-128\"/>\n",
       "<text text-anchor=\"middle\" x=\"1267\" y=\"-112.8\" font-family=\"Helvetica,sans-Serif\" font-size=\"14.00\" fill=\"#000000\">gini = 0.444</text>\n",
       "<text text-anchor=\"middle\" x=\"1267\" y=\"-97.8\" font-family=\"Helvetica,sans-Serif\" font-size=\"14.00\" fill=\"#000000\">samples = 3</text>\n",
       "<text text-anchor=\"middle\" x=\"1267\" y=\"-82.8\" font-family=\"Helvetica,sans-Serif\" font-size=\"14.00\" fill=\"#000000\">value = [0, 0, 0, 0, 0, 0, 0, 0, 0, 0, 0, 0, 0, 0</text>\n",
       "<text text-anchor=\"middle\" x=\"1267\" y=\"-67.8\" font-family=\"Helvetica,sans-Serif\" font-size=\"14.00\" fill=\"#000000\">0, 0, 0, 0, 0, 0, 0, 0, 0, 0, 0, 0, 0, 0</text>\n",
       "<text text-anchor=\"middle\" x=\"1267\" y=\"-52.8\" font-family=\"Helvetica,sans-Serif\" font-size=\"14.00\" fill=\"#000000\">0, 0, 0, 0, 0, 0, 0, 0, 0, 0, 0, 0, 0, 0</text>\n",
       "<text text-anchor=\"middle\" x=\"1267\" y=\"-37.8\" font-family=\"Helvetica,sans-Serif\" font-size=\"14.00\" fill=\"#000000\">1, 0, 0, 2, 0, 0, 0, 0, 0, 0, 0, 0, 0, 0</text>\n",
       "<text text-anchor=\"middle\" x=\"1267\" y=\"-22.8\" font-family=\"Helvetica,sans-Serif\" font-size=\"14.00\" fill=\"#000000\">0, 0, 0, 0, 0, 0, 0, 0, 0, 0, 0, 0, 0, 0</text>\n",
       "<text text-anchor=\"middle\" x=\"1267\" y=\"-7.8\" font-family=\"Helvetica,sans-Serif\" font-size=\"14.00\" fill=\"#000000\">0, 0, 0, 0, 0, 0, 0, 0, 0, 0, 0, 0, 0]</text>\n",
       "</g>\n",
       "<!-- 9&#45;&gt;11 -->\n",
       "<g id=\"edge11\" class=\"edge\">\n",
       "<title>9&#45;&gt;11</title>\n",
       "<path fill=\"none\" stroke=\"#000000\" d=\"M1199.5223,-163.7623C1205.5915,-154.7893 1211.803,-145.6059 1217.8812,-136.6195\"/>\n",
       "<polygon fill=\"#000000\" stroke=\"#000000\" points=\"1220.9554,-138.3216 1223.659,-128.0775 1215.1572,-134.3997 1220.9554,-138.3216\"/>\n",
       "</g>\n",
       "<!-- 13 -->\n",
       "<g id=\"node14\" class=\"node\">\n",
       "<title>13</title>\n",
       "<path fill=\"none\" stroke=\"#000000\" d=\"M1594,-128C1594,-128 1404,-128 1404,-128 1398,-128 1392,-122 1392,-116 1392,-116 1392,-12 1392,-12 1392,-6 1398,0 1404,0 1404,0 1594,0 1594,0 1600,0 1606,-6 1606,-12 1606,-12 1606,-116 1606,-116 1606,-122 1600,-128 1594,-128\"/>\n",
       "<text text-anchor=\"middle\" x=\"1499\" y=\"-112.8\" font-family=\"Helvetica,sans-Serif\" font-size=\"14.00\" fill=\"#000000\">gini = 0.446</text>\n",
       "<text text-anchor=\"middle\" x=\"1499\" y=\"-97.8\" font-family=\"Helvetica,sans-Serif\" font-size=\"14.00\" fill=\"#000000\">samples = 11</text>\n",
       "<text text-anchor=\"middle\" x=\"1499\" y=\"-82.8\" font-family=\"Helvetica,sans-Serif\" font-size=\"14.00\" fill=\"#000000\">value = [0, 0, 0, 0, 0, 0, 0, 0, 0, 0, 0, 0, 0, 0</text>\n",
       "<text text-anchor=\"middle\" x=\"1499\" y=\"-67.8\" font-family=\"Helvetica,sans-Serif\" font-size=\"14.00\" fill=\"#000000\">0, 0, 0, 0, 0, 0, 0, 0, 0, 0, 0, 0, 0, 0</text>\n",
       "<text text-anchor=\"middle\" x=\"1499\" y=\"-52.8\" font-family=\"Helvetica,sans-Serif\" font-size=\"14.00\" fill=\"#000000\">0, 0, 0, 0, 0, 0, 0, 0, 0, 0, 0, 0, 0, 1</text>\n",
       "<text text-anchor=\"middle\" x=\"1499\" y=\"-37.8\" font-family=\"Helvetica,sans-Serif\" font-size=\"14.00\" fill=\"#000000\">1, 8, 1, 0, 0, 0, 0, 0, 0, 0, 0, 0, 0, 0</text>\n",
       "<text text-anchor=\"middle\" x=\"1499\" y=\"-22.8\" font-family=\"Helvetica,sans-Serif\" font-size=\"14.00\" fill=\"#000000\">0, 0, 0, 0, 0, 0, 0, 0, 0, 0, 0, 0, 0, 0</text>\n",
       "<text text-anchor=\"middle\" x=\"1499\" y=\"-7.8\" font-family=\"Helvetica,sans-Serif\" font-size=\"14.00\" fill=\"#000000\">0, 0, 0, 0, 0, 0, 0, 0, 0, 0, 0, 0, 0]</text>\n",
       "</g>\n",
       "<!-- 12&#45;&gt;13 -->\n",
       "<g id=\"edge13\" class=\"edge\">\n",
       "<title>12&#45;&gt;13</title>\n",
       "<path fill=\"none\" stroke=\"#000000\" d=\"M1499,-163.7623C1499,-155.3443 1499,-146.7412 1499,-138.2893\"/>\n",
       "<polygon fill=\"#000000\" stroke=\"#000000\" points=\"1502.5001,-138.0774 1499,-128.0775 1495.5001,-138.0775 1502.5001,-138.0774\"/>\n",
       "</g>\n",
       "<!-- 14 -->\n",
       "<g id=\"node15\" class=\"node\">\n",
       "<title>14</title>\n",
       "<path fill=\"none\" stroke=\"#000000\" d=\"M1826,-128C1826,-128 1636,-128 1636,-128 1630,-128 1624,-122 1624,-116 1624,-116 1624,-12 1624,-12 1624,-6 1630,0 1636,0 1636,0 1826,0 1826,0 1832,0 1838,-6 1838,-12 1838,-12 1838,-116 1838,-116 1838,-122 1832,-128 1826,-128\"/>\n",
       "<text text-anchor=\"middle\" x=\"1731\" y=\"-112.8\" font-family=\"Helvetica,sans-Serif\" font-size=\"14.00\" fill=\"#000000\">gini = 0.5</text>\n",
       "<text text-anchor=\"middle\" x=\"1731\" y=\"-97.8\" font-family=\"Helvetica,sans-Serif\" font-size=\"14.00\" fill=\"#000000\">samples = 6</text>\n",
       "<text text-anchor=\"middle\" x=\"1731\" y=\"-82.8\" font-family=\"Helvetica,sans-Serif\" font-size=\"14.00\" fill=\"#000000\">value = [0, 0, 0, 0, 0, 0, 0, 0, 0, 0, 0, 0, 0, 0</text>\n",
       "<text text-anchor=\"middle\" x=\"1731\" y=\"-67.8\" font-family=\"Helvetica,sans-Serif\" font-size=\"14.00\" fill=\"#000000\">0, 0, 0, 0, 0, 0, 0, 0, 0, 0, 0, 0, 0, 0</text>\n",
       "<text text-anchor=\"middle\" x=\"1731\" y=\"-52.8\" font-family=\"Helvetica,sans-Serif\" font-size=\"14.00\" fill=\"#000000\">0, 0, 0, 0, 0, 0, 0, 0, 0, 0, 0, 0, 0, 0</text>\n",
       "<text text-anchor=\"middle\" x=\"1731\" y=\"-37.8\" font-family=\"Helvetica,sans-Serif\" font-size=\"14.00\" fill=\"#000000\">4, 1, 1, 0, 0, 0, 0, 0, 0, 0, 0, 0, 0, 0</text>\n",
       "<text text-anchor=\"middle\" x=\"1731\" y=\"-22.8\" font-family=\"Helvetica,sans-Serif\" font-size=\"14.00\" fill=\"#000000\">0, 0, 0, 0, 0, 0, 0, 0, 0, 0, 0, 0, 0, 0</text>\n",
       "<text text-anchor=\"middle\" x=\"1731\" y=\"-7.8\" font-family=\"Helvetica,sans-Serif\" font-size=\"14.00\" fill=\"#000000\">0, 0, 0, 0, 0, 0, 0, 0, 0, 0, 0, 0, 0]</text>\n",
       "</g>\n",
       "<!-- 12&#45;&gt;14 -->\n",
       "<g id=\"edge14\" class=\"edge\">\n",
       "<title>12&#45;&gt;14</title>\n",
       "<path fill=\"none\" stroke=\"#000000\" d=\"M1596.0446,-163.7623C1609.3093,-153.9567 1622.9138,-143.8999 1636.1389,-134.1236\"/>\n",
       "<polygon fill=\"#000000\" stroke=\"#000000\" points=\"1638.3571,-136.8364 1644.3179,-128.0775 1634.196,-131.2074 1638.3571,-136.8364\"/>\n",
       "</g>\n",
       "</g>\n",
       "</svg>\n"
      ],
      "text/plain": [
       "<graphviz.files.Source at 0x1a1e2b2828>"
      ]
     },
     "execution_count": 68,
     "metadata": {},
     "output_type": "execute_result"
    }
   ],
   "source": [
    "fb_train, fb_test, likes_train, likes_test = train_test_split(fb_data, likes, \n",
    "                                                                   test_size = 0.25, random_state=123)\n",
    "from sklearn import tree\n",
    "tree = tree.DecisionTreeClassifier(max_depth = 3) \n",
    "tree = tree.fit(fb_train, likes_train)\n",
    "\n",
    "export_graphviz(tree, out_file=\"mytree.dot\", feature_names=fb_train.columns, rounded=True)\n",
    "with open(\"mytree.dot\") as f:\n",
    "    dot_graph = f.read()\n",
    "graphviz.Source(dot_graph)"
   ]
  },
  {
   "cell_type": "markdown",
   "metadata": {},
   "source": [
    "TO DO fix so values are taken out"
   ]
  },
  {
   "cell_type": "markdown",
   "metadata": {},
   "source": [
    "# Sources\n",
    "https://www.svds.com/machine-learning-vs-statistics/ \n",
    "\n",
    "https://github.com/xbno/Projects/blob/master/Models_Scratch/Decision%20Trees%20from%20scratch.ipynb\n",
    "\n",
    "http://scikit-learn.org/stable/modules/generated/sklearn.ensemble.RandomForestClassifier.html\n",
    "\n",
    "http://scikit-learn.org/stable/modules/ensemble.html\n",
    "\n",
    "\n",
    "Raschka and Mirjalili\n",
    "\n",
    "Muller and Guido\n"
   ]
  },
  {
   "cell_type": "markdown",
   "metadata": {},
   "source": [
    "https://machinelearningmastery.com/ensemble-machine-learning-algorithms-python-scikit-learn/"
   ]
  },
  {
   "cell_type": "code",
   "execution_count": null,
   "metadata": {},
   "outputs": [],
   "source": []
  }
 ],
 "metadata": {
  "kernelspec": {
   "display_name": "Python 3",
   "language": "python",
   "name": "python3"
  },
  "language_info": {
   "codemirror_mode": {
    "name": "ipython",
    "version": 3
   },
   "file_extension": ".py",
   "mimetype": "text/x-python",
   "name": "python",
   "nbconvert_exporter": "python",
   "pygments_lexer": "ipython3",
   "version": "3.6.4"
  }
 },
 "nbformat": 4,
 "nbformat_minor": 2
}
