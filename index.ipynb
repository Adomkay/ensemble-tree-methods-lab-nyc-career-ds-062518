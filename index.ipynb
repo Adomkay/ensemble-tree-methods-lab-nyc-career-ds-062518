{
 "cells": [
  {
   "cell_type": "markdown",
   "metadata": {},
   "source": [
    "# Ensemble methods"
   ]
  },
  {
   "cell_type": "markdown",
   "metadata": {},
   "source": [
    "## 1. Importing the data"
   ]
  },
  {
   "cell_type": "markdown",
   "metadata": {},
   "source": [
    "We'll use the same data set whe used in the last lab. The salary data set was extracted from the census bureau database and contains salary information. The goal is to use this data set and to try to draw conclusions regarding what drives salaries. More specifically, the target variable is categorical (> 50k; <= 50 k). Let's create a classification tree!"
   ]
  },
  {
   "cell_type": "code",
   "execution_count": 1,
   "metadata": {},
   "outputs": [
    {
     "name": "stderr",
     "output_type": "stream",
     "text": [
<<<<<<< HEAD
      "C:\\Users\\medio\\AppData\\Local\\Continuum\\anaconda3\\lib\\site-packages\\sklearn\\cross_validation.py:41: DeprecationWarning: This module was deprecated in version 0.18 in favor of the model_selection module into which all the refactored classes and functions are moved. Also note that the interface of the new CV iterators are different from that of this module. This module will be removed in 0.20.\n",
=======
      "/anaconda3/lib/python3.6/site-packages/sklearn/cross_validation.py:41: DeprecationWarning: This module was deprecated in version 0.18 in favor of the model_selection module into which all the refactored classes and functions are moved. Also note that the interface of the new CV iterators are different from that of this module. This module will be removed in 0.20.\n",
>>>>>>> 889b95742bd28ff876402ee859cdc2552fe7950f
      "  \"This module will be removed in 0.20.\", DeprecationWarning)\n"
     ]
    }
   ],
   "source": [
    "import pandas as pd\n",
    "import numpy as np\n",
<<<<<<< HEAD
    "np.random.seed(0)\n",
=======
>>>>>>> 889b95742bd28ff876402ee859cdc2552fe7950f
    "import statsmodels as sm\n",
    "import matplotlib.pyplot as plt\n",
    "import sklearn as skl\n",
    "import sklearn.preprocessing as preprocessing\n",
    "import sklearn.linear_model as linear_model\n",
    "from sklearn.cross_validation import train_test_split\n",
    "import sklearn.metrics as metrics\n",
    "import sklearn.tree as tree\n",
    "import seaborn as sns\n",
    "import graphviz \n",
    "from sklearn.tree import export_graphviz"
   ]
  },
  {
<<<<<<< HEAD
   "cell_type": "markdown",
   "metadata": {},
   "source": [
    "Our dataset is stored in the file `salaries_final.csv`.  \n",
    "\n",
    "In the cell below, read in the dataset from this file and store it in a DataFrame.  Be sure to set the `index_col` parameter to `0`.  Then, display the head of the DataFrame to ensure that everything loaded correctly."
=======
   "cell_type": "code",
   "execution_count": 2,
   "metadata": {},
   "outputs": [],
   "source": [
    "salaries = pd.read_csv(\"salaries_final.csv\", index_col = 0)"
   ]
  },
  {
   "cell_type": "markdown",
   "metadata": {},
   "source": [
    "In total, there are 6 predictors, and one outcome variable, the target salary <= 50k/ >50k."
   ]
  },
  {
   "cell_type": "markdown",
   "metadata": {},
   "source": [
    "recall that the 6 predictors are:\n",
    "\n",
    "- `Age`: continuous.\n",
    "\n",
    "- `Education`: Categorical. Bachelors, Some-college, 11th, HS-grad, Prof-school, Assoc-acdm, Assoc-voc, 9th, 7th-8th, 12th, \n",
    "Masters, 1st-4th, 10th, Doctorate, 5th-6th, Preschool.\n",
    "\n",
    "- `Occupation`: Tech-support, Craft-repair, Other-service, Sales, Exec-managerial, Prof-specialty, Handlers-cleaners, Machine-op-inspct, Adm-clerical, Farming-fishing, Transport-moving, Priv-house-serv, Protective-serv, Armed-Forces.\n",
    "\n",
    "- `Relationship`: Wife, Own-child, Husband, Not-in-family, Other-relative, Unmarried.\n",
    "\n",
    "- `Race`: White, Asian-Pac-Islander, Amer-Indian-Eskimo, Other, Black.\n",
    "\n",
    "- `Sex`: Female, Male."
>>>>>>> 889b95742bd28ff876402ee859cdc2552fe7950f
   ]
  },
  {
   "cell_type": "code",
<<<<<<< HEAD
   "execution_count": 2,
=======
   "execution_count": 3,
>>>>>>> 889b95742bd28ff876402ee859cdc2552fe7950f
   "metadata": {},
   "outputs": [
    {
     "data": {
      "text/html": [
       "<div>\n",
       "<style scoped>\n",
       "    .dataframe tbody tr th:only-of-type {\n",
       "        vertical-align: middle;\n",
       "    }\n",
       "\n",
       "    .dataframe tbody tr th {\n",
       "        vertical-align: top;\n",
       "    }\n",
       "\n",
       "    .dataframe thead th {\n",
       "        text-align: right;\n",
       "    }\n",
       "</style>\n",
       "<table border=\"1\" class=\"dataframe\">\n",
       "  <thead>\n",
       "    <tr style=\"text-align: right;\">\n",
       "      <th></th>\n",
       "      <th>Age</th>\n",
       "      <th>Education</th>\n",
       "      <th>Occupation</th>\n",
       "      <th>Relationship</th>\n",
       "      <th>Race</th>\n",
       "      <th>Sex</th>\n",
       "      <th>Target</th>\n",
       "    </tr>\n",
       "  </thead>\n",
       "  <tbody>\n",
       "    <tr>\n",
       "      <th>0</th>\n",
       "      <td>39</td>\n",
       "      <td>Bachelors</td>\n",
       "      <td>Adm-clerical</td>\n",
       "      <td>Not-in-family</td>\n",
       "      <td>White</td>\n",
       "      <td>Male</td>\n",
       "      <td>&lt;=50K</td>\n",
       "    </tr>\n",
       "    <tr>\n",
       "      <th>1</th>\n",
       "      <td>50</td>\n",
       "      <td>Bachelors</td>\n",
       "      <td>Exec-managerial</td>\n",
       "      <td>Husband</td>\n",
       "      <td>White</td>\n",
       "      <td>Male</td>\n",
       "      <td>&lt;=50K</td>\n",
       "    </tr>\n",
       "    <tr>\n",
       "      <th>2</th>\n",
       "      <td>38</td>\n",
       "      <td>HS-grad</td>\n",
       "      <td>Handlers-cleaners</td>\n",
       "      <td>Not-in-family</td>\n",
       "      <td>White</td>\n",
       "      <td>Male</td>\n",
       "      <td>&lt;=50K</td>\n",
       "    </tr>\n",
       "    <tr>\n",
       "      <th>3</th>\n",
       "      <td>53</td>\n",
       "      <td>11th</td>\n",
       "      <td>Handlers-cleaners</td>\n",
       "      <td>Husband</td>\n",
       "      <td>Black</td>\n",
       "      <td>Male</td>\n",
       "      <td>&lt;=50K</td>\n",
       "    </tr>\n",
       "    <tr>\n",
       "      <th>4</th>\n",
       "      <td>28</td>\n",
       "      <td>Bachelors</td>\n",
       "      <td>Prof-specialty</td>\n",
       "      <td>Wife</td>\n",
       "      <td>Black</td>\n",
       "      <td>Female</td>\n",
       "      <td>&lt;=50K</td>\n",
       "    </tr>\n",
       "  </tbody>\n",
       "</table>\n",
       "</div>"
      ],
      "text/plain": [
       "   Age  Education         Occupation   Relationship   Race     Sex Target\n",
       "0   39  Bachelors       Adm-clerical  Not-in-family  White    Male  <=50K\n",
       "1   50  Bachelors    Exec-managerial        Husband  White    Male  <=50K\n",
       "2   38    HS-grad  Handlers-cleaners  Not-in-family  White    Male  <=50K\n",
       "3   53       11th  Handlers-cleaners        Husband  Black    Male  <=50K\n",
       "4   28  Bachelors     Prof-specialty           Wife  Black  Female  <=50K"
      ]
     },
<<<<<<< HEAD
     "execution_count": 2,
=======
     "execution_count": 3,
>>>>>>> 889b95742bd28ff876402ee859cdc2552fe7950f
     "metadata": {},
     "output_type": "execute_result"
    }
   ],
   "source": [
<<<<<<< HEAD
    "salaries = pd.read_csv(\"salaries_final.csv\", index_col = 0)\n",
=======
>>>>>>> 889b95742bd28ff876402ee859cdc2552fe7950f
    "salaries.head()"
   ]
  },
  {
   "cell_type": "markdown",
   "metadata": {},
   "source": [
<<<<<<< HEAD
    "In total, there are 6 predictors, and one outcome variable, the target salary <= 50k/ >50k."
   ]
  },
  {
   "cell_type": "markdown",
   "metadata": {},
   "source": [
    "recall that the 6 predictors are:\n",
    "\n",
    "- `Age`: continuous.\n",
    "\n",
    "- `Education`: Categorical. Bachelors, Some-college, 11th, HS-grad, Prof-school, Assoc-acdm, Assoc-voc, 9th, 7th-8th, 12th, \n",
    "Masters, 1st-4th, 10th, Doctorate, 5th-6th, Preschool.\n",
    "\n",
    "- `Occupation`: Tech-support, Craft-repair, Other-service, Sales, Exec-managerial, Prof-specialty, Handlers-cleaners, Machine-op-inspct, Adm-clerical, Farming-fishing, Transport-moving, Priv-house-serv, Protective-serv, Armed-Forces.\n",
    "\n",
    "- `Relationship`: Wife, Own-child, Husband, Not-in-family, Other-relative, Unmarried.\n",
    "\n",
    "- `Race`: White, Asian-Pac-Islander, Amer-Indian-Eskimo, Other, Black.\n",
    "\n",
    "- `Sex`: Female, Male."
   ]
  },
  {
   "cell_type": "markdown",
   "metadata": {},
   "source": [
    "In the last lab, we used the `patsy` library's `dmatrices` module to convert our categorical columns to a one-hot encoded format.  In this lab, we'll pandas to accomplish the same task.  \n",
    "\n",
    "First, we'll need to store our target column in a separate variable and drop it from the dataset.  \n",
    "\n",
    "Do this in the cell below. "
   ]
  },
  {
   "cell_type": "code",
   "execution_count": 3,
   "metadata": {},
   "outputs": [],
   "source": [
    "target = salaries['Target']\n",
    "salaries.drop(\"Target\", axis=1, inplace=True)"
   ]
  },
  {
   "cell_type": "markdown",
   "metadata": {},
   "source": [
    "Next, we'll want to confirm that the Age column is currently encoded in a numeric data type, and not a string. By default, pandas will treat all columns encoded as strings as categorical columns, and create a dummy column for each unique value contained within that column.  We do not want a separate column for each age, so let's double check that the age column is encoded as an integer or a float.  \n",
    "\n",
    "In the cell below, check the `.dtypes` of the DataFrame to examine the data type of each column. "
=======
    "Let's use `dmatrices` again to get to the right format to start making our trees."
>>>>>>> 889b95742bd28ff876402ee859cdc2552fe7950f
   ]
  },
  {
   "cell_type": "code",
   "execution_count": 4,
   "metadata": {},
<<<<<<< HEAD
   "outputs": [
    {
     "data": {
      "text/plain": [
       "Age              int64\n",
       "Education       object\n",
       "Occupation      object\n",
       "Relationship    object\n",
       "Race            object\n",
       "Sex             object\n",
       "dtype: object"
      ]
     },
     "execution_count": 4,
     "metadata": {},
     "output_type": "execute_result"
    }
   ],
   "source": [
    "salaries.dtypes"
=======
   "outputs": [],
   "source": [
    "from patsy import dmatrices\n",
    "target, data = dmatrices('Target ~ Age + C(Education) + \\\n",
    "                  C(Occupation) + C(Relationship) + C(Race) + C(Sex)',\n",
    "                  salaries, return_type = \"dataframe\")"
>>>>>>> 889b95742bd28ff876402ee859cdc2552fe7950f
   ]
  },
  {
   "cell_type": "markdown",
   "metadata": {},
   "source": [
<<<<<<< HEAD
    "Great.  Now we're ready to create some dummy columns and deal with our categorical variables.  \n",
    "\n",
    "In the cell below, use pandas to create dummy columns for each of categorical variables.  If you're unsure of how to do this, check out the [documentation](https://pandas.pydata.org/pandas-docs/stable/generated/pandas.get_dummies.html).  "
=======
    "Make a train and test split"
>>>>>>> 889b95742bd28ff876402ee859cdc2552fe7950f
   ]
  },
  {
   "cell_type": "code",
   "execution_count": 5,
   "metadata": {},
<<<<<<< HEAD
   "outputs": [
    {
     "data": {
      "text/html": [
       "<div>\n",
       "<style scoped>\n",
       "    .dataframe tbody tr th:only-of-type {\n",
       "        vertical-align: middle;\n",
       "    }\n",
       "\n",
       "    .dataframe tbody tr th {\n",
       "        vertical-align: top;\n",
       "    }\n",
       "\n",
       "    .dataframe thead th {\n",
       "        text-align: right;\n",
       "    }\n",
       "</style>\n",
       "<table border=\"1\" class=\"dataframe\">\n",
       "  <thead>\n",
       "    <tr style=\"text-align: right;\">\n",
       "      <th></th>\n",
       "      <th>Age</th>\n",
       "      <th>Education_10th</th>\n",
       "      <th>Education_11th</th>\n",
       "      <th>Education_12th</th>\n",
       "      <th>Education_1st-4th</th>\n",
       "      <th>Education_5th-6th</th>\n",
       "      <th>Education_7th-8th</th>\n",
       "      <th>Education_9th</th>\n",
       "      <th>Education_Assoc-acdm</th>\n",
       "      <th>Education_Assoc-voc</th>\n",
       "      <th>...</th>\n",
       "      <th>Relationship_Own-child</th>\n",
       "      <th>Relationship_Unmarried</th>\n",
       "      <th>Relationship_Wife</th>\n",
       "      <th>Race_Amer-Indian-Eskimo</th>\n",
       "      <th>Race_Asian-Pac-Islander</th>\n",
       "      <th>Race_Black</th>\n",
       "      <th>Race_Other</th>\n",
       "      <th>Race_White</th>\n",
       "      <th>Sex_Female</th>\n",
       "      <th>Sex_Male</th>\n",
       "    </tr>\n",
       "  </thead>\n",
       "  <tbody>\n",
       "    <tr>\n",
       "      <th>0</th>\n",
       "      <td>39</td>\n",
       "      <td>0</td>\n",
       "      <td>0</td>\n",
       "      <td>0</td>\n",
       "      <td>0</td>\n",
       "      <td>0</td>\n",
       "      <td>0</td>\n",
       "      <td>0</td>\n",
       "      <td>0</td>\n",
       "      <td>0</td>\n",
       "      <td>...</td>\n",
       "      <td>0</td>\n",
       "      <td>0</td>\n",
       "      <td>0</td>\n",
       "      <td>0</td>\n",
       "      <td>0</td>\n",
       "      <td>0</td>\n",
       "      <td>0</td>\n",
       "      <td>1</td>\n",
       "      <td>0</td>\n",
       "      <td>1</td>\n",
       "    </tr>\n",
       "    <tr>\n",
       "      <th>1</th>\n",
       "      <td>50</td>\n",
       "      <td>0</td>\n",
       "      <td>0</td>\n",
       "      <td>0</td>\n",
       "      <td>0</td>\n",
       "      <td>0</td>\n",
       "      <td>0</td>\n",
       "      <td>0</td>\n",
       "      <td>0</td>\n",
       "      <td>0</td>\n",
       "      <td>...</td>\n",
       "      <td>0</td>\n",
       "      <td>0</td>\n",
       "      <td>0</td>\n",
       "      <td>0</td>\n",
       "      <td>0</td>\n",
       "      <td>0</td>\n",
       "      <td>0</td>\n",
       "      <td>1</td>\n",
       "      <td>0</td>\n",
       "      <td>1</td>\n",
       "    </tr>\n",
       "    <tr>\n",
       "      <th>2</th>\n",
       "      <td>38</td>\n",
       "      <td>0</td>\n",
       "      <td>0</td>\n",
       "      <td>0</td>\n",
       "      <td>0</td>\n",
       "      <td>0</td>\n",
       "      <td>0</td>\n",
       "      <td>0</td>\n",
       "      <td>0</td>\n",
       "      <td>0</td>\n",
       "      <td>...</td>\n",
       "      <td>0</td>\n",
       "      <td>0</td>\n",
       "      <td>0</td>\n",
       "      <td>0</td>\n",
       "      <td>0</td>\n",
       "      <td>0</td>\n",
       "      <td>0</td>\n",
       "      <td>1</td>\n",
       "      <td>0</td>\n",
       "      <td>1</td>\n",
       "    </tr>\n",
       "    <tr>\n",
       "      <th>3</th>\n",
       "      <td>53</td>\n",
       "      <td>0</td>\n",
       "      <td>1</td>\n",
       "      <td>0</td>\n",
       "      <td>0</td>\n",
       "      <td>0</td>\n",
       "      <td>0</td>\n",
       "      <td>0</td>\n",
       "      <td>0</td>\n",
       "      <td>0</td>\n",
       "      <td>...</td>\n",
       "      <td>0</td>\n",
       "      <td>0</td>\n",
       "      <td>0</td>\n",
       "      <td>0</td>\n",
       "      <td>0</td>\n",
       "      <td>1</td>\n",
       "      <td>0</td>\n",
       "      <td>0</td>\n",
       "      <td>0</td>\n",
       "      <td>1</td>\n",
       "    </tr>\n",
       "    <tr>\n",
       "      <th>4</th>\n",
       "      <td>28</td>\n",
       "      <td>0</td>\n",
       "      <td>0</td>\n",
       "      <td>0</td>\n",
       "      <td>0</td>\n",
       "      <td>0</td>\n",
       "      <td>0</td>\n",
       "      <td>0</td>\n",
       "      <td>0</td>\n",
       "      <td>0</td>\n",
       "      <td>...</td>\n",
       "      <td>0</td>\n",
       "      <td>0</td>\n",
       "      <td>1</td>\n",
       "      <td>0</td>\n",
       "      <td>0</td>\n",
       "      <td>1</td>\n",
       "      <td>0</td>\n",
       "      <td>0</td>\n",
       "      <td>1</td>\n",
       "      <td>0</td>\n",
       "    </tr>\n",
       "  </tbody>\n",
       "</table>\n",
       "<p>5 rows × 45 columns</p>\n",
       "</div>"
      ],
      "text/plain": [
       "   Age  Education_10th  Education_11th  Education_12th  Education_1st-4th  \\\n",
       "0   39               0               0               0                  0   \n",
       "1   50               0               0               0                  0   \n",
       "2   38               0               0               0                  0   \n",
       "3   53               0               1               0                  0   \n",
       "4   28               0               0               0                  0   \n",
       "\n",
       "   Education_5th-6th  Education_7th-8th  Education_9th  Education_Assoc-acdm  \\\n",
       "0                  0                  0              0                     0   \n",
       "1                  0                  0              0                     0   \n",
       "2                  0                  0              0                     0   \n",
       "3                  0                  0              0                     0   \n",
       "4                  0                  0              0                     0   \n",
       "\n",
       "   Education_Assoc-voc    ...     Relationship_Own-child  \\\n",
       "0                    0    ...                          0   \n",
       "1                    0    ...                          0   \n",
       "2                    0    ...                          0   \n",
       "3                    0    ...                          0   \n",
       "4                    0    ...                          0   \n",
       "\n",
       "   Relationship_Unmarried  Relationship_Wife  Race_Amer-Indian-Eskimo  \\\n",
       "0                       0                  0                        0   \n",
       "1                       0                  0                        0   \n",
       "2                       0                  0                        0   \n",
       "3                       0                  0                        0   \n",
       "4                       0                  1                        0   \n",
       "\n",
       "   Race_Asian-Pac-Islander  Race_Black  Race_Other  Race_White  Sex_Female  \\\n",
       "0                        0           0           0           1           0   \n",
       "1                        0           0           0           1           0   \n",
       "2                        0           0           0           1           0   \n",
       "3                        0           1           0           0           0   \n",
       "4                        0           1           0           0           1   \n",
       "\n",
       "   Sex_Male  \n",
       "0         1  \n",
       "1         1  \n",
       "2         1  \n",
       "3         1  \n",
       "4         0  \n",
       "\n",
       "[5 rows x 45 columns]"
      ]
     },
     "execution_count": 5,
     "metadata": {},
     "output_type": "execute_result"
    }
   ],
   "source": [
    "data = pd.get_dummies(salaries)\n",
    "data.head()"
   ]
  },
  {
   "cell_type": "markdown",
   "metadata": {},
   "source": [
    "Now, split your data and target into training and testing sets using the appropriate method from sklearn. "
   ]
  },
  {
   "cell_type": "code",
   "execution_count": 6,
   "metadata": {},
=======
>>>>>>> 889b95742bd28ff876402ee859cdc2552fe7950f
   "outputs": [],
   "source": [
    "data_train, data_test, target_train, target_test = train_test_split(data, target, \n",
    "                                                                   test_size = 0.25, random_state=123)"
   ]
  },
  {
   "cell_type": "markdown",
   "metadata": {},
   "source": [
<<<<<<< HEAD
    "## 2. Let's rebuild a \"regular\" tree as a baseline\n",
    "\n",
    "We'll begin by fitting a regular Decision Tree Classifier, so that we have something to compare our ensemble methods to.  "
=======
    "## 2. Let's rebuild a \"regular\" tree as a baseline"
>>>>>>> 889b95742bd28ff876402ee859cdc2552fe7950f
   ]
  },
  {
   "cell_type": "markdown",
   "metadata": {},
   "source": [
<<<<<<< HEAD
    "### 2.1 Building the tree\n",
    "\n",
    "In the cell below, create a Decision Tree Classifier.  Set the `criterion` to `'gini'`, and a `max_depth` of `5`.  Then, fit the tree to our training data and labels.  "
=======
    "### 2.1 Building the tree"
>>>>>>> 889b95742bd28ff876402ee859cdc2552fe7950f
   ]
  },
  {
   "cell_type": "code",
<<<<<<< HEAD
   "execution_count": 7,
=======
   "execution_count": 6,
>>>>>>> 889b95742bd28ff876402ee859cdc2552fe7950f
   "metadata": {},
   "outputs": [
    {
     "data": {
<<<<<<< HEAD
      "text/plain": [
       "DecisionTreeClassifier(class_weight=None, criterion='gini', max_depth=5,\n",
       "            max_features=None, max_leaf_nodes=None,\n",
       "            min_impurity_decrease=0.0, min_impurity_split=None,\n",
       "            min_samples_leaf=1, min_samples_split=2,\n",
       "            min_weight_fraction_leaf=0.0, presort=False, random_state=None,\n",
       "            splitter='best')"
      ]
     },
     "execution_count": 7,
=======
      "image/svg+xml": [
       "<?xml version=\"1.0\" encoding=\"UTF-8\" standalone=\"no\"?>\n",
       "<!DOCTYPE svg PUBLIC \"-//W3C//DTD SVG 1.1//EN\"\n",
       " \"http://www.w3.org/Graphics/SVG/1.1/DTD/svg11.dtd\">\n",
       "<!-- Generated by graphviz version 2.40.1 (20161225.0304)\n",
       " -->\n",
       "<!-- Title: Tree Pages: 1 -->\n",
       "<svg width=\"4356pt\" height=\"671pt\"\n",
       " viewBox=\"0.00 0.00 4355.50 671.00\" xmlns=\"http://www.w3.org/2000/svg\" xmlns:xlink=\"http://www.w3.org/1999/xlink\">\n",
       "<g id=\"graph0\" class=\"graph\" transform=\"scale(1 1) rotate(0) translate(4 667)\">\n",
       "<title>Tree</title>\n",
       "<polygon fill=\"#ffffff\" stroke=\"transparent\" points=\"-4,4 -4,-667 4351.5,-667 4351.5,4 -4,4\"/>\n",
       "<!-- 0 -->\n",
       "<g id=\"node1\" class=\"node\">\n",
       "<title>0</title>\n",
       "<path fill=\"none\" stroke=\"#000000\" d=\"M2265,-663C2265,-663 2169,-663 2169,-663 2163,-663 2157,-657 2157,-651 2157,-651 2157,-592 2157,-592 2157,-586 2163,-580 2169,-580 2169,-580 2265,-580 2265,-580 2271,-580 2277,-586 2277,-592 2277,-592 2277,-651 2277,-651 2277,-657 2271,-663 2265,-663\"/>\n",
       "<text text-anchor=\"middle\" x=\"2217\" y=\"-647.8\" font-family=\"Helvetica,sans-Serif\" font-size=\"14.00\" fill=\"#000000\">Age &lt;= 29.5</text>\n",
       "<text text-anchor=\"middle\" x=\"2217\" y=\"-632.8\" font-family=\"Helvetica,sans-Serif\" font-size=\"14.00\" fill=\"#000000\">gini = 0.365</text>\n",
       "<text text-anchor=\"middle\" x=\"2217\" y=\"-617.8\" font-family=\"Helvetica,sans-Serif\" font-size=\"14.00\" fill=\"#000000\">samples = 24420</text>\n",
       "<text text-anchor=\"middle\" x=\"2217\" y=\"-602.8\" font-family=\"Helvetica,sans-Serif\" font-size=\"14.00\" fill=\"#000000\">value = [18555, 5865]</text>\n",
       "<text text-anchor=\"middle\" x=\"2217\" y=\"-587.8\" font-family=\"Helvetica,sans-Serif\" font-size=\"14.00\" fill=\"#000000\">class = Target[&lt;=50K]</text>\n",
       "</g>\n",
       "<!-- 1 -->\n",
       "<g id=\"node2\" class=\"node\">\n",
       "<title>1</title>\n",
       "<path fill=\"none\" stroke=\"#000000\" d=\"M1714,-544C1714,-544 1618,-544 1618,-544 1612,-544 1606,-538 1606,-532 1606,-532 1606,-473 1606,-473 1606,-467 1612,-461 1618,-461 1618,-461 1714,-461 1714,-461 1720,-461 1726,-467 1726,-473 1726,-473 1726,-532 1726,-532 1726,-538 1720,-544 1714,-544\"/>\n",
       "<text text-anchor=\"middle\" x=\"1666\" y=\"-528.8\" font-family=\"Helvetica,sans-Serif\" font-size=\"14.00\" fill=\"#000000\">Age &lt;= 25.5</text>\n",
       "<text text-anchor=\"middle\" x=\"1666\" y=\"-513.8\" font-family=\"Helvetica,sans-Serif\" font-size=\"14.00\" fill=\"#000000\">gini = 0.1</text>\n",
       "<text text-anchor=\"middle\" x=\"1666\" y=\"-498.8\" font-family=\"Helvetica,sans-Serif\" font-size=\"14.00\" fill=\"#000000\">samples = 7314</text>\n",
       "<text text-anchor=\"middle\" x=\"1666\" y=\"-483.8\" font-family=\"Helvetica,sans-Serif\" font-size=\"14.00\" fill=\"#000000\">value = [6927, 387]</text>\n",
       "<text text-anchor=\"middle\" x=\"1666\" y=\"-468.8\" font-family=\"Helvetica,sans-Serif\" font-size=\"14.00\" fill=\"#000000\">class = Target[&lt;=50K]</text>\n",
       "</g>\n",
       "<!-- 0&#45;&gt;1 -->\n",
       "<g id=\"edge1\" class=\"edge\">\n",
       "<title>0&#45;&gt;1</title>\n",
       "<path fill=\"none\" stroke=\"#000000\" d=\"M2156.9844,-608.5384C2054.3387,-586.3699 1845.5919,-541.2866 1736.2992,-517.6826\"/>\n",
       "<polygon fill=\"#000000\" stroke=\"#000000\" points=\"1736.8739,-514.2261 1726.3603,-515.5361 1735.3961,-521.0683 1736.8739,-514.2261\"/>\n",
       "<text text-anchor=\"middle\" x=\"1739.9078\" y=\"-532.8472\" font-family=\"Helvetica,sans-Serif\" font-size=\"14.00\" fill=\"#000000\">True</text>\n",
       "</g>\n",
       "<!-- 32 -->\n",
       "<g id=\"node33\" class=\"node\">\n",
       "<title>32</title>\n",
       "<path fill=\"none\" stroke=\"#000000\" d=\"M2761,-544C2761,-544 2665,-544 2665,-544 2659,-544 2653,-538 2653,-532 2653,-532 2653,-473 2653,-473 2653,-467 2659,-461 2665,-461 2665,-461 2761,-461 2761,-461 2767,-461 2773,-467 2773,-473 2773,-473 2773,-532 2773,-532 2773,-538 2767,-544 2761,-544\"/>\n",
       "<text text-anchor=\"middle\" x=\"2713\" y=\"-528.8\" font-family=\"Helvetica,sans-Serif\" font-size=\"14.00\" fill=\"#000000\">C(Sex)[T.Male] &lt;= 0.5</text>\n",
       "<text text-anchor=\"middle\" x=\"2713\" y=\"-513.8\" font-family=\"Helvetica,sans-Serif\" font-size=\"14.00\" fill=\"#000000\">gini = 0.435</text>\n",
       "<text text-anchor=\"middle\" x=\"2713\" y=\"-498.8\" font-family=\"Helvetica,sans-Serif\" font-size=\"14.00\" fill=\"#000000\">samples = 17106</text>\n",
       "<text text-anchor=\"middle\" x=\"2713\" y=\"-483.8\" font-family=\"Helvetica,sans-Serif\" font-size=\"14.00\" fill=\"#000000\">value = [11628, 5478]</text>\n",
       "<text text-anchor=\"middle\" x=\"2713\" y=\"-468.8\" font-family=\"Helvetica,sans-Serif\" font-size=\"14.00\" fill=\"#000000\">class = Target[&lt;=50K]</text>\n",
       "</g>\n",
       "<!-- 0&#45;&gt;32 -->\n",
       "<g id=\"edge32\" class=\"edge\">\n",
       "<title>0&#45;&gt;32</title>\n",
       "<path fill=\"none\" stroke=\"#000000\" d=\"M2277.3235,-607.0272C2369.5512,-584.9 2545.1727,-542.765 2642.9201,-519.3135\"/>\n",
       "<polygon fill=\"#000000\" stroke=\"#000000\" points=\"2643.8014,-522.7015 2652.7089,-516.965 2642.1683,-515.8946 2643.8014,-522.7015\"/>\n",
       "<text text-anchor=\"middle\" x=\"2639.6433\" y=\"-534.579\" font-family=\"Helvetica,sans-Serif\" font-size=\"14.00\" fill=\"#000000\">False</text>\n",
       "</g>\n",
       "<!-- 2 -->\n",
       "<g id=\"node3\" class=\"node\">\n",
       "<title>2</title>\n",
       "<path fill=\"none\" stroke=\"#000000\" d=\"M886,-425C886,-425 752,-425 752,-425 746,-425 740,-419 740,-413 740,-413 740,-354 740,-354 740,-348 746,-342 752,-342 752,-342 886,-342 886,-342 892,-342 898,-348 898,-354 898,-354 898,-413 898,-413 898,-419 892,-425 886,-425\"/>\n",
       "<text text-anchor=\"middle\" x=\"819\" y=\"-409.8\" font-family=\"Helvetica,sans-Serif\" font-size=\"14.00\" fill=\"#000000\">C(Relationship)[T.Wife] &lt;= 0.5</text>\n",
       "<text text-anchor=\"middle\" x=\"819\" y=\"-394.8\" font-family=\"Helvetica,sans-Serif\" font-size=\"14.00\" fill=\"#000000\">gini = 0.035</text>\n",
       "<text text-anchor=\"middle\" x=\"819\" y=\"-379.8\" font-family=\"Helvetica,sans-Serif\" font-size=\"14.00\" fill=\"#000000\">samples = 4823</text>\n",
       "<text text-anchor=\"middle\" x=\"819\" y=\"-364.8\" font-family=\"Helvetica,sans-Serif\" font-size=\"14.00\" fill=\"#000000\">value = [4738, 85]</text>\n",
       "<text text-anchor=\"middle\" x=\"819\" y=\"-349.8\" font-family=\"Helvetica,sans-Serif\" font-size=\"14.00\" fill=\"#000000\">class = Target[&lt;=50K]</text>\n",
       "</g>\n",
       "<!-- 1&#45;&gt;2 -->\n",
       "<g id=\"edge2\" class=\"edge\">\n",
       "<title>1&#45;&gt;2</title>\n",
       "<path fill=\"none\" stroke=\"#000000\" d=\"M1605.7649,-494.0372C1458.8389,-473.3947 1081.4461,-420.3726 908.274,-396.0426\"/>\n",
       "<polygon fill=\"#000000\" stroke=\"#000000\" points=\"908.5613,-392.5487 898.1716,-394.6233 907.5874,-399.4806 908.5613,-392.5487\"/>\n",
       "</g>\n",
       "<!-- 17 -->\n",
       "<g id=\"node18\" class=\"node\">\n",
       "<title>17</title>\n",
       "<path fill=\"none\" stroke=\"#000000\" d=\"M1733,-425C1733,-425 1599,-425 1599,-425 1593,-425 1587,-419 1587,-413 1587,-413 1587,-354 1587,-354 1587,-348 1593,-342 1599,-342 1599,-342 1733,-342 1733,-342 1739,-342 1745,-348 1745,-354 1745,-354 1745,-413 1745,-413 1745,-419 1739,-425 1733,-425\"/>\n",
       "<text text-anchor=\"middle\" x=\"1666\" y=\"-409.8\" font-family=\"Helvetica,sans-Serif\" font-size=\"14.00\" fill=\"#000000\">C(Relationship)[T.Wife] &lt;= 0.5</text>\n",
       "<text text-anchor=\"middle\" x=\"1666\" y=\"-394.8\" font-family=\"Helvetica,sans-Serif\" font-size=\"14.00\" fill=\"#000000\">gini = 0.213</text>\n",
       "<text text-anchor=\"middle\" x=\"1666\" y=\"-379.8\" font-family=\"Helvetica,sans-Serif\" font-size=\"14.00\" fill=\"#000000\">samples = 2491</text>\n",
       "<text text-anchor=\"middle\" x=\"1666\" y=\"-364.8\" font-family=\"Helvetica,sans-Serif\" font-size=\"14.00\" fill=\"#000000\">value = [2189, 302]</text>\n",
       "<text text-anchor=\"middle\" x=\"1666\" y=\"-349.8\" font-family=\"Helvetica,sans-Serif\" font-size=\"14.00\" fill=\"#000000\">class = Target[&lt;=50K]</text>\n",
       "</g>\n",
       "<!-- 1&#45;&gt;17 -->\n",
       "<g id=\"edge17\" class=\"edge\">\n",
       "<title>1&#45;&gt;17</title>\n",
       "<path fill=\"none\" stroke=\"#000000\" d=\"M1666,-460.8796C1666,-452.6838 1666,-443.9891 1666,-435.5013\"/>\n",
       "<polygon fill=\"#000000\" stroke=\"#000000\" points=\"1669.5001,-435.298 1666,-425.2981 1662.5001,-435.2981 1669.5001,-435.298\"/>\n",
       "</g>\n",
       "<!-- 3 -->\n",
       "<g id=\"node4\" class=\"node\">\n",
       "<title>3</title>\n",
       "<path fill=\"none\" stroke=\"#000000\" d=\"M479,-306C479,-306 383,-306 383,-306 377,-306 371,-300 371,-294 371,-294 371,-235 371,-235 371,-229 377,-223 383,-223 383,-223 479,-223 479,-223 485,-223 491,-229 491,-235 491,-235 491,-294 491,-294 491,-300 485,-306 479,-306\"/>\n",
       "<text text-anchor=\"middle\" x=\"431\" y=\"-290.8\" font-family=\"Helvetica,sans-Serif\" font-size=\"14.00\" fill=\"#000000\">Age &lt;= 23.5</text>\n",
       "<text text-anchor=\"middle\" x=\"431\" y=\"-275.8\" font-family=\"Helvetica,sans-Serif\" font-size=\"14.00\" fill=\"#000000\">gini = 0.029</text>\n",
       "<text text-anchor=\"middle\" x=\"431\" y=\"-260.8\" font-family=\"Helvetica,sans-Serif\" font-size=\"14.00\" fill=\"#000000\">samples = 4732</text>\n",
       "<text text-anchor=\"middle\" x=\"431\" y=\"-245.8\" font-family=\"Helvetica,sans-Serif\" font-size=\"14.00\" fill=\"#000000\">value = [4662, 70]</text>\n",
       "<text text-anchor=\"middle\" x=\"431\" y=\"-230.8\" font-family=\"Helvetica,sans-Serif\" font-size=\"14.00\" fill=\"#000000\">class = Target[&lt;=50K]</text>\n",
       "</g>\n",
       "<!-- 2&#45;&gt;3 -->\n",
       "<g id=\"edge3\" class=\"edge\">\n",
       "<title>2&#45;&gt;3</title>\n",
       "<path fill=\"none\" stroke=\"#000000\" d=\"M739.5461,-359.1314C669.3894,-337.6143 568.0951,-306.5472 500.9501,-285.9538\"/>\n",
       "<polygon fill=\"#000000\" stroke=\"#000000\" points=\"501.8857,-282.5799 491.299,-282.9938 499.8331,-289.2722 501.8857,-282.5799\"/>\n",
       "</g>\n",
       "<!-- 10 -->\n",
       "<g id=\"node11\" class=\"node\">\n",
       "<title>10</title>\n",
       "<path fill=\"none\" stroke=\"#000000\" d=\"M905,-306C905,-306 733,-306 733,-306 727,-306 721,-300 721,-294 721,-294 721,-235 721,-235 721,-229 727,-223 733,-223 733,-223 905,-223 905,-223 911,-223 917,-229 917,-235 917,-235 917,-294 917,-294 917,-300 911,-306 905,-306\"/>\n",
       "<text text-anchor=\"middle\" x=\"819\" y=\"-290.8\" font-family=\"Helvetica,sans-Serif\" font-size=\"14.00\" fill=\"#000000\">C(Occupation)[T.Prof&#45;specialty] &lt;= 0.5</text>\n",
       "<text text-anchor=\"middle\" x=\"819\" y=\"-275.8\" font-family=\"Helvetica,sans-Serif\" font-size=\"14.00\" fill=\"#000000\">gini = 0.275</text>\n",
       "<text text-anchor=\"middle\" x=\"819\" y=\"-260.8\" font-family=\"Helvetica,sans-Serif\" font-size=\"14.00\" fill=\"#000000\">samples = 91</text>\n",
       "<text text-anchor=\"middle\" x=\"819\" y=\"-245.8\" font-family=\"Helvetica,sans-Serif\" font-size=\"14.00\" fill=\"#000000\">value = [76, 15]</text>\n",
       "<text text-anchor=\"middle\" x=\"819\" y=\"-230.8\" font-family=\"Helvetica,sans-Serif\" font-size=\"14.00\" fill=\"#000000\">class = Target[&lt;=50K]</text>\n",
       "</g>\n",
       "<!-- 2&#45;&gt;10 -->\n",
       "<g id=\"edge10\" class=\"edge\">\n",
       "<title>2&#45;&gt;10</title>\n",
       "<path fill=\"none\" stroke=\"#000000\" d=\"M819,-341.8796C819,-333.6838 819,-324.9891 819,-316.5013\"/>\n",
       "<polygon fill=\"#000000\" stroke=\"#000000\" points=\"822.5001,-316.298 819,-306.2981 815.5001,-316.2981 822.5001,-316.298\"/>\n",
       "</g>\n",
       "<!-- 4 -->\n",
       "<g id=\"node5\" class=\"node\">\n",
       "<title>4</title>\n",
       "<path fill=\"none\" stroke=\"#000000\" d=\"M267.5,-187C267.5,-187 128.5,-187 128.5,-187 122.5,-187 116.5,-181 116.5,-175 116.5,-175 116.5,-116 116.5,-116 116.5,-110 122.5,-104 128.5,-104 128.5,-104 267.5,-104 267.5,-104 273.5,-104 279.5,-110 279.5,-116 279.5,-116 279.5,-175 279.5,-175 279.5,-181 273.5,-187 267.5,-187\"/>\n",
       "<text text-anchor=\"middle\" x=\"198\" y=\"-171.8\" font-family=\"Helvetica,sans-Serif\" font-size=\"14.00\" fill=\"#000000\">C(Education)[T.Masters] &lt;= 0.5</text>\n",
       "<text text-anchor=\"middle\" x=\"198\" y=\"-156.8\" font-family=\"Helvetica,sans-Serif\" font-size=\"14.00\" fill=\"#000000\">gini = 0.011</text>\n",
       "<text text-anchor=\"middle\" x=\"198\" y=\"-141.8\" font-family=\"Helvetica,sans-Serif\" font-size=\"14.00\" fill=\"#000000\">samples = 3523</text>\n",
       "<text text-anchor=\"middle\" x=\"198\" y=\"-126.8\" font-family=\"Helvetica,sans-Serif\" font-size=\"14.00\" fill=\"#000000\">value = [3504, 19]</text>\n",
       "<text text-anchor=\"middle\" x=\"198\" y=\"-111.8\" font-family=\"Helvetica,sans-Serif\" font-size=\"14.00\" fill=\"#000000\">class = Target[&lt;=50K]</text>\n",
       "</g>\n",
       "<!-- 3&#45;&gt;4 -->\n",
       "<g id=\"edge4\" class=\"edge\">\n",
       "<title>3&#45;&gt;4</title>\n",
       "<path fill=\"none\" stroke=\"#000000\" d=\"M370.9967,-233.8545C345.8113,-220.9916 315.9778,-205.7547 288.2395,-191.588\"/>\n",
       "<polygon fill=\"#000000\" stroke=\"#000000\" points=\"289.8134,-188.4618 279.3157,-187.0304 286.6295,-194.6958 289.8134,-188.4618\"/>\n",
       "</g>\n",
       "<!-- 7 -->\n",
       "<g id=\"node8\" class=\"node\">\n",
       "<title>7</title>\n",
       "<path fill=\"none\" stroke=\"#000000\" d=\"M510.5,-187C510.5,-187 351.5,-187 351.5,-187 345.5,-187 339.5,-181 339.5,-175 339.5,-175 339.5,-116 339.5,-116 339.5,-110 345.5,-104 351.5,-104 351.5,-104 510.5,-104 510.5,-104 516.5,-104 522.5,-110 522.5,-116 522.5,-116 522.5,-175 522.5,-175 522.5,-181 516.5,-187 510.5,-187\"/>\n",
       "<text text-anchor=\"middle\" x=\"431\" y=\"-171.8\" font-family=\"Helvetica,sans-Serif\" font-size=\"14.00\" fill=\"#000000\">C(Relationship)[T.Own&#45;child] &lt;= 0.5</text>\n",
       "<text text-anchor=\"middle\" x=\"431\" y=\"-156.8\" font-family=\"Helvetica,sans-Serif\" font-size=\"14.00\" fill=\"#000000\">gini = 0.081</text>\n",
       "<text text-anchor=\"middle\" x=\"431\" y=\"-141.8\" font-family=\"Helvetica,sans-Serif\" font-size=\"14.00\" fill=\"#000000\">samples = 1209</text>\n",
       "<text text-anchor=\"middle\" x=\"431\" y=\"-126.8\" font-family=\"Helvetica,sans-Serif\" font-size=\"14.00\" fill=\"#000000\">value = [1158, 51]</text>\n",
       "<text text-anchor=\"middle\" x=\"431\" y=\"-111.8\" font-family=\"Helvetica,sans-Serif\" font-size=\"14.00\" fill=\"#000000\">class = Target[&lt;=50K]</text>\n",
       "</g>\n",
       "<!-- 3&#45;&gt;7 -->\n",
       "<g id=\"edge7\" class=\"edge\">\n",
       "<title>3&#45;&gt;7</title>\n",
       "<path fill=\"none\" stroke=\"#000000\" d=\"M431,-222.8796C431,-214.6838 431,-205.9891 431,-197.5013\"/>\n",
       "<polygon fill=\"#000000\" stroke=\"#000000\" points=\"434.5001,-197.298 431,-187.2981 427.5001,-197.2981 434.5001,-197.298\"/>\n",
       "</g>\n",
       "<!-- 5 -->\n",
       "<g id=\"node6\" class=\"node\">\n",
       "<title>5</title>\n",
       "<path fill=\"none\" stroke=\"#000000\" d=\"M108,-68C108,-68 12,-68 12,-68 6,-68 0,-62 0,-56 0,-56 0,-12 0,-12 0,-6 6,0 12,0 12,0 108,0 108,0 114,0 120,-6 120,-12 120,-12 120,-56 120,-56 120,-62 114,-68 108,-68\"/>\n",
       "<text text-anchor=\"middle\" x=\"60\" y=\"-52.8\" font-family=\"Helvetica,sans-Serif\" font-size=\"14.00\" fill=\"#000000\">gini = 0.01</text>\n",
       "<text text-anchor=\"middle\" x=\"60\" y=\"-37.8\" font-family=\"Helvetica,sans-Serif\" font-size=\"14.00\" fill=\"#000000\">samples = 3517</text>\n",
       "<text text-anchor=\"middle\" x=\"60\" y=\"-22.8\" font-family=\"Helvetica,sans-Serif\" font-size=\"14.00\" fill=\"#000000\">value = [3499, 18]</text>\n",
       "<text text-anchor=\"middle\" x=\"60\" y=\"-7.8\" font-family=\"Helvetica,sans-Serif\" font-size=\"14.00\" fill=\"#000000\">class = Target[&lt;=50K]</text>\n",
       "</g>\n",
       "<!-- 4&#45;&gt;5 -->\n",
       "<g id=\"edge5\" class=\"edge\">\n",
       "<title>4&#45;&gt;5</title>\n",
       "<path fill=\"none\" stroke=\"#000000\" d=\"M146.6139,-103.9815C134.7839,-94.4232 122.2136,-84.2668 110.4249,-74.7419\"/>\n",
       "<polygon fill=\"#000000\" stroke=\"#000000\" points=\"112.3851,-71.826 102.4071,-68.2637 107.9858,-77.2708 112.3851,-71.826\"/>\n",
       "</g>\n",
       "<!-- 6 -->\n",
       "<g id=\"node7\" class=\"node\">\n",
       "<title>6</title>\n",
       "<path fill=\"none\" stroke=\"#000000\" d=\"M246,-68C246,-68 150,-68 150,-68 144,-68 138,-62 138,-56 138,-56 138,-12 138,-12 138,-6 144,0 150,0 150,0 246,0 246,0 252,0 258,-6 258,-12 258,-12 258,-56 258,-56 258,-62 252,-68 246,-68\"/>\n",
       "<text text-anchor=\"middle\" x=\"198\" y=\"-52.8\" font-family=\"Helvetica,sans-Serif\" font-size=\"14.00\" fill=\"#000000\">gini = 0.278</text>\n",
       "<text text-anchor=\"middle\" x=\"198\" y=\"-37.8\" font-family=\"Helvetica,sans-Serif\" font-size=\"14.00\" fill=\"#000000\">samples = 6</text>\n",
       "<text text-anchor=\"middle\" x=\"198\" y=\"-22.8\" font-family=\"Helvetica,sans-Serif\" font-size=\"14.00\" fill=\"#000000\">value = [5, 1]</text>\n",
       "<text text-anchor=\"middle\" x=\"198\" y=\"-7.8\" font-family=\"Helvetica,sans-Serif\" font-size=\"14.00\" fill=\"#000000\">class = Target[&lt;=50K]</text>\n",
       "</g>\n",
       "<!-- 4&#45;&gt;6 -->\n",
       "<g id=\"edge6\" class=\"edge\">\n",
       "<title>4&#45;&gt;6</title>\n",
       "<path fill=\"none\" stroke=\"#000000\" d=\"M198,-103.9815C198,-95.618 198,-86.7965 198,-78.3409\"/>\n",
       "<polygon fill=\"#000000\" stroke=\"#000000\" points=\"201.5001,-78.2636 198,-68.2637 194.5001,-78.2637 201.5001,-78.2636\"/>\n",
       "</g>\n",
       "<!-- 8 -->\n",
       "<g id=\"node9\" class=\"node\">\n",
       "<title>8</title>\n",
       "<path fill=\"none\" stroke=\"#000000\" d=\"M384,-68C384,-68 288,-68 288,-68 282,-68 276,-62 276,-56 276,-56 276,-12 276,-12 276,-6 282,0 288,0 288,0 384,0 384,0 390,0 396,-6 396,-12 396,-12 396,-56 396,-56 396,-62 390,-68 384,-68\"/>\n",
       "<text text-anchor=\"middle\" x=\"336\" y=\"-52.8\" font-family=\"Helvetica,sans-Serif\" font-size=\"14.00\" fill=\"#000000\">gini = 0.111</text>\n",
       "<text text-anchor=\"middle\" x=\"336\" y=\"-37.8\" font-family=\"Helvetica,sans-Serif\" font-size=\"14.00\" fill=\"#000000\">samples = 811</text>\n",
       "<text text-anchor=\"middle\" x=\"336\" y=\"-22.8\" font-family=\"Helvetica,sans-Serif\" font-size=\"14.00\" fill=\"#000000\">value = [763, 48]</text>\n",
       "<text text-anchor=\"middle\" x=\"336\" y=\"-7.8\" font-family=\"Helvetica,sans-Serif\" font-size=\"14.00\" fill=\"#000000\">class = Target[&lt;=50K]</text>\n",
       "</g>\n",
       "<!-- 7&#45;&gt;8 -->\n",
       "<g id=\"edge8\" class=\"edge\">\n",
       "<title>7&#45;&gt;8</title>\n",
       "<path fill=\"none\" stroke=\"#000000\" d=\"M395.6255,-103.9815C387.8732,-94.8828 379.6591,-85.242 371.8869,-76.1199\"/>\n",
       "<polygon fill=\"#000000\" stroke=\"#000000\" points=\"374.3428,-73.6056 365.1933,-68.2637 369.0146,-78.1454 374.3428,-73.6056\"/>\n",
       "</g>\n",
       "<!-- 9 -->\n",
       "<g id=\"node10\" class=\"node\">\n",
       "<title>9</title>\n",
       "<path fill=\"none\" stroke=\"#000000\" d=\"M522,-68C522,-68 426,-68 426,-68 420,-68 414,-62 414,-56 414,-56 414,-12 414,-12 414,-6 420,0 426,0 426,0 522,0 522,0 528,0 534,-6 534,-12 534,-12 534,-56 534,-56 534,-62 528,-68 522,-68\"/>\n",
       "<text text-anchor=\"middle\" x=\"474\" y=\"-52.8\" font-family=\"Helvetica,sans-Serif\" font-size=\"14.00\" fill=\"#000000\">gini = 0.015</text>\n",
       "<text text-anchor=\"middle\" x=\"474\" y=\"-37.8\" font-family=\"Helvetica,sans-Serif\" font-size=\"14.00\" fill=\"#000000\">samples = 398</text>\n",
       "<text text-anchor=\"middle\" x=\"474\" y=\"-22.8\" font-family=\"Helvetica,sans-Serif\" font-size=\"14.00\" fill=\"#000000\">value = [395, 3]</text>\n",
       "<text text-anchor=\"middle\" x=\"474\" y=\"-7.8\" font-family=\"Helvetica,sans-Serif\" font-size=\"14.00\" fill=\"#000000\">class = Target[&lt;=50K]</text>\n",
       "</g>\n",
       "<!-- 7&#45;&gt;9 -->\n",
       "<g id=\"edge9\" class=\"edge\">\n",
       "<title>7&#45;&gt;9</title>\n",
       "<path fill=\"none\" stroke=\"#000000\" d=\"M447.0116,-103.9815C450.3079,-95.4342 453.7886,-86.4086 457.1147,-77.7839\"/>\n",
       "<polygon fill=\"#000000\" stroke=\"#000000\" points=\"460.4535,-78.8533 460.7862,-68.2637 453.9224,-76.3345 460.4535,-78.8533\"/>\n",
       "</g>\n",
       "<!-- 11 -->\n",
       "<g id=\"node12\" class=\"node\">\n",
       "<title>11</title>\n",
       "<path fill=\"none\" stroke=\"#000000\" d=\"M798,-187C798,-187 702,-187 702,-187 696,-187 690,-181 690,-175 690,-175 690,-116 690,-116 690,-110 696,-104 702,-104 702,-104 798,-104 798,-104 804,-104 810,-110 810,-116 810,-116 810,-175 810,-175 810,-181 804,-187 798,-187\"/>\n",
       "<text text-anchor=\"middle\" x=\"750\" y=\"-171.8\" font-family=\"Helvetica,sans-Serif\" font-size=\"14.00\" fill=\"#000000\">Age &lt;= 24.5</text>\n",
       "<text text-anchor=\"middle\" x=\"750\" y=\"-156.8\" font-family=\"Helvetica,sans-Serif\" font-size=\"14.00\" fill=\"#000000\">gini = 0.198</text>\n",
       "<text text-anchor=\"middle\" x=\"750\" y=\"-141.8\" font-family=\"Helvetica,sans-Serif\" font-size=\"14.00\" fill=\"#000000\">samples = 81</text>\n",
       "<text text-anchor=\"middle\" x=\"750\" y=\"-126.8\" font-family=\"Helvetica,sans-Serif\" font-size=\"14.00\" fill=\"#000000\">value = [72, 9]</text>\n",
       "<text text-anchor=\"middle\" x=\"750\" y=\"-111.8\" font-family=\"Helvetica,sans-Serif\" font-size=\"14.00\" fill=\"#000000\">class = Target[&lt;=50K]</text>\n",
       "</g>\n",
       "<!-- 10&#45;&gt;11 -->\n",
       "<g id=\"edge11\" class=\"edge\">\n",
       "<title>10&#45;&gt;11</title>\n",
       "<path fill=\"none\" stroke=\"#000000\" d=\"M794.8671,-222.8796C789.8539,-214.2335 784.5187,-205.0322 779.3419,-196.1042\"/>\n",
       "<polygon fill=\"#000000\" stroke=\"#000000\" points=\"782.2798,-194.1934 774.2359,-187.2981 776.2242,-197.7047 782.2798,-194.1934\"/>\n",
       "</g>\n",
       "<!-- 14 -->\n",
       "<g id=\"node15\" class=\"node\">\n",
       "<title>14</title>\n",
       "<path fill=\"none\" stroke=\"#000000\" d=\"M932.5,-187C932.5,-187 843.5,-187 843.5,-187 837.5,-187 831.5,-181 831.5,-175 831.5,-175 831.5,-116 831.5,-116 831.5,-110 837.5,-104 843.5,-104 843.5,-104 932.5,-104 932.5,-104 938.5,-104 944.5,-110 944.5,-116 944.5,-116 944.5,-175 944.5,-175 944.5,-181 938.5,-187 932.5,-187\"/>\n",
       "<text text-anchor=\"middle\" x=\"888\" y=\"-171.8\" font-family=\"Helvetica,sans-Serif\" font-size=\"14.00\" fill=\"#000000\">Age &lt;= 23.5</text>\n",
       "<text text-anchor=\"middle\" x=\"888\" y=\"-156.8\" font-family=\"Helvetica,sans-Serif\" font-size=\"14.00\" fill=\"#000000\">gini = 0.48</text>\n",
       "<text text-anchor=\"middle\" x=\"888\" y=\"-141.8\" font-family=\"Helvetica,sans-Serif\" font-size=\"14.00\" fill=\"#000000\">samples = 10</text>\n",
       "<text text-anchor=\"middle\" x=\"888\" y=\"-126.8\" font-family=\"Helvetica,sans-Serif\" font-size=\"14.00\" fill=\"#000000\">value = [4, 6]</text>\n",
       "<text text-anchor=\"middle\" x=\"888\" y=\"-111.8\" font-family=\"Helvetica,sans-Serif\" font-size=\"14.00\" fill=\"#000000\">class = Target[&gt;50K]</text>\n",
       "</g>\n",
       "<!-- 10&#45;&gt;14 -->\n",
       "<g id=\"edge14\" class=\"edge\">\n",
       "<title>10&#45;&gt;14</title>\n",
       "<path fill=\"none\" stroke=\"#000000\" d=\"M843.1329,-222.8796C848.1461,-214.2335 853.4813,-205.0322 858.6581,-196.1042\"/>\n",
       "<polygon fill=\"#000000\" stroke=\"#000000\" points=\"861.7758,-197.7047 863.7641,-187.2981 855.7202,-194.1934 861.7758,-197.7047\"/>\n",
       "</g>\n",
       "<!-- 12 -->\n",
       "<g id=\"node13\" class=\"node\">\n",
       "<title>12</title>\n",
       "<path fill=\"none\" stroke=\"#000000\" d=\"M660,-68C660,-68 564,-68 564,-68 558,-68 552,-62 552,-56 552,-56 552,-12 552,-12 552,-6 558,0 564,0 564,0 660,0 660,0 666,0 672,-6 672,-12 672,-12 672,-56 672,-56 672,-62 666,-68 660,-68\"/>\n",
       "<text text-anchor=\"middle\" x=\"612\" y=\"-52.8\" font-family=\"Helvetica,sans-Serif\" font-size=\"14.00\" fill=\"#000000\">gini = 0.065</text>\n",
       "<text text-anchor=\"middle\" x=\"612\" y=\"-37.8\" font-family=\"Helvetica,sans-Serif\" font-size=\"14.00\" fill=\"#000000\">samples = 59</text>\n",
       "<text text-anchor=\"middle\" x=\"612\" y=\"-22.8\" font-family=\"Helvetica,sans-Serif\" font-size=\"14.00\" fill=\"#000000\">value = [57, 2]</text>\n",
       "<text text-anchor=\"middle\" x=\"612\" y=\"-7.8\" font-family=\"Helvetica,sans-Serif\" font-size=\"14.00\" fill=\"#000000\">class = Target[&lt;=50K]</text>\n",
       "</g>\n",
       "<!-- 11&#45;&gt;12 -->\n",
       "<g id=\"edge12\" class=\"edge\">\n",
       "<title>11&#45;&gt;12</title>\n",
       "<path fill=\"none\" stroke=\"#000000\" d=\"M698.6139,-103.9815C686.7839,-94.4232 674.2136,-84.2668 662.4249,-74.7419\"/>\n",
       "<polygon fill=\"#000000\" stroke=\"#000000\" points=\"664.3851,-71.826 654.4071,-68.2637 659.9858,-77.2708 664.3851,-71.826\"/>\n",
       "</g>\n",
       "<!-- 13 -->\n",
       "<g id=\"node14\" class=\"node\">\n",
       "<title>13</title>\n",
       "<path fill=\"none\" stroke=\"#000000\" d=\"M798,-68C798,-68 702,-68 702,-68 696,-68 690,-62 690,-56 690,-56 690,-12 690,-12 690,-6 696,0 702,0 702,0 798,0 798,0 804,0 810,-6 810,-12 810,-12 810,-56 810,-56 810,-62 804,-68 798,-68\"/>\n",
       "<text text-anchor=\"middle\" x=\"750\" y=\"-52.8\" font-family=\"Helvetica,sans-Serif\" font-size=\"14.00\" fill=\"#000000\">gini = 0.434</text>\n",
       "<text text-anchor=\"middle\" x=\"750\" y=\"-37.8\" font-family=\"Helvetica,sans-Serif\" font-size=\"14.00\" fill=\"#000000\">samples = 22</text>\n",
       "<text text-anchor=\"middle\" x=\"750\" y=\"-22.8\" font-family=\"Helvetica,sans-Serif\" font-size=\"14.00\" fill=\"#000000\">value = [15, 7]</text>\n",
       "<text text-anchor=\"middle\" x=\"750\" y=\"-7.8\" font-family=\"Helvetica,sans-Serif\" font-size=\"14.00\" fill=\"#000000\">class = Target[&lt;=50K]</text>\n",
       "</g>\n",
       "<!-- 11&#45;&gt;13 -->\n",
       "<g id=\"edge13\" class=\"edge\">\n",
       "<title>11&#45;&gt;13</title>\n",
       "<path fill=\"none\" stroke=\"#000000\" d=\"M750,-103.9815C750,-95.618 750,-86.7965 750,-78.3409\"/>\n",
       "<polygon fill=\"#000000\" stroke=\"#000000\" points=\"753.5001,-78.2636 750,-68.2637 746.5001,-78.2637 753.5001,-78.2636\"/>\n",
       "</g>\n",
       "<!-- 15 -->\n",
       "<g id=\"node16\" class=\"node\">\n",
       "<title>15</title>\n",
       "<path fill=\"none\" stroke=\"#000000\" d=\"M936,-68C936,-68 840,-68 840,-68 834,-68 828,-62 828,-56 828,-56 828,-12 828,-12 828,-6 834,0 840,0 840,0 936,0 936,0 942,0 948,-6 948,-12 948,-12 948,-56 948,-56 948,-62 942,-68 936,-68\"/>\n",
       "<text text-anchor=\"middle\" x=\"888\" y=\"-52.8\" font-family=\"Helvetica,sans-Serif\" font-size=\"14.00\" fill=\"#000000\">gini = 0.0</text>\n",
       "<text text-anchor=\"middle\" x=\"888\" y=\"-37.8\" font-family=\"Helvetica,sans-Serif\" font-size=\"14.00\" fill=\"#000000\">samples = 2</text>\n",
       "<text text-anchor=\"middle\" x=\"888\" y=\"-22.8\" font-family=\"Helvetica,sans-Serif\" font-size=\"14.00\" fill=\"#000000\">value = [2, 0]</text>\n",
       "<text text-anchor=\"middle\" x=\"888\" y=\"-7.8\" font-family=\"Helvetica,sans-Serif\" font-size=\"14.00\" fill=\"#000000\">class = Target[&lt;=50K]</text>\n",
       "</g>\n",
       "<!-- 14&#45;&gt;15 -->\n",
       "<g id=\"edge15\" class=\"edge\">\n",
       "<title>14&#45;&gt;15</title>\n",
       "<path fill=\"none\" stroke=\"#000000\" d=\"M888,-103.9815C888,-95.618 888,-86.7965 888,-78.3409\"/>\n",
       "<polygon fill=\"#000000\" stroke=\"#000000\" points=\"891.5001,-78.2636 888,-68.2637 884.5001,-78.2637 891.5001,-78.2636\"/>\n",
       "</g>\n",
       "<!-- 16 -->\n",
       "<g id=\"node17\" class=\"node\">\n",
       "<title>16</title>\n",
       "<path fill=\"none\" stroke=\"#000000\" d=\"M1067.5,-68C1067.5,-68 978.5,-68 978.5,-68 972.5,-68 966.5,-62 966.5,-56 966.5,-56 966.5,-12 966.5,-12 966.5,-6 972.5,0 978.5,0 978.5,0 1067.5,0 1067.5,0 1073.5,0 1079.5,-6 1079.5,-12 1079.5,-12 1079.5,-56 1079.5,-56 1079.5,-62 1073.5,-68 1067.5,-68\"/>\n",
       "<text text-anchor=\"middle\" x=\"1023\" y=\"-52.8\" font-family=\"Helvetica,sans-Serif\" font-size=\"14.00\" fill=\"#000000\">gini = 0.375</text>\n",
       "<text text-anchor=\"middle\" x=\"1023\" y=\"-37.8\" font-family=\"Helvetica,sans-Serif\" font-size=\"14.00\" fill=\"#000000\">samples = 8</text>\n",
       "<text text-anchor=\"middle\" x=\"1023\" y=\"-22.8\" font-family=\"Helvetica,sans-Serif\" font-size=\"14.00\" fill=\"#000000\">value = [2, 6]</text>\n",
       "<text text-anchor=\"middle\" x=\"1023\" y=\"-7.8\" font-family=\"Helvetica,sans-Serif\" font-size=\"14.00\" fill=\"#000000\">class = Target[&gt;50K]</text>\n",
       "</g>\n",
       "<!-- 14&#45;&gt;16 -->\n",
       "<g id=\"edge16\" class=\"edge\">\n",
       "<title>14&#45;&gt;16</title>\n",
       "<path fill=\"none\" stroke=\"#000000\" d=\"M938.269,-103.9815C949.8418,-94.4232 962.1389,-84.2668 973.6713,-74.7419\"/>\n",
       "<polygon fill=\"#000000\" stroke=\"#000000\" points=\"976.0334,-77.3304 981.5148,-68.2637 971.5757,-71.9332 976.0334,-77.3304\"/>\n",
       "</g>\n",
       "<!-- 18 -->\n",
       "<g id=\"node19\" class=\"node\">\n",
       "<title>18</title>\n",
       "<path fill=\"none\" stroke=\"#000000\" d=\"M1577,-306C1577,-306 1481,-306 1481,-306 1475,-306 1469,-300 1469,-294 1469,-294 1469,-235 1469,-235 1469,-229 1475,-223 1481,-223 1481,-223 1577,-223 1577,-223 1583,-223 1589,-229 1589,-235 1589,-235 1589,-294 1589,-294 1589,-300 1583,-306 1577,-306\"/>\n",
       "<text text-anchor=\"middle\" x=\"1529\" y=\"-290.8\" font-family=\"Helvetica,sans-Serif\" font-size=\"14.00\" fill=\"#000000\">C(Sex)[T.Male] &lt;= 0.5</text>\n",
       "<text text-anchor=\"middle\" x=\"1529\" y=\"-275.8\" font-family=\"Helvetica,sans-Serif\" font-size=\"14.00\" fill=\"#000000\">gini = 0.186</text>\n",
       "<text text-anchor=\"middle\" x=\"1529\" y=\"-260.8\" font-family=\"Helvetica,sans-Serif\" font-size=\"14.00\" fill=\"#000000\">samples = 2345</text>\n",
       "<text text-anchor=\"middle\" x=\"1529\" y=\"-245.8\" font-family=\"Helvetica,sans-Serif\" font-size=\"14.00\" fill=\"#000000\">value = [2101, 244]</text>\n",
       "<text text-anchor=\"middle\" x=\"1529\" y=\"-230.8\" font-family=\"Helvetica,sans-Serif\" font-size=\"14.00\" fill=\"#000000\">class = Target[&lt;=50K]</text>\n",
       "</g>\n",
       "<!-- 17&#45;&gt;18 -->\n",
       "<g id=\"edge18\" class=\"edge\">\n",
       "<title>17&#45;&gt;18</title>\n",
       "<path fill=\"none\" stroke=\"#000000\" d=\"M1618.084,-341.8796C1607.3007,-332.513 1595.7671,-322.4948 1584.6961,-312.8784\"/>\n",
       "<polygon fill=\"#000000\" stroke=\"#000000\" points=\"1586.9653,-310.2134 1577.1205,-306.2981 1582.3749,-315.4982 1586.9653,-310.2134\"/>\n",
       "</g>\n",
       "<!-- 25 -->\n",
       "<g id=\"node26\" class=\"node\">\n",
       "<title>25</title>\n",
       "<path fill=\"none\" stroke=\"#000000\" d=\"M1841,-306C1841,-306 1693,-306 1693,-306 1687,-306 1681,-300 1681,-294 1681,-294 1681,-235 1681,-235 1681,-229 1687,-223 1693,-223 1693,-223 1841,-223 1841,-223 1847,-223 1853,-229 1853,-235 1853,-235 1853,-294 1853,-294 1853,-300 1847,-306 1841,-306\"/>\n",
       "<text text-anchor=\"middle\" x=\"1767\" y=\"-290.8\" font-family=\"Helvetica,sans-Serif\" font-size=\"14.00\" fill=\"#000000\">C(Education)[T.Bachelors] &lt;= 0.5</text>\n",
       "<text text-anchor=\"middle\" x=\"1767\" y=\"-275.8\" font-family=\"Helvetica,sans-Serif\" font-size=\"14.00\" fill=\"#000000\">gini = 0.479</text>\n",
       "<text text-anchor=\"middle\" x=\"1767\" y=\"-260.8\" font-family=\"Helvetica,sans-Serif\" font-size=\"14.00\" fill=\"#000000\">samples = 146</text>\n",
       "<text text-anchor=\"middle\" x=\"1767\" y=\"-245.8\" font-family=\"Helvetica,sans-Serif\" font-size=\"14.00\" fill=\"#000000\">value = [88, 58]</text>\n",
       "<text text-anchor=\"middle\" x=\"1767\" y=\"-230.8\" font-family=\"Helvetica,sans-Serif\" font-size=\"14.00\" fill=\"#000000\">class = Target[&lt;=50K]</text>\n",
       "</g>\n",
       "<!-- 17&#45;&gt;25 -->\n",
       "<g id=\"edge25\" class=\"edge\">\n",
       "<title>17&#45;&gt;25</title>\n",
       "<path fill=\"none\" stroke=\"#000000\" d=\"M1701.3249,-341.8796C1708.9689,-332.8733 1717.1243,-323.2644 1724.9961,-313.9897\"/>\n",
       "<polygon fill=\"#000000\" stroke=\"#000000\" points=\"1727.7218,-316.1871 1731.5243,-306.2981 1722.3849,-311.6574 1727.7218,-316.1871\"/>\n",
       "</g>\n",
       "<!-- 19 -->\n",
       "<g id=\"node20\" class=\"node\">\n",
       "<title>19</title>\n",
       "<path fill=\"none\" stroke=\"#000000\" d=\"M1369.5,-187C1369.5,-187 1222.5,-187 1222.5,-187 1216.5,-187 1210.5,-181 1210.5,-175 1210.5,-175 1210.5,-116 1210.5,-116 1210.5,-110 1216.5,-104 1222.5,-104 1222.5,-104 1369.5,-104 1369.5,-104 1375.5,-104 1381.5,-110 1381.5,-116 1381.5,-116 1381.5,-175 1381.5,-175 1381.5,-181 1375.5,-187 1369.5,-187\"/>\n",
       "<text text-anchor=\"middle\" x=\"1296\" y=\"-171.8\" font-family=\"Helvetica,sans-Serif\" font-size=\"14.00\" fill=\"#000000\">C(Education)[T.Doctorate] &lt;= 0.5</text>\n",
       "<text text-anchor=\"middle\" x=\"1296\" y=\"-156.8\" font-family=\"Helvetica,sans-Serif\" font-size=\"14.00\" fill=\"#000000\">gini = 0.05</text>\n",
       "<text text-anchor=\"middle\" x=\"1296\" y=\"-141.8\" font-family=\"Helvetica,sans-Serif\" font-size=\"14.00\" fill=\"#000000\">samples = 740</text>\n",
       "<text text-anchor=\"middle\" x=\"1296\" y=\"-126.8\" font-family=\"Helvetica,sans-Serif\" font-size=\"14.00\" fill=\"#000000\">value = [721, 19]</text>\n",
       "<text text-anchor=\"middle\" x=\"1296\" y=\"-111.8\" font-family=\"Helvetica,sans-Serif\" font-size=\"14.00\" fill=\"#000000\">class = Target[&lt;=50K]</text>\n",
       "</g>\n",
       "<!-- 18&#45;&gt;19 -->\n",
       "<g id=\"edge19\" class=\"edge\">\n",
       "<title>18&#45;&gt;19</title>\n",
       "<path fill=\"none\" stroke=\"#000000\" d=\"M1468.9967,-233.8545C1443.8113,-220.9916 1413.9778,-205.7547 1386.2395,-191.588\"/>\n",
       "<polygon fill=\"#000000\" stroke=\"#000000\" points=\"1387.8134,-188.4618 1377.3157,-187.0304 1384.6295,-194.6958 1387.8134,-188.4618\"/>\n",
       "</g>\n",
       "<!-- 22 -->\n",
       "<g id=\"node23\" class=\"node\">\n",
       "<title>22</title>\n",
       "<path fill=\"none\" stroke=\"#000000\" d=\"M1603,-187C1603,-187 1455,-187 1455,-187 1449,-187 1443,-181 1443,-175 1443,-175 1443,-116 1443,-116 1443,-110 1449,-104 1455,-104 1455,-104 1603,-104 1603,-104 1609,-104 1615,-110 1615,-116 1615,-116 1615,-175 1615,-175 1615,-181 1609,-187 1603,-187\"/>\n",
       "<text text-anchor=\"middle\" x=\"1529\" y=\"-171.8\" font-family=\"Helvetica,sans-Serif\" font-size=\"14.00\" fill=\"#000000\">C(Education)[T.Bachelors] &lt;= 0.5</text>\n",
       "<text text-anchor=\"middle\" x=\"1529\" y=\"-156.8\" font-family=\"Helvetica,sans-Serif\" font-size=\"14.00\" fill=\"#000000\">gini = 0.241</text>\n",
       "<text text-anchor=\"middle\" x=\"1529\" y=\"-141.8\" font-family=\"Helvetica,sans-Serif\" font-size=\"14.00\" fill=\"#000000\">samples = 1605</text>\n",
       "<text text-anchor=\"middle\" x=\"1529\" y=\"-126.8\" font-family=\"Helvetica,sans-Serif\" font-size=\"14.00\" fill=\"#000000\">value = [1380, 225]</text>\n",
       "<text text-anchor=\"middle\" x=\"1529\" y=\"-111.8\" font-family=\"Helvetica,sans-Serif\" font-size=\"14.00\" fill=\"#000000\">class = Target[&lt;=50K]</text>\n",
       "</g>\n",
       "<!-- 18&#45;&gt;22 -->\n",
       "<g id=\"edge22\" class=\"edge\">\n",
       "<title>18&#45;&gt;22</title>\n",
       "<path fill=\"none\" stroke=\"#000000\" d=\"M1529,-222.8796C1529,-214.6838 1529,-205.9891 1529,-197.5013\"/>\n",
       "<polygon fill=\"#000000\" stroke=\"#000000\" points=\"1532.5001,-197.298 1529,-187.2981 1525.5001,-197.2981 1532.5001,-197.298\"/>\n",
       "</g>\n",
       "<!-- 20 -->\n",
       "<g id=\"node21\" class=\"node\">\n",
       "<title>20</title>\n",
       "<path fill=\"none\" stroke=\"#000000\" d=\"M1206,-68C1206,-68 1110,-68 1110,-68 1104,-68 1098,-62 1098,-56 1098,-56 1098,-12 1098,-12 1098,-6 1104,0 1110,0 1110,0 1206,0 1206,0 1212,0 1218,-6 1218,-12 1218,-12 1218,-56 1218,-56 1218,-62 1212,-68 1206,-68\"/>\n",
       "<text text-anchor=\"middle\" x=\"1158\" y=\"-52.8\" font-family=\"Helvetica,sans-Serif\" font-size=\"14.00\" fill=\"#000000\">gini = 0.045</text>\n",
       "<text text-anchor=\"middle\" x=\"1158\" y=\"-37.8\" font-family=\"Helvetica,sans-Serif\" font-size=\"14.00\" fill=\"#000000\">samples = 736</text>\n",
       "<text text-anchor=\"middle\" x=\"1158\" y=\"-22.8\" font-family=\"Helvetica,sans-Serif\" font-size=\"14.00\" fill=\"#000000\">value = [719, 17]</text>\n",
       "<text text-anchor=\"middle\" x=\"1158\" y=\"-7.8\" font-family=\"Helvetica,sans-Serif\" font-size=\"14.00\" fill=\"#000000\">class = Target[&lt;=50K]</text>\n",
       "</g>\n",
       "<!-- 19&#45;&gt;20 -->\n",
       "<g id=\"edge20\" class=\"edge\">\n",
       "<title>19&#45;&gt;20</title>\n",
       "<path fill=\"none\" stroke=\"#000000\" d=\"M1244.6139,-103.9815C1232.7839,-94.4232 1220.2136,-84.2668 1208.4249,-74.7419\"/>\n",
       "<polygon fill=\"#000000\" stroke=\"#000000\" points=\"1210.3851,-71.826 1200.4071,-68.2637 1205.9858,-77.2708 1210.3851,-71.826\"/>\n",
       "</g>\n",
       "<!-- 21 -->\n",
       "<g id=\"node22\" class=\"node\">\n",
       "<title>21</title>\n",
       "<path fill=\"none\" stroke=\"#000000\" d=\"M1344,-68C1344,-68 1248,-68 1248,-68 1242,-68 1236,-62 1236,-56 1236,-56 1236,-12 1236,-12 1236,-6 1242,0 1248,0 1248,0 1344,0 1344,0 1350,0 1356,-6 1356,-12 1356,-12 1356,-56 1356,-56 1356,-62 1350,-68 1344,-68\"/>\n",
       "<text text-anchor=\"middle\" x=\"1296\" y=\"-52.8\" font-family=\"Helvetica,sans-Serif\" font-size=\"14.00\" fill=\"#000000\">gini = 0.5</text>\n",
       "<text text-anchor=\"middle\" x=\"1296\" y=\"-37.8\" font-family=\"Helvetica,sans-Serif\" font-size=\"14.00\" fill=\"#000000\">samples = 4</text>\n",
       "<text text-anchor=\"middle\" x=\"1296\" y=\"-22.8\" font-family=\"Helvetica,sans-Serif\" font-size=\"14.00\" fill=\"#000000\">value = [2, 2]</text>\n",
       "<text text-anchor=\"middle\" x=\"1296\" y=\"-7.8\" font-family=\"Helvetica,sans-Serif\" font-size=\"14.00\" fill=\"#000000\">class = Target[&lt;=50K]</text>\n",
       "</g>\n",
       "<!-- 19&#45;&gt;21 -->\n",
       "<g id=\"edge21\" class=\"edge\">\n",
       "<title>19&#45;&gt;21</title>\n",
       "<path fill=\"none\" stroke=\"#000000\" d=\"M1296,-103.9815C1296,-95.618 1296,-86.7965 1296,-78.3409\"/>\n",
       "<polygon fill=\"#000000\" stroke=\"#000000\" points=\"1299.5001,-78.2636 1296,-68.2637 1292.5001,-78.2637 1299.5001,-78.2636\"/>\n",
       "</g>\n",
       "<!-- 23 -->\n",
       "<g id=\"node24\" class=\"node\">\n",
       "<title>23</title>\n",
       "<path fill=\"none\" stroke=\"#000000\" d=\"M1482,-68C1482,-68 1386,-68 1386,-68 1380,-68 1374,-62 1374,-56 1374,-56 1374,-12 1374,-12 1374,-6 1380,0 1386,0 1386,0 1482,0 1482,0 1488,0 1494,-6 1494,-12 1494,-12 1494,-56 1494,-56 1494,-62 1488,-68 1482,-68\"/>\n",
       "<text text-anchor=\"middle\" x=\"1434\" y=\"-52.8\" font-family=\"Helvetica,sans-Serif\" font-size=\"14.00\" fill=\"#000000\">gini = 0.188</text>\n",
       "<text text-anchor=\"middle\" x=\"1434\" y=\"-37.8\" font-family=\"Helvetica,sans-Serif\" font-size=\"14.00\" fill=\"#000000\">samples = 1285</text>\n",
       "<text text-anchor=\"middle\" x=\"1434\" y=\"-22.8\" font-family=\"Helvetica,sans-Serif\" font-size=\"14.00\" fill=\"#000000\">value = [1150, 135]</text>\n",
       "<text text-anchor=\"middle\" x=\"1434\" y=\"-7.8\" font-family=\"Helvetica,sans-Serif\" font-size=\"14.00\" fill=\"#000000\">class = Target[&lt;=50K]</text>\n",
       "</g>\n",
       "<!-- 22&#45;&gt;23 -->\n",
       "<g id=\"edge23\" class=\"edge\">\n",
       "<title>22&#45;&gt;23</title>\n",
       "<path fill=\"none\" stroke=\"#000000\" d=\"M1493.6255,-103.9815C1485.8732,-94.8828 1477.6591,-85.242 1469.8869,-76.1199\"/>\n",
       "<polygon fill=\"#000000\" stroke=\"#000000\" points=\"1472.3428,-73.6056 1463.1933,-68.2637 1467.0146,-78.1454 1472.3428,-73.6056\"/>\n",
       "</g>\n",
       "<!-- 24 -->\n",
       "<g id=\"node25\" class=\"node\">\n",
       "<title>24</title>\n",
       "<path fill=\"none\" stroke=\"#000000\" d=\"M1620,-68C1620,-68 1524,-68 1524,-68 1518,-68 1512,-62 1512,-56 1512,-56 1512,-12 1512,-12 1512,-6 1518,0 1524,0 1524,0 1620,0 1620,0 1626,0 1632,-6 1632,-12 1632,-12 1632,-56 1632,-56 1632,-62 1626,-68 1620,-68\"/>\n",
       "<text text-anchor=\"middle\" x=\"1572\" y=\"-52.8\" font-family=\"Helvetica,sans-Serif\" font-size=\"14.00\" fill=\"#000000\">gini = 0.404</text>\n",
       "<text text-anchor=\"middle\" x=\"1572\" y=\"-37.8\" font-family=\"Helvetica,sans-Serif\" font-size=\"14.00\" fill=\"#000000\">samples = 320</text>\n",
       "<text text-anchor=\"middle\" x=\"1572\" y=\"-22.8\" font-family=\"Helvetica,sans-Serif\" font-size=\"14.00\" fill=\"#000000\">value = [230, 90]</text>\n",
       "<text text-anchor=\"middle\" x=\"1572\" y=\"-7.8\" font-family=\"Helvetica,sans-Serif\" font-size=\"14.00\" fill=\"#000000\">class = Target[&lt;=50K]</text>\n",
       "</g>\n",
       "<!-- 22&#45;&gt;24 -->\n",
       "<g id=\"edge24\" class=\"edge\">\n",
       "<title>22&#45;&gt;24</title>\n",
       "<path fill=\"none\" stroke=\"#000000\" d=\"M1545.0116,-103.9815C1548.3079,-95.4342 1551.7886,-86.4086 1555.1147,-77.7839\"/>\n",
       "<polygon fill=\"#000000\" stroke=\"#000000\" points=\"1558.4535,-78.8533 1558.7862,-68.2637 1551.9224,-76.3345 1558.4535,-78.8533\"/>\n",
       "</g>\n",
       "<!-- 26 -->\n",
       "<g id=\"node27\" class=\"node\">\n",
       "<title>26</title>\n",
       "<path fill=\"none\" stroke=\"#000000\" d=\"M1836.5,-187C1836.5,-187 1697.5,-187 1697.5,-187 1691.5,-187 1685.5,-181 1685.5,-175 1685.5,-175 1685.5,-116 1685.5,-116 1685.5,-110 1691.5,-104 1697.5,-104 1697.5,-104 1836.5,-104 1836.5,-104 1842.5,-104 1848.5,-110 1848.5,-116 1848.5,-116 1848.5,-175 1848.5,-175 1848.5,-181 1842.5,-187 1836.5,-187\"/>\n",
       "<text text-anchor=\"middle\" x=\"1767\" y=\"-171.8\" font-family=\"Helvetica,sans-Serif\" font-size=\"14.00\" fill=\"#000000\">C(Education)[T.Masters] &lt;= 0.5</text>\n",
       "<text text-anchor=\"middle\" x=\"1767\" y=\"-156.8\" font-family=\"Helvetica,sans-Serif\" font-size=\"14.00\" fill=\"#000000\">gini = 0.405</text>\n",
       "<text text-anchor=\"middle\" x=\"1767\" y=\"-141.8\" font-family=\"Helvetica,sans-Serif\" font-size=\"14.00\" fill=\"#000000\">samples = 110</text>\n",
       "<text text-anchor=\"middle\" x=\"1767\" y=\"-126.8\" font-family=\"Helvetica,sans-Serif\" font-size=\"14.00\" fill=\"#000000\">value = [79, 31]</text>\n",
       "<text text-anchor=\"middle\" x=\"1767\" y=\"-111.8\" font-family=\"Helvetica,sans-Serif\" font-size=\"14.00\" fill=\"#000000\">class = Target[&lt;=50K]</text>\n",
       "</g>\n",
       "<!-- 25&#45;&gt;26 -->\n",
       "<g id=\"edge26\" class=\"edge\">\n",
       "<title>25&#45;&gt;26</title>\n",
       "<path fill=\"none\" stroke=\"#000000\" d=\"M1767,-222.8796C1767,-214.6838 1767,-205.9891 1767,-197.5013\"/>\n",
       "<polygon fill=\"#000000\" stroke=\"#000000\" points=\"1770.5001,-197.298 1767,-187.2981 1763.5001,-197.2981 1770.5001,-197.298\"/>\n",
       "</g>\n",
       "<!-- 29 -->\n",
       "<g id=\"node30\" class=\"node\">\n",
       "<title>29</title>\n",
       "<path fill=\"none\" stroke=\"#000000\" d=\"M2065,-187C2065,-187 1887,-187 1887,-187 1881,-187 1875,-181 1875,-175 1875,-175 1875,-116 1875,-116 1875,-110 1881,-104 1887,-104 1887,-104 2065,-104 2065,-104 2071,-104 2077,-110 2077,-116 2077,-116 2077,-175 2077,-175 2077,-181 2071,-187 2065,-187\"/>\n",
       "<text text-anchor=\"middle\" x=\"1976\" y=\"-171.8\" font-family=\"Helvetica,sans-Serif\" font-size=\"14.00\" fill=\"#000000\">C(Occupation)[T.Protective&#45;serv] &lt;= 0.5</text>\n",
       "<text text-anchor=\"middle\" x=\"1976\" y=\"-156.8\" font-family=\"Helvetica,sans-Serif\" font-size=\"14.00\" fill=\"#000000\">gini = 0.375</text>\n",
       "<text text-anchor=\"middle\" x=\"1976\" y=\"-141.8\" font-family=\"Helvetica,sans-Serif\" font-size=\"14.00\" fill=\"#000000\">samples = 36</text>\n",
       "<text text-anchor=\"middle\" x=\"1976\" y=\"-126.8\" font-family=\"Helvetica,sans-Serif\" font-size=\"14.00\" fill=\"#000000\">value = [9, 27]</text>\n",
       "<text text-anchor=\"middle\" x=\"1976\" y=\"-111.8\" font-family=\"Helvetica,sans-Serif\" font-size=\"14.00\" fill=\"#000000\">class = Target[&gt;50K]</text>\n",
       "</g>\n",
       "<!-- 25&#45;&gt;29 -->\n",
       "<g id=\"edge29\" class=\"edge\">\n",
       "<title>25&#45;&gt;29</title>\n",
       "<path fill=\"none\" stroke=\"#000000\" d=\"M1840.0981,-222.8796C1857.4397,-213.0056 1876.0533,-202.4075 1893.7711,-192.3193\"/>\n",
       "<polygon fill=\"#000000\" stroke=\"#000000\" points=\"1895.9849,-195.0865 1902.9432,-187.0969 1892.5213,-189.0034 1895.9849,-195.0865\"/>\n",
       "</g>\n",
       "<!-- 27 -->\n",
       "<g id=\"node28\" class=\"node\">\n",
       "<title>27</title>\n",
       "<path fill=\"none\" stroke=\"#000000\" d=\"M1758,-68C1758,-68 1662,-68 1662,-68 1656,-68 1650,-62 1650,-56 1650,-56 1650,-12 1650,-12 1650,-6 1656,0 1662,0 1662,0 1758,0 1758,0 1764,0 1770,-6 1770,-12 1770,-12 1770,-56 1770,-56 1770,-62 1764,-68 1758,-68\"/>\n",
       "<text text-anchor=\"middle\" x=\"1710\" y=\"-52.8\" font-family=\"Helvetica,sans-Serif\" font-size=\"14.00\" fill=\"#000000\">gini = 0.346</text>\n",
       "<text text-anchor=\"middle\" x=\"1710\" y=\"-37.8\" font-family=\"Helvetica,sans-Serif\" font-size=\"14.00\" fill=\"#000000\">samples = 99</text>\n",
       "<text text-anchor=\"middle\" x=\"1710\" y=\"-22.8\" font-family=\"Helvetica,sans-Serif\" font-size=\"14.00\" fill=\"#000000\">value = [77, 22]</text>\n",
       "<text text-anchor=\"middle\" x=\"1710\" y=\"-7.8\" font-family=\"Helvetica,sans-Serif\" font-size=\"14.00\" fill=\"#000000\">class = Target[&lt;=50K]</text>\n",
       "</g>\n",
       "<!-- 26&#45;&gt;27 -->\n",
       "<g id=\"edge27\" class=\"edge\">\n",
       "<title>26&#45;&gt;27</title>\n",
       "<path fill=\"none\" stroke=\"#000000\" d=\"M1745.7753,-103.9815C1741.3119,-95.2504 1736.5933,-86.0202 1732.0987,-77.2281\"/>\n",
       "<polygon fill=\"#000000\" stroke=\"#000000\" points=\"1735.1842,-75.5745 1727.516,-68.2637 1728.9514,-78.7608 1735.1842,-75.5745\"/>\n",
       "</g>\n",
       "<!-- 28 -->\n",
       "<g id=\"node29\" class=\"node\">\n",
       "<title>28</title>\n",
       "<path fill=\"none\" stroke=\"#000000\" d=\"M1889.5,-68C1889.5,-68 1800.5,-68 1800.5,-68 1794.5,-68 1788.5,-62 1788.5,-56 1788.5,-56 1788.5,-12 1788.5,-12 1788.5,-6 1794.5,0 1800.5,0 1800.5,0 1889.5,0 1889.5,0 1895.5,0 1901.5,-6 1901.5,-12 1901.5,-12 1901.5,-56 1901.5,-56 1901.5,-62 1895.5,-68 1889.5,-68\"/>\n",
       "<text text-anchor=\"middle\" x=\"1845\" y=\"-52.8\" font-family=\"Helvetica,sans-Serif\" font-size=\"14.00\" fill=\"#000000\">gini = 0.298</text>\n",
       "<text text-anchor=\"middle\" x=\"1845\" y=\"-37.8\" font-family=\"Helvetica,sans-Serif\" font-size=\"14.00\" fill=\"#000000\">samples = 11</text>\n",
       "<text text-anchor=\"middle\" x=\"1845\" y=\"-22.8\" font-family=\"Helvetica,sans-Serif\" font-size=\"14.00\" fill=\"#000000\">value = [2, 9]</text>\n",
       "<text text-anchor=\"middle\" x=\"1845\" y=\"-7.8\" font-family=\"Helvetica,sans-Serif\" font-size=\"14.00\" fill=\"#000000\">class = Target[&gt;50K]</text>\n",
       "</g>\n",
       "<!-- 26&#45;&gt;28 -->\n",
       "<g id=\"edge28\" class=\"edge\">\n",
       "<title>26&#45;&gt;28</title>\n",
       "<path fill=\"none\" stroke=\"#000000\" d=\"M1796.0443,-103.9815C1802.2808,-95.0666 1808.8813,-85.6313 1815.1478,-76.6734\"/>\n",
       "<polygon fill=\"#000000\" stroke=\"#000000\" points=\"1818.1665,-78.464 1821.0308,-68.2637 1812.4307,-74.4515 1818.1665,-78.464\"/>\n",
       "</g>\n",
       "<!-- 30 -->\n",
       "<g id=\"node31\" class=\"node\">\n",
       "<title>30</title>\n",
       "<path fill=\"none\" stroke=\"#000000\" d=\"M2020.5,-68C2020.5,-68 1931.5,-68 1931.5,-68 1925.5,-68 1919.5,-62 1919.5,-56 1919.5,-56 1919.5,-12 1919.5,-12 1919.5,-6 1925.5,0 1931.5,0 1931.5,0 2020.5,0 2020.5,0 2026.5,0 2032.5,-6 2032.5,-12 2032.5,-12 2032.5,-56 2032.5,-56 2032.5,-62 2026.5,-68 2020.5,-68\"/>\n",
       "<text text-anchor=\"middle\" x=\"1976\" y=\"-52.8\" font-family=\"Helvetica,sans-Serif\" font-size=\"14.00\" fill=\"#000000\">gini = 0.353</text>\n",
       "<text text-anchor=\"middle\" x=\"1976\" y=\"-37.8\" font-family=\"Helvetica,sans-Serif\" font-size=\"14.00\" fill=\"#000000\">samples = 35</text>\n",
       "<text text-anchor=\"middle\" x=\"1976\" y=\"-22.8\" font-family=\"Helvetica,sans-Serif\" font-size=\"14.00\" fill=\"#000000\">value = [8, 27]</text>\n",
       "<text text-anchor=\"middle\" x=\"1976\" y=\"-7.8\" font-family=\"Helvetica,sans-Serif\" font-size=\"14.00\" fill=\"#000000\">class = Target[&gt;50K]</text>\n",
       "</g>\n",
       "<!-- 29&#45;&gt;30 -->\n",
       "<g id=\"edge30\" class=\"edge\">\n",
       "<title>29&#45;&gt;30</title>\n",
       "<path fill=\"none\" stroke=\"#000000\" d=\"M1976,-103.9815C1976,-95.618 1976,-86.7965 1976,-78.3409\"/>\n",
       "<polygon fill=\"#000000\" stroke=\"#000000\" points=\"1979.5001,-78.2636 1976,-68.2637 1972.5001,-78.2637 1979.5001,-78.2636\"/>\n",
       "</g>\n",
       "<!-- 31 -->\n",
       "<g id=\"node32\" class=\"node\">\n",
       "<title>31</title>\n",
       "<path fill=\"none\" stroke=\"#000000\" d=\"M2159,-68C2159,-68 2063,-68 2063,-68 2057,-68 2051,-62 2051,-56 2051,-56 2051,-12 2051,-12 2051,-6 2057,0 2063,0 2063,0 2159,0 2159,0 2165,0 2171,-6 2171,-12 2171,-12 2171,-56 2171,-56 2171,-62 2165,-68 2159,-68\"/>\n",
       "<text text-anchor=\"middle\" x=\"2111\" y=\"-52.8\" font-family=\"Helvetica,sans-Serif\" font-size=\"14.00\" fill=\"#000000\">gini = 0.0</text>\n",
       "<text text-anchor=\"middle\" x=\"2111\" y=\"-37.8\" font-family=\"Helvetica,sans-Serif\" font-size=\"14.00\" fill=\"#000000\">samples = 1</text>\n",
       "<text text-anchor=\"middle\" x=\"2111\" y=\"-22.8\" font-family=\"Helvetica,sans-Serif\" font-size=\"14.00\" fill=\"#000000\">value = [1, 0]</text>\n",
       "<text text-anchor=\"middle\" x=\"2111\" y=\"-7.8\" font-family=\"Helvetica,sans-Serif\" font-size=\"14.00\" fill=\"#000000\">class = Target[&lt;=50K]</text>\n",
       "</g>\n",
       "<!-- 29&#45;&gt;31 -->\n",
       "<g id=\"edge31\" class=\"edge\">\n",
       "<title>29&#45;&gt;31</title>\n",
       "<path fill=\"none\" stroke=\"#000000\" d=\"M2026.269,-103.9815C2037.8418,-94.4232 2050.1389,-84.2668 2061.6713,-74.7419\"/>\n",
       "<polygon fill=\"#000000\" stroke=\"#000000\" points=\"2064.0334,-77.3304 2069.5148,-68.2637 2059.5757,-71.9332 2064.0334,-77.3304\"/>\n",
       "</g>\n",
       "<!-- 33 -->\n",
       "<g id=\"node34\" class=\"node\">\n",
       "<title>33</title>\n",
       "<path fill=\"none\" stroke=\"#000000\" d=\"M2780,-425C2780,-425 2646,-425 2646,-425 2640,-425 2634,-419 2634,-413 2634,-413 2634,-354 2634,-354 2634,-348 2640,-342 2646,-342 2646,-342 2780,-342 2780,-342 2786,-342 2792,-348 2792,-354 2792,-354 2792,-413 2792,-413 2792,-419 2786,-425 2780,-425\"/>\n",
       "<text text-anchor=\"middle\" x=\"2713\" y=\"-409.8\" font-family=\"Helvetica,sans-Serif\" font-size=\"14.00\" fill=\"#000000\">C(Relationship)[T.Wife] &lt;= 0.5</text>\n",
       "<text text-anchor=\"middle\" x=\"2713\" y=\"-394.8\" font-family=\"Helvetica,sans-Serif\" font-size=\"14.00\" fill=\"#000000\">gini = 0.265</text>\n",
       "<text text-anchor=\"middle\" x=\"2713\" y=\"-379.8\" font-family=\"Helvetica,sans-Serif\" font-size=\"14.00\" fill=\"#000000\">samples = 5037</text>\n",
       "<text text-anchor=\"middle\" x=\"2713\" y=\"-364.8\" font-family=\"Helvetica,sans-Serif\" font-size=\"14.00\" fill=\"#000000\">value = [4245, 792]</text>\n",
       "<text text-anchor=\"middle\" x=\"2713\" y=\"-349.8\" font-family=\"Helvetica,sans-Serif\" font-size=\"14.00\" fill=\"#000000\">class = Target[&lt;=50K]</text>\n",
       "</g>\n",
       "<!-- 32&#45;&gt;33 -->\n",
       "<g id=\"edge33\" class=\"edge\">\n",
       "<title>32&#45;&gt;33</title>\n",
       "<path fill=\"none\" stroke=\"#000000\" d=\"M2713,-460.8796C2713,-452.6838 2713,-443.9891 2713,-435.5013\"/>\n",
       "<polygon fill=\"#000000\" stroke=\"#000000\" points=\"2716.5001,-435.298 2713,-425.2981 2709.5001,-435.2981 2716.5001,-435.298\"/>\n",
       "</g>\n",
       "<!-- 48 -->\n",
       "<g id=\"node49\" class=\"node\">\n",
       "<title>48</title>\n",
       "<path fill=\"none\" stroke=\"#000000\" d=\"M3749.5,-425C3749.5,-425 3562.5,-425 3562.5,-425 3556.5,-425 3550.5,-419 3550.5,-413 3550.5,-413 3550.5,-354 3550.5,-354 3550.5,-348 3556.5,-342 3562.5,-342 3562.5,-342 3749.5,-342 3749.5,-342 3755.5,-342 3761.5,-348 3761.5,-354 3761.5,-354 3761.5,-413 3761.5,-413 3761.5,-419 3755.5,-425 3749.5,-425\"/>\n",
       "<text text-anchor=\"middle\" x=\"3656\" y=\"-409.8\" font-family=\"Helvetica,sans-Serif\" font-size=\"14.00\" fill=\"#000000\">C(Occupation)[T.Exec&#45;managerial] &lt;= 0.5</text>\n",
       "<text text-anchor=\"middle\" x=\"3656\" y=\"-394.8\" font-family=\"Helvetica,sans-Serif\" font-size=\"14.00\" fill=\"#000000\">gini = 0.475</text>\n",
       "<text text-anchor=\"middle\" x=\"3656\" y=\"-379.8\" font-family=\"Helvetica,sans-Serif\" font-size=\"14.00\" fill=\"#000000\">samples = 12069</text>\n",
       "<text text-anchor=\"middle\" x=\"3656\" y=\"-364.8\" font-family=\"Helvetica,sans-Serif\" font-size=\"14.00\" fill=\"#000000\">value = [7383, 4686]</text>\n",
       "<text text-anchor=\"middle\" x=\"3656\" y=\"-349.8\" font-family=\"Helvetica,sans-Serif\" font-size=\"14.00\" fill=\"#000000\">class = Target[&lt;=50K]</text>\n",
       "</g>\n",
       "<!-- 32&#45;&gt;48 -->\n",
       "<g id=\"edge48\" class=\"edge\">\n",
       "<title>32&#45;&gt;48</title>\n",
       "<path fill=\"none\" stroke=\"#000000\" d=\"M2773.0634,-494.9204C2927.0583,-475.4873 3338.027,-423.626 3540.2891,-398.1019\"/>\n",
       "<polygon fill=\"#000000\" stroke=\"#000000\" points=\"3540.869,-401.5566 3550.352,-396.832 3539.9925,-394.6117 3540.869,-401.5566\"/>\n",
       "</g>\n",
       "<!-- 34 -->\n",
       "<g id=\"node35\" class=\"node\">\n",
       "<title>34</title>\n",
       "<path fill=\"none\" stroke=\"#000000\" d=\"M2699.5,-306C2699.5,-306 2552.5,-306 2552.5,-306 2546.5,-306 2540.5,-300 2540.5,-294 2540.5,-294 2540.5,-235 2540.5,-235 2540.5,-229 2546.5,-223 2552.5,-223 2552.5,-223 2699.5,-223 2699.5,-223 2705.5,-223 2711.5,-229 2711.5,-235 2711.5,-235 2711.5,-294 2711.5,-294 2711.5,-300 2705.5,-306 2699.5,-306\"/>\n",
       "<text text-anchor=\"middle\" x=\"2626\" y=\"-290.8\" font-family=\"Helvetica,sans-Serif\" font-size=\"14.00\" fill=\"#000000\">C(Education)[T.Doctorate] &lt;= 0.5</text>\n",
       "<text text-anchor=\"middle\" x=\"2626\" y=\"-275.8\" font-family=\"Helvetica,sans-Serif\" font-size=\"14.00\" fill=\"#000000\">gini = 0.134</text>\n",
       "<text text-anchor=\"middle\" x=\"2626\" y=\"-260.8\" font-family=\"Helvetica,sans-Serif\" font-size=\"14.00\" fill=\"#000000\">samples = 4107</text>\n",
       "<text text-anchor=\"middle\" x=\"2626\" y=\"-245.8\" font-family=\"Helvetica,sans-Serif\" font-size=\"14.00\" fill=\"#000000\">value = [3811, 296]</text>\n",
       "<text text-anchor=\"middle\" x=\"2626\" y=\"-230.8\" font-family=\"Helvetica,sans-Serif\" font-size=\"14.00\" fill=\"#000000\">class = Target[&lt;=50K]</text>\n",
       "</g>\n",
       "<!-- 33&#45;&gt;34 -->\n",
       "<g id=\"edge34\" class=\"edge\">\n",
       "<title>33&#45;&gt;34</title>\n",
       "<path fill=\"none\" stroke=\"#000000\" d=\"M2682.5716,-341.8796C2676.1189,-333.0534 2669.243,-323.6485 2662.5887,-314.5466\"/>\n",
       "<polygon fill=\"#000000\" stroke=\"#000000\" points=\"2665.2856,-312.3051 2656.5583,-306.2981 2659.6347,-316.4364 2665.2856,-312.3051\"/>\n",
       "</g>\n",
       "<!-- 41 -->\n",
       "<g id=\"node42\" class=\"node\">\n",
       "<title>41</title>\n",
       "<path fill=\"none\" stroke=\"#000000\" d=\"M2940.5,-306C2940.5,-306 2769.5,-306 2769.5,-306 2763.5,-306 2757.5,-300 2757.5,-294 2757.5,-294 2757.5,-235 2757.5,-235 2757.5,-229 2763.5,-223 2769.5,-223 2769.5,-223 2940.5,-223 2940.5,-223 2946.5,-223 2952.5,-229 2952.5,-235 2952.5,-235 2952.5,-294 2952.5,-294 2952.5,-300 2946.5,-306 2940.5,-306\"/>\n",
       "<text text-anchor=\"middle\" x=\"2855\" y=\"-290.8\" font-family=\"Helvetica,sans-Serif\" font-size=\"14.00\" fill=\"#000000\">C(Occupation)[T.Other&#45;service] &lt;= 0.5</text>\n",
       "<text text-anchor=\"middle\" x=\"2855\" y=\"-275.8\" font-family=\"Helvetica,sans-Serif\" font-size=\"14.00\" fill=\"#000000\">gini = 0.498</text>\n",
       "<text text-anchor=\"middle\" x=\"2855\" y=\"-260.8\" font-family=\"Helvetica,sans-Serif\" font-size=\"14.00\" fill=\"#000000\">samples = 930</text>\n",
       "<text text-anchor=\"middle\" x=\"2855\" y=\"-245.8\" font-family=\"Helvetica,sans-Serif\" font-size=\"14.00\" fill=\"#000000\">value = [434, 496]</text>\n",
       "<text text-anchor=\"middle\" x=\"2855\" y=\"-230.8\" font-family=\"Helvetica,sans-Serif\" font-size=\"14.00\" fill=\"#000000\">class = Target[&gt;50K]</text>\n",
       "</g>\n",
       "<!-- 33&#45;&gt;41 -->\n",
       "<g id=\"edge41\" class=\"edge\">\n",
       "<title>33&#45;&gt;41</title>\n",
       "<path fill=\"none\" stroke=\"#000000\" d=\"M2762.6647,-341.8796C2773.8416,-332.513 2785.7962,-322.4948 2797.2712,-312.8784\"/>\n",
       "<polygon fill=\"#000000\" stroke=\"#000000\" points=\"2799.7069,-315.4037 2805.1233,-306.2981 2795.2107,-310.0386 2799.7069,-315.4037\"/>\n",
       "</g>\n",
       "<!-- 35 -->\n",
       "<g id=\"node36\" class=\"node\">\n",
       "<title>35</title>\n",
       "<path fill=\"none\" stroke=\"#000000\" d=\"M2456.5,-187C2456.5,-187 2317.5,-187 2317.5,-187 2311.5,-187 2305.5,-181 2305.5,-175 2305.5,-175 2305.5,-116 2305.5,-116 2305.5,-110 2311.5,-104 2317.5,-104 2317.5,-104 2456.5,-104 2456.5,-104 2462.5,-104 2468.5,-110 2468.5,-116 2468.5,-116 2468.5,-175 2468.5,-175 2468.5,-181 2462.5,-187 2456.5,-187\"/>\n",
       "<text text-anchor=\"middle\" x=\"2387\" y=\"-171.8\" font-family=\"Helvetica,sans-Serif\" font-size=\"14.00\" fill=\"#000000\">C(Education)[T.Masters] &lt;= 0.5</text>\n",
       "<text text-anchor=\"middle\" x=\"2387\" y=\"-156.8\" font-family=\"Helvetica,sans-Serif\" font-size=\"14.00\" fill=\"#000000\">gini = 0.126</text>\n",
       "<text text-anchor=\"middle\" x=\"2387\" y=\"-141.8\" font-family=\"Helvetica,sans-Serif\" font-size=\"14.00\" fill=\"#000000\">samples = 4064</text>\n",
       "<text text-anchor=\"middle\" x=\"2387\" y=\"-126.8\" font-family=\"Helvetica,sans-Serif\" font-size=\"14.00\" fill=\"#000000\">value = [3790, 274]</text>\n",
       "<text text-anchor=\"middle\" x=\"2387\" y=\"-111.8\" font-family=\"Helvetica,sans-Serif\" font-size=\"14.00\" fill=\"#000000\">class = Target[&lt;=50K]</text>\n",
       "</g>\n",
       "<!-- 34&#45;&gt;35 -->\n",
       "<g id=\"edge35\" class=\"edge\">\n",
       "<title>34&#45;&gt;35</title>\n",
       "<path fill=\"none\" stroke=\"#000000\" d=\"M2542.4094,-222.8796C2521.4438,-212.4406 2498.8525,-201.1922 2477.5646,-190.5928\"/>\n",
       "<polygon fill=\"#000000\" stroke=\"#000000\" points=\"2479.0414,-187.4183 2468.5296,-186.0942 2475.9213,-193.6846 2479.0414,-187.4183\"/>\n",
       "</g>\n",
       "<!-- 38 -->\n",
       "<g id=\"node39\" class=\"node\">\n",
       "<title>38</title>\n",
       "<path fill=\"none\" stroke=\"#000000\" d=\"M2719.5,-187C2719.5,-187 2532.5,-187 2532.5,-187 2526.5,-187 2520.5,-181 2520.5,-175 2520.5,-175 2520.5,-116 2520.5,-116 2520.5,-110 2526.5,-104 2532.5,-104 2532.5,-104 2719.5,-104 2719.5,-104 2725.5,-104 2731.5,-110 2731.5,-116 2731.5,-116 2731.5,-175 2731.5,-175 2731.5,-181 2725.5,-187 2719.5,-187\"/>\n",
       "<text text-anchor=\"middle\" x=\"2626\" y=\"-171.8\" font-family=\"Helvetica,sans-Serif\" font-size=\"14.00\" fill=\"#000000\">C(Occupation)[T.Exec&#45;managerial] &lt;= 0.5</text>\n",
       "<text text-anchor=\"middle\" x=\"2626\" y=\"-156.8\" font-family=\"Helvetica,sans-Serif\" font-size=\"14.00\" fill=\"#000000\">gini = 0.5</text>\n",
       "<text text-anchor=\"middle\" x=\"2626\" y=\"-141.8\" font-family=\"Helvetica,sans-Serif\" font-size=\"14.00\" fill=\"#000000\">samples = 43</text>\n",
       "<text text-anchor=\"middle\" x=\"2626\" y=\"-126.8\" font-family=\"Helvetica,sans-Serif\" font-size=\"14.00\" fill=\"#000000\">value = [21, 22]</text>\n",
       "<text text-anchor=\"middle\" x=\"2626\" y=\"-111.8\" font-family=\"Helvetica,sans-Serif\" font-size=\"14.00\" fill=\"#000000\">class = Target[&gt;50K]</text>\n",
       "</g>\n",
       "<!-- 34&#45;&gt;38 -->\n",
       "<g id=\"edge38\" class=\"edge\">\n",
       "<title>34&#45;&gt;38</title>\n",
       "<path fill=\"none\" stroke=\"#000000\" d=\"M2626,-222.8796C2626,-214.6838 2626,-205.9891 2626,-197.5013\"/>\n",
       "<polygon fill=\"#000000\" stroke=\"#000000\" points=\"2629.5001,-197.298 2626,-187.2981 2622.5001,-197.2981 2629.5001,-197.298\"/>\n",
       "</g>\n",
       "<!-- 36 -->\n",
       "<g id=\"node37\" class=\"node\">\n",
       "<title>36</title>\n",
       "<path fill=\"none\" stroke=\"#000000\" d=\"M2297,-68C2297,-68 2201,-68 2201,-68 2195,-68 2189,-62 2189,-56 2189,-56 2189,-12 2189,-12 2189,-6 2195,0 2201,0 2201,0 2297,0 2297,0 2303,0 2309,-6 2309,-12 2309,-12 2309,-56 2309,-56 2309,-62 2303,-68 2297,-68\"/>\n",
       "<text text-anchor=\"middle\" x=\"2249\" y=\"-52.8\" font-family=\"Helvetica,sans-Serif\" font-size=\"14.00\" fill=\"#000000\">gini = 0.104</text>\n",
       "<text text-anchor=\"middle\" x=\"2249\" y=\"-37.8\" font-family=\"Helvetica,sans-Serif\" font-size=\"14.00\" fill=\"#000000\">samples = 3783</text>\n",
       "<text text-anchor=\"middle\" x=\"2249\" y=\"-22.8\" font-family=\"Helvetica,sans-Serif\" font-size=\"14.00\" fill=\"#000000\">value = [3574, 209]</text>\n",
       "<text text-anchor=\"middle\" x=\"2249\" y=\"-7.8\" font-family=\"Helvetica,sans-Serif\" font-size=\"14.00\" fill=\"#000000\">class = Target[&lt;=50K]</text>\n",
       "</g>\n",
       "<!-- 35&#45;&gt;36 -->\n",
       "<g id=\"edge36\" class=\"edge\">\n",
       "<title>35&#45;&gt;36</title>\n",
       "<path fill=\"none\" stroke=\"#000000\" d=\"M2335.6139,-103.9815C2323.7839,-94.4232 2311.2136,-84.2668 2299.4249,-74.7419\"/>\n",
       "<polygon fill=\"#000000\" stroke=\"#000000\" points=\"2301.3851,-71.826 2291.4071,-68.2637 2296.9858,-77.2708 2301.3851,-71.826\"/>\n",
       "</g>\n",
       "<!-- 37 -->\n",
       "<g id=\"node38\" class=\"node\">\n",
       "<title>37</title>\n",
       "<path fill=\"none\" stroke=\"#000000\" d=\"M2435,-68C2435,-68 2339,-68 2339,-68 2333,-68 2327,-62 2327,-56 2327,-56 2327,-12 2327,-12 2327,-6 2333,0 2339,0 2339,0 2435,0 2435,0 2441,0 2447,-6 2447,-12 2447,-12 2447,-56 2447,-56 2447,-62 2441,-68 2435,-68\"/>\n",
       "<text text-anchor=\"middle\" x=\"2387\" y=\"-52.8\" font-family=\"Helvetica,sans-Serif\" font-size=\"14.00\" fill=\"#000000\">gini = 0.356</text>\n",
       "<text text-anchor=\"middle\" x=\"2387\" y=\"-37.8\" font-family=\"Helvetica,sans-Serif\" font-size=\"14.00\" fill=\"#000000\">samples = 281</text>\n",
       "<text text-anchor=\"middle\" x=\"2387\" y=\"-22.8\" font-family=\"Helvetica,sans-Serif\" font-size=\"14.00\" fill=\"#000000\">value = [216, 65]</text>\n",
       "<text text-anchor=\"middle\" x=\"2387\" y=\"-7.8\" font-family=\"Helvetica,sans-Serif\" font-size=\"14.00\" fill=\"#000000\">class = Target[&lt;=50K]</text>\n",
       "</g>\n",
       "<!-- 35&#45;&gt;37 -->\n",
       "<g id=\"edge37\" class=\"edge\">\n",
       "<title>35&#45;&gt;37</title>\n",
       "<path fill=\"none\" stroke=\"#000000\" d=\"M2387,-103.9815C2387,-95.618 2387,-86.7965 2387,-78.3409\"/>\n",
       "<polygon fill=\"#000000\" stroke=\"#000000\" points=\"2390.5001,-78.2636 2387,-68.2637 2383.5001,-78.2637 2390.5001,-78.2636\"/>\n",
       "</g>\n",
       "<!-- 39 -->\n",
       "<g id=\"node40\" class=\"node\">\n",
       "<title>39</title>\n",
       "<path fill=\"none\" stroke=\"#000000\" d=\"M2573,-68C2573,-68 2477,-68 2477,-68 2471,-68 2465,-62 2465,-56 2465,-56 2465,-12 2465,-12 2465,-6 2471,0 2477,0 2477,0 2573,0 2573,0 2579,0 2585,-6 2585,-12 2585,-12 2585,-56 2585,-56 2585,-62 2579,-68 2573,-68\"/>\n",
       "<text text-anchor=\"middle\" x=\"2525\" y=\"-52.8\" font-family=\"Helvetica,sans-Serif\" font-size=\"14.00\" fill=\"#000000\">gini = 0.49</text>\n",
       "<text text-anchor=\"middle\" x=\"2525\" y=\"-37.8\" font-family=\"Helvetica,sans-Serif\" font-size=\"14.00\" fill=\"#000000\">samples = 35</text>\n",
       "<text text-anchor=\"middle\" x=\"2525\" y=\"-22.8\" font-family=\"Helvetica,sans-Serif\" font-size=\"14.00\" fill=\"#000000\">value = [20, 15]</text>\n",
       "<text text-anchor=\"middle\" x=\"2525\" y=\"-7.8\" font-family=\"Helvetica,sans-Serif\" font-size=\"14.00\" fill=\"#000000\">class = Target[&lt;=50K]</text>\n",
       "</g>\n",
       "<!-- 38&#45;&gt;39 -->\n",
       "<g id=\"edge39\" class=\"edge\">\n",
       "<title>38&#45;&gt;39</title>\n",
       "<path fill=\"none\" stroke=\"#000000\" d=\"M2588.3913,-103.9815C2580.0661,-94.7908 2571.24,-85.0472 2562.9032,-75.8436\"/>\n",
       "<polygon fill=\"#000000\" stroke=\"#000000\" points=\"2565.3446,-73.3254 2556.037,-68.2637 2560.1566,-78.0248 2565.3446,-73.3254\"/>\n",
       "</g>\n",
       "<!-- 40 -->\n",
       "<g id=\"node41\" class=\"node\">\n",
       "<title>40</title>\n",
       "<path fill=\"none\" stroke=\"#000000\" d=\"M2704.5,-68C2704.5,-68 2615.5,-68 2615.5,-68 2609.5,-68 2603.5,-62 2603.5,-56 2603.5,-56 2603.5,-12 2603.5,-12 2603.5,-6 2609.5,0 2615.5,0 2615.5,0 2704.5,0 2704.5,0 2710.5,0 2716.5,-6 2716.5,-12 2716.5,-12 2716.5,-56 2716.5,-56 2716.5,-62 2710.5,-68 2704.5,-68\"/>\n",
       "<text text-anchor=\"middle\" x=\"2660\" y=\"-52.8\" font-family=\"Helvetica,sans-Serif\" font-size=\"14.00\" fill=\"#000000\">gini = 0.219</text>\n",
       "<text text-anchor=\"middle\" x=\"2660\" y=\"-37.8\" font-family=\"Helvetica,sans-Serif\" font-size=\"14.00\" fill=\"#000000\">samples = 8</text>\n",
       "<text text-anchor=\"middle\" x=\"2660\" y=\"-22.8\" font-family=\"Helvetica,sans-Serif\" font-size=\"14.00\" fill=\"#000000\">value = [1, 7]</text>\n",
       "<text text-anchor=\"middle\" x=\"2660\" y=\"-7.8\" font-family=\"Helvetica,sans-Serif\" font-size=\"14.00\" fill=\"#000000\">class = Target[&gt;50K]</text>\n",
       "</g>\n",
       "<!-- 38&#45;&gt;40 -->\n",
       "<g id=\"edge40\" class=\"edge\">\n",
       "<title>38&#45;&gt;40</title>\n",
       "<path fill=\"none\" stroke=\"#000000\" d=\"M2638.6603,-103.9815C2641.2387,-95.5261 2643.9597,-86.6026 2646.564,-78.0623\"/>\n",
       "<polygon fill=\"#000000\" stroke=\"#000000\" points=\"2649.9829,-78.8497 2649.5519,-68.2637 2643.2873,-76.808 2649.9829,-78.8497\"/>\n",
       "</g>\n",
       "<!-- 42 -->\n",
       "<g id=\"node43\" class=\"node\">\n",
       "<title>42</title>\n",
       "<path fill=\"none\" stroke=\"#000000\" d=\"M2925.5,-187C2925.5,-187 2784.5,-187 2784.5,-187 2778.5,-187 2772.5,-181 2772.5,-175 2772.5,-175 2772.5,-116 2772.5,-116 2772.5,-110 2778.5,-104 2784.5,-104 2784.5,-104 2925.5,-104 2925.5,-104 2931.5,-104 2937.5,-110 2937.5,-116 2937.5,-116 2937.5,-175 2937.5,-175 2937.5,-181 2931.5,-187 2925.5,-187\"/>\n",
       "<text text-anchor=\"middle\" x=\"2855\" y=\"-171.8\" font-family=\"Helvetica,sans-Serif\" font-size=\"14.00\" fill=\"#000000\">C(Education)[T.HS&#45;grad] &lt;= 0.5</text>\n",
       "<text text-anchor=\"middle\" x=\"2855\" y=\"-156.8\" font-family=\"Helvetica,sans-Serif\" font-size=\"14.00\" fill=\"#000000\">gini = 0.488</text>\n",
       "<text text-anchor=\"middle\" x=\"2855\" y=\"-141.8\" font-family=\"Helvetica,sans-Serif\" font-size=\"14.00\" fill=\"#000000\">samples = 821</text>\n",
       "<text text-anchor=\"middle\" x=\"2855\" y=\"-126.8\" font-family=\"Helvetica,sans-Serif\" font-size=\"14.00\" fill=\"#000000\">value = [346, 475]</text>\n",
       "<text text-anchor=\"middle\" x=\"2855\" y=\"-111.8\" font-family=\"Helvetica,sans-Serif\" font-size=\"14.00\" fill=\"#000000\">class = Target[&gt;50K]</text>\n",
       "</g>\n",
       "<!-- 41&#45;&gt;42 -->\n",
       "<g id=\"edge42\" class=\"edge\">\n",
       "<title>41&#45;&gt;42</title>\n",
       "<path fill=\"none\" stroke=\"#000000\" d=\"M2855,-222.8796C2855,-214.6838 2855,-205.9891 2855,-197.5013\"/>\n",
       "<polygon fill=\"#000000\" stroke=\"#000000\" points=\"2858.5001,-197.298 2855,-187.2981 2851.5001,-197.2981 2858.5001,-197.298\"/>\n",
       "</g>\n",
       "<!-- 45 -->\n",
       "<g id=\"node46\" class=\"node\">\n",
       "<title>45</title>\n",
       "<path fill=\"none\" stroke=\"#000000\" d=\"M3138,-187C3138,-187 2990,-187 2990,-187 2984,-187 2978,-181 2978,-175 2978,-175 2978,-116 2978,-116 2978,-110 2984,-104 2990,-104 2990,-104 3138,-104 3138,-104 3144,-104 3150,-110 3150,-116 3150,-116 3150,-175 3150,-175 3150,-181 3144,-187 3138,-187\"/>\n",
       "<text text-anchor=\"middle\" x=\"3064\" y=\"-171.8\" font-family=\"Helvetica,sans-Serif\" font-size=\"14.00\" fill=\"#000000\">C(Education)[T.Bachelors] &lt;= 0.5</text>\n",
       "<text text-anchor=\"middle\" x=\"3064\" y=\"-156.8\" font-family=\"Helvetica,sans-Serif\" font-size=\"14.00\" fill=\"#000000\">gini = 0.311</text>\n",
       "<text text-anchor=\"middle\" x=\"3064\" y=\"-141.8\" font-family=\"Helvetica,sans-Serif\" font-size=\"14.00\" fill=\"#000000\">samples = 109</text>\n",
       "<text text-anchor=\"middle\" x=\"3064\" y=\"-126.8\" font-family=\"Helvetica,sans-Serif\" font-size=\"14.00\" fill=\"#000000\">value = [88, 21]</text>\n",
       "<text text-anchor=\"middle\" x=\"3064\" y=\"-111.8\" font-family=\"Helvetica,sans-Serif\" font-size=\"14.00\" fill=\"#000000\">class = Target[&lt;=50K]</text>\n",
       "</g>\n",
       "<!-- 41&#45;&gt;45 -->\n",
       "<g id=\"edge45\" class=\"edge\">\n",
       "<title>41&#45;&gt;45</title>\n",
       "<path fill=\"none\" stroke=\"#000000\" d=\"M2928.0981,-222.8796C2945.4397,-213.0056 2964.0533,-202.4075 2981.7711,-192.3193\"/>\n",
       "<polygon fill=\"#000000\" stroke=\"#000000\" points=\"2983.9849,-195.0865 2990.9432,-187.0969 2980.5213,-189.0034 2983.9849,-195.0865\"/>\n",
       "</g>\n",
       "<!-- 43 -->\n",
       "<g id=\"node44\" class=\"node\">\n",
       "<title>43</title>\n",
       "<path fill=\"none\" stroke=\"#000000\" d=\"M2835.5,-68C2835.5,-68 2746.5,-68 2746.5,-68 2740.5,-68 2734.5,-62 2734.5,-56 2734.5,-56 2734.5,-12 2734.5,-12 2734.5,-6 2740.5,0 2746.5,0 2746.5,0 2835.5,0 2835.5,0 2841.5,0 2847.5,-6 2847.5,-12 2847.5,-12 2847.5,-56 2847.5,-56 2847.5,-62 2841.5,-68 2835.5,-68\"/>\n",
       "<text text-anchor=\"middle\" x=\"2791\" y=\"-52.8\" font-family=\"Helvetica,sans-Serif\" font-size=\"14.00\" fill=\"#000000\">gini = 0.456</text>\n",
       "<text text-anchor=\"middle\" x=\"2791\" y=\"-37.8\" font-family=\"Helvetica,sans-Serif\" font-size=\"14.00\" fill=\"#000000\">samples = 556</text>\n",
       "<text text-anchor=\"middle\" x=\"2791\" y=\"-22.8\" font-family=\"Helvetica,sans-Serif\" font-size=\"14.00\" fill=\"#000000\">value = [196, 360]</text>\n",
       "<text text-anchor=\"middle\" x=\"2791\" y=\"-7.8\" font-family=\"Helvetica,sans-Serif\" font-size=\"14.00\" fill=\"#000000\">class = Target[&gt;50K]</text>\n",
       "</g>\n",
       "<!-- 42&#45;&gt;43 -->\n",
       "<g id=\"edge43\" class=\"edge\">\n",
       "<title>42&#45;&gt;43</title>\n",
       "<path fill=\"none\" stroke=\"#000000\" d=\"M2831.1688,-103.9815C2826.1044,-95.1585 2820.7475,-85.8258 2815.6532,-76.9506\"/>\n",
       "<polygon fill=\"#000000\" stroke=\"#000000\" points=\"2818.6807,-75.1942 2810.667,-68.2637 2812.6097,-78.6789 2818.6807,-75.1942\"/>\n",
       "</g>\n",
       "<!-- 44 -->\n",
       "<g id=\"node45\" class=\"node\">\n",
       "<title>44</title>\n",
       "<path fill=\"none\" stroke=\"#000000\" d=\"M2974,-68C2974,-68 2878,-68 2878,-68 2872,-68 2866,-62 2866,-56 2866,-56 2866,-12 2866,-12 2866,-6 2872,0 2878,0 2878,0 2974,0 2974,0 2980,0 2986,-6 2986,-12 2986,-12 2986,-56 2986,-56 2986,-62 2980,-68 2974,-68\"/>\n",
       "<text text-anchor=\"middle\" x=\"2926\" y=\"-52.8\" font-family=\"Helvetica,sans-Serif\" font-size=\"14.00\" fill=\"#000000\">gini = 0.491</text>\n",
       "<text text-anchor=\"middle\" x=\"2926\" y=\"-37.8\" font-family=\"Helvetica,sans-Serif\" font-size=\"14.00\" fill=\"#000000\">samples = 265</text>\n",
       "<text text-anchor=\"middle\" x=\"2926\" y=\"-22.8\" font-family=\"Helvetica,sans-Serif\" font-size=\"14.00\" fill=\"#000000\">value = [150, 115]</text>\n",
       "<text text-anchor=\"middle\" x=\"2926\" y=\"-7.8\" font-family=\"Helvetica,sans-Serif\" font-size=\"14.00\" fill=\"#000000\">class = Target[&lt;=50K]</text>\n",
       "</g>\n",
       "<!-- 42&#45;&gt;44 -->\n",
       "<g id=\"edge44\" class=\"edge\">\n",
       "<title>42&#45;&gt;44</title>\n",
       "<path fill=\"none\" stroke=\"#000000\" d=\"M2881.4378,-103.9815C2887.056,-95.1585 2892.9988,-85.8258 2898.6503,-76.9506\"/>\n",
       "<polygon fill=\"#000000\" stroke=\"#000000\" points=\"2901.7629,-78.5787 2904.1819,-68.2637 2895.8584,-74.8188 2901.7629,-78.5787\"/>\n",
       "</g>\n",
       "<!-- 46 -->\n",
       "<g id=\"node47\" class=\"node\">\n",
       "<title>46</title>\n",
       "<path fill=\"none\" stroke=\"#000000\" d=\"M3112,-68C3112,-68 3016,-68 3016,-68 3010,-68 3004,-62 3004,-56 3004,-56 3004,-12 3004,-12 3004,-6 3010,0 3016,0 3016,0 3112,0 3112,0 3118,0 3124,-6 3124,-12 3124,-12 3124,-56 3124,-56 3124,-62 3118,-68 3112,-68\"/>\n",
       "<text text-anchor=\"middle\" x=\"3064\" y=\"-52.8\" font-family=\"Helvetica,sans-Serif\" font-size=\"14.00\" fill=\"#000000\">gini = 0.271</text>\n",
       "<text text-anchor=\"middle\" x=\"3064\" y=\"-37.8\" font-family=\"Helvetica,sans-Serif\" font-size=\"14.00\" fill=\"#000000\">samples = 99</text>\n",
       "<text text-anchor=\"middle\" x=\"3064\" y=\"-22.8\" font-family=\"Helvetica,sans-Serif\" font-size=\"14.00\" fill=\"#000000\">value = [83, 16]</text>\n",
       "<text text-anchor=\"middle\" x=\"3064\" y=\"-7.8\" font-family=\"Helvetica,sans-Serif\" font-size=\"14.00\" fill=\"#000000\">class = Target[&lt;=50K]</text>\n",
       "</g>\n",
       "<!-- 45&#45;&gt;46 -->\n",
       "<g id=\"edge46\" class=\"edge\">\n",
       "<title>45&#45;&gt;46</title>\n",
       "<path fill=\"none\" stroke=\"#000000\" d=\"M3064,-103.9815C3064,-95.618 3064,-86.7965 3064,-78.3409\"/>\n",
       "<polygon fill=\"#000000\" stroke=\"#000000\" points=\"3067.5001,-78.2636 3064,-68.2637 3060.5001,-78.2637 3067.5001,-78.2636\"/>\n",
       "</g>\n",
       "<!-- 47 -->\n",
       "<g id=\"node48\" class=\"node\">\n",
       "<title>47</title>\n",
       "<path fill=\"none\" stroke=\"#000000\" d=\"M3250,-68C3250,-68 3154,-68 3154,-68 3148,-68 3142,-62 3142,-56 3142,-56 3142,-12 3142,-12 3142,-6 3148,0 3154,0 3154,0 3250,0 3250,0 3256,0 3262,-6 3262,-12 3262,-12 3262,-56 3262,-56 3262,-62 3256,-68 3250,-68\"/>\n",
       "<text text-anchor=\"middle\" x=\"3202\" y=\"-52.8\" font-family=\"Helvetica,sans-Serif\" font-size=\"14.00\" fill=\"#000000\">gini = 0.5</text>\n",
       "<text text-anchor=\"middle\" x=\"3202\" y=\"-37.8\" font-family=\"Helvetica,sans-Serif\" font-size=\"14.00\" fill=\"#000000\">samples = 10</text>\n",
       "<text text-anchor=\"middle\" x=\"3202\" y=\"-22.8\" font-family=\"Helvetica,sans-Serif\" font-size=\"14.00\" fill=\"#000000\">value = [5, 5]</text>\n",
       "<text text-anchor=\"middle\" x=\"3202\" y=\"-7.8\" font-family=\"Helvetica,sans-Serif\" font-size=\"14.00\" fill=\"#000000\">class = Target[&lt;=50K]</text>\n",
       "</g>\n",
       "<!-- 45&#45;&gt;47 -->\n",
       "<g id=\"edge47\" class=\"edge\">\n",
       "<title>45&#45;&gt;47</title>\n",
       "<path fill=\"none\" stroke=\"#000000\" d=\"M3115.3861,-103.9815C3127.2161,-94.4232 3139.7864,-84.2668 3151.5751,-74.7419\"/>\n",
       "<polygon fill=\"#000000\" stroke=\"#000000\" points=\"3154.0142,-77.2708 3159.5929,-68.2637 3149.6149,-71.826 3154.0142,-77.2708\"/>\n",
       "</g>\n",
       "<!-- 49 -->\n",
       "<g id=\"node50\" class=\"node\">\n",
       "<title>49</title>\n",
       "<path fill=\"none\" stroke=\"#000000\" d=\"M3742,-306C3742,-306 3570,-306 3570,-306 3564,-306 3558,-300 3558,-294 3558,-294 3558,-235 3558,-235 3558,-229 3564,-223 3570,-223 3570,-223 3742,-223 3742,-223 3748,-223 3754,-229 3754,-235 3754,-235 3754,-294 3754,-294 3754,-300 3748,-306 3742,-306\"/>\n",
       "<text text-anchor=\"middle\" x=\"3656\" y=\"-290.8\" font-family=\"Helvetica,sans-Serif\" font-size=\"14.00\" fill=\"#000000\">C(Occupation)[T.Prof&#45;specialty] &lt;= 0.5</text>\n",
       "<text text-anchor=\"middle\" x=\"3656\" y=\"-275.8\" font-family=\"Helvetica,sans-Serif\" font-size=\"14.00\" fill=\"#000000\">gini = 0.45</text>\n",
       "<text text-anchor=\"middle\" x=\"3656\" y=\"-260.8\" font-family=\"Helvetica,sans-Serif\" font-size=\"14.00\" fill=\"#000000\">samples = 10144</text>\n",
       "<text text-anchor=\"middle\" x=\"3656\" y=\"-245.8\" font-family=\"Helvetica,sans-Serif\" font-size=\"14.00\" fill=\"#000000\">value = [6676, 3468]</text>\n",
       "<text text-anchor=\"middle\" x=\"3656\" y=\"-230.8\" font-family=\"Helvetica,sans-Serif\" font-size=\"14.00\" fill=\"#000000\">class = Target[&lt;=50K]</text>\n",
       "</g>\n",
       "<!-- 48&#45;&gt;49 -->\n",
       "<g id=\"edge49\" class=\"edge\">\n",
       "<title>48&#45;&gt;49</title>\n",
       "<path fill=\"none\" stroke=\"#000000\" d=\"M3656,-341.8796C3656,-333.6838 3656,-324.9891 3656,-316.5013\"/>\n",
       "<polygon fill=\"#000000\" stroke=\"#000000\" points=\"3659.5001,-316.298 3656,-306.2981 3652.5001,-316.2981 3659.5001,-316.298\"/>\n",
       "</g>\n",
       "<!-- 56 -->\n",
       "<g id=\"node57\" class=\"node\">\n",
       "<title>56</title>\n",
       "<path fill=\"none\" stroke=\"#000000\" d=\"M3984,-306C3984,-306 3812,-306 3812,-306 3806,-306 3800,-300 3800,-294 3800,-294 3800,-235 3800,-235 3800,-229 3806,-223 3812,-223 3812,-223 3984,-223 3984,-223 3990,-223 3996,-229 3996,-235 3996,-235 3996,-294 3996,-294 3996,-300 3990,-306 3984,-306\"/>\n",
       "<text text-anchor=\"middle\" x=\"3898\" y=\"-290.8\" font-family=\"Helvetica,sans-Serif\" font-size=\"14.00\" fill=\"#000000\">C(Relationship)[T.Not&#45;in&#45;family] &lt;= 0.5</text>\n",
       "<text text-anchor=\"middle\" x=\"3898\" y=\"-275.8\" font-family=\"Helvetica,sans-Serif\" font-size=\"14.00\" fill=\"#000000\">gini = 0.465</text>\n",
       "<text text-anchor=\"middle\" x=\"3898\" y=\"-260.8\" font-family=\"Helvetica,sans-Serif\" font-size=\"14.00\" fill=\"#000000\">samples = 1925</text>\n",
       "<text text-anchor=\"middle\" x=\"3898\" y=\"-245.8\" font-family=\"Helvetica,sans-Serif\" font-size=\"14.00\" fill=\"#000000\">value = [707, 1218]</text>\n",
       "<text text-anchor=\"middle\" x=\"3898\" y=\"-230.8\" font-family=\"Helvetica,sans-Serif\" font-size=\"14.00\" fill=\"#000000\">class = Target[&gt;50K]</text>\n",
       "</g>\n",
       "<!-- 48&#45;&gt;56 -->\n",
       "<g id=\"edge56\" class=\"edge\">\n",
       "<title>48&#45;&gt;56</title>\n",
       "<path fill=\"none\" stroke=\"#000000\" d=\"M3740.6399,-341.8796C3761.1802,-331.7791 3783.2617,-320.9209 3804.1975,-310.626\"/>\n",
       "<polygon fill=\"#000000\" stroke=\"#000000\" points=\"3805.9787,-313.6505 3813.4079,-306.0969 3802.8897,-307.3689 3805.9787,-313.6505\"/>\n",
       "</g>\n",
       "<!-- 50 -->\n",
       "<g id=\"node51\" class=\"node\">\n",
       "<title>50</title>\n",
       "<path fill=\"none\" stroke=\"#000000\" d=\"M3549,-187C3549,-187 3377,-187 3377,-187 3371,-187 3365,-181 3365,-175 3365,-175 3365,-116 3365,-116 3365,-110 3371,-104 3377,-104 3377,-104 3549,-104 3549,-104 3555,-104 3561,-110 3561,-116 3561,-116 3561,-175 3561,-175 3561,-181 3555,-187 3549,-187\"/>\n",
       "<text text-anchor=\"middle\" x=\"3463\" y=\"-171.8\" font-family=\"Helvetica,sans-Serif\" font-size=\"14.00\" fill=\"#000000\">C(Relationship)[T.Not&#45;in&#45;family] &lt;= 0.5</text>\n",
       "<text text-anchor=\"middle\" x=\"3463\" y=\"-156.8\" font-family=\"Helvetica,sans-Serif\" font-size=\"14.00\" fill=\"#000000\">gini = 0.408</text>\n",
       "<text text-anchor=\"middle\" x=\"3463\" y=\"-141.8\" font-family=\"Helvetica,sans-Serif\" font-size=\"14.00\" fill=\"#000000\">samples = 8499</text>\n",
       "<text text-anchor=\"middle\" x=\"3463\" y=\"-126.8\" font-family=\"Helvetica,sans-Serif\" font-size=\"14.00\" fill=\"#000000\">value = [6068, 2431]</text>\n",
       "<text text-anchor=\"middle\" x=\"3463\" y=\"-111.8\" font-family=\"Helvetica,sans-Serif\" font-size=\"14.00\" fill=\"#000000\">class = Target[&lt;=50K]</text>\n",
       "</g>\n",
       "<!-- 49&#45;&gt;50 -->\n",
       "<g id=\"edge50\" class=\"edge\">\n",
       "<title>49&#45;&gt;50</title>\n",
       "<path fill=\"none\" stroke=\"#000000\" d=\"M3588.498,-222.8796C3572.6308,-213.0962 3555.6106,-202.6019 3539.3844,-192.5971\"/>\n",
       "<polygon fill=\"#000000\" stroke=\"#000000\" points=\"3540.8129,-189.3661 3530.4639,-187.0969 3537.139,-195.3245 3540.8129,-189.3661\"/>\n",
       "</g>\n",
       "<!-- 53 -->\n",
       "<g id=\"node54\" class=\"node\">\n",
       "<title>53</title>\n",
       "<path fill=\"none\" stroke=\"#000000\" d=\"M3763,-187C3763,-187 3591,-187 3591,-187 3585,-187 3579,-181 3579,-175 3579,-175 3579,-116 3579,-116 3579,-110 3585,-104 3591,-104 3591,-104 3763,-104 3763,-104 3769,-104 3775,-110 3775,-116 3775,-116 3775,-175 3775,-175 3775,-181 3769,-187 3763,-187\"/>\n",
       "<text text-anchor=\"middle\" x=\"3677\" y=\"-171.8\" font-family=\"Helvetica,sans-Serif\" font-size=\"14.00\" fill=\"#000000\">C(Relationship)[T.Not&#45;in&#45;family] &lt;= 0.5</text>\n",
       "<text text-anchor=\"middle\" x=\"3677\" y=\"-156.8\" font-family=\"Helvetica,sans-Serif\" font-size=\"14.00\" fill=\"#000000\">gini = 0.466</text>\n",
       "<text text-anchor=\"middle\" x=\"3677\" y=\"-141.8\" font-family=\"Helvetica,sans-Serif\" font-size=\"14.00\" fill=\"#000000\">samples = 1645</text>\n",
       "<text text-anchor=\"middle\" x=\"3677\" y=\"-126.8\" font-family=\"Helvetica,sans-Serif\" font-size=\"14.00\" fill=\"#000000\">value = [608, 1037]</text>\n",
       "<text text-anchor=\"middle\" x=\"3677\" y=\"-111.8\" font-family=\"Helvetica,sans-Serif\" font-size=\"14.00\" fill=\"#000000\">class = Target[&gt;50K]</text>\n",
       "</g>\n",
       "<!-- 49&#45;&gt;53 -->\n",
       "<g id=\"edge53\" class=\"edge\">\n",
       "<title>49&#45;&gt;53</title>\n",
       "<path fill=\"none\" stroke=\"#000000\" d=\"M3663.3448,-222.8796C3664.807,-214.5938 3666.3592,-205.798 3667.8727,-197.2216\"/>\n",
       "<polygon fill=\"#000000\" stroke=\"#000000\" points=\"3671.3327,-197.7542 3669.6239,-187.2981 3664.4392,-196.5376 3671.3327,-197.7542\"/>\n",
       "</g>\n",
       "<!-- 51 -->\n",
       "<g id=\"node52\" class=\"node\">\n",
       "<title>51</title>\n",
       "<path fill=\"none\" stroke=\"#000000\" d=\"M3388,-68C3388,-68 3292,-68 3292,-68 3286,-68 3280,-62 3280,-56 3280,-56 3280,-12 3280,-12 3280,-6 3286,0 3292,0 3292,0 3388,0 3388,0 3394,0 3400,-6 3400,-12 3400,-12 3400,-56 3400,-56 3400,-62 3394,-68 3388,-68\"/>\n",
       "<text text-anchor=\"middle\" x=\"3340\" y=\"-52.8\" font-family=\"Helvetica,sans-Serif\" font-size=\"14.00\" fill=\"#000000\">gini = 0.44</text>\n",
       "<text text-anchor=\"middle\" x=\"3340\" y=\"-37.8\" font-family=\"Helvetica,sans-Serif\" font-size=\"14.00\" fill=\"#000000\">samples = 6927</text>\n",
       "<text text-anchor=\"middle\" x=\"3340\" y=\"-22.8\" font-family=\"Helvetica,sans-Serif\" font-size=\"14.00\" fill=\"#000000\">value = [4664, 2263]</text>\n",
       "<text text-anchor=\"middle\" x=\"3340\" y=\"-7.8\" font-family=\"Helvetica,sans-Serif\" font-size=\"14.00\" fill=\"#000000\">class = Target[&lt;=50K]</text>\n",
       "</g>\n",
       "<!-- 50&#45;&gt;51 -->\n",
       "<g id=\"edge51\" class=\"edge\">\n",
       "<title>50&#45;&gt;51</title>\n",
       "<path fill=\"none\" stroke=\"#000000\" d=\"M3417.1993,-103.9815C3406.7566,-94.5151 3395.6667,-84.462 3385.2472,-75.0168\"/>\n",
       "<polygon fill=\"#000000\" stroke=\"#000000\" points=\"3387.5572,-72.3868 3377.7976,-68.2637 3382.8559,-77.5731 3387.5572,-72.3868\"/>\n",
       "</g>\n",
       "<!-- 52 -->\n",
       "<g id=\"node53\" class=\"node\">\n",
       "<title>52</title>\n",
       "<path fill=\"none\" stroke=\"#000000\" d=\"M3526,-68C3526,-68 3430,-68 3430,-68 3424,-68 3418,-62 3418,-56 3418,-56 3418,-12 3418,-12 3418,-6 3424,0 3430,0 3430,0 3526,0 3526,0 3532,0 3538,-6 3538,-12 3538,-12 3538,-56 3538,-56 3538,-62 3532,-68 3526,-68\"/>\n",
       "<text text-anchor=\"middle\" x=\"3478\" y=\"-52.8\" font-family=\"Helvetica,sans-Serif\" font-size=\"14.00\" fill=\"#000000\">gini = 0.191</text>\n",
       "<text text-anchor=\"middle\" x=\"3478\" y=\"-37.8\" font-family=\"Helvetica,sans-Serif\" font-size=\"14.00\" fill=\"#000000\">samples = 1572</text>\n",
       "<text text-anchor=\"middle\" x=\"3478\" y=\"-22.8\" font-family=\"Helvetica,sans-Serif\" font-size=\"14.00\" fill=\"#000000\">value = [1404, 168]</text>\n",
       "<text text-anchor=\"middle\" x=\"3478\" y=\"-7.8\" font-family=\"Helvetica,sans-Serif\" font-size=\"14.00\" fill=\"#000000\">class = Target[&lt;=50K]</text>\n",
       "</g>\n",
       "<!-- 50&#45;&gt;52 -->\n",
       "<g id=\"edge52\" class=\"edge\">\n",
       "<title>50&#45;&gt;52</title>\n",
       "<path fill=\"none\" stroke=\"#000000\" d=\"M3468.5854,-103.9815C3469.7106,-95.618 3470.8973,-86.7965 3472.0349,-78.3409\"/>\n",
       "<polygon fill=\"#000000\" stroke=\"#000000\" points=\"3475.5259,-78.6411 3473.3905,-68.2637 3468.5884,-77.7077 3475.5259,-78.6411\"/>\n",
       "</g>\n",
       "<!-- 54 -->\n",
       "<g id=\"node55\" class=\"node\">\n",
       "<title>54</title>\n",
       "<path fill=\"none\" stroke=\"#000000\" d=\"M3657.5,-68C3657.5,-68 3568.5,-68 3568.5,-68 3562.5,-68 3556.5,-62 3556.5,-56 3556.5,-56 3556.5,-12 3556.5,-12 3556.5,-6 3562.5,0 3568.5,0 3568.5,0 3657.5,0 3657.5,0 3663.5,0 3669.5,-6 3669.5,-12 3669.5,-12 3669.5,-56 3669.5,-56 3669.5,-62 3663.5,-68 3657.5,-68\"/>\n",
       "<text text-anchor=\"middle\" x=\"3613\" y=\"-52.8\" font-family=\"Helvetica,sans-Serif\" font-size=\"14.00\" fill=\"#000000\">gini = 0.419</text>\n",
       "<text text-anchor=\"middle\" x=\"3613\" y=\"-37.8\" font-family=\"Helvetica,sans-Serif\" font-size=\"14.00\" fill=\"#000000\">samples = 1338</text>\n",
       "<text text-anchor=\"middle\" x=\"3613\" y=\"-22.8\" font-family=\"Helvetica,sans-Serif\" font-size=\"14.00\" fill=\"#000000\">value = [399, 939]</text>\n",
       "<text text-anchor=\"middle\" x=\"3613\" y=\"-7.8\" font-family=\"Helvetica,sans-Serif\" font-size=\"14.00\" fill=\"#000000\">class = Target[&gt;50K]</text>\n",
       "</g>\n",
       "<!-- 53&#45;&gt;54 -->\n",
       "<g id=\"edge54\" class=\"edge\">\n",
       "<title>53&#45;&gt;54</title>\n",
       "<path fill=\"none\" stroke=\"#000000\" d=\"M3653.1688,-103.9815C3648.1044,-95.1585 3642.7475,-85.8258 3637.6532,-76.9506\"/>\n",
       "<polygon fill=\"#000000\" stroke=\"#000000\" points=\"3640.6807,-75.1942 3632.667,-68.2637 3634.6097,-78.6789 3640.6807,-75.1942\"/>\n",
       "</g>\n",
       "<!-- 55 -->\n",
       "<g id=\"node56\" class=\"node\">\n",
       "<title>55</title>\n",
       "<path fill=\"none\" stroke=\"#000000\" d=\"M3796,-68C3796,-68 3700,-68 3700,-68 3694,-68 3688,-62 3688,-56 3688,-56 3688,-12 3688,-12 3688,-6 3694,0 3700,0 3700,0 3796,0 3796,0 3802,0 3808,-6 3808,-12 3808,-12 3808,-56 3808,-56 3808,-62 3802,-68 3796,-68\"/>\n",
       "<text text-anchor=\"middle\" x=\"3748\" y=\"-52.8\" font-family=\"Helvetica,sans-Serif\" font-size=\"14.00\" fill=\"#000000\">gini = 0.435</text>\n",
       "<text text-anchor=\"middle\" x=\"3748\" y=\"-37.8\" font-family=\"Helvetica,sans-Serif\" font-size=\"14.00\" fill=\"#000000\">samples = 307</text>\n",
       "<text text-anchor=\"middle\" x=\"3748\" y=\"-22.8\" font-family=\"Helvetica,sans-Serif\" font-size=\"14.00\" fill=\"#000000\">value = [209, 98]</text>\n",
       "<text text-anchor=\"middle\" x=\"3748\" y=\"-7.8\" font-family=\"Helvetica,sans-Serif\" font-size=\"14.00\" fill=\"#000000\">class = Target[&lt;=50K]</text>\n",
       "</g>\n",
       "<!-- 53&#45;&gt;55 -->\n",
       "<g id=\"edge55\" class=\"edge\">\n",
       "<title>53&#45;&gt;55</title>\n",
       "<path fill=\"none\" stroke=\"#000000\" d=\"M3703.4378,-103.9815C3709.056,-95.1585 3714.9988,-85.8258 3720.6503,-76.9506\"/>\n",
       "<polygon fill=\"#000000\" stroke=\"#000000\" points=\"3723.7629,-78.5787 3726.1819,-68.2637 3717.8584,-74.8188 3723.7629,-78.5787\"/>\n",
       "</g>\n",
       "<!-- 57 -->\n",
       "<g id=\"node58\" class=\"node\">\n",
       "<title>57</title>\n",
       "<path fill=\"none\" stroke=\"#000000\" d=\"M3968.5,-187C3968.5,-187 3827.5,-187 3827.5,-187 3821.5,-187 3815.5,-181 3815.5,-175 3815.5,-175 3815.5,-116 3815.5,-116 3815.5,-110 3821.5,-104 3827.5,-104 3827.5,-104 3968.5,-104 3968.5,-104 3974.5,-104 3980.5,-110 3980.5,-116 3980.5,-116 3980.5,-175 3980.5,-175 3980.5,-181 3974.5,-187 3968.5,-187\"/>\n",
       "<text text-anchor=\"middle\" x=\"3898\" y=\"-171.8\" font-family=\"Helvetica,sans-Serif\" font-size=\"14.00\" fill=\"#000000\">C(Education)[T.HS&#45;grad] &lt;= 0.5</text>\n",
       "<text text-anchor=\"middle\" x=\"3898\" y=\"-156.8\" font-family=\"Helvetica,sans-Serif\" font-size=\"14.00\" fill=\"#000000\">gini = 0.43</text>\n",
       "<text text-anchor=\"middle\" x=\"3898\" y=\"-141.8\" font-family=\"Helvetica,sans-Serif\" font-size=\"14.00\" fill=\"#000000\">samples = 1631</text>\n",
       "<text text-anchor=\"middle\" x=\"3898\" y=\"-126.8\" font-family=\"Helvetica,sans-Serif\" font-size=\"14.00\" fill=\"#000000\">value = [511, 1120]</text>\n",
       "<text text-anchor=\"middle\" x=\"3898\" y=\"-111.8\" font-family=\"Helvetica,sans-Serif\" font-size=\"14.00\" fill=\"#000000\">class = Target[&gt;50K]</text>\n",
       "</g>\n",
       "<!-- 56&#45;&gt;57 -->\n",
       "<g id=\"edge57\" class=\"edge\">\n",
       "<title>56&#45;&gt;57</title>\n",
       "<path fill=\"none\" stroke=\"#000000\" d=\"M3898,-222.8796C3898,-214.6838 3898,-205.9891 3898,-197.5013\"/>\n",
       "<polygon fill=\"#000000\" stroke=\"#000000\" points=\"3901.5001,-197.298 3898,-187.2981 3894.5001,-197.2981 3901.5001,-197.298\"/>\n",
       "</g>\n",
       "<!-- 60 -->\n",
       "<g id=\"node61\" class=\"node\">\n",
       "<title>60</title>\n",
       "<path fill=\"none\" stroke=\"#000000\" d=\"M4225.5,-187C4225.5,-187 4086.5,-187 4086.5,-187 4080.5,-187 4074.5,-181 4074.5,-175 4074.5,-175 4074.5,-116 4074.5,-116 4074.5,-110 4080.5,-104 4086.5,-104 4086.5,-104 4225.5,-104 4225.5,-104 4231.5,-104 4237.5,-110 4237.5,-116 4237.5,-116 4237.5,-175 4237.5,-175 4237.5,-181 4231.5,-187 4225.5,-187\"/>\n",
       "<text text-anchor=\"middle\" x=\"4156\" y=\"-171.8\" font-family=\"Helvetica,sans-Serif\" font-size=\"14.00\" fill=\"#000000\">C(Education)[T.Masters] &lt;= 0.5</text>\n",
       "<text text-anchor=\"middle\" x=\"4156\" y=\"-156.8\" font-family=\"Helvetica,sans-Serif\" font-size=\"14.00\" fill=\"#000000\">gini = 0.444</text>\n",
       "<text text-anchor=\"middle\" x=\"4156\" y=\"-141.8\" font-family=\"Helvetica,sans-Serif\" font-size=\"14.00\" fill=\"#000000\">samples = 294</text>\n",
       "<text text-anchor=\"middle\" x=\"4156\" y=\"-126.8\" font-family=\"Helvetica,sans-Serif\" font-size=\"14.00\" fill=\"#000000\">value = [196, 98]</text>\n",
       "<text text-anchor=\"middle\" x=\"4156\" y=\"-111.8\" font-family=\"Helvetica,sans-Serif\" font-size=\"14.00\" fill=\"#000000\">class = Target[&lt;=50K]</text>\n",
       "</g>\n",
       "<!-- 56&#45;&gt;60 -->\n",
       "<g id=\"edge60\" class=\"edge\">\n",
       "<title>56&#45;&gt;60</title>\n",
       "<path fill=\"none\" stroke=\"#000000\" d=\"M3988.2359,-222.8796C4013.2136,-211.3588 4040.3289,-198.8522 4065.3312,-187.3201\"/>\n",
       "<polygon fill=\"#000000\" stroke=\"#000000\" points=\"4066.8245,-190.4858 4074.4391,-183.1192 4063.8926,-184.1293 4066.8245,-190.4858\"/>\n",
       "</g>\n",
       "<!-- 58 -->\n",
       "<g id=\"node59\" class=\"node\">\n",
       "<title>58</title>\n",
       "<path fill=\"none\" stroke=\"#000000\" d=\"M3927.5,-68C3927.5,-68 3838.5,-68 3838.5,-68 3832.5,-68 3826.5,-62 3826.5,-56 3826.5,-56 3826.5,-12 3826.5,-12 3826.5,-6 3832.5,0 3838.5,0 3838.5,0 3927.5,0 3927.5,0 3933.5,0 3939.5,-6 3939.5,-12 3939.5,-12 3939.5,-56 3939.5,-56 3939.5,-62 3933.5,-68 3927.5,-68\"/>\n",
       "<text text-anchor=\"middle\" x=\"3883\" y=\"-52.8\" font-family=\"Helvetica,sans-Serif\" font-size=\"14.00\" fill=\"#000000\">gini = 0.393</text>\n",
       "<text text-anchor=\"middle\" x=\"3883\" y=\"-37.8\" font-family=\"Helvetica,sans-Serif\" font-size=\"14.00\" fill=\"#000000\">samples = 1329</text>\n",
       "<text text-anchor=\"middle\" x=\"3883\" y=\"-22.8\" font-family=\"Helvetica,sans-Serif\" font-size=\"14.00\" fill=\"#000000\">value = [357, 972]</text>\n",
       "<text text-anchor=\"middle\" x=\"3883\" y=\"-7.8\" font-family=\"Helvetica,sans-Serif\" font-size=\"14.00\" fill=\"#000000\">class = Target[&gt;50K]</text>\n",
       "</g>\n",
       "<!-- 57&#45;&gt;58 -->\n",
       "<g id=\"edge58\" class=\"edge\">\n",
       "<title>57&#45;&gt;58</title>\n",
       "<path fill=\"none\" stroke=\"#000000\" d=\"M3892.4146,-103.9815C3891.2894,-95.618 3890.1027,-86.7965 3888.9651,-78.3409\"/>\n",
       "<polygon fill=\"#000000\" stroke=\"#000000\" points=\"3892.4116,-77.7077 3887.6095,-68.2637 3885.4741,-78.6411 3892.4116,-77.7077\"/>\n",
       "</g>\n",
       "<!-- 59 -->\n",
       "<g id=\"node60\" class=\"node\">\n",
       "<title>59</title>\n",
       "<path fill=\"none\" stroke=\"#000000\" d=\"M4066,-68C4066,-68 3970,-68 3970,-68 3964,-68 3958,-62 3958,-56 3958,-56 3958,-12 3958,-12 3958,-6 3964,0 3970,0 3970,0 4066,0 4066,0 4072,0 4078,-6 4078,-12 4078,-12 4078,-56 4078,-56 4078,-62 4072,-68 4066,-68\"/>\n",
       "<text text-anchor=\"middle\" x=\"4018\" y=\"-52.8\" font-family=\"Helvetica,sans-Serif\" font-size=\"14.00\" fill=\"#000000\">gini = 0.5</text>\n",
       "<text text-anchor=\"middle\" x=\"4018\" y=\"-37.8\" font-family=\"Helvetica,sans-Serif\" font-size=\"14.00\" fill=\"#000000\">samples = 302</text>\n",
       "<text text-anchor=\"middle\" x=\"4018\" y=\"-22.8\" font-family=\"Helvetica,sans-Serif\" font-size=\"14.00\" fill=\"#000000\">value = [154, 148]</text>\n",
       "<text text-anchor=\"middle\" x=\"4018\" y=\"-7.8\" font-family=\"Helvetica,sans-Serif\" font-size=\"14.00\" fill=\"#000000\">class = Target[&lt;=50K]</text>\n",
       "</g>\n",
       "<!-- 57&#45;&gt;59 -->\n",
       "<g id=\"edge59\" class=\"edge\">\n",
       "<title>57&#45;&gt;59</title>\n",
       "<path fill=\"none\" stroke=\"#000000\" d=\"M3942.6836,-103.9815C3952.7727,-94.607 3963.481,-84.6572 3973.5601,-75.2921\"/>\n",
       "<polygon fill=\"#000000\" stroke=\"#000000\" points=\"3976.1809,-77.6346 3981.1243,-68.2637 3971.4161,-72.5065 3976.1809,-77.6346\"/>\n",
       "</g>\n",
       "<!-- 61 -->\n",
       "<g id=\"node62\" class=\"node\">\n",
       "<title>61</title>\n",
       "<path fill=\"none\" stroke=\"#000000\" d=\"M4204,-68C4204,-68 4108,-68 4108,-68 4102,-68 4096,-62 4096,-56 4096,-56 4096,-12 4096,-12 4096,-6 4102,0 4108,0 4108,0 4204,0 4204,0 4210,0 4216,-6 4216,-12 4216,-12 4216,-56 4216,-56 4216,-62 4210,-68 4204,-68\"/>\n",
       "<text text-anchor=\"middle\" x=\"4156\" y=\"-52.8\" font-family=\"Helvetica,sans-Serif\" font-size=\"14.00\" fill=\"#000000\">gini = 0.398</text>\n",
       "<text text-anchor=\"middle\" x=\"4156\" y=\"-37.8\" font-family=\"Helvetica,sans-Serif\" font-size=\"14.00\" fill=\"#000000\">samples = 248</text>\n",
       "<text text-anchor=\"middle\" x=\"4156\" y=\"-22.8\" font-family=\"Helvetica,sans-Serif\" font-size=\"14.00\" fill=\"#000000\">value = [180, 68]</text>\n",
       "<text text-anchor=\"middle\" x=\"4156\" y=\"-7.8\" font-family=\"Helvetica,sans-Serif\" font-size=\"14.00\" fill=\"#000000\">class = Target[&lt;=50K]</text>\n",
       "</g>\n",
       "<!-- 60&#45;&gt;61 -->\n",
       "<g id=\"edge61\" class=\"edge\">\n",
       "<title>60&#45;&gt;61</title>\n",
       "<path fill=\"none\" stroke=\"#000000\" d=\"M4156,-103.9815C4156,-95.618 4156,-86.7965 4156,-78.3409\"/>\n",
       "<polygon fill=\"#000000\" stroke=\"#000000\" points=\"4159.5001,-78.2636 4156,-68.2637 4152.5001,-78.2637 4159.5001,-78.2636\"/>\n",
       "</g>\n",
       "<!-- 62 -->\n",
       "<g id=\"node63\" class=\"node\">\n",
       "<title>62</title>\n",
       "<path fill=\"none\" stroke=\"#000000\" d=\"M4335.5,-68C4335.5,-68 4246.5,-68 4246.5,-68 4240.5,-68 4234.5,-62 4234.5,-56 4234.5,-56 4234.5,-12 4234.5,-12 4234.5,-6 4240.5,0 4246.5,0 4246.5,0 4335.5,0 4335.5,0 4341.5,0 4347.5,-6 4347.5,-12 4347.5,-12 4347.5,-56 4347.5,-56 4347.5,-62 4341.5,-68 4335.5,-68\"/>\n",
       "<text text-anchor=\"middle\" x=\"4291\" y=\"-52.8\" font-family=\"Helvetica,sans-Serif\" font-size=\"14.00\" fill=\"#000000\">gini = 0.454</text>\n",
       "<text text-anchor=\"middle\" x=\"4291\" y=\"-37.8\" font-family=\"Helvetica,sans-Serif\" font-size=\"14.00\" fill=\"#000000\">samples = 46</text>\n",
       "<text text-anchor=\"middle\" x=\"4291\" y=\"-22.8\" font-family=\"Helvetica,sans-Serif\" font-size=\"14.00\" fill=\"#000000\">value = [16, 30]</text>\n",
       "<text text-anchor=\"middle\" x=\"4291\" y=\"-7.8\" font-family=\"Helvetica,sans-Serif\" font-size=\"14.00\" fill=\"#000000\">class = Target[&gt;50K]</text>\n",
       "</g>\n",
       "<!-- 60&#45;&gt;62 -->\n",
       "<g id=\"edge62\" class=\"edge\">\n",
       "<title>60&#45;&gt;62</title>\n",
       "<path fill=\"none\" stroke=\"#000000\" d=\"M4206.269,-103.9815C4217.8418,-94.4232 4230.1389,-84.2668 4241.6713,-74.7419\"/>\n",
       "<polygon fill=\"#000000\" stroke=\"#000000\" points=\"4244.0334,-77.3304 4249.5148,-68.2637 4239.5757,-71.9332 4244.0334,-77.3304\"/>\n",
       "</g>\n",
       "</g>\n",
       "</svg>\n"
      ],
      "text/plain": [
       "<graphviz.files.Source at 0x10b5e58d0>"
      ]
     },
     "execution_count": 6,
>>>>>>> 889b95742bd28ff876402ee859cdc2552fe7950f
     "metadata": {},
     "output_type": "execute_result"
    }
   ],
   "source": [
<<<<<<< HEAD
    "from sklearn.tree import DecisionTreeClassifier\n",
    "tree_clf = DecisionTreeClassifier(criterion = \"gini\", max_depth = 5) \n",
    "tree_clf.fit(data_train, target_train)\n",
    "\n",
    "# Optional--uncomment this code to visualize the Decision Tree\n",
    "# export_graphviz(tree, out_file=\"mytree.dot\", feature_names=data_train.columns , class_names=list(target_train), rounded=True)\n",
    "# with open(\"mytree.dot\") as f:\n",
    "#     dot_graph = f.read()\n",
    "# graphviz.Source(dot_graph)"
=======
    "from sklearn import tree\n",
    "tree = tree.DecisionTreeClassifier(criterion = \"gini\", max_depth = 5) \n",
    "tree = tree.fit(data_train, target_train.iloc[:,1])\n",
    "\n",
    "export_graphviz(tree, out_file=\"mytree.dot\", feature_names=data_train.columns , class_names=list(target_train), rounded=True)\n",
    "with open(\"mytree.dot\") as f:\n",
    "    dot_graph = f.read()\n",
    "graphviz.Source(dot_graph)"
>>>>>>> 889b95742bd28ff876402ee859cdc2552fe7950f
   ]
  },
  {
   "cell_type": "markdown",
   "metadata": {},
   "source": [
<<<<<<< HEAD
    "### 2.1 Feature importance\n",
    "\n",
    "Let's quickly examine how important each feature ended up being in our Decision Tree model.  Check the `feature_importances_` attribute of our trained model to see what it displays. "
=======
    "### 2.1 Feature importance"
>>>>>>> 889b95742bd28ff876402ee859cdc2552fe7950f
   ]
  },
  {
   "cell_type": "code",
<<<<<<< HEAD
   "execution_count": 8,
=======
   "execution_count": 7,
>>>>>>> 889b95742bd28ff876402ee859cdc2552fe7950f
   "metadata": {},
   "outputs": [
    {
     "data": {
      "text/plain": [
<<<<<<< HEAD
       "array([0.06761352, 0.        , 0.        , 0.        , 0.        ,\n",
       "       0.        , 0.        , 0.        , 0.        , 0.        ,\n",
       "       0.08071446, 0.        , 0.006495  , 0.02596604, 0.        ,\n",
       "       0.01482269, 0.        , 0.        , 0.        , 0.        ,\n",
       "       0.        , 0.0853097 , 0.00311049, 0.        , 0.        ,\n",
       "       0.        , 0.        , 0.0879446 , 0.        , 0.        ,\n",
       "       0.        , 0.        , 0.4950878 , 0.        , 0.        ,\n",
       "       0.        , 0.        , 0.1329357 , 0.        , 0.        ,\n",
       "       0.        , 0.        , 0.        , 0.        , 0.        ])"
      ]
     },
     "execution_count": 8,
=======
       "array([0.        , 0.        , 0.        , 0.        , 0.        ,\n",
       "       0.        , 0.        , 0.        , 0.        , 0.01174726,\n",
       "       0.00731382, 0.01770231, 0.01362388, 0.        , 0.        ,\n",
       "       0.        , 0.        , 0.        , 0.        , 0.10865096,\n",
       "       0.        , 0.        , 0.        , 0.01126856, 0.        ,\n",
       "       0.13019604, 0.00045497, 0.        , 0.        , 0.        ,\n",
       "       0.10188485, 0.        , 0.00056004, 0.        , 0.13774195,\n",
       "       0.        , 0.        , 0.        , 0.        , 0.15438617,\n",
       "       0.30446918])"
      ]
     },
     "execution_count": 7,
>>>>>>> 889b95742bd28ff876402ee859cdc2552fe7950f
     "metadata": {},
     "output_type": "execute_result"
    }
   ],
   "source": [
<<<<<<< HEAD
    "tree_clf.feature_importances_"
   ]
  },
  {
   "cell_type": "markdown",
   "metadata": {},
   "source": [
    "That matrix isn't very helpful, but a visualization of the data it contains could be.  Run the cell below to plot a visualization of the feature importances for this model. "
=======
    "tree.feature_importances_"
>>>>>>> 889b95742bd28ff876402ee859cdc2552fe7950f
   ]
  },
  {
   "cell_type": "code",
<<<<<<< HEAD
   "execution_count": 9,
=======
   "execution_count": 8,
>>>>>>> 889b95742bd28ff876402ee859cdc2552fe7950f
   "metadata": {},
   "outputs": [
    {
     "data": {
<<<<<<< HEAD
      "image/png": "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\n",
      "text/plain": [
       "<matplotlib.figure.Figure at 0x21caaad7710>"
=======
      "image/png": "iVBORw0KGgoAAAANSUhEUgAAApkAAAHjCAYAAABo/gRoAAAABHNCSVQICAgIfAhkiAAAAAlwSFlzAAALEgAACxIB0t1+/AAAADl0RVh0U29mdHdhcmUAbWF0cGxvdGxpYiB2ZXJzaW9uIDIuMS4yLCBodHRwOi8vbWF0cGxvdGxpYi5vcmcvNQv5yAAAIABJREFUeJzs3XmYXFWd//H3R8IqEFCCAoqRdVgCAcIWZA+MCyJxGAFxQyOD4A9xwcGNcUFlUWFQBAIiqwZZAorIvpOwBAhZEAUxLoAShkURFSHf3x/nW+mbSlVXdXd1utP9eT0Pj1237nLuLeaZw7nnfD+KCMzMzMzMOulVA90AMzMzMxt63Mk0MzMzs45zJ9PMzMzMOs6dTDMzMzPrOHcyzczMzKzj3Mk0MzMzs45zJ9PMzMzMOs6dTDMzMzPrOHcyzczMzKzjRgx0A8yWZmussUaMHj16oJthZma2xNx3331PR8SoVvu5k2nWB6NHj2bGjBkD3QwzM7MlRtLv2tnPr8vNzMzMrOPcyTQzMzOzjnMn08zMzMw6zp1MMzMzM+s4dzLNzMzMrOPcyTQzMzOzjnMn08zMzMw6zp1MMzMzM+s4dzLNzMzMrOPcyTQzMzOzjnMn08zMzMw6zp1MMzMzM+s4dzLNzMzMrOPcyTQzMzOzjnMn08zMzMw6zp1MMzMzM+s4dzLNzMzMrOPcyTQzMzOzjhsx0A0w60+SJgKXA5tExMOdPv/sx59n9DE/7/RpzczM+mze8e8Y0Ot7JNOGuoOAO4ADB7ohZmZmw4k7mTZkSVoZ2An4CNnJlPQqSd+XNFfSVZKulrR/freNpFsl3SfpWklrDWDzzczMlmruZNpQth9wTUT8GnhG0tbAu4HRwBhgErAjgKRlge8C+0fENsA5wNcHotFmZmZDgedk2lB2EHBK/j0lPy8LXBIRC4A/Sbo5v98Y2By4XhLAMsCTjU4q6VDgUIBlVh3Vb403MzNbmrmTaUOSpNcCewCbSwpKpzGAqc0OAeZGxI6tzh0Rk4HJAMuvtWF0psVmZmZDi1+X21C1P3B+RLwpIkZHxBuB3wJPA/+RczNfB+yW+/8KGCVp4etzSZsNRMPNzMyGAo9k2lB1EHB83bbLgE2APwJzgF8DdwPPR8RLuQDoVEkjKf+3cQowt7uLjFlnJDMGuESEmZnZYOROpg1JEbFbg22nQll1HhEv5Cv1e4DZ+f1MYJcl2U4zM7Ohyp1MG46ukrQasBzwtYj4U29P5GLsZv1noAtJm1nfuJNpw06jUU4zMzPrLC/8MSS9XtIUSb+R9FAWKN9I0lqSrsp9VpJ0kaTZkuZIuiOLnff0WstJuk3SiPy8m6Tn85pjJM3Mf56R9Nv8+4YG5/ljpfxQbdscSTNbXH+DNvbZOK/7XE/vz8zMzAqPZA5zKkUhpwLnRUQtFWcs8Drgo8BZuesngD9HxJjcZ2PgXz29Xi6wuRE4ALgoN98eEfvk32Pz/OcCV0XEpd2cbjVJa0fEE5LGAC/3tD1N2vgrSeMoK9HNzMysFzySabsD/4qIM2obImJmRNwO/AdwTW5eC3i8ss+vIuKfAJLeJ+meHP07U9Iykt4k6RFJa2S5oNsl7Z2HXwEc3IG2XwK8J/8+CPhx7QtJ6+c1H8iYyO3rD5Y0QtJ3su2zJE1q56KSDpU0Q9KMV158vgO3YWZmNvS4k2mbA/fVb5T0ZuDZWkeSErP435KmSzpO0oa53yaUUcmdImIs8ApwcET8DjgBOAP4NPBQRFyX55oDbNuBtl9CqYcJ8HagugLnSWCviNiK0qE9tcHxhwJPRcR22Z4jJK3b6qIRMTkixkXEuGVWGtmnGzAzMxuq/LrcmlkLmF/7EBEzJa0H7A1MAO7NwuV7AtvkZ4AVgafymLMl/SdwGPkaPLe/IuklSav0sY3zgb9JOhCYBfyj8t3ywPckbUl5jb5+g+P3BjbJ4wFGAhsCv+9ju8zMzIY9dzJtLl2jgVV/B1aoboiIF4DLgcslLaCMHr5Emc/5ufoTSFoJeEN+XBn4a+Xr5Vm0U9hbFwOnAe+r2/5p4A+5fVnghQbHCjg8Im7sQDvMzMyswp1Muwn4hqSPRsRZAJK2BVYCRtd2krQT5ZX3s5KWAzYFbgEeAq6UdHJEPCXpNcAqldflFwG/oywg2ifP9VpgfkT8K0c/++IyYBRwfbW9lFHJRyMiJH2Q0qGsdy1wuKRbI+LlXMz0+4j4e7sXd+KPmZlZY56TOcxFRAATgb2yhNFc4MvAE8BvJG2Qu64P3CppNvAAMAO4LCIeAr4IXCdpFqWzt5akXSnzHE+IiIuAlyQdkufaHbi6J+3MxUQzGrT/+Yg4ISLqV5Z/D5gk6S7gTcA/648FzgQeAWZKmgOcjv/Dy8zMrCNU+hhmi5M0EdgmIr7Y4fNeDnwuSwXtBnymUsJoUMg6nk9HxGrd7Tdu3LiYMWOxvq+ZmdmQJem+iBjXaj+PZFpTETEVmNfJc+ar9isi4le56SVgc0k9GtnsT/nafAbw54Fui5mZ2dLKncwhqM0En1rSzgOSHpb0rUbnioiz+9COb0nao/J5HqVc0kOSpmbyzvnA6sDaWWdzfGX/NSQ9Vfm8s6SQ9Pr8/BpJT6u4I4vI17dhe0kn5997SNqhjaaPoyxU+mWvbtzMzMzcyRxqKgk+t0TE+hGxKfB5SoLPp+hK8IGStLMVsBWwTy7u6aTvAsfUbds9ImZExMSsqzkp2zE2/5lW2zEingaelbRRbhpPmQ9a64juCEyPbuZ8RMTdEfHJ/LgH0LKTmXNID2vj/szMzKwJdzKHnnYTfKh8/3dgJrAOgKTtJE3LUc5p+fq4tvjmWyr55bMk/b/cvo2kWzNZ51pJa+V5fwe8tjby2Et30tWpHA+cXPd5WmXfAzO951e1EVFJEyRdIWl9Sof26NqIqaTXSbo803vuaXOUc5HEn/nz57c+wMzMbBhyJ3PoaTfBp/rd6pQi5LflpoeBXXKU81jgG7n9UODNwFYRsQVwkaRlKSOW+0fENpRkoK9XTn8/0JcR0ml0dSrXpZQsqqUFjad0QhfeSqb3HJ3tXigifgOcDZxUGTE9FTgxJy+/J79vqZr4M2rUqF7elpmZ2dDmci3DxyIJPmnnLDu0MXB8RPwpt48EzsvoyKAUM4eS9HNGrVxQRDwjaXNKx/b6rHm5DCXSseYpYO0+tPtO4Khsy6MR8aKk5SS9mpIidG9l38vzf+9j0ZqZzUwANq7U6lxd0oo9qZNpZmZmjbmTOfS0neBDmQu5T855vEPS1IiYCXwNuDkiJkoaTSm6DqWgef38RwFzI2LHJu1ZIa/dWw9T5pO+HZie2x4APgz8uq5DWBulfYX2/t0WsF1EvNSH9pmZmVkDfl0+9NwELC/po7UNmeCzKk1G9yLi18A3gf/OTSOBx/PvD1V2vQ44LGtIkuk+vwJGqeSYI2lZSZtVjtkImNPbm8lFPXcDR9LVyZwOHMWi8zHb8Vegmpd+A3BE7UOj1elmZmbWO+5kDjE9SPCpdwawS87dPBH4pqQ7Ka+/a84Gfg/MkvQg8N4cBdwfOCG3zSTnUOZ8zQ0oNSfbJunrkt5e2XQnJQP9/vw8HViPnncyrwTekwuaxlM6mDvlIqaHgI92f7iZmZm1y4k/w0h/Jfi0uN7WEfGl/DwPGJeliQY1SROAj0fEft3t58QfMzMbbpz4M8w1KshOma/5bE8LsvfBCGC1SkH2+cATkh6VNK5WkD0/P59/L1KQvXI/H8s2Pizp7rqi7Z+StEL+PULSc31ptKTjgJ8DO/flPGZmZsOZO5lDUIuC7K9nCRVkj4hLgG+RBdkjYlvKa/sd2i3InvezH3AIMD4i/o3ymnuKpFr9oE+x+KKmXpE0Ikd6NwP+0IlzmpmZDUfuZA5NQ60g+38Dn4mIZ/KcM4CLgMMlfRJYE7hd0g21AyQdL+lBSdMlrZnbGhZfl3ScpDMlXQ/8sA/tNDMzs+RO5tA01Aqyb9rgfmYAm0XEyZRanDtHxIT8biRwa0RsSVkk9OHc3l3x9a2Ad0bE+1s1xok/ZmZmrblO5vCytBZkb6RRzc6av0fEL/Lv++iaW9mw+Hr+fWVE/KOdC0fEZGAylIU/PW24mZnZcOBO5tA01Aqy/xLYhq5RVoCtgYea7F8trl4tzN6w+Hp2Ov/Wh/aZmZlZHb8uH5qGVEF2St3OE/OVPpK2Bt4HnJ7f1xdZb8bF183MzJYQdzKHoKFWkD0iLgcuAO6S9HC2870R8VTuPhm4obrwpwkXXzczM1tCXIx9mHFB9vZkR/zSLLHUlIuxm5nZcONi7NZQREwF5i3BS44Avl35PB+4UVLLfzkHiqTdKXVGB3VH2MzMbDBzJ3MIa5T6kwt8fr6kUn+yIPsXa6k/WZB9JPDDnqT+ZC3Lx/O7X0o6TdKr8rsLs2B7j0iaIOmKBl+tDawIvNDTc5qZmVnhTuYQ1SL151MsodSf9F0y9adi956k/qSTct/NKavNO91OACLiIuCw/ji3mZnZcOFO5tA11FJ/qpYDlgcWyyiX9BVJ90qaI+mM7GwjaSNJN2UK0P1Zlql63PaNtjfiYuxmZmatuZM5dA211B+AoyXNpKySnx0Rsxvs87/5Sn4M5bX8W3P7j4GTMwVoPKVAPACSdgZOA/aNiHmtGhERkyNiXESMGzVqVKvdzczMhiUXYx9+lubUn5Mi4hRJywFTJe0fEZfW7bOnpKMpBeDXAO6TdBewRkT8LNv7D1hYhH1z4PvAXpX7NjMzsz7ySObQNZcyb7Fes9SfLSijfx+rFCmvpf5sDryzclx3qT+1OZVjImLvyvd9Tf1ZKOtyXgPsskgDpJWA7wET837OqbS5Wa2uJygJQS7MbmZm1kHuZA5dQy31Z6GcZzke+E3dVysCC4CnJa1CmXtKRDyb296Zx6+QHVKAZ4B9KIlCO2NmZmYd4U7mEDXUUn9SbU7mHEom+Zl19/x/wHn5/VTg7srXBwOfzmkBdwCjKsc9CewLnDmY63eamZktTZz4Mww59ac1SROAj0dEt/U3nfhjZmbDjRN/rCmn/nRP0sHAqcCzA90WMzOzpdWQ7WQ2S7uRtNaSSrvJa3yrlnaTn+dlfcm2024qx86RdEEb15yYK6ybioiz22z/JEnzK0k7H27nuLprXRIR1ZqWB5XN0XAIUNIISYvVwOwNSRvkK/ae+CllMdDBklbrRDvMzMyGmyFZwqiSdnNeRByY28ZS0m4+yuJpN/tIWhF4QNLUiLizg835bl7vpsq23fNV8cRs227AZyJin27uaQvgZWAPSStm4fSGcqSyky6KiKOymPocST8dzK+6+0LSiIj4KzBW0h8Huj1mZmZLq6E6kjkU024OAs6ndFYXdkYlfTJHah+UdGFumyTplPz7XZLuzvu4TtKauf04ST/INj8m6YhWDcg6kvOAdSXtIGl6nvdOlVqatVHIk3PUdZakw7s7p6QxKgk9M3P/9eq+X1Ulqef+/H6f3L5BXuMHkuZK+oWkFfK7bXPf6VTiIbNt35F0T34/KbdPkHSDpCnAA62eg5z4Y2Zm1tKQHMmks2k3L6ssAvkGpYNaTbt5WdJr1JV2866ImC/pAEraTe3Vci3t5rI+3NN7KHUhH6bkfF+S2z8LvCkiXmryavc24KcREZIOAz5NV4mijYA9gdWAX0o6IyJeadYAlRXpbwIeo9SdfEtEvCLprcBxwAHAxyhF17fM717T4r4OB74VERdLWp5Sb7Pq75Tn+tfsIN8JXJXfbQwcFBGzJV0O7AdMAc4FDo2IOyWdXDnXocBTEbFdXusuSdfldzsAm0bE71u0l4iYDEyGsvCn1f5mZmbD0VDtZDazVKbdqNSe/GNEPC7pKeAsSSMj4nlK0fULJV0JXNHg8HWBn+RI6vLAryvfXZWlh56S9AylrE+j1JuDJe1Kmac4KSKek/Qm4HxJ69ftOwE4pdZZjYhnWtzeNOCLeb7LI+JRZf3N2u1TyiK9hVID842S1sjvHq1ES94HjM7vVqxMebiAMrINsDewiaQD8/NIyn9YAExvp4NpZmZm7Rmqr8uHWtrNQcDmKqV/HqEUVJ+Y3/07pbbldsAMScvUHXsaJbN7DGXUsHr/1RHdV4ARko5U1wKkNfO7iyJiq4jYPiKuzG1fB67N57Mf3TwfSeMr56zWvSQiLsh7+Selk75Iig/wAUpncOuIGAs8XbnWYu2vnZbGBBxe+Z3eHBE35nd/a3KMmZmZ9cJQ7WQOmbSb7DT+B+VV7uiIGA28Gzgov3tDRNwEHE0ZiVyp7hQjgcdVhlg/2Op6EXFqpRP2VDe7dvd8Plbr7Ep6TURMq5zz6rr7Wy8iHo2I/wV+DmzR4DpP5dSEvcg5s920/2ngH7XfglKEveZa4PDKb7exyoIvMzMz67Ah2ckcYmk3uwO/jYg/V76+mZK1vQbwo3zdfz9wQq6MrvoyZaX9rcCf6ZwTgJPy+VSdSXnlXns+72lxnvfmwp2ZwHrAhXXfXwCMlzQD+E/KSG4rh1DSe6YDL9S17RFgpqQ5wOkMvykjZmZmS8SwS/zREky7yXmQlwCbUTpe8ygjdf9O6RDuo1K+6ErKYpoVKfMkP9PivLvRuuTRWGDt2sihpH0po6HH9/G2qtd4ISJWbrD9MODFiDi/m2P3AbaNiP/Jz+cCu1I6r6+ldCihTGOozbs8JyJOrZxjNmXhz5zszP8FOCQipuT3DwLvB9YHNoiIkyS9DvgZZY7tERExrUn7Ls42vD8iLmp2H8uvtWGs9cFTmn1tNuTNO/4dA90EM1vC1Gbiz7AbxYmIqZJe29/XydfTUykdpHfmYpmxwI8pI5HVzl5/1OocC4wDrgaIiJ9Sioz3u2rpqG78HPiapBMi4sXcdnREXJp/fx0WdmTHNjxDWTQ0njIVYWvgl/l5iqRVgDcCcyJiVuWYvYDZEfGRZg3LYzcG/kFZbGRmZmY9NCRfl7fSbtpNH9VqdR5aS7vJWp2bUF7hntagXfW1Ol8t6RyVOpIPSHpX/TFqUM9T0nLAV4EDcrHNAZI+JOl7ecybJN2oUivyRknr5vZzJZ2a53lM0v65fS1Jt+W55kjauXL9r6vU6LwrRwmR9GVJn8m/b5F0Sp5zjqTt8l4DuIVKzc9euJOclpD/+31KZxNKSaJ7I2KBsm6oSozlN4B9816Wk/Q2lXqf90u6WNKrI+Kv2bG9nL4t2DIzMxu2hmUncwnpRK3OLwA3RcS2lE7rSZJeXXdYrZ7nVsCxwDdyjuixwMW52ObiumO+B5yfq+ovouR016wFvIXS+auNtr6XspJ8LLAlpSMM8GrgrojYMtv8URp7dUSMp6xuP6eyfQawc+ND2lIbyST/9xZggaSV8vMio8FRYiy/SlktP5ZSH/QYYM+I2BqYBXyiD+0xMzOzNOxelw8CPanVuTdl1K02R3MFSt3Lqmb1PLuzI2WFOpSFNSdWvrsiIhYAD9VGJoF7gXNy3uMVEVHrZL5EV2H0+yivohv5MUBE3KaS4LNaju72qX5o1tRcVaU25gb5eQalnNN44KQWpxgPbApMK7MbWA64o9V1JR1KKezOMquO6m3zzczMhjSPZPafTtTqFPAflfI/60bEL+uObVbPsyeqq7+qI6yC0jmkpA09Dlwg6QP5/b+ia+VYtU5ld+evfu5r/VCA6ZQ6on/Iz3dRRmLHAXe3OFbANZXnu2lEHNrqghExOSLGRcS4ZVYa2Ze2m5mZDVnuZPafTtTqvBb4f7mICElbNTisWb3KvwKrNGnbNKCWenMwLUbvVNJ4noqIs4Af0DXvsV0H5HneAjyfSUXQh/qhFXcCR1E6m+T/HgL8vkE5p3rTgF2Veek5B3bDFseYmZlZG9zJ7CcdqtX5Ncrr71lZ1/FrDfZvVs/zZmDT2sKfumOOBA7JV/Tvp/U8xN0otSUfoBSG/98W+9d7VtI0yr1VV3XvTlll3jZJEyUdW9l0J6W+5nSAiPgDJT6zYWmiqqw9+hHg4ix3NI3S8TUzM7M+GnZ1MgeDJVmrc6BJuoVS03NG3fbXAT+KiD3z87mUGqGXLnaSASLpQuDSiGiUCQ/AuHHjYsaMHtXZNzMzW6q1WyfTI5kDICKmUgqzD2frAp+ufH6eUjfzsAFqzyKyGPtOlFqZZmZm1kNDvpMp6fWSpuQr64ckXS1po6z9eFXus5uk57PW5MOSvtXGeXerHd/NPmNVoiFrn/eVdAx0rlanpBeabD+sskCn2bH7SPpK5fO5kn6bx34hX7XPlPRK5e8j684xSdIpddvuqC1eiojd6kcxc/u9lVXqRMQnImKTNgu5tyTpCEkHt95z4f4jJD2Xf29MWem/ekRc04n2mJmZDTdDuoRRLpiZCpwXEQfmtrHA6yg1Hc+q7O7UnaKnqTsDTtKIiHi57vNixe7bFRG/ysLtT3ekgWZmZsPQUB/JrKXuLOxwZerO7ZQFLIuNUjl1p3Nqo4OSjs/2TZe0Zn53oaTTJN2co8y7SDovR5J/UDnHZEkzJM2tLviR9EdJX1JZ8DQxR0+/Luk24OOSjpN0VO67oaRrJd2Xz3Cj3L6+pLsl3UtZlGVmZmYdMtQ7mU7d6dJfqTutjARuzfZNBz5c/S4idgc+C/wMOIFSHH0bSZvnPsfk5OItKSv1N60c/7eI2CkiLsnPq0bELhGxyOt7YDJweERsA3yO8uwBvgv8b/629QXym5J0aHZ8Z8yf3/ZhZmZmw8pQ72Q2013qzp8oq5yrqTvHSJpJGfVrlrpziUqZoZOBzdpow47Aj/LvCyidyporImJBRDxEebUPJXXnEElfBsZUakDWp+6MbnK9hak7wKqSVsvtfUrdYfFC6/Xb/x4Rv2jSvp/l/84GnoiIh2ppQ5X9DpJ0P3A/sAmlE1pT33GfUt+IvM8dgMvyNzyNrvvdsXKOC5rcx+I3VinGPmqUE3/MzMwaGeqdTKfuND5/9XNfU3f+D1i9bttr6JrP+FJle337ave5gEXveQEwQqUw+ieAPfK3uYZFn+3f6q5b/xnK83u68vuNzd8JyjNwDS8zM7N+MNQ7mU7d6dJfqTt3U4rH1+Zabk/p2D3Rh3PWrEp5hn+RtBbw7z09QUQ8CzypUpsUSa+StGV+fRfwnvy77ZXoZmZm1tqQ7mQ6dWcR/ZK6ExFPUupdXpuvo78FHFQZXe2L+ymvzudQKgH0drX/gcBhKqk+c+la6HQk8ElJ9wAr97GtZmZmVjFsE3/k1J2lInVnoEgaQXnNvlp3+znxx8zMhhs58ad7Tt0BBnnqzkBRKcY+A/hzq31nP/58q13MzMyGpWHVyVRd+g/wbg2C9J9OUZP0H8qq603rN1ZTdyTtAzxXS91RL9J/8jy7qNQUfTj/+Uj9Pv1BlcSeBt8tTP/J+pz7NdhngqRaRvk4yuvz+gVeZmZm1qYhnfhTlQt3nP7TXJ/TfyStDVwI7BsRMyWNAq6T9PhAxjP2NP0nIi6S9Gfg4/3UJDMzsyFvOI1kOv2Hfk//+X/A2bXR0YiYDxwD/HeOND6WbVhD0gJJ4/PzdEmjVVJ6fiDp1rzfIxpdRNIqKulAs/OZ7Vf5rlG60ML0n7rzvEPSryTdASz2W5qZmVnvDadOptN/uvRX+s9mLP6MZwCbZbb4Yznf8S253845WrxmRMzL/TcC9qIUUP+qpGVY3JeB+RExhnL/t+b27tKFFiFpJeBM4O2Ue267IL0qiT+vvOg5mWZmZo0Mp05mM07/6Vz6j1i8uHl12+2UgvK7UGqR7gxsT6m1WXNVRLwUEU8BzwCNInUmUJJ7iOLZ3N5dulC9TYFfR8RvchT3ota3V1QTf5ZZaWS7h5mZmQ0rw6mT6fSfxuevfu5r+s9cyrzTqq0ptS6hdDJ3zn2uAtag3Mdtlf2r9/sKJfnnyMpiozVp3JmF7tOFGhme9bvMzMyWgOHUyXT6T5f+Sv/5HjBJ0hZ5/jUoz+/E/H46sCvwUk4hmE15pX97dyeNiFMrHfungOvIRTkq6mMt2/EQsJGkN+fveVAvzmFmZmZNDJtOptN/FtFf6T9/BD4InCPpYUpn+czaK+xcSPUEpVMNpXO5El0jne36CvC6/A1m0ot5pLmC/jDgF9mOx3p6DoAx6/h1uZmZWSPDNvGnSk7/cfpPHUkTgI9HxGI1Nauc+GNmZsONnPjTPqf/AE7/WUilcPupwLOt9jUzM7PGBnUnU3UJPZKuVj8l9ETE2XX7DFhCj0rKzgcafVfZZx9JX6l8biuhJyJ2q45iKhN6KKvapygTeiLiE5SSTbdU9r2jsghqiZG0Qa7o726f9SQdWPm8vaST+3DZ5YDezPU0MzMzBnHiTy7GcEJPc0sioefdwAJK7c8+kTQia2X26vs2rEdZPDUFICLuZtHSSG1z4o+ZmVnfDeaRTCf0MKAJPTtTCpWfnO0encccKOkelaScWmLPCEnfye2zJE3K7RMk3SBpCvBAg2d/nKQzJV0P/LDZeeqOWV/S7fl73Sdp+/zqeGD32ohtXvsKSctI+p2kVfN45W+zhqTXSbpcpbD6PZJ26MOzNDMzs4rB3Ml0Qk+XgUjouZ0yivvJfAbz8ntFxHbA0ZRnBHAopaTSdsC2wBG1jjclueezmc7TyFbAOyPi/S3OU/MksFf+XrW5k1A6xzdnWxf+HhHxCqUmZ+0/MMZTirA/nceemJOX3wMsMmWiGVUSf+bPr6/jb2ZmZjCIX5d3o7uEno2B4+sSevatjQrSPKHnPEkbUopzL9tGG3akvEqGMpfxxMp3V0TEAuCh2sgkJaHnHEnL5ve1TmZ9Qs9eTa63MKFH0qqSVouI5+j/hJ5GLq+0d3T+vTewSWVO5EhKZx9gekT8vpvzXRkR/2hxnt9V9l8e+J6kLYGXgfW7OXfNxcBnKb/VgfkZSnLQxmVmBgCrS1oxR8SbiojJwGQoq8vbuL6ZmdmwM5hHMp3Q0/j81c/9ndDTSO3+qu0VcHjlOb85Im7M7/5WO1CLJ/cs8n2L89R8GvgD5bfejtLpbOV2So3S1wL7Uub61q63XeV667TqYJqZmVl7BnMn0wk9XQYqoae7Z1B1LXC4pBF5no1VFmEtokFyT2/OMxJ4MjvnHyQ78t21Nfe9EjgFeDBHgQFpSNcLAAAgAElEQVRuAI6o7acBWDlvZmY2VA3aTqYTehYxIAk9lNf0n69b+NPImcAjlHucA5xO76ZitHOeWsf4LuBNdI2sPgAsk4uojmxw7ouB99H1qhxKB3OnXGT0EM3nxJqZmVkPLZWJP3JCjxN6+pmc+GNmZtaQ2kz8WeoW/kh6PeX18R6S3k1J6jmK8rr0rKyXuRvl9ehjwIqUztdnGp9x4Xl3o3TmmpYEytepa0fE1fl5X2DTiDi+2TE9pVLXcuUG2w8DXoyI83NTo4SekyV9qHYP2fHcFTgBeC3wn7nvGGB2/n1OdTV2dq6uB95eG9GUdA1wXEQ0nRYg6VPA9yuLeKrfbQ8cGBGfbHX/lWNWpIzSviav3evOs6RlgFsiYuccAb+0We3Q3P80yqjmk63OPfvx5xl9TI8Gk82Yd/w7BroJZmb9bqnqZObcymFVoD0idss/Z9Rtv7fu8yckHQXcL2ml3hZoT38Avgj8opt96n2KUl5psU5mLwujb1MO7badbckyRm2XeoqIIyRNxcXYzczMem3QzslswgXa6fcC7QD3A/+QtHuDZ7NXtnm2pLMkLSfpk8CawO2SbmhwzARJV+Tfx0n6gaRb83kc0WD/tYFzgXG1+aCSvpK/2RxJZ+R/cNSiLr+jUqD9IUnjJE2V9IikL+c+IyQ91+A60yRtXvl8t6TNevnMzMzMrGJp62S6QHuX/irQXvN1ymjmQpJWymv9RxZXXwk4NCJOptTs3DkiJrRx7o0oNUF3AL6ar7MXiogngMPoKq4+D/jf/M3GUFaYv7VyyN8jYmfKyv0r8tgxwKGSVuumHT8gKwpI2jSvPbdV41Upxv7Ki8+32t3MzGxYWto6mc10V6D9T5Q5mdUC7cdImkkZ9WtWoP0SlRXOJ1OScVrZEfhR/n0BpVNZc0VELIiIhyiv9qEUaD8kR9vGRMRfc3t9gfbRTa63sEA7sGqlM9XXAu3keW8CVpC0Y2XzJsAjEfGb/Hw+pf5nT10VES9lGaNngFFtHLOnpHuABynzTKu/SW3KwmxgdkT8OeeGzgPe0M05pwDvUimZ9GHgh+00PiImR8S4iBi3zEoj2znEzMxs2FnaOpku0N74/NXPfS3QXvV1yshvjZrtWCVpf3UVXW80p7L6PF4BRqhxofba+VaijBRPzN/0HBb9TWrnW1B37gV0M+84Iv5G+Q+NfSnTLX7czv2ZmZlZa0tbJ9MF2rv0V4H2hXIV/evpGjV8CNhQ0nr5+X3Arfn3wmcTEZdWOvEzaUOLQu0rUjqMT0tahdIh7JSzKR3YaZVnaGZmZn20VK0uj4hQqZF5iqRjKCuZ51FKGP1G0gYR8WiDQ88APqOuAu2nUAq0K4+vXyhzIiXP/FOUjm3NzXS9av9m3TFHUoqaH015dX9Ii9vZDTha0r+AF4APdL/7YmoF2lelvOqt2R34XE9OlM90TER8tcHX3wAuA4iIFyV9BLg851HeTdeK/snADZL+0Oa8zLZFxP9JOo/Sef4dPV+p3t2575b0Im2+Kq83Zp2RzHA5GjMzs8UslcXYG5ELtLtAey9IeiOlLugmlWkKLsZuZmbWhNosxr60vS5vKiKmUkYlh7NGBdq/plLI3epIOoQyzeHzdR3MgynVAZ4dqLaZmZkt7ZZIJ1PS6yVNUckgf0jS1ZI2UqkVeVVlv7dIukfSw/nPoT25TkSc3Q9tPyoXntQ+X92iLE535/qWpD0qn+dlvclabceZkh6V9HxlEcz4yv7H5qv61YC7K/scAaVAe3UOZER8IiI2qdYVXdLy3vZewtccL+mkVvtFxA8j4o0RcXndV9tTEpIWK5dlZmZm7en3OZk577FlSo9KXOSPgP0i4n5JawDXSno8IgYyt+8o4ELgRYCIeHsfzvVdyv1W53nuHhFPAxOh+3jLnDP51Sy583SzNBxJIyLi5T60syOyneOADYDrltR1I2IaZYSyt8cfmfM0zczMrJeWxEhmuyk9RwDnRsT9uc/TwGeBY6DMN8zRvgfzn/G5/QMqKTsPSrogt52rTNbJzy/k/+6mkrIzNUdUz5D0qvzu9CywPVfSV3LbkZSakzdLujm3zcsOMJI+pZJAM0cl0hGVdJpfqqThzJV0nUq0JRHxO+C12aHuqBwp/lbO1/yapJ0kTVdJLbpD0vq532GSLs52PSrpa7l9hKQf5cjq7NroqErq0Ml5rlnK1fiSRkm6Kve9U9Imuf34fJY3ABdTSiB9IEdcJzZo959UUoDuUknc2VrS9SppQIfkPq9SSTiak22odcivrBsZniLpHZLeKunSSnvOyt/9MVWmDuR1H85n8RNJjpE0MzPrkCWxurzdlJ7NgPPqdptBV/mcU4FbI2KiysrmlVUiAL8A7BQRT0t6TRvt2Q7YlLJK+Rrg3cClwBci4pk8942StoiIU1VWmNdGG6vt34aygnx7Sv3IuyXdSpnHtyFwUER8VNJPKJ3pC/PQ+4GdyBXbHfZmYI+IWCBpJPCWiHhF0j6USMyDc78tKSOMC4BHJH0327xKJvmgRacEjIiIHfO191l57Dfoyod/O2V19g65/1hgt4j4Z3bqNoiIz3TT7t9ExBclnU5Zpb4LZUrAvXnegyijoVtQSirdI+l2SjH1A4CbVKY07ERZpb9H3fk3BPakvAKfI+nM3HfvfBYrALPoSoXqlso0jkMB1l23vo6/mZmZwcAu/KlP6RGLFxinsm0P4HSAiHglaxruAVxa6wBGxDNtXPeeiHgsIl6hFN+uJfO8R9L9wAOUju2mLc7zFmBqRPwtIl4ALqcrzvG3lbmR9ak9HUnkaeInEbEg/34NMFUltegEFk3IuT4iXoiIF4FfUxYMPQJsliOGe1EWDdXU0oWuA96YI7NvoSQb1eppvllSrUD6FdEg4rMb1cSe6RHxYkZLLlu51o8yNekJYDqlruhPgbepvJZ/J3BdlPjPej+LiH9l6tNfKZ3N2u/3z/x3qe0pGdXEn1Gj2gkrMjMzG36WRCez3ZSeuZQRsqptKAXAm2nWMX2ZvDdJAparfLdYUk6Oqn4G2DMTZX5O65Sf7tJvFku0qXzuZCJPvb9V/v4mpXzR5pSR1EYJOQvblwXQt6TMZfw0cFpln0bpQt3d/9+afSHp5nx1Xj1/d4k9yzS7Vib23E35j40DKCObjTT6PdpKLzIzM7PeWRKdzHZTek4DPqSMIZT0WsoI3In5/Y3Ax/K7ZSStmtvek/tSeV0+j66O7buAZSvX2U7Sm1XmYh5ASeZZldIxel6l1uTbKvs3S/m5DdhP0kqSXk1ZuHN7G8+jY4k8LTRLLWpIGeUYET8BvsyiCUS1dKEJwO8zF/w28vW7pLcCj+X2eos8v4jYPVN9jujBvdwGHJRzM9eivJavTcGYQllANo5SLL9dd1Byy5fLf5fe1uoAMzMza1+/dzKz/uBEYC+VEkZzKZ2YJ8iUntzvSUpM4VmSHqaMqJ0TET/LU30C2F3SbEoHY7OImEvJ175V0oPAd3Lfs4BdJd1DmTNZHVmbDhxP6ej9lvLK9EHKa/K5lFzsOyv7TwZ+oVz4U7mv+4FzgXsoo2lnR8QD3T0LSctS5hb2qHq3pK/nvMee+CYlGelOyuhdK28CblMpkXQ6i2aW/03SdMrzrZWV+gLlGc8CvgR8pMl5bwDGNVv406YpwGOUeZPXAkdGxP/ld1cD/w78vCcr6nPh2c15zospv6NjJc3MzDpkQBN/tIRTetRNeaAldP2JwNYR8aX8PA8YV7+oaDCRdBcwKSKWxOjrEiVp5Yh4QdLKZPZ8RDyU3x0P/DEivtfdOZz4Y2Zmw42WhsSfYZjSMwL4duXzfMpK9pY/lPWLc3Pk9l5K+axaB/NUYH+6mVtqZmZm3RvwWMlOpPSozUQhyoKgNdXLRKG+iohLIuK5yudtKSV6Fi5u0iBIFMp/XskO2ArArj1sxwqSBu3obE1E7J/zQzcB/lKZl3okMBP4TpZ/MjMzsx5aEnUy+1WuHneiULFEEoWGmqyNOgm4i1JiiojYX1Kz1epmZmbWwoCPZHaAE4WWTKLQ6yVdIelelWSe7XL7qpIuyBHTWdWRP0kn5bY7a/dUd87uUoY2z7/foLIQrJZWdFne868lfS63/1te56I8z48lLZ/fvTVHZmdLOlNl8VUtaeiLkqYBBwJjgEtz32U6/fzMzMyGm6HQyexJolD9fo0ShbaklO+Zq65EoT1y+yfaaM92lDqTY4D1KYlCUBKFxlFSa3ZVJgpRVtnvHhG717W/mii0A/BRZaQjJcHmtIjYDHiO0pmuqSUKddppwNfzFf9BQG2aw9eAJzIpaEu6Vua/llIcfQvKc/9Qg3NuT6YM5fEXtdGObYH3UH6jD0kak9s3B07O8yygPK+Vs50TKc99NRZdBf+XiBgfERdRCsHXXp93uxpf0qH5Hwwz5s+f392uZmZmw9ZQ6GQ240ShztqTUl5qZrbltZKWAyYA34NSrioins39X4iI65u0saa7lKFmromI5/KZXElXh/rRiKgt876I8vw2Ax6KiN9mKa3zKZGVNRe3cb3FOPHHzMystaHQyXSiUD8nCuU9Qim3NDb/WScjHJs9o8XaKGnFysKiL3STMrTw+bL4c2qUPtRse6tUH68eNzMz6ydDoZPpRKFFdTxRKEcBbyKfDyxcXAVwHfDx3CZJq3dznr9XOqlfV/OUoXl0Pd/9607zVkkj85m8k67X8xtKqh1/EOW5zwE2kfSm3P4+4NYmzWv2O5iZmVkvLPWdTCcKdVH/Jgp9jPJ8Zkl6CPhwbj8WeKOkOZSyP+ObnaCBZilDJwCfUUkrWrXumDsoCUAPAOdXisTPAg7P329ZyvN6gZJQdGVu/wvl+TdyDlk30wt/zMzM+m5AE3/6m5woNI9BnijUE5IOAzaIiM/Ubf834MJ20gd6eL0ped6rmu3jxB8zMxtutDQk/vS3wZAopDYLxUt6i6R71LdC8R1NFJJ0lKSVKp8HrFB8ej1wQH73S0mnt7jmBjlK2pv2zqesYl+nN8ebmZkNd0t9MfZWOpEo1INr3QLcUvucC2aWWKH4iLik7vO2fbqhQVQoPu0MHBYRP89nu3m262EWX9TVJxExStIdlKkKZmZm1kNDeiRzEHCh+M4Wil8L+GOeLyJidl53fUm3S3pA0n2Stq8/UKXw+3dytHiWpEm5fR1Jd+To6JwGo6dmZmbWC+5k9i8Xiu9sofjvUBYKXZ2v8kfm9ieBvSJiK+BgyvOqdyjwVERsRynofoSkdSmLwX6WEZpbUhYQmZmZWR+5kzkwXCi+F3Lqw6bApZTi8NNVCsIvD/wgV7hPadL+vYFDco7m3ZT0nw2Be4FJkv4H2Dzvp1ty4o+ZmVlL7mT2LxeK73Ch+Ih4PCLOiYh3Uu5zE8ro7B8oI7TbUTqdjdp8eKVO55sj4saIuAnYjTIaepGkg9togxN/zMzMWnAns3+5UPyi+lQoXtJbJY3Iv9cGVqe80h8JPJk1Uz9I407wtZQ6mrXjN1ZJIHoT8KeImEypS7pVg2PNzMysh9zJ7EcuFN9FnSkU/zbKfNQHgauBoyJiPiU7fZKkuygF3v/Z4FRnUrLSZ+Zr9dMpo6x7Ag9KeoDSKf9uT9pnZmZmjQ3pYuyDmVwofh6DvFB8ljD6eGWO6WJcjN3MzIYbuRj74DYYCsUvYR0tFN/fJN0OrAv8q7v9Zj/+/JJpkJmZ2VJmUHcytWTTcjpKbaTltFsoXp1Jy5kAbJXfzZb0jh7ezx6SdujJMZVjXwWsHxHP5edlgH9ExJYRMeiGASVtTJmLumpOSzAzM7MeGrSvy3Nl9DRKWs4ZuW0s5f/57wvcERFXZnHve6hLywGO7UlaTqd18nVwLk45KyL2bnbuVq/DJR0HPB0Rp0jaHLgZWDMq/wJIGhERL7c6vhftH5HH9iqSsj90d6+172mjzcuvtWH888lHOt4+MzOzwWoovC53Wk5n03IWiog5lBXYq0u6UNK3s53fkLSGpJ/ms5kmaXNJ6wOTgKNro6T5XC/Pe7+nNsopaRVJ5+Vo6SxJ+1EWG62Sx56vkr5TG9W8TNLelWd+oaR3qUlCTz1JB+ZzfLDyrJul+0yQdIOkKcADed+HVs51nKR2itqbmZlZC4M5u7wnaTnn1e3WKC1nYr6mXVldaTk7RcTT6ir/053tKEW+f0fp4L6bUhT8CxHxTJ77RmVajqRP0ZXNXW1/NS1HwN2SbgWepRQHPygiPirpJ5TO9IV5aC0t57I22tqt7Gj/I9sNJf1nz4hYIOl04O6I2Dc7f+dGxDhJZ1MZyZR0MXBiRNwlaTRwFeU3+zIwPyLG5Gj0avndpEzVqY0S1kyhlFO6TtIKwK7AR6gk9EhaHrhL0nUR8fu62/kfYLeI+LO6piM0PDa/2wHYNCJ+r1JO6njKKnqA/6T8x02r53doXoNlVnWdTDMzs0YGcyezmd6k5XwASloOpR7kB+hlWg6ApFpazqWUWpWHUp7lWpSOaHfRhAvTcvJctbScn9KPaTnpaEkfotS/PKCy/ZKIWFBp3zsAIuK6HN19dYNzTQA2zk4qlFHRFXP7fnl8AM/WdSrr/Rz4tkqJo3cAN0XEP7ODu4mkA3O/kZROeH0n807gfEmXUJKHoKT7NDoWYHqtoxoR90p6o0p90DdQ6mU+0U1byeMmkx3T5dfacHDONzEzMxtgg7mTORfYv8H2Zmk5P61sW9JpOdtGxLOSzqWzaTkrVj73OS0HOKnJnMpqLc369jVrr4DtIuKlRTaW59Z2xysiXpR0J7AXpeP7w8r5D4+IG+vOfzzwVuDlnA/yUcqo8D6UepdbdHPsBBa9Vygjw/9B6dBPabfdZmZm1r3BPCfTaTmL6lNaTg/cBhwMCztlf8xR1/r7uYEyH5bcd2z+eR3w8dwmSavXFth0M6I5hfKKfMc8LzRJ6ImIYzIWsjbheL2IuAv4EmXKwTrNju3m2gdSpj/0eSqCmZmZFYO2k+m0nC7qTFpOu44FxkuaBXyVMn8U4EpKx/yBnNN5BLBTLqx5iDKiCPAV4HUqqTozKVMBAH4AzJJ0foNrXkNJ3rkmImp1KZsl9NQ7OX/b2cANuaip3WPJ33AUZarCU60eTr0x64zs6SFmZmbDwqAtYdQdOS1nHoM8LWdppzZLGDnxx8zMhhu1WcJoMM/JbCoiptZedQ8TzdJyPjIYi5kv7VSKsV8M/LnVvrMff57RxwxYOVazfjHv+B5lNZiZNTRoX5e34SotoTSgiLilk6OYaiMNqO76l9TScvLztrW0HHUgDUilPuTj6n0a0IqSbsrjGy3W6hc5x7bb+axatCbnepUV590ZB6wM/LIDzTQzMxuWlsqRzFzBPJWSBnRgbhsLvI4yN/Cs3PZ64EfUpQFJenwg04CAoyj1L18EiIiezpus+i7lfm+qbKvV55wIbb/uP6maBiSp7TQgymKpqNXBXFKyJNXOLXfssh5lkU+3q8gj4iJJfyYXMJmZmVnPLa0jmU4DGjxpQGtTFjKNy5HM0dXzSVpH0h353RyVtKARkp6TdLKk+yVdr66V/htKulbSfflcN8rtr5d0ZeV32b5ulHLVHE29P/dp1KE+nrIIbKakI2v3UGnr3SqF+s3MzKyPltZOZk/SgOr3a5QGtCWwNTBXXWlAe+T2dmIGtwM+DYyhpOe8O7d/ISfGbkFZtb5FRJxKWSG/e0Qski6jRdOAdgA+Kmmr/HpD4LSI2Ax4jtKZrqmlAfWZKmlAuamWBvRZ4GuUNKAtKCv9z83i5YcBN2dpoXl1p3wf8LMc5dySrkL1I4G7ImJrysr9L+X2yZQal9sAnwO+l9tPA67Pa2/D4q+y/w68K883ATi5we0dU2nnqZQV7x/K+94UICsPtHpGh+Z/PMx45cXnW+1uZmY2LC2tncxmepMGdDqUV68R8Xxu61UaUL6+raUBQSn5cz+lzNFmlDSg7ixMA4qIFygJNrXXwUsiDWgmpcZod2lAF0BJAwLWVuM0oKp7gUmS/gfYPO8LSuH7S/LvC4G3qMxL3QG4LNtyWuW+dqOUJiIiXo6Iv9RdR8AJKqWXrgPeWBsd7sYU4F0qK8k/TFch+G5FxOSIGBcR45ZZySWMzMzMGllaO5lz6SqaXtUsDahqSacB7Zmjbz+ns2lA1fm0nUoDGhsRO0dEtd5nj9KA8nV4bYHR2yPiJkoH8UngIkkH566LPbM839PZjto/m9ft08wHKKOjW+eo6dO0eN5ZZP4WYF/KyPCPu9vfzMzM2re0djKdBrSogU4DWigiplU6iFdLehMlE3wyZe5m7fX/snRNK3gvcEdEPAs8qVIXFEmvkrRl7nMz5bV89beqGgk8FREvS9qLkvxTr9FzP5vySn5ajmSbmZlZByyVq8sjIrIjcoqkY4B/UDqBR5FpQBHxaEQ8KamWBrQKZaTslLo0oMmSPkIZHfxYREyXVEsDeoXyqvtDlBXcV6qkAd1I4zSgMZSO2NSIWCCplgb0GI3TgJ6szsvMFfDnUtKAINOA6hfTVKkPaUDAnRFxdQ8OOxb4Yb6SfoGuNKDu7Al8StK/8pj35fbnga0lfR54hq5X9AcCp0v6MmW0+ELgQcpK77Mk/RdlVPm/KHNRay4AfiZpRm5/pEFbHgCWUUl5+kFEnBoRd0t6kTZfldcbs85IZrimoJmZ2WKWysSf7shpQPMY5GlAajNNZwm15Y3A9cAmdSWbJgAfj4j9ujveiT9mZjbcqM3En0H5ujzL1fSq0HpETKWMag5U23tUaL3FuVoWWge+DxxZmwdJmZt5o6RxeUxbhdYlTZR0dA/atkFeb6kl6RBK1v3n6zqYB1Oy2t9Rm2phZmZmPTPoRjJzUc00SqH1M3LbWMpcun0pc/euVKkLeQ91hdaBYwey0HonRxJzPuNZEbF3s3O3GkmVdBxl1HBhoXWgJ4XWm7VtA8oq/KW2EyZpmawI0Oz7OyijmU070x7JNDOz4WZpHsl0ofWBKbQ+SdIpkl4j6bfZ2UfSypJ+n6+4642Q9INs9y8krZDHbK1S2HyWpMskjcztd6hrEdbrJT2af4+RdG+Ots6StF5u/2COVM+U9P3as6/qybHqKgJ/nMrc2s9L+lHlXBMkTe3EszYzMxvuBmMn04XWB6bQOrCwLuhDdNX6fBdwdZORzo0pC6k2o7ymr81fvBD4dJZu+hVdhdabORz4Vo6Kbgs8kaOuE4HxuX0EZVFQX48dCdwfEdtRKg3sXOvUUxYfXdyirWZmZtaGwdjJbMaF1nuvnULrVRez6GrvZh2vRyNidv59HzBapfTTChFxR24/D9ilRfumAV+U9FngjRHxD0pqz7bAjGz7rpROcV+PfYmSe09EvERZ9PMOlVX6/w78jBZUSfyZP39+q93NzMyGpcHYyXSh9YEptF51BbBPdhjHUMo5jVZXkfVJ3bS7u/tc+JypPK+IuIAy8vhP4HpJu+R5zqnU3Nw4Ir4maf9KO8b25Ni83N+r81EpHej3AHsB0+vrfjZSTfwZNWpUq93NzMyGpcHYyXSh9UUtqULrC2Vk4wPAKcBPI2JBRMyrdNrO7ubYp4G/56t5gPcDt+bf8+h6ztU5sOtlXdP/pXTYtwBuoPxWtfmsr5W0bkRcWmnHzJ4c26TJN1KmMHwEvyo3MzPrmEHXycxRponAXioljOYCX6bMdfyNyqpmIuJJSmHvsyQ9THltek5dofXdJc2mvMrdLCLmArVC6w8C38l9z6LMq7yH0uFoVGh9DvBbyivvBymdsLnAOTQutH5z3X3dT0m8uQe4myy03t2zUB8KrUt6e0+OaeBiyvPtTcfr/cDJKkXbNwWOy+0nAZ+QNA1YvbL/e3Px0ExgPeDCfA3/FeAGdeWRv67BtfpyLDnX9BeUkcyeFKY3MzOzbgy6EkbdkQutz2OQF1ofSuQSRmZmZotRmyWMlqpYyYiYWnvVPUyMAL5d+TyfUmj9IxHhnk0/knQ7sC7wr+72m/3484w+pvdlWec5ktLMzIaoQfe6vJXqfED1IRmozWvd0l+jmGojGSgiLomI5yqft42ILes7mGojGUjSo5KeryyaGU8dSR+rPKO7q/uo1Pis1cEcIem5+uMHG0nbSzq5l4c/AaxMKS9lZmZmPbRUjWRW5SrwqZRkoANz21jK3LuPUuZZolLI/EfUJQNJenwgk4GAoyj1JF8EiIi+zKH8LuV+b6ps2z1fq0+EtpKB9qPU8RwfEc+oxFJeLmmbiJgPfIoy//QffWhn7Vo9Thjqzbki4m7K/Ncei4gDJF3Yp8aZmZkNY0vdSGaFk4E6mwz035RO6DN5zhnARcDhkj4JrAncLumGyv0fn89nuqQ1K8/z8rzneyTtkNuPk3SmpOuBH9ZfXNIn89k9WOvcqaQNnZvneUDSO3P7pBzBvoqyyOoySXtXznWhpHepJPhckdtWkXRejvDOyk41kt6W7b9f0sUqK//NzMysj5bmTqaTgTqbDLQpTZ5TRJxMKQq/c0RMyO9G0vXcpgMfzu2nAifmPb8HqJY72gp4Z0S8v8H1PwuMzfN9PLcdC1yT6Tx7AN+uvbIHdgTeHxF7AVPI4vH5/a50/UdGzZeB+RExBtiSUmFgTcp/bOwZEVsDs2jjt1alGPsrLz7fanczM7NhaWnuZDbjZKDOafbsoBQ1/0WDtkwAzlApKXQFJSe9Ftt4ZSbyNDIXuFDSwXQtttkb+EKe62ZKAfdavcvrIuLZ/PvnlJJXywLvAG6q/EdGzQRKbVWieBYYT/k9puU1DmbRZ9pQtRj7MiuNbLW7mZnZsLTUzsmkdEr2b7C9WTLQTyvblnQy0LYR8aykc+lsMtCKlc99TQb6JeW53FbZtjXNn9NLdW2p/bskYLuMbFyoPK6u+qOSzqeM7v4+IvalRDruSimG/0WV/HFR5tL+pu5cu1TPFREvSrqTUuvyABq8jqfxbyrKSGmjkVUzMzPrg6V5JNPJQLODawYAACAASURBVIvqazLQicCJklYHkLQ1pRj76S3aW+8GyjxY8jxjG+0UER/I1J59JS0DvCEibgKOBkYBKwHXAkdWzrVVo3OlKZTUnh2zDfWuI1/Dq1idUsB/V0nr5fZXS/JqcjMzsw5YakcyIyJUipWfIukYyqrneZRV27+RtEHGDT4pqZYMtApl9OqUumSgyZI+QhmR+1hETJdUSwZ6hfKq+0OUFdxXqiQD3UjjZKAxlI7i1IhYIKmWDPQYjZOBnqzOy8wV8OdSkoEgk4EkjW72LNSHZCDgzoi4OiIul7QWcJekAP4CvDcinqq09wZJfwDe2s1pjwBOl3QI5d+vm6l0OpsYAfwof59XASdExF9VFkqdopLa9CrgUUrnvpFrgPOASyKiUW3LrwDflzSH8jt/KSJ+mr/7xZJqo9KfBx5p0d6FxqwzkhmudWlmZraYpSrxp11yMtA8nAzUZ7nK/dKIuKLZPk78MTOz4UZtJv4sza/Lm4qIqZRRzeGiWTJQy38BrDFJF1NW6/e5LqiZmdlw1K+dTPVzIk93qslAvWx7y0SeyrW6TQZSBxJ5VOpMRvW1uaSj89X2I+0kA9Wdb5KkU5p8d22+uh5QOUe2nfmonbjWwkSjtDZlbuiflsT1zczMhpp+62Tm6uupwC0RsX5EbEqZ7/Y6SnpMfSLPYRHxb5QSPv8laaAnuh1FWXwClESeakeuh75LFn+v2D0iZkTExIgYC0wCbs/FMGMjYlqD88wGDqx8fjdlVXhHRcS/R8RfO33eXrTjlYjYufWeHfEpKiv/87ozm+9uZmZm3enPkUwn8nQ2kQdKzcxaTORGwNPAwhqekiZX7uXYyvbtVVJtHlTJJK91nt+Qo5aPSPpmZf8/SlpN0gZ5jz/Ic/5CXfnlG+ax9+Wz3ahRgyW9L0dt50j6Rm4bIek5SSerJO1cr1zJX3fswox0lfSeG1XShH6lUgKptt9J+bvOknRCbrswf9vbJf1a0tsq5zw52zNLUtNEIzMzM+u9/uxkOpGns4k85Dn/JOnfgIMoZXuqjsl72ZJSnHzT7BROAY7IZ7U3XfU2t6TUGt0CeJ+kRsXcN6asxt+MUodzv9w+GTg8IrYBPgd8r/5ASW8AjqP8B8dWwE6SatMKRgJ3ZdLOdOBLbdz/1pT/KNkU2ETSDiqlod5OSSbaAvhmZf83UmpvvpNSQWB5SrmqtYEtc/8pTRKNmlIl8Wf+/PmtdjczMxuWBmLhjxN5+uZiyivzfYEr6747KO/lfmATsjNGKXheGyl+Pp8BwA0R8deI+DvwMF1pOlWPRsTs/Ps+YLTK3NQdgMtUknJOa3Jv21PSd57OskI/AnbJ714GLsm/L6Tr9+jOXRHxZLZ/JuX5PgMsoJSomsiiZaV+EhELIuJXwB8o/xEwATij9gza/HdnEdXEn1GjRvX0cDMzs2GhPzuZc+kqXF7VLJGnakkn8uyZo1o/p7OJPNU6pH1N5Km5klJ0/NHs5JZGlSLin6CM7m5BmY6wAt1HQ3bX3u72EfB0Zf7o2IjYXNJy6lq4dCzdP6tGv8foyvGT2mlLdl7HUSIs/z979x7v6Vjvf/z1zpRNTolKSpNjxRiHIVGE0WnvRNkhKZXkVBvFz+5IW22lHYpNTEUocgwlTE7JuTEzjFRoKoccds455vP743Pds+71ne9xre+aNbPW+/l4eLTW/b2/933d17If+3Ld1/V5f4D8G7a8B+37w8zMzPqkq0Gmckf4r5SFrJG0rqRONSidyDPYcBN5AIiIJ4H/x+DXwpDP8jjwmLKo+jvL8TnA65QJPkhaRpmwM5w2PAzcV2YOkfQiSZMj4tnaoPOrwHXAlpJeLmkCOQN7ZbnMixlYsvAh4OqImFv7flfVAZS74JeJiAuB/cnX8pV/V1qTfHX+RzL5Z6+qD2r/7nSbaGRmZmZd6HYm80Ry3d1zABExm8G7nOcTWeV9e3Jt4J2S5gCHkGsd75S0ejnvPjK+8ERJt5NRfz9oSOTZUpn68lty7d0coErkmQV8u9bOLZSJPG+meSLPrcCfyFfes8jX5HOAH9A8kefyhueaAZxEJvJcT0nkadcXGkYij6T3NB6PiB/XXstXZpCzv7eS/fCbcu4z5PrN40pfXQIs3ks7WtgJ2LNccw4wXwmniLgb+DJwBfl6+7qIqGYaHwU2KK/330qu3RyKZYGfl3ZcRu4Sr9xB/kfBBcAekXnq3yPLEs0u3/lgObdKNPLGHzMzsz7oKvFH0o0RsZGkmyNi/XJsZim90/tNncgzl3GcyFNmNR+KiKZ1R/t0j45pPV1c42pg3yYD+nmc+GNmZuON+pz485Ck1Shr2ZRlgu7rohFNi7GTr1HfWzuv78XYh0s9FGPvwscYyCKH3Pz0V0m7qrdi7Ps1HLt7GG2qX6deKmj1splngVCWGtqu85kLjrLE0bPkRrBmOehmZmbWQbONHs3sQ75OfIOke8jXzbu0+0LZeHMucHJE7FSOrUcWY/8k+Rq1Xox9u4iYoaxFebGke2qvVoclIq4gX9n2Yj9y1/M/yjXme23dg0+Tr7CrJQD3MTCTWdX4fDujONs6VJImRMTzvXynnD9is5jlHh9u93n591MR8UKT7+4v6UlytnXOSLXRzMxsLOs4k1k2ykwp9QNXBN4QEW8tBcbbcTH2/hdjb0nSBcrC6HNUdmZroOj54aWfrpX0ivLZasrC7DeSa2WbXXOCpG+XWebZtetOlTRd0unAzZKWVhZqn1X6ZIcW1/u8sjD7LElfa/L5RpKuLM9xkXIzFpL2lHRj+d6ZVb+WWdCjJV0j6S6VjUjls4Nr7a7+g6YqLn88uYb1tZJO0UCx+M8M+Q9gZmZmg3QcZJaZnn3Lz0/2EDfoYuz9L8Z+YO11+kwypaby0VIYfSPgAEkvK8eXZaD/rgU+Xo5/Fzg6IjZicN3Suj2AByJi43LdfSRVtTQ3AQ6KiElkMfS5kXnp6wCXNl5I0nvJ3fsbl7b8T8PniwNHAx8oz3Eq8F/l4zOj5LEDdwK71b76CrJft6PsuFdullqF/ButB2yqgeUHbwK+X9YWvwpYISImlXb/CDMzM+uLbtdkXirpc5JeK2n56p8h3tPF2IfuiHptynLNyv7K3dLXAq8hB9IAT0XERU3a9BaysDuUV/ZNvAP4WBnQXk++4l6jfHZtRPyl/DwbeFeZMd2s/I0aTSWrBjwFTf9mbyT7f3q538Fk2SGAdZXxkFV2+9q1750XaTawcq3d7yb/pjPInf1V7OWdEXFj+fkOYK0yG/pOcsd7R3Lij5mZWUfdrsmsZr/2qR0LYNU235lDRhY2alWM/fzasQVdjH2jiHhY0kn0txj7ErXf+1WMff4GSVPJJJ1NIuIp5a7o6jmebWhT9TcPOhclFxkd+asm95tXHioifidpCjmjeYSkC8k1sP9bTvk8nYugC5gdEW9r8tmPgHdHxK3llf0mtc/qfa7a/x4WEd9vaPfqDe3+P0nrkgPSz5Azzx03nUXECeQaZaZMmeLC7mZmZk10NZMZEa9v8k+7ASa4GHujvhRjb2FZ4O9lgLk2+Wq7k+sYqBHZahPXxcDeypJDSFqrWg9ZJ2ll4ImIOIWsWbpBRFxTm3X9BVmf8xO19ZSNM+G3AStL2rh8/pLyLAAvJTPbX0wWbu/k4nKvl5ZrvUZlPW1Du1ckN/+cCXyFXI5hZmZmfdDVTKakjzQ7HhEt17BFRJSNGEdJOhh4mhwE7kcpxh4Rd0TEfZKqYuxLk7NQRzUUYz9B0ifImbi9IuLasnHkSkn/JF+L7kbu4P6Zshj7r2hejH0SOVA8NyJekFQVY7+L5sXY76uvyyw74E9ioCTRtIi4WdLENv035GLswG/KIK2dnwN7lNflt5Ovtjv5DHCapAPIKgDNfI9c2zgzJ4Z5gBy8N5oMHC7pBXLmdM/GEyLiQkmTgZskPUfutP9S7fNnlBuGvlP+PZhArtucQ1YiuAH4CzlQbzvbHBG/kPQG4LrS7sdpPjh9LfD9MusdZJKSmZmZ9UG3xdi/W/v1X4CtgRkR0XQXcRfXczH2cVyMfVEg6TCyhNFR7c5zMXYzMxtv1GUx9q5mMiPi0w0XX5bWm0W6ud651avucaKalas8CPxK0iciwiOUhYykI8mwgG+MdlvMzMwWVd3uLm/0DwZ2GQ9JRExrdlwtUoIkrVQ2lFTndZ0SFBFXLIhZTLVICYqIMyPikVp7NirlfloOMCV9S9JWtd/nKus5TlFvKUH31D6frzZlP0i6uLzi7se13qSsh3mzspZny/WuqiUVNflsH0ltAwNaiYj9yYL5R1Zrhc3MzKw33a7JvICBncEvIsv8nNnvxpS1ce1Sgk4sx0Y8JWiI+pkS9F3yeS+rHduyvGLfHrpeBnBEp1e+zaiHJJ+IeGev12/j/WR5qqpGZrPd5h1FxLHDaUREvE25S9/MzMyGoNuZzG+Rr3v/hyx4vXlEjMQmCacELYCUIEmHKhN0bi3PpXL8aklfk3QVsK8yUedYSZeXmeXNJZ1cZo6/X7ve3ZKW00CizvfL81wk6V/KOZuUvr9G0hFqko8uaVuy8P+eykSheqb6yqV9M8s9Nq19r1mi0bys9/K9w5Uz37+v/fvwUklnl+/+pPxNPXNpZmbWB90OMt8TEVeWf34TEXdLGon1ak4JGtmUoKnlWJX0M4ksf/Su2vnLRMTmtdnPZcvzHETuCP8GOZO9oaR1mtxvLbI6wNpkXdDtyvEfArtHxKa0qDUaEecD08jZ16kNH38YuKAUoZ9MFoCH1olGjRSZXHQguVsdMlP+b+W7hwPrt/ju4Au5GLuZmVlH3Q4yt2ly7N1Njo0UpwQNXT0laHo5trWyzNMsYAsGJ+ic3vD9qpTULcC9EXFbZNTobQ1trdwREbeUn38LTCyzuS+JiKrs04+H8Bw3ArtL+gqwTulHaJ1o1OicJue8lfK8ETGLLJfUUUScEBFTImLKiiuu2NNDmJmZjRdtB5mS9lJG+a1VXnVW//yJgZmkfprDQDH1ulYpQXULOiVo64hYl6xR2c+UoPo62b6nBCk3Jh0DbF/a/wMGt//Jhq9U7Xuhoa0v0HxNb7Pnafn8kn5UZlnPb3UOQERcBryd3JBzmgY29bRKNGrVrvo57f4uZmZmNgydZjJ/TJZyOb/8b/XPhhHx4RFoj1OCBhuJlKAlyAHiQ8od4R/ocP6wRcSDwHPK6EnI/PHqs4+UWdZt211D0uvIV9snACfR5avtDq6mpB5JmkTnGWkzMzPrUttBZkQ8GhFzI2LnshHlKXJ2bylJq/S7MZGV4bcHtikbTeYAh5BrHe9UZk8TEfeRa/ROlHQ7cA3wg4aUoC3LLOxvgbUjYg5QpQTNIuMPIXdwb1FeH7+Z5ilBtwJ/Il95zyJfk88hZwGbpQRd3vBcM8iB0Q1kGs+0iLi5XV9oGClBklruao+I/wNOLs90Lt2lA/XDx4EfSrqGHOQ+2uP3twZmKROa3kfuvh+u75JRlrPJtbe3DqFdZmZm1kS3iT/vJQdlrybXCb4O+F3Z3LFAyClBc1mEU4IkLVWto5T0BWD5iPjsKLdpAjAhIp6WtAaZr75GVbpJWcJo39qa2fk48cfMzMYb9TPxBziM3BU9PSLWl7QlsPNwGtgrpwQt8ilB20o6iHyuuWTW/GhbiuzTat3op2oDzF+Tue3PtbvALfc8ysSDR7M0q41lcw//19FugpnZkHW7u/y58pr1RZJeFBGXA8OqJ6ghJPsAn1ObZJ9+apcSpBbJPkO5j1ok+5Cv539YNsXcQa7PDGCaOif7zFSfEnj6JSJ+XNZerhMR/7YgZ2QlvVkZFdnYpkciYsNSwugAYO9y/i5kRYMZZZmFmZmZ9ajbmcxHJC1FblY5TdID5K7sISm7uJ3sk0Y12WesUyYXXU8Pa08j4jRJ95OF4c3MzGwIup3JfB85oNqPTN25k9xlPlRO9lkwyT4HSTqh/LyeMvt8CUlLlf64QZkR/t5yzgRJR5a2z5a0d5NrTlUmAJ0l6Y9lFvUjygSh2ZImlvPeJ+n6cv1LNDiJ5/uSrpR0l6R9ate+QNJvSx/tXjv+KUl/kHSFpGmSjirHXynpnPI3ukHSJrV7fE/SpeRs8FRJ55XPNlEmA90s6TfKtZhmZmbWZ13NZEbEk8oSMmtExMnlVfFiw7hvL8k+Jzec1izZZ3tJi5G73qtkn80i4iENlCpqZ2OyfM2fyQHu+4GzyGSfv5dr/0ol2UfSAQzMNtbbX0/2EXC9pCuBh8lkn50j4pOSfkoOpk8tX62Sfc7uoq2tHChpt/LzQyUx51vAryW9j9yl/8mIeErSN4FfRsRukl5W2nkpOYv8amByRPyzTd9NBt5I7sSeC/xvRGwk6bPk7N/nyLJN50dESNqT3L1dRZGuSe4WXw74naTjS8H7j5b+XhK4SdLZ5LrJg8nkpieBK8hd+pB//29GxHVlcHsh+e8WZImjzcumnnp60O+At5bnexe53njHrnq4UC7Z2ANgsWVcjN3MzKyZrgaZyrqVewDLk/GKKwPHkwOFfhpKss9HIJN9yNqVH2GIyT4Akqpkn7PIupp7kP20EjkQbVeEfl6yT7lWlexzPgsm2WfQ6/KIeKEMPGcCx0TEdeWjdwDvlnRw+f1fyE0uU8lIyH+W77fqu+sj4n4ASXcBF5fjtwBvKT+vAvy0zNAuDvyh9v0LI+JZ4AFJfwdWBP4G7K/MLwd4Dfnv2kTgsoh4uNzvrHJtSnvXkubVVH9ZNUMM/Cwinm7S9uWAH0larcWzdVRqdZ4AsPhKa3Quz2BmZjYOdfu6fB9ypu0xgIj4I/CKYdzXyT4jnOxTswbwBIMHsSLXuVZxk6tExB9o0neSNtXAZqJq7Wlj8k89Fah6rmOBIyNiErmhpt538/VFmW3cHNikbMSZXb7Trk8FbFx7jpUjourHxuSiyteAiyNiHTJXvdPf1MzMzIag20HmM2XmCZhXX3A4MzhO9hlsJJJ9UO54P5L8D4SVJW1XProY+EztvCo95xJgr7I8AEnLR8Q1tUHcL3q4/bLAPWVA/9Euz/97eZ2/NrBROX49WVh/OWWB+vfXvjOd/A+g6jm6qXiwLHBP+Xm3Ls43MzOzIeh2d/mVkj4PLCFpG3Jm6oIO32mprNPbHjiqvLJ9mhwE7kdJ9omIOyLiPklVss/S5MzVUQ3JPidI+gQ5I7ZXRFwrqUr2+SeZzrMbuYP7Z8pkn1/RPNlnEjlQPLe8aq6Sfe6iebLPfRGxZe25Zkg6iYE1g9Mi4uayXrApDSPZB/hNbeBXX5MJuTHra8DREXGHpI8B05UFxg8l+/4W8j807iAH3t8jZz5nS3oeOI5cFjEUh5AVBO4m+2OlDuf/HNhDmcZ0O2U3eET8RdIR5Rr3kH+PKpVnH+C48mwTgMupDTpb+AbwA2XNzss7nNvRpJWX5SbXMjQzM5tPt4k/LwI+Qa7lEzkTNi26+XKvDXKyz1wW4WSfkaCSFlQG5D8Djqv9h8ZI3XMqmfazXbvznPhjZmbjjbpM/Gn7ulwlnzwiXoiIEyPi3yNih/LziGx4iIhzyVnN8aJVsk/HP9448l9lVnk28HtyF/mIURZj/w5ZFcDMzMyGoNOazPOqH0o5mQUiIqb161rqkCxUJfuolixU/llQyUJnRsQjtd83iojJEXGTFkCykKQpyhqhMyXdIenR2kafTZtcZzdlHc055Z/9e2zHEpIuK9ffQVlXtO3mm4jYPyLWj4g3lp+H/R84kr6mjEdtZgpZSWHWcO9jZmY2XnVak1nf2bvqSDZkJJRNJ04WSsNOFpL0b2QdzKkR8TdluaBdmpw3IUoGeBMbkstyq81cdwM/INflttThmj2LiC+0uc/+klrtTjczM7MudJrJjBY/LyqcLNTfZKHPAwdExN/KNZ+qZp0lXV1mB68C9lWTxB9JrwZOAqaUmcz9yVJYv5Y0vfFmknYvs9AXAheVYweXGefZkr5cjq1enveUMjv70+q5JR2qTCO6tfS5yvFTVXbbS7pb0pck/YYy4DYzM7Ph6TTInCzpMUmPA+uWnx+T9LikxxZEA4epl2ShxvOaJQtNJpNn5mggWWircvw/umjPxmTyzSSy0HhVjucLZQHtusAWKslCwL3kbOOg17oanCy0CfBJDZQhWgM4NiLWBh4hB9OVKlloqJr1U90yEbF5KQp/FVnzcn3gHOCzEXEvsCdweSmJdCRZiP5tkQlFzbwF2DUitlHW6VyFfO71gE1rr/TfRD73JHJW9FPl+NERsRHZ58sC72pxnycjYrOIOLNTJ0jao/xHwU0PPvhgp9PNzMzGpbaDzIhYLCKWiYilI2JC+bn6fZkF1cgRMJRkoeMgk4Ui4tFybEjJQiVRp0oWgqzrOYMst7Q2OWBqZ16yUEQ8QQ7i3lY++1OMbLJQO6fXfl4FuERZJukABgbsvbqkSvuhJBWR/TSDLP20ZvnsTzGQaHQqA327tbJs1SxgizbtOKPbBkXECRExJSKmrLiiYyXNzMya6bYY+6LKyUL9TRa6jeb9WamvY2yX+NNU2QhUbTqqCqvXryngsFpx+NUj4qTyWbO+XRI4Bti+9O0P2rTDazDNzMz6aKwPMp0sNNhwk4X+G/hWaSeS/kXSp1uc223iz7xnjIizagPImU3OvRj4RHlmJL2mWqMKvL78bQF2Jvt2CTLq8iFlMf8PNF7QzMzMRsaYHmSWUjfbA9soSxjNIZNo7qUkC5Xz7gOqZKHbgWuAHzQkC21ZXv3+Flg7IuaQiTpXKlNqvl3OPZFcV3kDuXawWbLQrcCfyFfes8jXv3PImbZmyUKDkmnKBqWTyBSc6ynJQu36QsNIFiprIYmI88lUoMtKX95E63+HDiF39l8J3N/mFieQSUTzbfxpVNKNzgKuK3+LnwJLlY/nkGtTZwMvBU6IiP8DTib7+1xKipCZmZmNvK4Sf8YiOVloLmMkWaj8x8JZVVmkPl3zMOChsompJSf+mJnZeKN+JP4srNShwHrtvJYF1kcrWUijVGCdnGndrrYbe1CyUCnxc8rQn6zntk+VdF6Lz66W9Pva+swFWlZI0jHAgeTSgCH9bczMzMa7TsXYFzpljV9fCqz3M1mok4i4AriizCCOeoH1UtaHcs665IalrSQtERHzbQ5Sn4uhd2HHFusy5xMRdwDrlX83FBEvDOfGEbEvWevz7uFcx8zMbDxbFGcyXWC9vwXWITfK/IgcrM4bjGr+AuunSjpW0uVlFnlzSSeXWeLv1773bknXSpoh6QwNbNT51zJDeTW5Kaonkg6q9c+ny7HVy+/Hk2WNVir3mVH+hpeU85Yqf8cblAXi31uOT1IWa59Z/u6LXLKVmZnZwmiRm8mktwLrJzec1qzA+vaSFgOW0kCB9c0i4iEN7BhvZ2OyruWfyQHu+8nNKV+IiL+Xa/9KpcC6pAMYmG2st79eYF3A9ZKuBB4mC6zvHBGflPRTcjB9avlqVWB9ONnyHwQ2B24HdgfqBcmXiYjNSxtPBZaNiC0lfQC4gCyWfjswQ9I6ZC3Og8mSTP+Q9AXgPyQdRW4a2gK4q/RRO2dIqmZU307ujN+F7O/FgBtK//yD7P+PRcSeZcB9HFng/c+1v+GXgV9GxG6SXkb276VkeaVvRcQZkhanfXkoSj/sAewBsMoqq3Q63czMbFxaFGcyW3GB9SGQ9Bbg7oi4B7gUeLOkZWunnN7wlWrH/S3AvRFxW3k9fVtp16bks14jaSY5MJxYjv0hIu4su/5P69C0HWvljB4h++LsiPhHRDwOnMdAX98ZETeWn99CJgr9GQb9Dd8BfKG06XKyXuYqZCWBL0o6CHhtRLTNUC/XdDF2MzOzDhbFQaYLrPe3wPrOwDplregfybqd9Y02jUXKq7a80NCuF0q7RM4YVgPEN0VEteGqaSkDSdPL6+rjm31endbms8aC7c3uI3J9btWuVSLiDxFxCvm8zwCXStq8zX3MzMysS4viINMF1gcbcoH18ir/A8CbImJiREwkX/fvPJTrFdeQdUJXLfd4qaQ1yMH9mqWvVL9HREwtA78921z3KmB7SUtIWor8OzTrn9+QG5heV+5f/Q0vBj5TnaSS9S5p1Yi4IyKOJv9jYN2hPbaZmZnVLXKDTBdYH6DhF1jfknwVXy+Wfjm5U/uVvVyzUq71CXJN5Syy39eMiH8AewIXkYPDu3q87g3kcoQbgeuA4yLilhb33wv4Wbl/9Vr+UGBJZYmn6t8ZgA8pN1TNBFZlYK2rmZmZDcOYKsYuF1ifyxgpsL4wUJYwWqesCW3KxdjNzGy80Vguxt7KaBVYH0UTgP+p/T6owLoNjaSly8ymyLWmZmZm1qMxNcgsLtQw04C6FRFX9HMWUz2mAUXEmfVZtojYKCImR8RN6iENSAPJOps2u486pAEpa1V2VTi9F5IOU6kX2sN3tpd04BDvd3dDf6/I2Py/ETMzsxG3KNbJbKlsKOlLGtAo2Y+FIA2oTl2kAS0slKlE5w73OqVE0npy4o+ZmdmQjbVZGqcBLbg0oI1KX1xLbuipju8u6RxJF0r6k6S9JB2oTNm5ptXMrKSP1fr2h00+X0PSxZJ+W/p1zXL8VEn/U/rs6+X+R5XPXiXpZ7Xrvrkcv6BcZ46k3YfZP2ZmZtbEWBtk9pIG1HheszSgycAGwBwNpAFtVY7/Rxft2Rj4LDAJWI0sDwSZBjSFLJezhUoaELlDfsuI2LKh/fU0oE2AT6qU4CHTgI6NiLWBR8jBdKVKAxqODwJnkDu766WNTgL2ioi3kAk8dWuT5Zw2IctGPRwR65N9/uHGG0iaDPw/4O2lbz/bpB0nAHtHxIbAfwLH1D5bjaxJelDDd44FLi21SjcEfleOf7RcZyPgAGUCUNck7VH+I+GmBx98sPMXzMzMxqGxNshsxWlAQ6AWaUBldnWJiKhKMzWu17ystPV+4AkGpwRNZH5bAWdUAkpdiAAAIABJREFUfdrYt2X2cxPg7LL289iG5zqzpA41ejsZZUlEPB8Rj5Xj+yvLG10LvIYcpHbNiT9mZmadjak1mWRdyh2aHG+VBnR+7diCTgPaKCIelnQS/U0DWqL2ez/TgGAgDehCWqT3NGlTPRnoBWCCpIlkLCTkjGSrvq0IeCgi1mvxeWMqUd2g60qaSua0bxIRT0m6ms79b2ZmZj0aazOZTgMabETSgMps7tNlphMyn7xrETG3Fu84DZgO7FT1aa1vq/MfBu5T1gVF0ovKK/ZOLqesF639HZcF/l4GmGuTr8zNzMysz8bUINNpQAM08mlAHwO+Vzb+PNHLPRpFxGxygH9VeR1+RJPTdgL2LH0/h9ompDb2Bd5Z/o43AW8goyOXLNf5MtmfZmZm1mdjKvGnHTkNaC5OA+qJnPhjZmY2H43HxJ92nAbkNKBuyYk/ZmZmwzZmB5mlRuKg5B/ydey85B9lLct64s3MsjGk8VqHSPpcL/fvlAYkaTdJr679Pk1Sp13mra61r6SP1X6/AjgM2FzSsWXA9FJyjea08pw7NFxjJWXC0KzSX/VNUQsVSVMlnVd+nlcXs19KMfbHyfWbq/bz2mZmZuPFWNtdDnSf/FP8epReae9GrtW8FyAihlMUvFrbWS9ivktE3ETZQV92dF/YZof2YcDPI+LYcv66w2jPIi8i3lZ2npuZmdkQjNWZzG6Tf1qS9AVJv5c0HVirdvyK6pWzpBWq8j5l9/K3lPngsyV9uhz/sqQblUk9JyjtQJZQOq3MKi7RcN2dy3VulfSN2r2fKBtzZkm6rmzAISL+AcyVtPEw+mwlYF6MYtmMU+3k/nZpyy3VDGiZTbxc0lmS/qjMGf9IedbZZVBbpSedoyxefoOkTVr095slXVue7XrlTvolJJ1c7jtD0ubtHqDVvSS9QtKvyjX+V9I9KslDkj5azp1ZPhur/zdhZma2QI3V/4fabfIPwNsaXpevpkzY2QlYnyzb002Zmz2A1wPrl4SZ08rxYyJio4hYh6xh+W8RcRa523mXUsZnXi3L8gr9G2SB8vWAjSRtVz5+KXBdScW5ipyVrdzEQIH2oTgGOFnSZZI+L2mlcvzfyWLxk4FtgCMlvaJ8NpmM6JwE7A5MjIiNgJPJnd2Q6UnfLAuEPwhMa7yxpH8BTgf2Kc/2DrK25meAZyNiErArcIqklzR+v6bVvb4K/DIiNgB+QSnkLmkdshrBpmWGdwL5d29LTvwxMzPraEy+Lm+jMfkHmrwuV2aDn1tmCOlyfeJU4PiIeB4GpdZsKekgYElgebL8zgXNLwHkgPaKiHiw3Ps0snj4ecCzZCF0yEH0NrXvPUCW6BmSiPiFpNWAd5G1O29W1pF8K/Djklr0t/IKeUppy/VViSNJdwEXl8vdAlQ1NKcCa+UKBgBeJmmJ+sAaeCPwl1qW/KPlmm+llDOKiDmS7iXLMrXS9F7lGb5WrnOhpMdr528E3FS+swTw1y766gSy3BRTpkwZH+UZzMzMejRWB5ndJv+002rwMC/hp+Fa86XWlBm6/yVLB/1V0iFd3L9dus9zMVBz6p8M/vsNN92HiPg/cgb2NEm/JAdn3aYNzZfsU34WsHFEPFv/YlmGsAJwHTlga9bf7e7dTKt7tbqOyPqoX+rxPmZmZtbBWH1d3m3yTytXAduXNYFLA++tfTaXgYSf+kD2ErJY+IRyv+UZGFA+JGmphvNbpftcTxZ3X0GZurMzcGUXbR5yuk9p79Zl1g9lMs7rgb+QfbFTWXP6SmAzeivwPp18pV7dZz2AiJhalgrsSf5HweskbVDdvzz7VZQ0IUlvJGei7+j1XmTS0gfLsfcw0O/TyRSnFcpnL5e0Sg/PZmZmZi2MyUFmt8k/ReOazB3Ka9szgJnA2QyOcPwWsJeka8iZuMo0clA2W5km86FSxPtE8vXxecCNtfNPAo4v95yXN17SiP6TTNeZBcyIiJ918dibkYOmrknaR1K1q30jYIak2WQC0nElVegs4PbSlunAARHxQA+32QfYrGwGuo3B60gBKGtkdwaOK313CbA48F1gCWViz2nARxpnKbu811eAf5U0g1zrej/wZETcAhwKTC/PfQlZgcDMzMyGadwk/lS0gJN/FgRJ65ODv13L71eQaUOOomHesoXnI+L5ss7zqG6SCsr6030jYmarc5z4Y2Zm442c+NPcGE3+WQGoryv8O3CSpG1HqT0Lm4nAjWW28kjgU52+IOnXwCrAcyPbNDMzs7Fp3A0yASKiWRmd+RKCJK2pBZQQ1InaJARFxKURMbf2fO+PiHUioumueDVJCFLWBN1WJSGo9MFT9WUEDdfYXdKD5bPfSfp4j88jST8tr7Y/08t3m7SjbeJPRNweEetHxLqlnNR85a3Kte6WtFxZh7s08CrgnqG2zczMbDwbq7vLe1J2HzshqLeEIIDTImI/Sa8CbpV0fkQ8VH0oaUJV0qmJlcllC6sN4zlGRImVXE/S3R1PNjMzs6bG5UxmE04IGoaI+Bu5BGEVZfLP9yRdCvxQrVN7LgFeXZ5n04a+XFrSRaXdt2ogZWi+VKDylddIuliZPPTftet8uNYvX+90vFtyMXYzM7OOPMhMTggaBuVu/dcBd5VD6wPvLRuRWqX2bAv8vjzPNQ2XfA8wNyIml364VK1TgSCTh3YA1gU+LOnVkl5D5rFvWdqzmaR/a3W8l+eNiBMiYkpETFlxxRV7+aqZmdm44UFme60Sgtar/XMnOVg7NyL+ERGPUV45d9AuIeh6ZdmerYC1O1xnXkJQuVaVEATzJwRNrH3vAUq84jDsIunmcs/dS8kmgJ9FxNPl57cCp0Cm9pCv+9ul9gDMBt4l6XBJm5UEoPlSgUoKEcD0iHi8DL5vJzfsvBm4LCIeiojngB+T/dLquJmZmfWRB5lpDgMF1utGKyFohzLzd2IX9x+1hCByTeb6EfHmhlqeT3bZvjxBmlibGd49In5HLg+YAxwh6fM06a+a+kxz9ZztUn7MzMxshHmQmZwQNHI6pvZExNzazPA0SSsDT0TEKcC3gQ1onQrUynXkrPDLSx/vRPZLq+NmZmbWR95dTiYEKYu0HyXpYOBpcnC4HyUhKCKqgdHbJNWLcx8WEWdJqhKC/sz8CUE/lbQrOZitTCMHerMlPQecGBHHSKoSgubSPCHoKeAttbbfJ6lKCBLwix4Sgg7t4rx5JO0DPNOsBFQb3wW+V17/P0dJ7VHLOHEg11geLukF8pX/nhHxjKQqFaiahd2q1QUi4m5JXwauIPvlgoj4eXmOpsfNzMysf8Zd4k+v5ISgcUtZwmid2lrT+Tjxx8zMxhs58ac/nBA0/pQSSjPJmc4XRrs9ZmZmiyIPMrtzoRbRNKBm2iUEaSFIA+qFsi7nfn24zgRJ1Yxl1ZcvLdUCzMzMrEdek9mB5DQgFnwa0KiKiN8rC90/1PFkMzMza8ozmZ05DWgYOqQBTZD0bUk3lOfcvbRtZUlXl+e5VSURSNK/KlODZkm6pHabSZKulHRX2ZxUPeNB5fu3Vn3Y7ni35MQfMzOzjjyT2VnPaUC13z8ALMdAGtAEYEaz6zWopwE9ryxvBJkG9NVy/1MoaUCS9qW2cUdl57YG0oA2BB4GLpG0XUScx0Aa0BckfZOclT2s3KdKA7qhQzs7UvM0oM0j4mlJewMPRMTGkhYHriuDx53JXd/fUJYpWqLMiB4HvC0i/lzrE8hd+luTff07SceXZ94F2BhYDLhB0pVkmahmx2/r9pki4gTgBMiNP0PoFjMzszHPg8yha5UGNOh1eVkveG6ZIUTScNOADgKWBJYna0de0OY689KAyr2rNKDzmD8NaJva9x4A3tBFO9vZRdIW5T67R8QjZfBbTwN6B/BGSTuV35cF1iBLN31PWarovIiYJWkb4PKI+DMM6hPIV/fPAg9I+juwIjlIPrvW7+eR6UNLtDje9SDTzMzMOvMgs7M5DC6KXhmtNKApEfFXSYd0cf/RTgNqtiGnMQ1o74j4VeNJkt4O/Cu5DOC/S3uc+GNmZraI8JrMzpwGNHIuBvauPedapZ9eB/ytvJY+iXzF/htgq/JZ1Sft1Pt9KeB9ZJH8VsfNzMysjzyT2YHTgLqjoaUBfQ9YBZhZXqU/QA76tgYOKM/+BPDhiLhf0l7Az5Qn3wu8u9WFI+IGST9hoJ+Oi4hbSlvnO14NdM3MzKw/nPgzDHIa0JhVBp0PRcRy7c5bfKU1YqWPHtWXe849/F/7ch0zM7ORJCf+jDynAY1NktYid9jfP9ptMTMzW1R5kDlM1ethSa/SGEgFapcGVPtuv1KBouxAr479ezm23RCebytJm/T6vRbuLf/7ekltZzLNzMysOa9D64OyRtCpQL2nAt3C4M1IOwGzhtimrciEnuu6/YJapA5FxOPAepLuHmJbzMzMxj3PZPaHU4GG5gpgU2XyzzLkJqB5u9olHVp7luPLYB5J+5eZ0lmSTpW0GrA7cGB5vk0lvVLSOcpknhuqWU7Nnzo0qdxjZunHVTs1WrXEn3/+49FhdoGZmdnY5EFmf/ScClT7ZzVJGzKQCvR+soh6J/VUoHWB08rxYyJio4hYhyw8/m8RcRa5xnCXiFgvIubVwNRAKtBWwHrARrXX1VUq0GSy9M+8Mk4MpAINxwvkQHMqsD1ZJL7u6IjYCJhEFmp/Vzl+ELBeade+EXEnuSP/iPJ81wDfAb5ZFiZ/sHxeWR94b9nctDfwrTLjuhEDr8pbiogTImJKRExZbMllh/LcZmZmY54HmSOrVSrQerV/7iQHa+dGxD8i4jHKK+cO2qUCXS/pFnLguHaH68xLBSrXqlKBYP5UoIm17z0AvJrhO50cYO9Ufq7bWtIN5Cv0LRh4ljnAqZJ2AZ5rcd2pZFmnmeTg9WWSliif1VOHrgG+qExSem3tuJmZmQ2DB5n9MYeBoup1o5UKtENETCLXgi7MqUAA1wIbAMuUAXc2SloSOAbYvszU/oCBZ3kncDyZP36TstB8IwEb1wbzK9dmcOelDkXEKeQs6jPApZI2b3ItMzMz65E3/vTHZcDXJX0yIk6EealAS9J9KtBJkg4n/ybvJQuVw0Aq0A00TwW6IiKeVybgvFA+q6cCnVWOtUsFOlrSCsDD5Eac73bR5jXJzT/DUord/ydZdL1uCfJ5HlImJX2AXFO6GPCaiLhM0tXALmQ/Nz7fdGAf4EjIjVgRUS+UTzm+aimmf7SkNYB1yb9HVyatvCw3ub6lmZnZfDyT2Qdltm97YBtlCaM5wCHk+r47Ja1eO71xTeYOETEDqFKBzmb+VKC9JF1D1rCsTAP+QqYCzQI+FBGPkLOXt5CviJulAs2svTYmIu4DqlSgWcCMHlKBpndx3jyS9pE03672iPh5RFzZcOz/gJPJjUDnkoNhyEH4jyXNBmYA3yi7wX8GfFDSzZI2JQeYm5XNPLcxeD1p3YckzSmv1VcFTu3lmczMzKw5J/70gaRXAUeR6xufYSB28nHgAnJ3+XRyIPSn2lc/FxHTG651CPBERHyrj+3bDbgkIu4tv08Dvh0Rtw3hWvsCLwdWj4hdlYlAGwNfBFYjB58vITcl/b587bCy+ai6xu7AOhGxX+3Y1eQmnpnKnPjPkDOZLwL+MyKqtaEjRlmyaB1yacCvgcnAxIj4c6vv9DPxpxUnAZmZ2cJEXSb++HX5MJWyOu1qZP4XsGI5fazUyJxNbqypXAd8HPh8ROyj7mpkNiXpdcCBZFzn4+VV+cuH2li1qIXZpRcYWIJgZmZmPfDr8uHrWCOzSgVqRYtejcxbgFfUHuGgxlSgYXgl8Bhlc05EPF5PIGrot0Ml3S7pUklnSNqvHL+6tP0qYF9J7ys77m+WdImkV5TzVizfnSHpOMomqHLP9YD7yNloMzMz65EHmcPnGplDs0u9L8r9IddZPgL8SdIPJDWd+VUWV/838pX2B5i/35aJiM0j4qjS/k0iYn3gHOCz5ZxDgcsjYgNySUM/SjKZmZkZHmSOJNfIbO+0el+Qm54o7dgG2BG4A/iOpC82+f5bgfMi4pnSb41rNus1N1cBLin9cgAD/bI5ZaNP2ezU1aylnPhjZmbWkQeZw+camX0W6bqI+DrwIeADkibWZj53p33boVYLEzgWOLL0y94M7peed7458cfMzKwzDzKH7zJg8bIjGphXI3MZuq+RuX1ZK7k0WSOzMpeBAWyzGpkTyv2WZ2DgVK+RWWlXI3OLst5zMbJG5pVNzmu0JrWM8X6S9JqycaqyHvDniJhbm/mcBlwNbCtp8dJv72lz2WWBe8omrY/Wjl9F1tlE0ntp3kdmZmY2BN5dPkylmPj2wFGSDgaeZqCE0Z2SVi/FvqGsyax9/bCIOEtSVSPzz8xfI/OnknYlB7OVaeRAb7ak54ATI+IYSVWNzLk0r5H5FPCWWtvvUxZCv5ycGfxFDzUyD+3ivHkk7QM802kTFPBi4EhJK5HloO4HPtV4UkRcK+mX5E73ueTztnp3fQhZAeBusqj9SuX4V4CfSPog2Qf39PBIgIuxm5mZteI6mSOoDD43jIhmawoXSZLWBw6IiF3L71eQ9T5vGoW2LBURT0h6KTmz+dGImN3H699N1vN8pNU5U6ZMiZtuWuCPbmZmNmpcJ3MhEBHnShpyjceF1ArAl2q//52MxPx8n0oY9eL7ktYilwr8oF8DzPL6/dfk7G7bOpm33PMoEw/+ecdruqC6mZmNNx5kjrAuXg8vUiLi0obf3z+KbdlxhK77OAMllczMzGwIvPGnA0mvknS6MpP8Nkm/kLSmpJUkXVjOebukRxtqYE5tcq1DJH2uz+3brdS7rH6fJulNQ7zWvpI+Vvv9CmWR+G0lHVue6zZJT9Wec4eGa+wu6cFS+PyPkn5ZaloOpT2rStppKN9tcb3lJe3ZxXlLl2d7VtJy/bq/mZnZeOKZzDbKbuR2kZEn1k4fK5GRvwF+WDu2S1lveT6AuouMPK3KJS+D7Z9JeltE/KHH9qxKFqo/vdOJFbWPkVwe2BM4vsXnwMBMZlmTaWZmZkPgmcz2OkZGdrqAFr3IyLmSNh5ux1UiYjrwfUpikKQNlAXjZ0s6W9Ky5fiaki4rbZpRBrOHkwXmZ0r6THm+k8szzZC0efnu7mW2+ULgIknLlGvNKPepBv+HA2uV6x1evnuwpBvKeV/u5pnkYuxmZmYdeZDZniMj+2MG8Iby86nAZ8uz/Z6BTUQ/IQumTwY2JVOFDiZjH9eLiO8AnwGeLUXVdwVOkfSS8v23ALtGxDZkofj3lbjIqcCR5ZyDgd+X6x0s6T1kGtCbyT7aVNKmnR7GxdjNzMw68yBzaBwZ2RsBKHfa/0tEXF2OnwxsLullwAoRcQFARDxdZlUbvRU4pZwzh1wisHr57JKIeLh2v29Imk0Wrn+tpBWaXO8dwLuBm8mB8Opk/VEzMzMbJq/JbG8Og5NzKqMVGTklIv4q6ZAu7r8wRUauD/yuQ5u6Kdja7vv1GMmPkCk/G0TE82VtZbP+ElkQ//td3NvMzMx64EFme5cBX5f0yYg4EeZFRi5J95GRJ5X1fxPIyMjvlc/mkpGRN9A8MvKKMkBanoFajfXIyLPKsXaRkUeXGbyHycjI73bR5jXJzT99IWlL4OPAFhHxUNmZvmlEXEO+8r4yIh6W9JCk90bEBWVQ/SLmf7YqBvIqSW8kZ5TvIF+v1y0LPFD6bxtg5XK88XoXA1+UdHpEPCnpNcDTEfFQt8/nxB8zM7PmPMhsw5GR3dH8kZG7SHo7ORi/C9guIn5fPtsVOE7SEuQAsSqZtAvwPUlfI1/nf4B8jb2YpFnk5qHvlnNuAZ4DPhIRz0rzTXCeAlwg6SbyNfgfASLi/rJh5xbg52Vd5huA68o1Hgc+BHQ9yDQzM7PmHCs5RHJk5JinLmIlF19pjVjpo0cN6z5OAzIzs0WJuoyV9MafIYqIc8lZxbGkVWTktqPUnlGhUoydLmIlzczMrDkPMjtQm8QfYLtyzphI/CHreG5Z+3154MXlur0m/syUNEfST8ur8V6fa4KkljOILb6zu6ThTSumqj9fWqoCmJmZWY+8JrMNyYk/DD/x56fkRqVThtGuEaEW6UAR8XtlQXuvzTQzMxsiz2S258SfYZA0gdz883D5/X3KWp83S7pE0ivK8aU1kOQzWwNF45F0eGnntbXzXynpnLKJ5wY1yUaX9HpJl5frXarcOY6kUyX9j6TLycoBW5Xrz1QmBL20i+dy4o+ZmVkHHmS258SfodmlrGm8t9zrF+X4VcAmEbE+cA7w2XL8EODBkuQzGbiyHF+WLHE0GbiWLIUE8B3gm2XR8QfJHfmN/heYVvrwTKD+Gn01YOuIOAg4ENijzMxuTlYQaMuJP2ZmZp15kDk0Tvxp77QyaHsV8AfggHJ8FeCS8gwH1J5hKnAsZNmoWnLPUxFxUZN2TiXLNs0EzgNe1mTd55uB08vPP2LwwPnMiKg29PyGLFH1aWCZiPjnEJ/ZzMzMajzIbG8OWTC90Wgl/uxQZvtO7OL+o574UwZyFzIwuD2WzCefBOzNwDPM98zFs7Wf6+0UsHFtQL9yfRa3C/PSgSLiMOBTwFLAjZLW6OE6ZmZm1oI3/rTnxJ/heytwZ/l5WeCesqHqo7VzLgH2BT5XPluOfK5WpgP7AEdCbsaKiJkN51xHvkr/CfBh8m8xH0mrRcRssvj9ZuS62T92+3BO/DEzM2vOM5ltlNm+7YFtlCWM5pDrB++lJP7UTm9ck7lDRMwAqsSfs5k/8WcvSdeQ9Skr04C/kIOeWcCHSjHwKvHnPJon/sysvzKOiPuAKvFnFjCjh8Sf6V2cN4+kfSTVd7XvUtpzC/lK/Gvl+CHkbv0rgftr5x8KvFLSrWRfdVoTug+wWdnUcxuD15RW9gX2kDQb2BHYv8W1Plc2Rs0GHiEHvGZmZjZMTvwZIjnxZ0wrO+Mfiojl2p03ZcqUuOmmcdc9ZmY2jsmJP8On9oXYP0GW+xkThdgl7Uvmdn+p/H4F+Tr/bEk/VxeF2GvX+rmkXzf7bFEg6ZvAP3Daj5mZ2ZB5TWYLZW1g20LsEfEzSW9nDBVij4gDa8e2rM9iqotC7JJeDkwCnpa0SkT8ZRhtGhURcZCkP5AlrMzMzGwIPJPZmguxD80O5LrRM8i1kNV9dyptmaUshI6kSeW5ZpbnXbUcP6ice2vVB+X4x8p5syT9sOG+SPq0pK/Xft9d0pHDuaaZmZkNjWcyW+u5EHvt9w+QO6SrQuwTgBnNrtegXoi92lkOWYj9q+X+p1AKsZdX3PPWTObk66BC7BuSO8svkbRdRJzHQCH2L5TXwp8EDiv3qQqx39Chne3sTG44ehQ4FTiiHP8K8PaIuF9Stc5xb+BbEXGGpMWz6doY2AXYGFgMuEHSlWTZov8HbBoRf6/1Td2Z5C7yz5ffdwS+NMxrzkfSHuTfilVWWaWrTjEzMxtvPJPZOxdib0HSymTB9esi4jZgMUlvKB//BviRchd69e/dNcAXJR0EvDYinib77ezSb4+Ts6JvJZ/7jKpPan0zT0T8Dbhb0hRlBOXryVJOQ75mM/XEnxVXXLG3TjIzMxsnPMhszYXYe7cj8HLgT2UJwCrkbC7kjOlXyEHtLEkvi4hTyBJRzwCXStq8Tdub9c1LapuQvlwOn0HWx9yBHFhGL9c0MzOz/vAgs7XLgMUlzavBqCzEvgzdF2LfvqyVXJosxF6Zy8AAtlkh9gnlfsszMKCsF2KvtCvEvkVZ77kY+Qr7yibnNVqT3Eg0VDsDUyNiYkRMJF9P71w+WzUiriN3rz8MrCxp1Yi4IyKOBn4OrMvgflsKeB9ZX3Q6sFP1SlvS8hHxbG32+KvlPmeROfE7kQNOernmMJ7dzMzMarwms4WICGUtzKMkHQw8TQ4O96MUYo+IO8rpjWsyDytrJqtC7H9m/kLsP5W0KzmYrUwjB3qzJT1H7mA/RlJViH0uzQuxPwW8pdb2+yRVhdgF/KKHQuyHdnHePJL2IWciLyezyuftRo+IP0p6RtKGwFfKelYBl0TErZK+KGln4Dlyh/wXI+IRST+pPedxEXFLudc3gaskPU++6v9EY3si4v8k3QGsVorhExE3DOeaZmZm1jsXYx8CuRD7mFfWjq4TEfu1O8/F2M3MbLyRi7GPnIg4l5xVHEtWoBRiL/5O5q5vO0rtGTWSDgQOBB4b7baYmZktqsblIFNtknwkXVjOaZvkExHTynkLfZKPpI/Vfr9CWbtzW0nHlue6jdz9fp4GctffHxHrRMT5te8ukkk+kq5WFtLv1k3kpqhxN8A2MzPrl3G3JlPqnORTO33MJPkA9ULju5TX4OfD+Eny6VZEXF5mcM8a7baYmZktqsbjTKaTfIZm1JJ8yjknSLpJ0hwNlCtC0pslXVu+e72kJcs/Z5Zrnk7ZoS9pgqRHJB0haYaki8v3r5R0l6T3dNMRkvYobbnpwQcbS6aamZkZjM9BZs9JPrV/VlPulK6SfN5PFj7vpJ7ksy5ZHB0yyWejiFgHWIKS5EO+rt2llOaZV7dSA0k+WwHrARtJ2q58XCX5TCZL9swrvcRAks9w7Az8pPyzc+34V4Cty323L8eqJJ/1yP65V4NTd94C7C1pXUmTydSdt5drfLbF/Q8ui4wnA9tIepOyhujpwD7lu+8gd7rvS/4t1yX7a/3adZYld7dvQBamPwTYGvh34Kt0wcXYzczMOhuPg8xWnOTTgkY5yafYWdIMMp7zjcCbyv/+pVaq6NGI+CfZJ6eWYzeThfUrT0XEpeXnW8j+fL78PHFoPWRmZmaNxuMg00k+vRvVJB9JawD/AWxVZid/WZ6pXWJPq+PP1n5+obSx+nncrVE2MzMbKeNxkOkkn96NdpLPMmSfPCZpJeCd5d5zgNdJ2qB8d5nSL1eRr+Ypr+M7zRCbmZlZn427mRsn+XRHC1eSzwzgNnKgfBf5ip6IeKYJu0dKAAAVrElEQVTc57gyM/wU+fr9GOBkSbPLd10t3czMbAFz4k+NnORjhaTVgbPalXUCJ/6Ymdn4Iyf+9M5JPgYgaUuylupDo90WMzOzRZUHmQ2qJJ+FiYaRUBQRl0bE3NrlZgMn1ZN8+tC+BZ5QJOmp2nPu0HCN5SWdX+pkXl+1pRzfs3beVEnnNbYhIi4nX89vUCsRZWZmZj0Yd2syFzWSE4roPaHoS8D1EbGtpLWBo4FtgOWBPYHjW3xvnojYUdKpQ30IMzOz8c4zmQs/JxT17k3Ar8r15gBrKmMxDwfWKu08vJy7tKRzSv/8qJuLy4k/ZmZmHXmQufBzQlHvZpEDcCS9BXhN+edg4PelnQeXczcA9qEUd5e0SaeLO/HHzMysMw8yF11OKGrta8ArlOWn9iQHnc+3OPe6iLivJAXNxKk/ZmZmfeE1mQu/OQwu1F4ZrYSiKRHxV0mHdHH/UUkoiohHgY8CSHoRWTFgLjkwb1SfCW5sh5mZmQ2RZzIXfk4o6pGk5SS9uPz6KWB6RDzZpp1mZmbWZx5kLuTKbN/2wDalhNEc4BByJ/edpWh4pXFN5g4RMQOoEorOZv6Eor0kXUPW06xMA/5CJhTNAj4UEY+QO9lvAc6jeULRTElL1Np+H1AlFM0CZvSQUDS9i/PmkbSPpGpX+yTgNkm3A1sDB5T23A/cVDYiHd7iUmZmZtYHTvxZhMkJRSPdllPJ1J/5amlWnPhjZmbjjZz4Mzo0jMLpTa51iKTPtbrXUBKKtPAVTj+49tkccmf5NzVQOL1KKPqSmhROb9Gu/5E0R9LvJB1ZSi29SJlVX52zugbn0te/f6QyN/7dZLa9mZmZ9cibHPpIWvCF04eQULQbC1Hh9Ig4nKxfWc3M7hURt5RlAHtW3yuD8A2bXaNO0ubkrvZJ5H9EXUO+fr+OLGHU8TV5ROwv6UngoYjoWIfUzMzM5ueZzP5y4fTh2Rn4Sfl5qIXTg9yk9BJgcfI/pB4o11u6XK/67gRJ3y+znhcpd9CbmZlZH3iQ2V8unD5Eyh3rU4FzyqEhFU4vA/prgL+Rs7UXRMQfyvUeL9f7SDl9LeCoiFibLJnUVU65nPhjZmbWkQeZC4YLp3f2PuDKUuOylY6F0yWtBawGrAy8Fni3pE1bXO+OiLil/Nz4XC058cfMzKwzDzL7aw7N1w2OVuH0HSJiErkWdKEsnF6zEwOvyluZr3C6pE1rs8HvIWeAr4mIJ8tA/ZdAq6hIF2I3MzMbIR5k9pcLpw+BpJcBmwIXdNHOQSLimtps8C/I+p5bSJqgLMi+BfC7aqa36iczMzMbWR5k9pELp3dHgwunQ26Kuqi+RnQYhdNPB/4KzCaf44aIuKh89n2yn1ptGjIzM7M+cTH2BUQunL5IkXQYWcLoqHbnuRi7mZmNN3Ix9oXLUAqnLwJWAL5U+70qnL7tKLWnLyQdSa4RfXK022JmZrao8iCzz9Qm8YdSIkd9SvwZYvv6lvhDlgDasvb78sCLy3W7TfyZ2tAXXyjHq8Sf+nndJv5MlDS93Ps2Sa8txw+oamGWNZuPtLjEvWSdzU478s3MzKwFb4LoI2nBJ/4MwW4sRIk/xeUR0VijcnlgT+D4Jud3cgrwlYi4rGx8+mc5fkBpc9uoyIg4QtLDZN1TMzMzGwLPZPaXE3/6Z0iJP5LWBf4ZEZeVNj4REU9J2h94BfDr0rfV+YeX57pW0iu6aZhcjN3MzKwjDzL7y4k/Q/PWMtD7Re3V/ZASf8iSSo9JOk/SzZK+IelFEXEkWTj+bRFRLU1YliwAPxm4Fvh4N411MXYzM7POPMhcMJz409qNwMQy0DuOgVjJZjom/pBLQN4G7AdsDLwB2LXF9Z6qlTfqOvHHzMzMOvMgs7+c+NOjiHg0Ip4oP18ALCVpuRand5P4czfw24iYGxHPkXVCN2hxvWcbrzfU5zAzM7PBPMjsLyf+9EjSq2o/bwI8X4rJDzXx5zrgFZJeXk7ZCrit/NzVNc3MzGz4PMjsIyf+dEeDE392kjRH0kzgSGDH0p4hJf6UV/0HApeXpQLPkjvKAU4Aptc3/piZmdnIcOLPAiIn/ixSyiB4nYjYr915TvwxM7PxRk78Wbg48WfRIelAcjb0sdFui5mZ2aLKg8wRoibJP8BVklaSdGE5Z5FO/omISyNirqR9JX0sIt5fSiYdUGpZbqvuk3/WLrUqn5HUdvawnD8vvafNOa+X9GR1PXWZIhQRR5BLFvatlXEyMzOzHng37QiQnPxD78k/DwGfZvAmpXa6Se/5NnBR7feuU4QiYkdJp3bZFjMzM2vgmcyR4eSfHkXE/WVQ+nxDPywt6aJyz1sl7aAW6T0N39sBuL38UxlSilCTazvxx8zMrAMPMkeGk3/65z3A3IiYXJ7h0hbpPfMoyz99Fjis4aOhpggN4sQfMzOzzjzIXLCc/NO72cC7lBnjm0XEo11857+AIyLiyS7O7SZFyMzMzHrkNZkjYw7N1xaOVvLPlIj4q6RDurj/qCT/tBIRvyuv8d8DHCHpwoj4ev2c8mq8Kg21GxknuZ2kbwPLAS9Iega4tMkt5ksR6vMjmJmZjUueyRwZTv7pE0krA09ExCnkRp4qInJe+yPirNpM8MyI2DQiJkbEROAY4KsRcRxO/DEzM1tgPMgcAU7+6Y5qyT+SXiPpbuAzwCGS7pa0JDAZuFGZCHQQUM1i9pzeM9QUITMzM+udE38WMDn5Z5FRShidFRHz1dKsOPHHzMzGGznxZ+HUKvlHTYq3S1pTi0bx9p6Sf1SKt9d+v0J9Kt4u6XXlercpM9H3rX32cUmvqv1+t6TlmrRvF0mPk7PR7epwmpmZWQve5DAKImJa/Xdp0S7eHhGDNtRExPs7XGski7c/B+wXETMlLQPcLOmSiPgD8HFgBvC3do2LiNMk3Q/sGxEda5qamZnZ/DyTuXBw8fYetSreHhH3RsTM8vNjZDH2lSXtSNb9PKM8w0vKV/aTdHPpgzWH2h4zMzMbzIPMhYOLt48ASauSfXtjRFQbqXYsz/BsOe3+iFif3Dh1QJfXdeKPmZlZBx5kLtxcvH2Iyqvys4FPR8QTbU49p/xvY/tacuKPmZlZZx5kLhzmMFD7sm60irfvEBGTyLWgi1TxdoDyKvwc4KSI6DTgrmaJXYjdzMysjzzIXDi4eHuflE1UJwEzI+Loho9djN3MzGwB8SBzIeDi7d1Rd8XbtyAHutvU+uid5RI/BKY1bPwxMzOzEeBi7As5uXj7qFDWH903IrZrd56LsZuZ2XgjF2MfG1oVb1/E9VS8fUGTtAvwHeDh0W6LmZnZosqDzIWE2iT+ANuVcxbWxJ9erUXWBq0sD7y4XHdYiT/ls5MlPajMO68f7yrxp3gJ8LIhPp+Zmdm45920C4GyWWWRTfwZgpFM/KmufyxwQsPxnhN/2j6FmZmZteSZzIWDE3961Crxp3x2JfkKvt4/fUv8kYuxm5mZdeRB5sLBiT8jrJ+JPy7GbmZm1pkHmQs3J/6MvJ4Tf8zMzKwzDzIXDk78GT1O/DEzMxsBHmQuHJz4s2A48cfMzGwB8SBzIeDEn+6ou8QfJJ1J9sGbyvHdyiWc+GNmZraAOPFnIScn/owKOfHHzMysKTnxZ2wYo4k/19Ah8UfSftXM5IKmTPw5FXhsNO5vZmY2Fngm0xY4SU9ExFIdzpkLTImIh3q47mIR8c/htq+X+3sm08zMxhvPZNpCTxmTeYWksyTdLum0Uvz9M2R5o8slXV7OfYcyRnKGpDPLxiQkzS0F5K8G/l3S6pKmlwLwMyStVs47sBSZny3p0HJsYrnvyeX4WZKWbHZ/MzMz640HmTba1gf2A94ErApsFhHfITc9bRkRW0paAfgiMDUiNiALudcLpz8dEW+NiNPJOp3HlgLwmwL3SXoHsAawMVkwfkNJVS3PtYATSkH6x4C9G+/f2GAn/piZmXXmQaaNthsi4u74/+3df4xl5V3H8fenYLcWKiwWf4QKA2QJWUilKbVqaaG2oa3GhUaa9IfNImhsqzbGnxi0JsTURuIfamsLbZQ2VcGiNluS8kNKN0LdFlj2B1BXfhoITavQQllaFPbrH+cZPTt7Z2d25szcmbnvV3Jyzz3nPOc8z3fOzP3Oc885T9U+urvjp0Zs8+N0SehtSXYAm4ETeuuvAWiPbzquXcdKVX23DWF5bpvuohu7/FS6pBPgkaq6rc1/Gjhrrgo74o8kSXPz4dMat/6QmbM9ED3ATVX1jln2sbe33SgB/riqrthvYTLFgQ+x9yJlSZIGYE+mVqr+g9O3Aa+Zfl5ou27ylJkF2pCaj06PnZ5kXbtD/Qbgot51nMcl+YFW7PgkP9Hm3wHcOuL4kiTpEJlkaqW6Evh8kluq6j+BC4G/S7KLLuk8dZZy7wbe37b7EvBDVXUj8LfAv7Yx2a/l/xPIrwKb2/bHAB+defzhmyZJ0trnI4w0sdrX5ddV1ekL3YePMJIkTRofYSRJkqSx8cYfTayqehhYcC+mJEmanT2ZkiRJGpxJpiRJkgZnkilJkqTBmWRKkiRpcCaZkiRJGpxJpiRJkgZnkilJkqTBmWRKkiRpcCaZkiRJGpxJpiRJkgZnkilJkqTBmWRKkiRpcCaZkiRJGpxJpiRJkgZnkilJkqTBmWRKkiRpcKmqcddBWrWSfBvYM+56rEAvBf5r3JVYgYzLaMblQMZkNOMy2nLH5YSqOnaujQ5fjppIa9ieqjpz3JVYaZLcYVwOZFxGMy4HMiajGZfRVmpc/LpckiRJgzPJlCRJ0uBMMqXFuXLcFVihjMtoxmU043IgYzKacRltRcbFG38kSZI0OHsyJUmSNDiTTEmSJA3OJFOaRZI3J9mT5P4kl4xYvy7JNW39l5NM9db9Xlu+J8mblrPeS22hcUkyleQ7SXa06WPLXfelMo+YvC7J9iTPJblgxrrNSe5r0+blq/XSW2Rcnu+dK1uWr9ZLbx5x+Y0k9ybZleTmJCf01k3y+XKwuEzy+fKeJLtb229NsrG3bryfRVXl5OQ0YwIOAx4ATgJeCOwENs7Y5n3Ax9r824Fr2vzGtv064MS2n8PG3aYVEJcp4O5xt2FMMZkCXg58Crigt/wY4MH2ur7Nrx93m8Ydl7bu6XG3YYxxeT3w4jb/3t7v0KSfLyPj4vnC9/XmNwHXt/mxfxbZkymN9mPA/VX1YFX9N3A1cN6Mbc4DPtnmrwXekCRt+dVV9WxVPQTc3/a3FiwmLmvVnDGpqoerahewb0bZNwE3VdUTVfVN4CbgzctR6WWwmLisZfOJyy1V9Ux7uw14WZuf9PNltrisZfOJy1O9t0cA03d0j/2zyCRTGu044JHe+0fbspHbVNVzwJPA98+z7Gq1mLgAnJjkriRbk7x2qSu7TBbz8570c+VgXpTkjiTbkpw/bNXG6lDjcjHw+QWWXU0WExeY8PMlya8keQD4E+D9h1J2KTmspDTaqJ63mc/7mm2b+ZRdrRYTl68Bx1fV40leCXw2yWkz/gtfjRbz8570c+Vgjq+qx5KcBHwhye6qemCguo3TvOOS5OeBM4GzD7XsKrSYuMCEny9V9RHgI0neCfw+sHm+ZZeSPZnSaI8CP9J7/zLgsdm2SXI4cBTwxDzLrlYLjkv7yuZxgKq6k+76oFOWvMZLbzE/70k/V2ZVVY+11weBLwKvGLJyYzSvuCR5I3ApsKmqnj2UsqvUYuIy8edLz9XAdE/u2M8Xk0xptNuBDUlOTPJCuhtYZt6xuIXuv0WAC4AvVHe19Rbg7e0u6xOBDcBXlqneS23BcUlybJLDAFpvwwa6GxdWu/nEZDY3AOcmWZ9kPXBuW7YWLDguLR7r2vxLgdcA9y5ZTZfXnHFJ8grgCrpE6hu9VRN9vswWF8+XbOi9/RngvjY//s+icd855eS0Uifgp4F/p+txu7Qtu4zuDxzAi4DP0F1M/RXgpF7ZS1u5PcBbxt2WlRAX4OeAe+judtwO/Oy427KMMXkVXa/CXuBx4J5e2YtarO4HfmHcbVkJcQF+EtjdzpXdwMXjbssyx+Wfga8DO9q0xfNl9rh4vvBn7W/rDuAW4LRe2bF+FjmspCRJkgbn1+WSJEkanEmmJEmSBmeSKUmSpMGZZEqSJGlwJpmSJEkanEmmJE2gJM8n2dGbphawj6OTvG/42v3f/jcluWSp9j/LMc9PsnE5jymtVT7CSJImUJKnq+rIRe5jCriuqk4/xHKHVdXzizn2UmgjVH2Crk3Xjrs+0mpnT6YkCeiSvySXJ7k9ya4kv9yWH5nk5iTbk+xOcl4r8iHg5NYTenmSc5Jc19vfh5Nc2OYfTvKBJLcCb0tycpLrk9yZ5F+SnDqiPhcm+XCbvyrJR5PckuTBJGcn+askX01yVa/M00n+tNX15iTHtuVnJNnW2vVPbcQcknwxyQeTbAV+F9gEXN7adHKSX2rx2JnkH5K8uFefP0/ypVafC3p1+J0Wp51JPtSWzdleaa05fNwVkCSNxfcm2dHmH6qqtwIXA09W1avaMH23JbkReAR4a1U91Ybt25ZkC3AJcHpVnQGQ5Jw5jvndqjqrbXsz8J6qui/Jq4G/BH5qjvLr2zabgM/RDR/4i8DtSc6oqh3AEcD2qvrNJB8A/hD4VeBTwK9V1dYkl7Xlv972e3RVnd3qtYFeT2aSb1XVx9v8H7UY/UUr98PAWcCpdEP4XZvkLXRjR7+6qp5Jckzb9soFtFda1UwyJWkyfWc6Oew5F3h5r1fuKLrxjh8FPpjkdcA+4DjgBxdwzGug6xmlGwrwM0mm162bR/nPVVUl2Q18vap2t/3dA0zRDau3b/o4wKeBf0xyFF0iubUt/yTd0Kf71WsWp7fk8mjgSPYfK/yzVbUPuDfJdDzeCPx1VT0DUFVPLKK90qpmkilJmha63r4b9lvYfeV9LPDKqvqfJA/TjVE/03PsfxnWzG32ttcXAN8akeTO5dn2uq83P/1+ts+z+dx4sPcg664Czq+qnS0O54yoD3Sxm36decyFtlda1bwmU5I07QbgvUm+ByDJKUmOoOvR/EZLMF8PnNC2/zbwkl75/wA2JlnXeg/fMOogVfUU8FCSt7XjJMmPDtSGFwDTPbHvBG6tqieBbyZ5bVv+bmDrqMIc2KaXAF9rMXnXPI5/I3BR79rNY5a4vdKKZZIpSZr2CeBeYHuSu4Er6HoI/wY4M8kddInWvwFU1eN0123eneTyqnoE+HtgVytz10GO9S7g4iQ7gXuA8w6y7aHYC5yW5E66ax4va8s3093Qsws4o7d8pquB305yV5KTgT8AvgzcRGv3wVTV9XTXZ97Rrnn9rbZqqdorrVg+wkiStGZkgEczSRqGPZmSJEkanD2ZkiRJGpw9mZIkSRqcSaYkSZIGZ5IpSZKkwZlkSpIkaXAmmZIkSRrc/wJ8lhERjm/a6AAAAABJRU5ErkJggg==\n",
      "text/plain": [
       "<matplotlib.figure.Figure at 0x10a8967f0>"
>>>>>>> 889b95742bd28ff876402ee859cdc2552fe7950f
      ]
     },
     "metadata": {},
     "output_type": "display_data"
    }
   ],
   "source": [
    "def plot_feature_importances(model):\n",
    "    n_features = data_train.shape[1]\n",
    "    plt.figure(figsize=(8,8))\n",
    "    plt.barh(range(n_features), model.feature_importances_, align='center') \n",
    "    plt.yticks(np.arange(n_features), data_train.columns.values) \n",
    "    plt.xlabel(\"Feature importance\")\n",
    "    plt.ylabel(\"Feature\")\n",
    "\n",
<<<<<<< HEAD
    "plot_feature_importances(tree_clf)"
=======
    "plot_feature_importances(tree)"
>>>>>>> 889b95742bd28ff876402ee859cdc2552fe7950f
   ]
  },
  {
   "cell_type": "markdown",
   "metadata": {},
   "source": [
<<<<<<< HEAD
    "### 2.3 Model performance\n",
    "\n",
    "As we did in the last lab, let's see how well our model performed on the data. "
=======
    "### 2.3 Model performance"
>>>>>>> 889b95742bd28ff876402ee859cdc2552fe7950f
   ]
  },
  {
   "cell_type": "code",
<<<<<<< HEAD
   "execution_count": 10,
=======
   "execution_count": 9,
>>>>>>> 889b95742bd28ff876402ee859cdc2552fe7950f
   "metadata": {},
   "outputs": [],
   "source": [
    "from sklearn.metrics import accuracy_score"
   ]
  },
  {
   "cell_type": "code",
<<<<<<< HEAD
   "execution_count": 11,
=======
   "execution_count": 10,
>>>>>>> 889b95742bd28ff876402ee859cdc2552fe7950f
   "metadata": {},
   "outputs": [
    {
     "name": "stdout",
     "output_type": "stream",
     "text": [
<<<<<<< HEAD
      "[[5762  403]\n",
      " [1059  917]]\n",
      "             precision    recall  f1-score   support\n",
      "\n",
      "      <=50K       0.84      0.93      0.89      6165\n",
      "       >50K       0.69      0.46      0.56      1976\n",
      "\n",
      "avg / total       0.81      0.82      0.81      8141\n",
=======
      "[[5825  340]\n",
      " [1201  775]]\n",
      "             precision    recall  f1-score   support\n",
      "\n",
      "        0.0       0.83      0.94      0.88      6165\n",
      "        1.0       0.70      0.39      0.50      1976\n",
      "\n",
      "avg / total       0.80      0.81      0.79      8141\n",
>>>>>>> 889b95742bd28ff876402ee859cdc2552fe7950f
      "\n"
     ]
    }
   ],
   "source": [
<<<<<<< HEAD
    "pred= tree_clf.predict(data_test)\n",
    "print(metrics.confusion_matrix(target_test, pred))\n",
    "print(metrics.classification_report(target_test, pred))"
=======
    "pred= tree.predict(data_test)\n",
    "print(metrics.confusion_matrix(target_test.iloc[:,1], pred))\n",
    "print(metrics.classification_report(target_test.iloc[:,1], pred))"
>>>>>>> 889b95742bd28ff876402ee859cdc2552fe7950f
   ]
  },
  {
   "cell_type": "code",
<<<<<<< HEAD
   "execution_count": 12,
   "metadata": {},
   "outputs": [
    {
     "name": "stdout",
     "output_type": "stream",
     "text": [
      "Testing Accuracy for Decision Tree Classifier: 82.04%\n"
     ]
    }
   ],
   "source": [
    "print(\"Testing Accuracy for Decision Tree Classifier: {:.4}%\".format(accuracy_score(target_test, pred) * 100))"
   ]
  },
  {
   "cell_type": "markdown",
   "metadata": {},
   "source": [
    "## 3. Bagged trees\n",
    "\n",
    "The first Ensemble approach we'll try is a Bag of Trees.  This will make use of **_Bagging_**, along with a number of Decision Tree Classifier models.  \n",
    "\n",
    "In the cell below, import `BaggingClassifier`, which can be found inside of sklearn's `ensemble` module. "
   ]
  },
  {
   "cell_type": "code",
   "execution_count": 13,
   "metadata": {},
   "outputs": [],
   "source": [
    "from sklearn.ensemble import BaggingClassifier"
=======
   "execution_count": 11,
   "metadata": {},
   "outputs": [
    {
     "data": {
      "text/plain": [
       "0.810711214838472"
      ]
     },
     "execution_count": 11,
     "metadata": {},
     "output_type": "execute_result"
    }
   ],
   "source": [
    "accuracy_score(target_test.iloc[:,1], pred)"
>>>>>>> 889b95742bd28ff876402ee859cdc2552fe7950f
   ]
  },
  {
   "cell_type": "markdown",
   "metadata": {},
   "source": [
<<<<<<< HEAD
    "Now, create a `BaggingClassifier`.  In the first parameter spot, create a `DecisionTreeClassifier` and set the same parameters that we did above for `criterion` and `max_depth`.  Also set the `n_estimators` parameter for our Bagging Classifier to `20`. "
=======
    "## 3. Bagged trees"
>>>>>>> 889b95742bd28ff876402ee859cdc2552fe7950f
   ]
  },
  {
   "cell_type": "code",
<<<<<<< HEAD
   "execution_count": 14,
   "metadata": {},
   "outputs": [],
   "source": [
    "bagged_tree =  BaggingClassifier(DecisionTreeClassifier(criterion='gini', max_depth=5), n_estimators=20)"
   ]
  },
  {
   "cell_type": "markdown",
   "metadata": {},
   "source": [
    "Great! Now, fit it to our training data. "
=======
   "execution_count": 19,
   "metadata": {},
   "outputs": [],
   "source": [
    "from sklearn.ensemble import BaggingClassifier\n",
    "from sklearn import tree\n"
   ]
  },
  {
   "cell_type": "code",
   "execution_count": 20,
   "metadata": {},
   "outputs": [],
   "source": [
    "bagged_tree =  BaggingClassifier(tree.DecisionTreeClassifier(criterion = \"gini\", max_depth = 5), n_estimators=20)"
>>>>>>> 889b95742bd28ff876402ee859cdc2552fe7950f
   ]
  },
  {
   "cell_type": "code",
<<<<<<< HEAD
   "execution_count": 15,
=======
   "execution_count": 21,
>>>>>>> 889b95742bd28ff876402ee859cdc2552fe7950f
   "metadata": {},
   "outputs": [
    {
     "data": {
      "text/plain": [
       "BaggingClassifier(base_estimator=DecisionTreeClassifier(class_weight=None, criterion='gini', max_depth=5,\n",
       "            max_features=None, max_leaf_nodes=None,\n",
       "            min_impurity_decrease=0.0, min_impurity_split=None,\n",
       "            min_samples_leaf=1, min_samples_split=2,\n",
       "            min_weight_fraction_leaf=0.0, presort=False, random_state=None,\n",
       "            splitter='best'),\n",
       "         bootstrap=True, bootstrap_features=False, max_features=1.0,\n",
       "         max_samples=1.0, n_estimators=20, n_jobs=1, oob_score=False,\n",
       "         random_state=None, verbose=0, warm_start=False)"
      ]
     },
<<<<<<< HEAD
     "execution_count": 15,
=======
     "execution_count": 21,
>>>>>>> 889b95742bd28ff876402ee859cdc2552fe7950f
     "metadata": {},
     "output_type": "execute_result"
    }
   ],
   "source": [
<<<<<<< HEAD
    "bagged_tree.fit(data_train, target_train)"
   ]
  },
  {
   "cell_type": "markdown",
   "metadata": {},
   "source": [
    "Checking the accuracy of a model is such a common task that all (supervised learning) models contain a `score()` method that wraps the `accuracy_score` helper method we've been using.  All we have to do is pass it a dataset and the corresponding labels and it will return the accuracy score for those data/labels.  \n",
    "\n",
    "Let's use it to get the training accuracy of our model. In the cell below, call the `.score()` method on our Bagging model and pass in our training data and training labels as parameters. "
=======
    "bagged_tree.fit(data_train, target_train.iloc[:,1])"
>>>>>>> 889b95742bd28ff876402ee859cdc2552fe7950f
   ]
  },
  {
   "cell_type": "code",
<<<<<<< HEAD
   "execution_count": 16,
=======
   "execution_count": 22,
>>>>>>> 889b95742bd28ff876402ee859cdc2552fe7950f
   "metadata": {},
   "outputs": [
    {
     "data": {
      "text/plain": [
<<<<<<< HEAD
       "0.8277231777231777"
      ]
     },
     "execution_count": 16,
=======
       "0.8171580671580672"
      ]
     },
     "execution_count": 22,
>>>>>>> 889b95742bd28ff876402ee859cdc2552fe7950f
     "metadata": {},
     "output_type": "execute_result"
    }
   ],
   "source": [
<<<<<<< HEAD
    "bagged_tree.score(data_train, target_train)"
   ]
  },
  {
   "cell_type": "markdown",
   "metadata": {},
   "source": [
    "Now, let's check the accuracy score that really matters--our testing accuracy.  This time, pass in our testing data and labels to see how the model did.  "
=======
    "bagged_tree.score(data_train, target_train.iloc[:,1])"
>>>>>>> 889b95742bd28ff876402ee859cdc2552fe7950f
   ]
  },
  {
   "cell_type": "code",
<<<<<<< HEAD
   "execution_count": 17,
=======
   "execution_count": 23,
>>>>>>> 889b95742bd28ff876402ee859cdc2552fe7950f
   "metadata": {},
   "outputs": [
    {
     "data": {
      "text/plain": [
<<<<<<< HEAD
       "0.8221348728657413"
      ]
     },
     "execution_count": 17,
=======
       "0.816361626335831"
      ]
     },
     "execution_count": 23,
>>>>>>> 889b95742bd28ff876402ee859cdc2552fe7950f
     "metadata": {},
     "output_type": "execute_result"
    }
   ],
   "source": [
<<<<<<< HEAD
    "bagged_tree.score(data_test, target_test)"
=======
    "bagged_tree.score(data_test, target_test.iloc[:,1])"
>>>>>>> 889b95742bd28ff876402ee859cdc2552fe7950f
   ]
  },
  {
   "cell_type": "markdown",
   "metadata": {},
   "source": [
<<<<<<< HEAD
    "## 4. Random forests\n",
    "\n",
    "Another popular ensemble method is the **_Random Forest_** model.  Let's fit a Random Forest Classifier next and see how it measures up compared to all the others. "
=======
    "## 4. Random forests"
>>>>>>> 889b95742bd28ff876402ee859cdc2552fe7950f
   ]
  },
  {
   "cell_type": "markdown",
   "metadata": {},
   "source": [
<<<<<<< HEAD
    "### 4.1 Fitting a random forests model\n",
    "\n",
    "In the cell below, import the `RandomForestClassifier` from sklearn's `ensemble` module. "
=======
    "### 4.1 Fitting a random forests model"
>>>>>>> 889b95742bd28ff876402ee859cdc2552fe7950f
   ]
  },
  {
   "cell_type": "code",
<<<<<<< HEAD
   "execution_count": 18,
=======
   "execution_count": 24,
>>>>>>> 889b95742bd28ff876402ee859cdc2552fe7950f
   "metadata": {},
   "outputs": [],
   "source": [
    "from sklearn.ensemble import RandomForestClassifier "
   ]
  },
  {
   "cell_type": "markdown",
   "metadata": {},
   "source": [
<<<<<<< HEAD
    "In the cell below, create a `RandomForestClassifier`, and set the number estimators to `100` and the max depth to `5`. Then, fit the model to our training data. "
=======
    "The default for `max_features` is `auto`. This means sqrt(total n of features) "
>>>>>>> 889b95742bd28ff876402ee859cdc2552fe7950f
   ]
  },
  {
   "cell_type": "code",
<<<<<<< HEAD
   "execution_count": 19,
=======
   "execution_count": 25,
>>>>>>> 889b95742bd28ff876402ee859cdc2552fe7950f
   "metadata": {},
   "outputs": [
    {
     "data": {
      "text/plain": [
       "RandomForestClassifier(bootstrap=True, class_weight=None, criterion='gini',\n",
<<<<<<< HEAD
       "            max_depth=5, max_features='auto', max_leaf_nodes=None,\n",
       "            min_impurity_decrease=0.0, min_impurity_split=None,\n",
       "            min_samples_leaf=1, min_samples_split=2,\n",
       "            min_weight_fraction_leaf=0.0, n_estimators=100, n_jobs=1,\n",
       "            oob_score=False, random_state=None, verbose=0,\n",
       "            warm_start=False)"
      ]
     },
     "execution_count": 19,
=======
       "            max_depth=5, max_features=20, max_leaf_nodes=None,\n",
       "            min_impurity_decrease=0.0, min_impurity_split=None,\n",
       "            min_samples_leaf=1, min_samples_split=2,\n",
       "            min_weight_fraction_leaf=0.0, n_estimators=100, n_jobs=1,\n",
       "            oob_score=False, random_state=123, verbose=0, warm_start=False)"
      ]
     },
     "execution_count": 25,
>>>>>>> 889b95742bd28ff876402ee859cdc2552fe7950f
     "metadata": {},
     "output_type": "execute_result"
    }
   ],
   "source": [
<<<<<<< HEAD
    "forest = RandomForestClassifier(n_estimators=100, max_depth= 5)\n",
=======
    "forest = RandomForestClassifier(n_estimators=100, max_features= 20, random_state=123, max_depth= 5)\n",
>>>>>>> 889b95742bd28ff876402ee859cdc2552fe7950f
    "forest.fit(data_train, target_train)"
   ]
  },
  {
<<<<<<< HEAD
   "cell_type": "markdown",
   "metadata": {},
   "source": [
    "Now, let's check the training and testing accuracy of the model using its `.score()` method."
   ]
  },
  {
   "cell_type": "code",
   "execution_count": 20,
=======
   "cell_type": "code",
   "execution_count": 26,
>>>>>>> 889b95742bd28ff876402ee859cdc2552fe7950f
   "metadata": {},
   "outputs": [
    {
     "data": {
      "text/plain": [
<<<<<<< HEAD
       "0.8054054054054054"
      ]
     },
     "execution_count": 20,
=======
       "0.8177313677313678"
      ]
     },
     "execution_count": 26,
>>>>>>> 889b95742bd28ff876402ee859cdc2552fe7950f
     "metadata": {},
     "output_type": "execute_result"
    }
   ],
   "source": [
    "forest.score(data_train, target_train)"
   ]
  },
  {
   "cell_type": "code",
<<<<<<< HEAD
   "execution_count": 21,
=======
   "execution_count": 27,
>>>>>>> 889b95742bd28ff876402ee859cdc2552fe7950f
   "metadata": {},
   "outputs": [
    {
     "data": {
      "text/plain": [
<<<<<<< HEAD
       "0.8042009581132539"
      ]
     },
     "execution_count": 21,
=======
       "0.8170986365311387"
      ]
     },
     "execution_count": 27,
>>>>>>> 889b95742bd28ff876402ee859cdc2552fe7950f
     "metadata": {},
     "output_type": "execute_result"
    }
   ],
   "source": [
    "forest.score(data_test, target_test)"
   ]
  },
  {
   "cell_type": "markdown",
   "metadata": {},
   "source": [
    "### 4.2 Look at the feature importances"
   ]
  },
  {
   "cell_type": "code",
<<<<<<< HEAD
   "execution_count": 22,
=======
   "execution_count": 28,
>>>>>>> 889b95742bd28ff876402ee859cdc2552fe7950f
   "metadata": {},
   "outputs": [
    {
     "data": {
<<<<<<< HEAD
      "image/png": "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\n",
      "text/plain": [
       "<matplotlib.figure.Figure at 0x21cad11dd68>"
=======
      "image/png": "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\n",
      "text/plain": [
       "<matplotlib.figure.Figure at 0x1a135763c8>"
>>>>>>> 889b95742bd28ff876402ee859cdc2552fe7950f
      ]
     },
     "metadata": {},
     "output_type": "display_data"
    }
   ],
   "source": [
    "plot_feature_importances(forest)"
   ]
  },
  {
   "cell_type": "markdown",
   "metadata": {},
   "source": [
    "Note: \"relationship\" represents what this individual is relative to others. For example an\n",
    "individual could be a Husband. Each entry only has one relationship, so it is a bit of a weird attribute.\n",
    "\n",
<<<<<<< HEAD
    "Also note that more features show up. This is a pretty typical result. "
=======
    "Note that more geatures show up. This is a pretty typical result. "
>>>>>>> 889b95742bd28ff876402ee859cdc2552fe7950f
   ]
  },
  {
   "cell_type": "markdown",
   "metadata": {},
   "source": [
    "### 4.3 Look at the trees in your forest"
   ]
  },
  {
   "cell_type": "markdown",
   "metadata": {},
   "source": [
<<<<<<< HEAD
    "Let's create a forest with some small trees. You'll learn how to access trees in your forest!\n",
    "\n",
    "In the cell below, create another `RandomForestClassifier`.  Set the number of estimators to 5, the `max_features` to 10, and the `max_depth` to 2."
=======
    "Let's create a forest with some small trees. You'll learn how to access trees in your forest!"
>>>>>>> 889b95742bd28ff876402ee859cdc2552fe7950f
   ]
  },
  {
   "cell_type": "code",
<<<<<<< HEAD
   "execution_count": 23,
=======
   "execution_count": 29,
>>>>>>> 889b95742bd28ff876402ee859cdc2552fe7950f
   "metadata": {},
   "outputs": [
    {
     "data": {
      "text/plain": [
       "RandomForestClassifier(bootstrap=True, class_weight=None, criterion='gini',\n",
       "            max_depth=2, max_features=10, max_leaf_nodes=None,\n",
       "            min_impurity_decrease=0.0, min_impurity_split=None,\n",
       "            min_samples_leaf=1, min_samples_split=2,\n",
       "            min_weight_fraction_leaf=0.0, n_estimators=5, n_jobs=1,\n",
<<<<<<< HEAD
       "            oob_score=False, random_state=None, verbose=0,\n",
       "            warm_start=False)"
      ]
     },
     "execution_count": 23,
=======
       "            oob_score=False, random_state=123, verbose=0, warm_start=False)"
      ]
     },
     "execution_count": 29,
>>>>>>> 889b95742bd28ff876402ee859cdc2552fe7950f
     "metadata": {},
     "output_type": "execute_result"
    }
   ],
   "source": [
<<<<<<< HEAD
    "forest_2 = RandomForestClassifier(n_estimators = 5, max_features= 10, max_depth= 2)\n",
=======
    "forest_2 = RandomForestClassifier(n_estimators = 5, max_features= 10, random_state=123, max_depth= 2)\n",
>>>>>>> 889b95742bd28ff876402ee859cdc2552fe7950f
    "forest_2.fit(data_train, target_train)"
   ]
  },
  {
   "cell_type": "markdown",
   "metadata": {},
   "source": [
    "Making `max_features` smaller will lead to very different trees in your forest!"
   ]
  },
  {
   "cell_type": "markdown",
   "metadata": {},
   "source": [
<<<<<<< HEAD
    "The trees in your forest are stored in the `.estimators_` attribute.\n",
    "\n",
    "Run the cells below to examine 2 different trees from our new Random Forest Classifier.  "
=======
    "The trees in your forest are stored in the `.estimators_` attribute."
>>>>>>> 889b95742bd28ff876402ee859cdc2552fe7950f
   ]
  },
  {
   "cell_type": "code",
<<<<<<< HEAD
   "execution_count": 24,
=======
   "execution_count": 30,
>>>>>>> 889b95742bd28ff876402ee859cdc2552fe7950f
   "metadata": {},
   "outputs": [
    {
     "data": {
      "text/plain": [
       "DecisionTreeClassifier(class_weight=None, criterion='gini', max_depth=2,\n",
       "            max_features=10, max_leaf_nodes=None,\n",
       "            min_impurity_decrease=0.0, min_impurity_split=None,\n",
       "            min_samples_leaf=1, min_samples_split=2,\n",
       "            min_weight_fraction_leaf=0.0, presort=False,\n",
<<<<<<< HEAD
       "            random_state=1451731663, splitter='best')"
      ]
     },
     "execution_count": 24,
=======
       "            random_state=843828734, splitter='best')"
      ]
     },
     "execution_count": 30,
>>>>>>> 889b95742bd28ff876402ee859cdc2552fe7950f
     "metadata": {},
     "output_type": "execute_result"
    }
   ],
   "source": [
    "forest_2.estimators_[0]"
   ]
  },
  {
   "cell_type": "code",
<<<<<<< HEAD
   "execution_count": 25,
=======
   "execution_count": 31,
>>>>>>> 889b95742bd28ff876402ee859cdc2552fe7950f
   "metadata": {},
   "outputs": [
    {
     "data": {
      "text/plain": [
       "DecisionTreeClassifier(class_weight=None, criterion='gini', max_depth=2,\n",
       "            max_features=10, max_leaf_nodes=None,\n",
       "            min_impurity_decrease=0.0, min_impurity_split=None,\n",
       "            min_samples_leaf=1, min_samples_split=2,\n",
       "            min_weight_fraction_leaf=0.0, presort=False,\n",
<<<<<<< HEAD
       "            random_state=474057613, splitter='best')"
      ]
     },
     "execution_count": 25,
=======
       "            random_state=914636141, splitter='best')"
      ]
     },
     "execution_count": 31,
>>>>>>> 889b95742bd28ff876402ee859cdc2552fe7950f
     "metadata": {},
     "output_type": "execute_result"
    }
   ],
   "source": [
    "forest_2.estimators_[1]"
   ]
  },
  {
<<<<<<< HEAD
   "cell_type": "markdown",
   "metadata": {},
   "source": [
    "As an optional step, uncomment the cells below to visualize the two trees from our Random Forest. "
   ]
  },
  {
   "cell_type": "code",
   "execution_count": 26,
   "metadata": {},
   "outputs": [],
   "source": [
    "# export_graphviz(tree_1, out_file=\"mytree.dot\", feature_names=data_train.columns , class_names=list(target_train), rounded=True)\n",
    "# with open(\"mytree.dot\") as f:\n",
    "#     dot_graph = f.read()\n",
    "# graphviz.Source(dot_graph)"
=======
   "cell_type": "code",
   "execution_count": 32,
   "metadata": {},
   "outputs": [],
   "source": [
    "tree_1 = forest_2.estimators_[0].fit(data_train, target_train.iloc[:,1])"
>>>>>>> 889b95742bd28ff876402ee859cdc2552fe7950f
   ]
  },
  {
   "cell_type": "code",
<<<<<<< HEAD
   "execution_count": 27,
   "metadata": {},
   "outputs": [],
   "source": [
    "# tree_2 = forest_2.estimators_[1].fit(data_train, target_train.iloc[:,1])\n",
    "# export_graphviz(tree_2, out_file=\"mytree.dot\", feature_names=data_train.columns , class_names=list(target_train), rounded=True)\n",
    "# with open(\"mytree.dot\") as f:\n",
    "#     dot_graph = f.read()\n",
    "# graphviz.Source(dot_graph)"
   ]
  },
  {
   "cell_type": "markdown",
   "metadata": {},
   "source": [
    "## 5. Gradient boosting\n",
    "\n",
    "As a final step, we'll examine Gradient Boosted Trees. "
=======
   "execution_count": 33,
   "metadata": {},
   "outputs": [
    {
     "data": {
      "image/svg+xml": [
       "<?xml version=\"1.0\" encoding=\"UTF-8\" standalone=\"no\"?>\n",
       "<!DOCTYPE svg PUBLIC \"-//W3C//DTD SVG 1.1//EN\"\n",
       " \"http://www.w3.org/Graphics/SVG/1.1/DTD/svg11.dtd\">\n",
       "<!-- Generated by graphviz version 2.40.1 (20161225.0304)\n",
       " -->\n",
       "<!-- Title: Tree Pages: 1 -->\n",
       "<svg width=\"555pt\" height=\"314pt\"\n",
       " viewBox=\"0.00 0.00 554.50 314.00\" xmlns=\"http://www.w3.org/2000/svg\" xmlns:xlink=\"http://www.w3.org/1999/xlink\">\n",
       "<g id=\"graph0\" class=\"graph\" transform=\"scale(1 1) rotate(0) translate(4 310)\">\n",
       "<title>Tree</title>\n",
       "<polygon fill=\"#ffffff\" stroke=\"transparent\" points=\"-4,4 -4,-310 550.5,-310 550.5,4 -4,4\"/>\n",
       "<!-- 0 -->\n",
       "<g id=\"node1\" class=\"node\">\n",
       "<title>0</title>\n",
       "<path fill=\"none\" stroke=\"#000000\" d=\"M369.5,-306C369.5,-306 182.5,-306 182.5,-306 176.5,-306 170.5,-300 170.5,-294 170.5,-294 170.5,-235 170.5,-235 170.5,-229 176.5,-223 182.5,-223 182.5,-223 369.5,-223 369.5,-223 375.5,-223 381.5,-229 381.5,-235 381.5,-235 381.5,-294 381.5,-294 381.5,-300 375.5,-306 369.5,-306\"/>\n",
       "<text text-anchor=\"middle\" x=\"276\" y=\"-290.8\" font-family=\"Helvetica,sans-Serif\" font-size=\"14.00\" fill=\"#000000\">C(Occupation)[T.Exec&#45;managerial] &lt;= 0.5</text>\n",
       "<text text-anchor=\"middle\" x=\"276\" y=\"-275.8\" font-family=\"Helvetica,sans-Serif\" font-size=\"14.00\" fill=\"#000000\">gini = 0.365</text>\n",
       "<text text-anchor=\"middle\" x=\"276\" y=\"-260.8\" font-family=\"Helvetica,sans-Serif\" font-size=\"14.00\" fill=\"#000000\">samples = 24420</text>\n",
       "<text text-anchor=\"middle\" x=\"276\" y=\"-245.8\" font-family=\"Helvetica,sans-Serif\" font-size=\"14.00\" fill=\"#000000\">value = [18555, 5865]</text>\n",
       "<text text-anchor=\"middle\" x=\"276\" y=\"-230.8\" font-family=\"Helvetica,sans-Serif\" font-size=\"14.00\" fill=\"#000000\">class = Target[&lt;=50K]</text>\n",
       "</g>\n",
       "<!-- 1 -->\n",
       "<g id=\"node2\" class=\"node\">\n",
       "<title>1</title>\n",
       "<path fill=\"none\" stroke=\"#000000\" d=\"M274,-187C274,-187 102,-187 102,-187 96,-187 90,-181 90,-175 90,-175 90,-116 90,-116 90,-110 96,-104 102,-104 102,-104 274,-104 274,-104 280,-104 286,-110 286,-116 286,-116 286,-175 286,-175 286,-181 280,-187 274,-187\"/>\n",
       "<text text-anchor=\"middle\" x=\"188\" y=\"-171.8\" font-family=\"Helvetica,sans-Serif\" font-size=\"14.00\" fill=\"#000000\">C(Occupation)[T.Prof&#45;specialty] &lt;= 0.5</text>\n",
       "<text text-anchor=\"middle\" x=\"188\" y=\"-156.8\" font-family=\"Helvetica,sans-Serif\" font-size=\"14.00\" fill=\"#000000\">gini = 0.327</text>\n",
       "<text text-anchor=\"middle\" x=\"188\" y=\"-141.8\" font-family=\"Helvetica,sans-Serif\" font-size=\"14.00\" fill=\"#000000\">samples = 21332</text>\n",
       "<text text-anchor=\"middle\" x=\"188\" y=\"-126.8\" font-family=\"Helvetica,sans-Serif\" font-size=\"14.00\" fill=\"#000000\">value = [16942, 4390]</text>\n",
       "<text text-anchor=\"middle\" x=\"188\" y=\"-111.8\" font-family=\"Helvetica,sans-Serif\" font-size=\"14.00\" fill=\"#000000\">class = Target[&lt;=50K]</text>\n",
       "</g>\n",
       "<!-- 0&#45;&gt;1 -->\n",
       "<g id=\"edge1\" class=\"edge\">\n",
       "<title>0&#45;&gt;1</title>\n",
       "<path fill=\"none\" stroke=\"#000000\" d=\"M245.2219,-222.8796C238.6949,-214.0534 231.7401,-204.6485 225.0092,-195.5466\"/>\n",
       "<polygon fill=\"#000000\" stroke=\"#000000\" points=\"227.6695,-193.2574 218.9095,-187.2981 222.0412,-197.4195 227.6695,-193.2574\"/>\n",
       "<text text-anchor=\"middle\" x=\"215.2068\" y=\"-208.3224\" font-family=\"Helvetica,sans-Serif\" font-size=\"14.00\" fill=\"#000000\">True</text>\n",
       "</g>\n",
       "<!-- 4 -->\n",
       "<g id=\"node5\" class=\"node\">\n",
       "<title>4</title>\n",
       "<path fill=\"none\" stroke=\"#000000\" d=\"M412,-187C412,-187 316,-187 316,-187 310,-187 304,-181 304,-175 304,-175 304,-116 304,-116 304,-110 310,-104 316,-104 316,-104 412,-104 412,-104 418,-104 424,-110 424,-116 424,-116 424,-175 424,-175 424,-181 418,-187 412,-187\"/>\n",
       "<text text-anchor=\"middle\" x=\"364\" y=\"-171.8\" font-family=\"Helvetica,sans-Serif\" font-size=\"14.00\" fill=\"#000000\">C(Sex)[T.Male] &lt;= 0.5</text>\n",
       "<text text-anchor=\"middle\" x=\"364\" y=\"-156.8\" font-family=\"Helvetica,sans-Serif\" font-size=\"14.00\" fill=\"#000000\">gini = 0.499</text>\n",
       "<text text-anchor=\"middle\" x=\"364\" y=\"-141.8\" font-family=\"Helvetica,sans-Serif\" font-size=\"14.00\" fill=\"#000000\">samples = 3088</text>\n",
       "<text text-anchor=\"middle\" x=\"364\" y=\"-126.8\" font-family=\"Helvetica,sans-Serif\" font-size=\"14.00\" fill=\"#000000\">value = [1613, 1475]</text>\n",
       "<text text-anchor=\"middle\" x=\"364\" y=\"-111.8\" font-family=\"Helvetica,sans-Serif\" font-size=\"14.00\" fill=\"#000000\">class = Target[&lt;=50K]</text>\n",
       "</g>\n",
       "<!-- 0&#45;&gt;4 -->\n",
       "<g id=\"edge4\" class=\"edge\">\n",
       "<title>0&#45;&gt;4</title>\n",
       "<path fill=\"none\" stroke=\"#000000\" d=\"M306.7781,-222.8796C313.3051,-214.0534 320.2599,-204.6485 326.9908,-195.5466\"/>\n",
       "<polygon fill=\"#000000\" stroke=\"#000000\" points=\"329.9588,-197.4195 333.0905,-187.2981 324.3305,-193.2574 329.9588,-197.4195\"/>\n",
       "<text text-anchor=\"middle\" x=\"336.7932\" y=\"-208.3224\" font-family=\"Helvetica,sans-Serif\" font-size=\"14.00\" fill=\"#000000\">False</text>\n",
       "</g>\n",
       "<!-- 2 -->\n",
       "<g id=\"node3\" class=\"node\">\n",
       "<title>2</title>\n",
       "<path fill=\"none\" stroke=\"#000000\" d=\"M108,-68C108,-68 12,-68 12,-68 6,-68 0,-62 0,-56 0,-56 0,-12 0,-12 0,-6 6,0 12,0 12,0 108,0 108,0 114,0 120,-6 120,-12 120,-12 120,-56 120,-56 120,-62 114,-68 108,-68\"/>\n",
       "<text text-anchor=\"middle\" x=\"60\" y=\"-52.8\" font-family=\"Helvetica,sans-Serif\" font-size=\"14.00\" fill=\"#000000\">gini = 0.276</text>\n",
       "<text text-anchor=\"middle\" x=\"60\" y=\"-37.8\" font-family=\"Helvetica,sans-Serif\" font-size=\"14.00\" fill=\"#000000\">samples = 18215</text>\n",
       "<text text-anchor=\"middle\" x=\"60\" y=\"-22.8\" font-family=\"Helvetica,sans-Serif\" font-size=\"14.00\" fill=\"#000000\">value = [15208, 3007]</text>\n",
       "<text text-anchor=\"middle\" x=\"60\" y=\"-7.8\" font-family=\"Helvetica,sans-Serif\" font-size=\"14.00\" fill=\"#000000\">class = Target[&lt;=50K]</text>\n",
       "</g>\n",
       "<!-- 1&#45;&gt;2 -->\n",
       "<g id=\"edge2\" class=\"edge\">\n",
       "<title>1&#45;&gt;2</title>\n",
       "<path fill=\"none\" stroke=\"#000000\" d=\"M140.3375,-103.9815C129.4703,-94.5151 117.9295,-84.462 107.0865,-75.0168\"/>\n",
       "<polygon fill=\"#000000\" stroke=\"#000000\" points=\"109.1734,-72.1929 99.3341,-68.2637 104.5755,-77.4712 109.1734,-72.1929\"/>\n",
       "</g>\n",
       "<!-- 3 -->\n",
       "<g id=\"node4\" class=\"node\">\n",
       "<title>3</title>\n",
       "<path fill=\"none\" stroke=\"#000000\" d=\"M246,-68C246,-68 150,-68 150,-68 144,-68 138,-62 138,-56 138,-56 138,-12 138,-12 138,-6 144,0 150,0 150,0 246,0 246,0 252,0 258,-6 258,-12 258,-12 258,-56 258,-56 258,-62 252,-68 246,-68\"/>\n",
       "<text text-anchor=\"middle\" x=\"198\" y=\"-52.8\" font-family=\"Helvetica,sans-Serif\" font-size=\"14.00\" fill=\"#000000\">gini = 0.494</text>\n",
       "<text text-anchor=\"middle\" x=\"198\" y=\"-37.8\" font-family=\"Helvetica,sans-Serif\" font-size=\"14.00\" fill=\"#000000\">samples = 3117</text>\n",
       "<text text-anchor=\"middle\" x=\"198\" y=\"-22.8\" font-family=\"Helvetica,sans-Serif\" font-size=\"14.00\" fill=\"#000000\">value = [1734, 1383]</text>\n",
       "<text text-anchor=\"middle\" x=\"198\" y=\"-7.8\" font-family=\"Helvetica,sans-Serif\" font-size=\"14.00\" fill=\"#000000\">class = Target[&lt;=50K]</text>\n",
       "</g>\n",
       "<!-- 1&#45;&gt;3 -->\n",
       "<g id=\"edge3\" class=\"edge\">\n",
       "<title>1&#45;&gt;3</title>\n",
       "<path fill=\"none\" stroke=\"#000000\" d=\"M191.7236,-103.9815C192.4737,-95.618 193.2649,-86.7965 194.0232,-78.3409\"/>\n",
       "<polygon fill=\"#000000\" stroke=\"#000000\" points=\"197.5197,-78.5364 194.927,-68.2637 190.5477,-77.911 197.5197,-78.5364\"/>\n",
       "</g>\n",
       "<!-- 5 -->\n",
       "<g id=\"node6\" class=\"node\">\n",
       "<title>5</title>\n",
       "<path fill=\"none\" stroke=\"#000000\" d=\"M403,-68C403,-68 307,-68 307,-68 301,-68 295,-62 295,-56 295,-56 295,-12 295,-12 295,-6 301,0 307,0 307,0 403,0 403,0 409,0 415,-6 415,-12 415,-12 415,-56 415,-56 415,-62 409,-68 403,-68\"/>\n",
       "<text text-anchor=\"middle\" x=\"355\" y=\"-52.8\" font-family=\"Helvetica,sans-Serif\" font-size=\"14.00\" fill=\"#000000\">gini = 0.356</text>\n",
       "<text text-anchor=\"middle\" x=\"355\" y=\"-37.8\" font-family=\"Helvetica,sans-Serif\" font-size=\"14.00\" fill=\"#000000\">samples = 890</text>\n",
       "<text text-anchor=\"middle\" x=\"355\" y=\"-22.8\" font-family=\"Helvetica,sans-Serif\" font-size=\"14.00\" fill=\"#000000\">value = [684, 206]</text>\n",
       "<text text-anchor=\"middle\" x=\"355\" y=\"-7.8\" font-family=\"Helvetica,sans-Serif\" font-size=\"14.00\" fill=\"#000000\">class = Target[&lt;=50K]</text>\n",
       "</g>\n",
       "<!-- 4&#45;&gt;5 -->\n",
       "<g id=\"edge5\" class=\"edge\">\n",
       "<title>4&#45;&gt;5</title>\n",
       "<path fill=\"none\" stroke=\"#000000\" d=\"M360.6487,-103.9815C359.9737,-95.618 359.2616,-86.7965 358.5791,-78.3409\"/>\n",
       "<polygon fill=\"#000000\" stroke=\"#000000\" points=\"362.059,-77.9496 357.7657,-68.2637 355.0817,-78.5129 362.059,-77.9496\"/>\n",
       "</g>\n",
       "<!-- 6 -->\n",
       "<g id=\"node7\" class=\"node\">\n",
       "<title>6</title>\n",
       "<path fill=\"none\" stroke=\"#000000\" d=\"M534.5,-68C534.5,-68 445.5,-68 445.5,-68 439.5,-68 433.5,-62 433.5,-56 433.5,-56 433.5,-12 433.5,-12 433.5,-6 439.5,0 445.5,0 445.5,0 534.5,0 534.5,0 540.5,0 546.5,-6 546.5,-12 546.5,-12 546.5,-56 546.5,-56 546.5,-62 540.5,-68 534.5,-68\"/>\n",
       "<text text-anchor=\"middle\" x=\"490\" y=\"-52.8\" font-family=\"Helvetica,sans-Serif\" font-size=\"14.00\" fill=\"#000000\">gini = 0.488</text>\n",
       "<text text-anchor=\"middle\" x=\"490\" y=\"-37.8\" font-family=\"Helvetica,sans-Serif\" font-size=\"14.00\" fill=\"#000000\">samples = 2198</text>\n",
       "<text text-anchor=\"middle\" x=\"490\" y=\"-22.8\" font-family=\"Helvetica,sans-Serif\" font-size=\"14.00\" fill=\"#000000\">value = [929, 1269]</text>\n",
       "<text text-anchor=\"middle\" x=\"490\" y=\"-7.8\" font-family=\"Helvetica,sans-Serif\" font-size=\"14.00\" fill=\"#000000\">class = Target[&gt;50K]</text>\n",
       "</g>\n",
       "<!-- 4&#45;&gt;6 -->\n",
       "<g id=\"edge6\" class=\"edge\">\n",
       "<title>4&#45;&gt;6</title>\n",
       "<path fill=\"none\" stroke=\"#000000\" d=\"M410.9177,-103.9815C421.6152,-94.5151 432.9756,-84.462 443.6492,-75.0168\"/>\n",
       "<polygon fill=\"#000000\" stroke=\"#000000\" points=\"446.1111,-77.5118 451.2805,-68.2637 441.4722,-72.2696 446.1111,-77.5118\"/>\n",
       "</g>\n",
       "</g>\n",
       "</svg>\n"
      ],
      "text/plain": [
       "<graphviz.files.Source at 0x1a12992198>"
      ]
     },
     "execution_count": 33,
     "metadata": {},
     "output_type": "execute_result"
    }
   ],
   "source": [
    "export_graphviz(tree_1, out_file=\"mytree.dot\", feature_names=data_train.columns , class_names=list(target_train), rounded=True)\n",
    "with open(\"mytree.dot\") as f:\n",
    "    dot_graph = f.read()\n",
    "graphviz.Source(dot_graph)"
   ]
  },
  {
   "cell_type": "code",
   "execution_count": 34,
   "metadata": {},
   "outputs": [
    {
     "data": {
      "image/svg+xml": [
       "<?xml version=\"1.0\" encoding=\"UTF-8\" standalone=\"no\"?>\n",
       "<!DOCTYPE svg PUBLIC \"-//W3C//DTD SVG 1.1//EN\"\n",
       " \"http://www.w3.org/Graphics/SVG/1.1/DTD/svg11.dtd\">\n",
       "<!-- Generated by graphviz version 2.40.1 (20161225.0304)\n",
       " -->\n",
       "<!-- Title: Tree Pages: 1 -->\n",
       "<svg width=\"550pt\" height=\"314pt\"\n",
       " viewBox=\"0.00 0.00 550.00 314.00\" xmlns=\"http://www.w3.org/2000/svg\" xmlns:xlink=\"http://www.w3.org/1999/xlink\">\n",
       "<g id=\"graph0\" class=\"graph\" transform=\"scale(1 1) rotate(0) translate(4 310)\">\n",
       "<title>Tree</title>\n",
       "<polygon fill=\"#ffffff\" stroke=\"transparent\" points=\"-4,4 -4,-310 546,-310 546,4 -4,4\"/>\n",
       "<!-- 0 -->\n",
       "<g id=\"node1\" class=\"node\">\n",
       "<title>0</title>\n",
       "<path fill=\"none\" stroke=\"#000000\" d=\"M317,-306C317,-306 221,-306 221,-306 215,-306 209,-300 209,-294 209,-294 209,-235 209,-235 209,-229 215,-223 221,-223 221,-223 317,-223 317,-223 323,-223 329,-229 329,-235 329,-235 329,-294 329,-294 329,-300 323,-306 317,-306\"/>\n",
       "<text text-anchor=\"middle\" x=\"269\" y=\"-290.8\" font-family=\"Helvetica,sans-Serif\" font-size=\"14.00\" fill=\"#000000\">C(Sex)[T.Male] &lt;= 0.5</text>\n",
       "<text text-anchor=\"middle\" x=\"269\" y=\"-275.8\" font-family=\"Helvetica,sans-Serif\" font-size=\"14.00\" fill=\"#000000\">gini = 0.365</text>\n",
       "<text text-anchor=\"middle\" x=\"269\" y=\"-260.8\" font-family=\"Helvetica,sans-Serif\" font-size=\"14.00\" fill=\"#000000\">samples = 24420</text>\n",
       "<text text-anchor=\"middle\" x=\"269\" y=\"-245.8\" font-family=\"Helvetica,sans-Serif\" font-size=\"14.00\" fill=\"#000000\">value = [18555, 5865]</text>\n",
       "<text text-anchor=\"middle\" x=\"269\" y=\"-230.8\" font-family=\"Helvetica,sans-Serif\" font-size=\"14.00\" fill=\"#000000\">class = Target[&lt;=50K]</text>\n",
       "</g>\n",
       "<!-- 1 -->\n",
       "<g id=\"node2\" class=\"node\">\n",
       "<title>1</title>\n",
       "<path fill=\"none\" stroke=\"#000000\" d=\"M260.5,-187C260.5,-187 113.5,-187 113.5,-187 107.5,-187 101.5,-181 101.5,-175 101.5,-175 101.5,-116 101.5,-116 101.5,-110 107.5,-104 113.5,-104 113.5,-104 260.5,-104 260.5,-104 266.5,-104 272.5,-110 272.5,-116 272.5,-116 272.5,-175 272.5,-175 272.5,-181 266.5,-187 260.5,-187\"/>\n",
       "<text text-anchor=\"middle\" x=\"187\" y=\"-171.8\" font-family=\"Helvetica,sans-Serif\" font-size=\"14.00\" fill=\"#000000\">C(Education)[T.Doctorate] &lt;= 0.5</text>\n",
       "<text text-anchor=\"middle\" x=\"187\" y=\"-156.8\" font-family=\"Helvetica,sans-Serif\" font-size=\"14.00\" fill=\"#000000\">gini = 0.197</text>\n",
       "<text text-anchor=\"middle\" x=\"187\" y=\"-141.8\" font-family=\"Helvetica,sans-Serif\" font-size=\"14.00\" fill=\"#000000\">samples = 8035</text>\n",
       "<text text-anchor=\"middle\" x=\"187\" y=\"-126.8\" font-family=\"Helvetica,sans-Serif\" font-size=\"14.00\" fill=\"#000000\">value = [7143, 892]</text>\n",
       "<text text-anchor=\"middle\" x=\"187\" y=\"-111.8\" font-family=\"Helvetica,sans-Serif\" font-size=\"14.00\" fill=\"#000000\">class = Target[&lt;=50K]</text>\n",
       "</g>\n",
       "<!-- 0&#45;&gt;1 -->\n",
       "<g id=\"edge1\" class=\"edge\">\n",
       "<title>0&#45;&gt;1</title>\n",
       "<path fill=\"none\" stroke=\"#000000\" d=\"M240.3204,-222.8796C234.2385,-214.0534 227.7578,-204.6485 221.4859,-195.5466\"/>\n",
       "<polygon fill=\"#000000\" stroke=\"#000000\" points=\"224.3582,-193.5465 215.802,-187.2981 218.5941,-197.5184 224.3582,-193.5465\"/>\n",
       "<text text-anchor=\"middle\" x=\"211.2761\" y=\"-208.185\" font-family=\"Helvetica,sans-Serif\" font-size=\"14.00\" fill=\"#000000\">True</text>\n",
       "</g>\n",
       "<!-- 4 -->\n",
       "<g id=\"node5\" class=\"node\">\n",
       "<title>4</title>\n",
       "<path fill=\"none\" stroke=\"#000000\" d=\"M399,-187C399,-187 303,-187 303,-187 297,-187 291,-181 291,-175 291,-175 291,-116 291,-116 291,-110 297,-104 303,-104 303,-104 399,-104 399,-104 405,-104 411,-110 411,-116 411,-116 411,-175 411,-175 411,-181 405,-187 399,-187\"/>\n",
       "<text text-anchor=\"middle\" x=\"351\" y=\"-171.8\" font-family=\"Helvetica,sans-Serif\" font-size=\"14.00\" fill=\"#000000\">Age &lt;= 29.5</text>\n",
       "<text text-anchor=\"middle\" x=\"351\" y=\"-156.8\" font-family=\"Helvetica,sans-Serif\" font-size=\"14.00\" fill=\"#000000\">gini = 0.423</text>\n",
       "<text text-anchor=\"middle\" x=\"351\" y=\"-141.8\" font-family=\"Helvetica,sans-Serif\" font-size=\"14.00\" fill=\"#000000\">samples = 16385</text>\n",
       "<text text-anchor=\"middle\" x=\"351\" y=\"-126.8\" font-family=\"Helvetica,sans-Serif\" font-size=\"14.00\" fill=\"#000000\">value = [11412, 4973]</text>\n",
       "<text text-anchor=\"middle\" x=\"351\" y=\"-111.8\" font-family=\"Helvetica,sans-Serif\" font-size=\"14.00\" fill=\"#000000\">class = Target[&lt;=50K]</text>\n",
       "</g>\n",
       "<!-- 0&#45;&gt;4 -->\n",
       "<g id=\"edge4\" class=\"edge\">\n",
       "<title>0&#45;&gt;4</title>\n",
       "<path fill=\"none\" stroke=\"#000000\" d=\"M297.6796,-222.8796C303.7615,-214.0534 310.2422,-204.6485 316.5141,-195.5466\"/>\n",
       "<polygon fill=\"#000000\" stroke=\"#000000\" points=\"319.4059,-197.5184 322.198,-187.2981 313.6418,-193.5465 319.4059,-197.5184\"/>\n",
       "<text text-anchor=\"middle\" x=\"326.7239\" y=\"-208.185\" font-family=\"Helvetica,sans-Serif\" font-size=\"14.00\" fill=\"#000000\">False</text>\n",
       "</g>\n",
       "<!-- 2 -->\n",
       "<g id=\"node3\" class=\"node\">\n",
       "<title>2</title>\n",
       "<path fill=\"none\" stroke=\"#000000\" d=\"M108,-68C108,-68 12,-68 12,-68 6,-68 0,-62 0,-56 0,-56 0,-12 0,-12 0,-6 6,0 12,0 12,0 108,0 108,0 114,0 120,-6 120,-12 120,-12 120,-56 120,-56 120,-62 114,-68 108,-68\"/>\n",
       "<text text-anchor=\"middle\" x=\"60\" y=\"-52.8\" font-family=\"Helvetica,sans-Serif\" font-size=\"14.00\" fill=\"#000000\">gini = 0.191</text>\n",
       "<text text-anchor=\"middle\" x=\"60\" y=\"-37.8\" font-family=\"Helvetica,sans-Serif\" font-size=\"14.00\" fill=\"#000000\">samples = 7970</text>\n",
       "<text text-anchor=\"middle\" x=\"60\" y=\"-22.8\" font-family=\"Helvetica,sans-Serif\" font-size=\"14.00\" fill=\"#000000\">value = [7116, 854]</text>\n",
       "<text text-anchor=\"middle\" x=\"60\" y=\"-7.8\" font-family=\"Helvetica,sans-Serif\" font-size=\"14.00\" fill=\"#000000\">class = Target[&lt;=50K]</text>\n",
       "</g>\n",
       "<!-- 1&#45;&gt;2 -->\n",
       "<g id=\"edge2\" class=\"edge\">\n",
       "<title>1&#45;&gt;2</title>\n",
       "<path fill=\"none\" stroke=\"#000000\" d=\"M139.7099,-103.9815C128.9275,-94.5151 117.477,-84.462 106.7187,-75.0168\"/>\n",
       "<polygon fill=\"#000000\" stroke=\"#000000\" points=\"108.8507,-72.2311 99.0268,-68.2637 104.2324,-77.4915 108.8507,-72.2311\"/>\n",
       "</g>\n",
       "<!-- 3 -->\n",
       "<g id=\"node4\" class=\"node\">\n",
       "<title>3</title>\n",
       "<path fill=\"none\" stroke=\"#000000\" d=\"M239.5,-68C239.5,-68 150.5,-68 150.5,-68 144.5,-68 138.5,-62 138.5,-56 138.5,-56 138.5,-12 138.5,-12 138.5,-6 144.5,0 150.5,0 150.5,0 239.5,0 239.5,0 245.5,0 251.5,-6 251.5,-12 251.5,-12 251.5,-56 251.5,-56 251.5,-62 245.5,-68 239.5,-68\"/>\n",
       "<text text-anchor=\"middle\" x=\"195\" y=\"-52.8\" font-family=\"Helvetica,sans-Serif\" font-size=\"14.00\" fill=\"#000000\">gini = 0.486</text>\n",
       "<text text-anchor=\"middle\" x=\"195\" y=\"-37.8\" font-family=\"Helvetica,sans-Serif\" font-size=\"14.00\" fill=\"#000000\">samples = 65</text>\n",
       "<text text-anchor=\"middle\" x=\"195\" y=\"-22.8\" font-family=\"Helvetica,sans-Serif\" font-size=\"14.00\" fill=\"#000000\">value = [27, 38]</text>\n",
       "<text text-anchor=\"middle\" x=\"195\" y=\"-7.8\" font-family=\"Helvetica,sans-Serif\" font-size=\"14.00\" fill=\"#000000\">class = Target[&gt;50K]</text>\n",
       "</g>\n",
       "<!-- 1&#45;&gt;3 -->\n",
       "<g id=\"edge3\" class=\"edge\">\n",
       "<title>1&#45;&gt;3</title>\n",
       "<path fill=\"none\" stroke=\"#000000\" d=\"M189.9789,-103.9815C190.579,-95.618 191.2119,-86.7965 191.8186,-78.3409\"/>\n",
       "<polygon fill=\"#000000\" stroke=\"#000000\" points=\"195.3169,-78.4885 192.5416,-68.2637 188.3349,-77.9875 195.3169,-78.4885\"/>\n",
       "</g>\n",
       "<!-- 5 -->\n",
       "<g id=\"node6\" class=\"node\">\n",
       "<title>5</title>\n",
       "<path fill=\"none\" stroke=\"#000000\" d=\"M392,-68C392,-68 296,-68 296,-68 290,-68 284,-62 284,-56 284,-56 284,-12 284,-12 284,-6 290,0 296,0 296,0 392,0 392,0 398,0 404,-6 404,-12 404,-12 404,-56 404,-56 404,-62 398,-68 392,-68\"/>\n",
       "<text text-anchor=\"middle\" x=\"344\" y=\"-52.8\" font-family=\"Helvetica,sans-Serif\" font-size=\"14.00\" fill=\"#000000\">gini = 0.124</text>\n",
       "<text text-anchor=\"middle\" x=\"344\" y=\"-37.8\" font-family=\"Helvetica,sans-Serif\" font-size=\"14.00\" fill=\"#000000\">samples = 4316</text>\n",
       "<text text-anchor=\"middle\" x=\"344\" y=\"-22.8\" font-family=\"Helvetica,sans-Serif\" font-size=\"14.00\" fill=\"#000000\">value = [4029, 287]</text>\n",
       "<text text-anchor=\"middle\" x=\"344\" y=\"-7.8\" font-family=\"Helvetica,sans-Serif\" font-size=\"14.00\" fill=\"#000000\">class = Target[&lt;=50K]</text>\n",
       "</g>\n",
       "<!-- 4&#45;&gt;5 -->\n",
       "<g id=\"edge5\" class=\"edge\">\n",
       "<title>4&#45;&gt;5</title>\n",
       "<path fill=\"none\" stroke=\"#000000\" d=\"M348.3935,-103.9815C347.8684,-95.618 347.3146,-86.7965 346.7837,-78.3409\"/>\n",
       "<polygon fill=\"#000000\" stroke=\"#000000\" points=\"350.2709,-78.0247 346.1511,-68.2637 343.2846,-78.4634 350.2709,-78.0247\"/>\n",
       "</g>\n",
       "<!-- 6 -->\n",
       "<g id=\"node7\" class=\"node\">\n",
       "<title>6</title>\n",
       "<path fill=\"none\" stroke=\"#000000\" d=\"M530,-68C530,-68 434,-68 434,-68 428,-68 422,-62 422,-56 422,-56 422,-12 422,-12 422,-6 428,0 434,0 434,0 530,0 530,0 536,0 542,-6 542,-12 542,-12 542,-56 542,-56 542,-62 536,-68 530,-68\"/>\n",
       "<text text-anchor=\"middle\" x=\"482\" y=\"-52.8\" font-family=\"Helvetica,sans-Serif\" font-size=\"14.00\" fill=\"#000000\">gini = 0.475</text>\n",
       "<text text-anchor=\"middle\" x=\"482\" y=\"-37.8\" font-family=\"Helvetica,sans-Serif\" font-size=\"14.00\" fill=\"#000000\">samples = 12069</text>\n",
       "<text text-anchor=\"middle\" x=\"482\" y=\"-22.8\" font-family=\"Helvetica,sans-Serif\" font-size=\"14.00\" fill=\"#000000\">value = [7383, 4686]</text>\n",
       "<text text-anchor=\"middle\" x=\"482\" y=\"-7.8\" font-family=\"Helvetica,sans-Serif\" font-size=\"14.00\" fill=\"#000000\">class = Target[&lt;=50K]</text>\n",
       "</g>\n",
       "<!-- 4&#45;&gt;6 -->\n",
       "<g id=\"edge6\" class=\"edge\">\n",
       "<title>4&#45;&gt;6</title>\n",
       "<path fill=\"none\" stroke=\"#000000\" d=\"M399.7796,-103.9815C410.9015,-94.5151 422.7128,-84.462 433.8099,-75.0168\"/>\n",
       "<polygon fill=\"#000000\" stroke=\"#000000\" points=\"436.3975,-77.4105 441.744,-68.2637 431.8604,-72.08 436.3975,-77.4105\"/>\n",
       "</g>\n",
       "</g>\n",
       "</svg>\n"
      ],
      "text/plain": [
       "<graphviz.files.Source at 0x1a1d3d64a8>"
      ]
     },
     "execution_count": 34,
     "metadata": {},
     "output_type": "execute_result"
    }
   ],
   "source": [
    "tree_2 = forest_2.estimators_[1].fit(data_train, target_train.iloc[:,1])\n",
    "export_graphviz(tree_2, out_file=\"mytree.dot\", feature_names=data_train.columns , class_names=list(target_train), rounded=True)\n",
    "with open(\"mytree.dot\") as f:\n",
    "    dot_graph = f.read()\n",
    "graphviz.Source(dot_graph)"
>>>>>>> 889b95742bd28ff876402ee859cdc2552fe7950f
   ]
  },
  {
   "cell_type": "markdown",
   "metadata": {},
   "source": [
<<<<<<< HEAD
    "### 5.1 GBT "
=======
    "## 5. Gradient boosting"
>>>>>>> 889b95742bd28ff876402ee859cdc2552fe7950f
   ]
  },
  {
   "cell_type": "markdown",
   "metadata": {},
   "source": [
<<<<<<< HEAD
    "#### 5.1.1 Fitting a GBT model\n",
    "\n",
    "In the cell below, import `GradientBoostingClassifier` from sklearn's `ensemble` module."
=======
    "### 5.1 GBRT"
>>>>>>> 889b95742bd28ff876402ee859cdc2552fe7950f
   ]
  },
  {
   "cell_type": "code",
<<<<<<< HEAD
   "execution_count": 28,
=======
   "execution_count": 50,
>>>>>>> 889b95742bd28ff876402ee859cdc2552fe7950f
   "metadata": {},
   "outputs": [],
   "source": [
    "from sklearn.ensemble import GradientBoostingClassifier"
   ]
  },
  {
   "cell_type": "markdown",
   "metadata": {},
   "source": [
<<<<<<< HEAD
    "Next, create a `GradientBoostingClassifier` and set the `max_depth` to 5 and the `learning_rate` to `0.01`.  Then, fit the model to our training data."
=======
    "#### 5.1.1 Fitting a GBRT model"
>>>>>>> 889b95742bd28ff876402ee859cdc2552fe7950f
   ]
  },
  {
   "cell_type": "code",
<<<<<<< HEAD
   "execution_count": 29,
=======
   "execution_count": 51,
>>>>>>> 889b95742bd28ff876402ee859cdc2552fe7950f
   "metadata": {},
   "outputs": [
    {
     "data": {
      "text/plain": [
       "GradientBoostingClassifier(criterion='friedman_mse', init=None,\n",
       "              learning_rate=0.01, loss='deviance', max_depth=5,\n",
       "              max_features=None, max_leaf_nodes=None,\n",
       "              min_impurity_decrease=0.0, min_impurity_split=None,\n",
       "              min_samples_leaf=1, min_samples_split=2,\n",
       "              min_weight_fraction_leaf=0.0, n_estimators=100,\n",
       "              presort='auto', random_state=123, subsample=1.0, verbose=0,\n",
       "              warm_start=False)"
      ]
     },
<<<<<<< HEAD
     "execution_count": 29,
=======
     "execution_count": 51,
>>>>>>> 889b95742bd28ff876402ee859cdc2552fe7950f
     "metadata": {},
     "output_type": "execute_result"
    }
   ],
   "source": [
    "gradboost = GradientBoostingClassifier(random_state = 123, max_depth = 5, learning_rate = 0.01)\n",
<<<<<<< HEAD
    "gradboost.fit(data_train, target_train)"
   ]
  },
  {
   "cell_type": "markdown",
   "metadata": {},
   "source": [
    "Now, check the training and testing accuracy of our Gradient Boosted Model.  "
=======
    "gradboost.fit(data_train, target_train.iloc[:,1])"
>>>>>>> 889b95742bd28ff876402ee859cdc2552fe7950f
   ]
  },
  {
   "cell_type": "code",
<<<<<<< HEAD
   "execution_count": 30,
=======
   "execution_count": 52,
>>>>>>> 889b95742bd28ff876402ee859cdc2552fe7950f
   "metadata": {},
   "outputs": [
    {
     "data": {
      "text/plain": [
<<<<<<< HEAD
       "0.8177313677313678"
      ]
     },
     "execution_count": 30,
=======
       "0.8041359541359542"
      ]
     },
     "execution_count": 52,
>>>>>>> 889b95742bd28ff876402ee859cdc2552fe7950f
     "metadata": {},
     "output_type": "execute_result"
    }
   ],
   "source": [
<<<<<<< HEAD
    "gradboost.score(data_train, target_train)"
=======
    "gradboost.score(data_train, target_train.iloc[:,1])"
>>>>>>> 889b95742bd28ff876402ee859cdc2552fe7950f
   ]
  },
  {
   "cell_type": "code",
<<<<<<< HEAD
   "execution_count": 31,
=======
   "execution_count": 53,
>>>>>>> 889b95742bd28ff876402ee859cdc2552fe7950f
   "metadata": {},
   "outputs": [
    {
     "data": {
      "text/plain": [
<<<<<<< HEAD
       "0.8162387913032797"
      ]
     },
     "execution_count": 31,
=======
       "0.8024812676575359"
      ]
     },
     "execution_count": 53,
>>>>>>> 889b95742bd28ff876402ee859cdc2552fe7950f
     "metadata": {},
     "output_type": "execute_result"
    }
   ],
   "source": [
<<<<<<< HEAD
    "gradboost.score(data_test, target_test)"
   ]
  },
  {
   "cell_type": "markdown",
   "metadata": {},
   "source": [
    "Finally, plot the feature importance for the model. "
=======
    "gradboost.score(data_test, target_test.iloc[:,1])"
>>>>>>> 889b95742bd28ff876402ee859cdc2552fe7950f
   ]
  },
  {
   "cell_type": "code",
<<<<<<< HEAD
   "execution_count": 32,
=======
   "execution_count": 54,
>>>>>>> 889b95742bd28ff876402ee859cdc2552fe7950f
   "metadata": {},
   "outputs": [
    {
     "data": {
<<<<<<< HEAD
      "image/png": "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\n",
      "text/plain": [
       "<matplotlib.figure.Figure at 0x21cad2386d8>"
=======
      "image/png": "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\n",
      "text/plain": [
       "<matplotlib.figure.Figure at 0x1a1299d470>"
>>>>>>> 889b95742bd28ff876402ee859cdc2552fe7950f
      ]
     },
     "metadata": {},
     "output_type": "display_data"
    }
   ],
   "source": [
    "plot_feature_importances(gradboost)"
   ]
  },
  {
   "cell_type": "markdown",
   "metadata": {},
   "source": [
    "This isn't really an improvement compared to our Random forests. We told you that gradient boosting methods can generate excellent results, if you set your hyperparameters right! As you know, gradient descent is a delicate process and the learning rate should be set correctly. Let's have a look at what changing the learning rate does to our model."
   ]
  },
  {
   "cell_type": "markdown",
   "metadata": {},
   "source": [
<<<<<<< HEAD
    "#### 5.1.2 Changing the learning rate\n",
    "\n",
    "We'll create another `GradientBoostingClassifier`.  Set the `max_depth` to `5`, and the `learning_rate` to `0.09`.  Then, fit the new model to our training data. "
=======
    "#### 5.1.2 Changing the learning rate"
>>>>>>> 889b95742bd28ff876402ee859cdc2552fe7950f
   ]
  },
  {
   "cell_type": "code",
<<<<<<< HEAD
   "execution_count": 33,
=======
   "execution_count": 55,
>>>>>>> 889b95742bd28ff876402ee859cdc2552fe7950f
   "metadata": {},
   "outputs": [
    {
     "data": {
      "text/plain": [
       "GradientBoostingClassifier(criterion='friedman_mse', init=None,\n",
       "              learning_rate=0.09, loss='deviance', max_depth=5,\n",
       "              max_features=None, max_leaf_nodes=None,\n",
       "              min_impurity_decrease=0.0, min_impurity_split=None,\n",
       "              min_samples_leaf=1, min_samples_split=2,\n",
       "              min_weight_fraction_leaf=0.0, n_estimators=100,\n",
       "              presort='auto', random_state=123, subsample=1.0, verbose=0,\n",
       "              warm_start=False)"
      ]
     },
<<<<<<< HEAD
     "execution_count": 33,
=======
     "execution_count": 55,
>>>>>>> 889b95742bd28ff876402ee859cdc2552fe7950f
     "metadata": {},
     "output_type": "execute_result"
    }
   ],
   "source": [
    "gradboost_2 = GradientBoostingClassifier(random_state = 123, max_depth = 5, learning_rate = 0.09)\n",
<<<<<<< HEAD
    "gradboost_2.fit(data_train, target_train)"
   ]
  },
  {
   "cell_type": "markdown",
   "metadata": {},
   "source": [
    "Now, check the training and testing accuracy of this model. "
=======
    "gradboost_2.fit(data_train, target_train.iloc[:,1])"
>>>>>>> 889b95742bd28ff876402ee859cdc2552fe7950f
   ]
  },
  {
   "cell_type": "code",
<<<<<<< HEAD
   "execution_count": 34,
=======
   "execution_count": 56,
>>>>>>> 889b95742bd28ff876402ee859cdc2552fe7950f
   "metadata": {},
   "outputs": [
    {
     "data": {
      "text/plain": [
<<<<<<< HEAD
       "0.8441031941031941"
      ]
     },
     "execution_count": 34,
=======
       "0.8422604422604423"
      ]
     },
     "execution_count": 56,
>>>>>>> 889b95742bd28ff876402ee859cdc2552fe7950f
     "metadata": {},
     "output_type": "execute_result"
    }
   ],
   "source": [
<<<<<<< HEAD
    "gradboost_2.score(data_train, target_train)"
=======
    "gradboost_2.score(data_train, target_train.iloc[:,1])"
>>>>>>> 889b95742bd28ff876402ee859cdc2552fe7950f
   ]
  },
  {
   "cell_type": "code",
<<<<<<< HEAD
   "execution_count": 35,
=======
   "execution_count": 57,
>>>>>>> 889b95742bd28ff876402ee859cdc2552fe7950f
   "metadata": {},
   "outputs": [
    {
     "data": {
      "text/plain": [
<<<<<<< HEAD
       "0.833681365925562"
      ]
     },
     "execution_count": 35,
=======
       "0.8354010563812799"
      ]
     },
     "execution_count": 57,
>>>>>>> 889b95742bd28ff876402ee859cdc2552fe7950f
     "metadata": {},
     "output_type": "execute_result"
    }
   ],
   "source": [
<<<<<<< HEAD
    "gradboost_2.score(data_test, target_test)"
   ]
  },
  {
   "cell_type": "markdown",
   "metadata": {},
   "source": [
    "Now, plot the feature importance. "
=======
    "gradboost_2.score(data_test, target_test.iloc[:,1])"
>>>>>>> 889b95742bd28ff876402ee859cdc2552fe7950f
   ]
  },
  {
   "cell_type": "code",
<<<<<<< HEAD
   "execution_count": 36,
=======
   "execution_count": 58,
>>>>>>> 889b95742bd28ff876402ee859cdc2552fe7950f
   "metadata": {},
   "outputs": [
    {
     "data": {
<<<<<<< HEAD
      "image/png": "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\n",
      "text/plain": [
       "<matplotlib.figure.Figure at 0x21cad232630>"
=======
      "image/png": "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\n",
      "text/plain": [
       "<matplotlib.figure.Figure at 0x1a1d9e79b0>"
>>>>>>> 889b95742bd28ff876402ee859cdc2552fe7950f
      ]
     },
     "metadata": {},
     "output_type": "display_data"
    }
   ],
   "source": [
    "plot_feature_importances(gradboost_2)"
   ]
  },
  {
   "cell_type": "markdown",
   "metadata": {},
   "source": [
    "The feature importances plot has changed drastically! This model is definitely more complex, as mentioned in the lecture."
   ]
  },
  {
   "cell_type": "markdown",
   "metadata": {},
   "source": [
<<<<<<< HEAD
    "### 5.2 AdaBoost\n",
    "\n",
    "We'll end this lab with AdaBoost, a popular variant of Gradient Boosted Trees.  \n",
    "\n",
    "In the cell below, import `AdaBoostClassifier` from sklearn's `ensemble` module. "
=======
    "### 5.2 AdaBoost"
>>>>>>> 889b95742bd28ff876402ee859cdc2552fe7950f
   ]
  },
  {
   "cell_type": "code",
<<<<<<< HEAD
   "execution_count": 37,
=======
   "execution_count": 59,
>>>>>>> 889b95742bd28ff876402ee859cdc2552fe7950f
   "metadata": {},
   "outputs": [],
   "source": [
    "from sklearn.ensemble import AdaBoostClassifier"
   ]
  },
  {
<<<<<<< HEAD
   "cell_type": "markdown",
   "metadata": {},
   "source": [
    "In the cell below, create an AdaBoost classifier. Set the number of estimators to `100`.  Then, fit the model to our training data. "
=======
   "cell_type": "code",
   "execution_count": 60,
   "metadata": {},
   "outputs": [
    {
     "data": {
      "text/plain": [
       "AdaBoostClassifier(algorithm='SAMME.R', base_estimator=None,\n",
       "          learning_rate=1.0, n_estimators=100, random_state=123)"
      ]
     },
     "execution_count": 60,
     "metadata": {},
     "output_type": "execute_result"
    }
   ],
   "source": [
    "adaboost = AdaBoostClassifier(random_state = 123, n_estimators=100)\n",
    "adaboost.fit(data_train, target_train.iloc[:,1])"
>>>>>>> 889b95742bd28ff876402ee859cdc2552fe7950f
   ]
  },
  {
   "cell_type": "code",
<<<<<<< HEAD
   "execution_count": 38,
=======
   "execution_count": 61,
>>>>>>> 889b95742bd28ff876402ee859cdc2552fe7950f
   "metadata": {},
   "outputs": [
    {
     "data": {
      "text/plain": [
<<<<<<< HEAD
       "AdaBoostClassifier(algorithm='SAMME.R', base_estimator=None,\n",
       "          learning_rate=1.0, n_estimators=100, random_state=None)"
      ]
     },
     "execution_count": 38,
=======
       "0.8350941850941851"
      ]
     },
     "execution_count": 61,
>>>>>>> 889b95742bd28ff876402ee859cdc2552fe7950f
     "metadata": {},
     "output_type": "execute_result"
    }
   ],
   "source": [
<<<<<<< HEAD
    "adaboost = AdaBoostClassifier(n_estimators=100)\n",
    "adaboost.fit(data_train, target_train)"
   ]
  },
  {
   "cell_type": "markdown",
   "metadata": {},
   "source": [
    "Now, check the training and testing accuracy of the model. "
=======
    "adaboost.score(data_train, target_train.iloc[:,1])"
   ]
  },
  {
   "cell_type": "code",
   "execution_count": 62,
   "metadata": {},
   "outputs": [
    {
     "data": {
      "text/plain": [
       "0.8355238914138312"
      ]
     },
     "execution_count": 62,
     "metadata": {},
     "output_type": "execute_result"
    }
   ],
   "source": [
    "adaboost.score(data_test, target_test.iloc[:,1])"
>>>>>>> 889b95742bd28ff876402ee859cdc2552fe7950f
   ]
  },
  {
   "cell_type": "code",
<<<<<<< HEAD
   "execution_count": 39,
=======
   "execution_count": 63,
>>>>>>> 889b95742bd28ff876402ee859cdc2552fe7950f
   "metadata": {},
   "outputs": [
    {
     "data": {
<<<<<<< HEAD
      "text/plain": [
       "0.8351760851760852"
      ]
     },
     "execution_count": 39,
     "metadata": {},
     "output_type": "execute_result"
    }
   ],
   "source": [
    "adaboost.score(data_train, target_train)"
=======
      "image/png": "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\n",
      "text/plain": [
       "<matplotlib.figure.Figure at 0x1a1da57cc0>"
      ]
     },
     "metadata": {},
     "output_type": "display_data"
    }
   ],
   "source": [
    "plot_feature_importances(adaboost)"
   ]
  },
  {
   "cell_type": "markdown",
   "metadata": {},
   "source": [
    "Seems to be performing similarly to gradient boosting, even more focus on Age."
   ]
  },
  {
   "cell_type": "markdown",
   "metadata": {},
   "source": [
    "## 6. To wrap up: let's look at a regression tree"
>>>>>>> 889b95742bd28ff876402ee859cdc2552fe7950f
   ]
  },
  {
   "cell_type": "code",
<<<<<<< HEAD
   "execution_count": 40,
=======
   "execution_count": 64,
>>>>>>> 889b95742bd28ff876402ee859cdc2552fe7950f
   "metadata": {},
   "outputs": [
    {
     "data": {
<<<<<<< HEAD
      "text/plain": [
       "0.8350325512836261"
      ]
     },
     "execution_count": 40,
=======
      "text/html": [
       "<div>\n",
       "<style scoped>\n",
       "    .dataframe tbody tr th:only-of-type {\n",
       "        vertical-align: middle;\n",
       "    }\n",
       "\n",
       "    .dataframe tbody tr th {\n",
       "        vertical-align: top;\n",
       "    }\n",
       "\n",
       "    .dataframe thead th {\n",
       "        text-align: right;\n",
       "    }\n",
       "</style>\n",
       "<table border=\"1\" class=\"dataframe\">\n",
       "  <thead>\n",
       "    <tr style=\"text-align: right;\">\n",
       "      <th></th>\n",
       "      <th>Page total likes</th>\n",
       "      <th>Type</th>\n",
       "      <th>Category</th>\n",
       "      <th>Post Month</th>\n",
       "      <th>Post Weekday</th>\n",
       "      <th>Post Hour</th>\n",
       "      <th>Paid</th>\n",
       "      <th>Lifetime Post Total Reach</th>\n",
       "      <th>Lifetime Post Total Impressions</th>\n",
       "      <th>Lifetime Engaged Users</th>\n",
       "      <th>Lifetime Post Consumers</th>\n",
       "      <th>Lifetime Post Consumptions</th>\n",
       "      <th>Lifetime Post Impressions by people who have liked your Page</th>\n",
       "      <th>Lifetime Post reach by people who like your Page</th>\n",
       "      <th>Lifetime People who have liked your Page and engaged with your post</th>\n",
       "      <th>comment</th>\n",
       "      <th>like</th>\n",
       "      <th>share</th>\n",
       "      <th>Total Interactions</th>\n",
       "    </tr>\n",
       "  </thead>\n",
       "  <tbody>\n",
       "    <tr>\n",
       "      <th>0</th>\n",
       "      <td>139441</td>\n",
       "      <td>Photo</td>\n",
       "      <td>2</td>\n",
       "      <td>12</td>\n",
       "      <td>4</td>\n",
       "      <td>3</td>\n",
       "      <td>0.0</td>\n",
       "      <td>2752</td>\n",
       "      <td>5091</td>\n",
       "      <td>178</td>\n",
       "      <td>109</td>\n",
       "      <td>159</td>\n",
       "      <td>3078</td>\n",
       "      <td>1640</td>\n",
       "      <td>119</td>\n",
       "      <td>4</td>\n",
       "      <td>79.0</td>\n",
       "      <td>17.0</td>\n",
       "      <td>100</td>\n",
       "    </tr>\n",
       "    <tr>\n",
       "      <th>1</th>\n",
       "      <td>139441</td>\n",
       "      <td>Status</td>\n",
       "      <td>2</td>\n",
       "      <td>12</td>\n",
       "      <td>3</td>\n",
       "      <td>10</td>\n",
       "      <td>0.0</td>\n",
       "      <td>10460</td>\n",
       "      <td>19057</td>\n",
       "      <td>1457</td>\n",
       "      <td>1361</td>\n",
       "      <td>1674</td>\n",
       "      <td>11710</td>\n",
       "      <td>6112</td>\n",
       "      <td>1108</td>\n",
       "      <td>5</td>\n",
       "      <td>130.0</td>\n",
       "      <td>29.0</td>\n",
       "      <td>164</td>\n",
       "    </tr>\n",
       "    <tr>\n",
       "      <th>2</th>\n",
       "      <td>139441</td>\n",
       "      <td>Photo</td>\n",
       "      <td>3</td>\n",
       "      <td>12</td>\n",
       "      <td>3</td>\n",
       "      <td>3</td>\n",
       "      <td>0.0</td>\n",
       "      <td>2413</td>\n",
       "      <td>4373</td>\n",
       "      <td>177</td>\n",
       "      <td>113</td>\n",
       "      <td>154</td>\n",
       "      <td>2812</td>\n",
       "      <td>1503</td>\n",
       "      <td>132</td>\n",
       "      <td>0</td>\n",
       "      <td>66.0</td>\n",
       "      <td>14.0</td>\n",
       "      <td>80</td>\n",
       "    </tr>\n",
       "    <tr>\n",
       "      <th>3</th>\n",
       "      <td>139441</td>\n",
       "      <td>Photo</td>\n",
       "      <td>2</td>\n",
       "      <td>12</td>\n",
       "      <td>2</td>\n",
       "      <td>10</td>\n",
       "      <td>1.0</td>\n",
       "      <td>50128</td>\n",
       "      <td>87991</td>\n",
       "      <td>2211</td>\n",
       "      <td>790</td>\n",
       "      <td>1119</td>\n",
       "      <td>61027</td>\n",
       "      <td>32048</td>\n",
       "      <td>1386</td>\n",
       "      <td>58</td>\n",
       "      <td>1572.0</td>\n",
       "      <td>147.0</td>\n",
       "      <td>1777</td>\n",
       "    </tr>\n",
       "    <tr>\n",
       "      <th>4</th>\n",
       "      <td>139441</td>\n",
       "      <td>Photo</td>\n",
       "      <td>2</td>\n",
       "      <td>12</td>\n",
       "      <td>2</td>\n",
       "      <td>3</td>\n",
       "      <td>0.0</td>\n",
       "      <td>7244</td>\n",
       "      <td>13594</td>\n",
       "      <td>671</td>\n",
       "      <td>410</td>\n",
       "      <td>580</td>\n",
       "      <td>6228</td>\n",
       "      <td>3200</td>\n",
       "      <td>396</td>\n",
       "      <td>19</td>\n",
       "      <td>325.0</td>\n",
       "      <td>49.0</td>\n",
       "      <td>393</td>\n",
       "    </tr>\n",
       "  </tbody>\n",
       "</table>\n",
       "</div>"
      ],
      "text/plain": [
       "   Page total likes    Type  Category  Post Month  Post Weekday  Post Hour  \\\n",
       "0            139441   Photo         2          12             4          3   \n",
       "1            139441  Status         2          12             3         10   \n",
       "2            139441   Photo         3          12             3          3   \n",
       "3            139441   Photo         2          12             2         10   \n",
       "4            139441   Photo         2          12             2          3   \n",
       "\n",
       "   Paid  Lifetime Post Total Reach  Lifetime Post Total Impressions  \\\n",
       "0   0.0                       2752                             5091   \n",
       "1   0.0                      10460                            19057   \n",
       "2   0.0                       2413                             4373   \n",
       "3   1.0                      50128                            87991   \n",
       "4   0.0                       7244                            13594   \n",
       "\n",
       "   Lifetime Engaged Users  Lifetime Post Consumers  \\\n",
       "0                     178                      109   \n",
       "1                    1457                     1361   \n",
       "2                     177                      113   \n",
       "3                    2211                      790   \n",
       "4                     671                      410   \n",
       "\n",
       "   Lifetime Post Consumptions  \\\n",
       "0                         159   \n",
       "1                        1674   \n",
       "2                         154   \n",
       "3                        1119   \n",
       "4                         580   \n",
       "\n",
       "   Lifetime Post Impressions by people who have liked your Page  \\\n",
       "0                                               3078              \n",
       "1                                              11710              \n",
       "2                                               2812              \n",
       "3                                              61027              \n",
       "4                                               6228              \n",
       "\n",
       "   Lifetime Post reach by people who like your Page  \\\n",
       "0                                              1640   \n",
       "1                                              6112   \n",
       "2                                              1503   \n",
       "3                                             32048   \n",
       "4                                              3200   \n",
       "\n",
       "   Lifetime People who have liked your Page and engaged with your post  \\\n",
       "0                                                119                     \n",
       "1                                               1108                     \n",
       "2                                                132                     \n",
       "3                                               1386                     \n",
       "4                                                396                     \n",
       "\n",
       "   comment    like  share  Total Interactions  \n",
       "0        4    79.0   17.0                 100  \n",
       "1        5   130.0   29.0                 164  \n",
       "2        0    66.0   14.0                  80  \n",
       "3       58  1572.0  147.0                1777  \n",
       "4       19   325.0   49.0                 393  "
      ]
     },
     "execution_count": 64,
>>>>>>> 889b95742bd28ff876402ee859cdc2552fe7950f
     "metadata": {},
     "output_type": "execute_result"
    }
   ],
   "source": [
<<<<<<< HEAD
    "adaboost.score(data_test, target_test)"
   ]
  },
  {
   "cell_type": "markdown",
   "metadata": {},
   "source": [
    "Finally, plot the feature importances for our AdaBoost model. "
=======
    "# load dataset\n",
    "data = pd.read_csv(\"dataset_Facebook.csv\", sep = \";\", header=0)\n",
    "data = data.dropna()\n",
    "data.head()"
   ]
  },
  {
   "cell_type": "code",
   "execution_count": 65,
   "metadata": {},
   "outputs": [],
   "source": [
    "facebook = data[[\"Page total likes\",\"Type\", \"Category\", \"Post Month\", \"Post Weekday\", \"Post Hour\", \"Paid\"]]"
   ]
  },
  {
   "cell_type": "code",
   "execution_count": 66,
   "metadata": {},
   "outputs": [],
   "source": [
    "facebook = facebook.rename(index=str, columns={\"Page total likes\": \"Likes\", \"Post Month\": \"Post_month\", \"Post Weekday\": \"Post_day\", \"Post Hour\": \"Post_hour\" })"
   ]
  },
  {
   "cell_type": "code",
   "execution_count": 67,
   "metadata": {},
   "outputs": [],
   "source": [
    "likes, fb_data = dmatrices('Likes ~ C(Category) + C(Post_month)+ \\\n",
    "                 C(Post_day) + Post_hour + C(Paid) + C(Type)',\n",
    "                  facebook, return_type = \"dataframe\")"
>>>>>>> 889b95742bd28ff876402ee859cdc2552fe7950f
   ]
  },
  {
   "cell_type": "code",
<<<<<<< HEAD
   "execution_count": 41,
=======
   "execution_count": 68,
>>>>>>> 889b95742bd28ff876402ee859cdc2552fe7950f
   "metadata": {},
   "outputs": [
    {
     "data": {
<<<<<<< HEAD
      "image/png": "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\n",
      "text/plain": [
       "<matplotlib.figure.Figure at 0x21cad7272b0>"
      ]
     },
     "metadata": {},
     "output_type": "display_data"
    }
   ],
   "source": [
    "plot_feature_importances(adaboost)"
=======
      "image/svg+xml": [
       "<?xml version=\"1.0\" encoding=\"UTF-8\" standalone=\"no\"?>\n",
       "<!DOCTYPE svg PUBLIC \"-//W3C//DTD SVG 1.1//EN\"\n",
       " \"http://www.w3.org/Graphics/SVG/1.1/DTD/svg11.dtd\">\n",
       "<!-- Generated by graphviz version 2.40.1 (20161225.0304)\n",
       " -->\n",
       "<!-- Title: Tree Pages: 1 -->\n",
       "<svg width=\"1846pt\" height=\"673pt\"\n",
       " viewBox=\"0.00 0.00 1846.00 673.00\" xmlns=\"http://www.w3.org/2000/svg\" xmlns:xlink=\"http://www.w3.org/1999/xlink\">\n",
       "<g id=\"graph0\" class=\"graph\" transform=\"scale(1 1) rotate(0) translate(4 669)\">\n",
       "<title>Tree</title>\n",
       "<polygon fill=\"#ffffff\" stroke=\"transparent\" points=\"-4,4 -4,-669 1842,-669 1842,4 -4,4\"/>\n",
       "<!-- 0 -->\n",
       "<g id=\"node1\" class=\"node\">\n",
       "<title>0</title>\n",
       "<path fill=\"none\" stroke=\"#000000\" d=\"M1014,-665C1014,-665 824,-665 824,-665 818,-665 812,-659 812,-653 812,-653 812,-534 812,-534 812,-528 818,-522 824,-522 824,-522 1014,-522 1014,-522 1020,-522 1026,-528 1026,-534 1026,-534 1026,-653 1026,-653 1026,-659 1020,-665 1014,-665\"/>\n",
       "<text text-anchor=\"middle\" x=\"919\" y=\"-649.8\" font-family=\"Helvetica,sans-Serif\" font-size=\"14.00\" fill=\"#000000\">C(Post_month)[T.6] &lt;= 0.5</text>\n",
       "<text text-anchor=\"middle\" x=\"919\" y=\"-634.8\" font-family=\"Helvetica,sans-Serif\" font-size=\"14.00\" fill=\"#000000\">gini = 0.982</text>\n",
       "<text text-anchor=\"middle\" x=\"919\" y=\"-619.8\" font-family=\"Helvetica,sans-Serif\" font-size=\"14.00\" fill=\"#000000\">samples = 371</text>\n",
       "<text text-anchor=\"middle\" x=\"919\" y=\"-604.8\" font-family=\"Helvetica,sans-Serif\" font-size=\"14.00\" fill=\"#000000\">value = [3, 2, 5, 5, 4, 1, 1, 1, 1, 1, 1, 1, 1, 1</text>\n",
       "<text text-anchor=\"middle\" x=\"919\" y=\"-589.8\" font-family=\"Helvetica,sans-Serif\" font-size=\"14.00\" fill=\"#000000\">1, 1, 1, 1, 1, 1, 1, 1, 1, 1, 5, 2, 10, 5</text>\n",
       "<text text-anchor=\"middle\" x=\"919\" y=\"-574.8\" font-family=\"Helvetica,sans-Serif\" font-size=\"14.00\" fill=\"#000000\">5, 4, 10, 8, 5, 4, 1, 2, 6, 6, 5, 6, 4, 2</text>\n",
       "<text text-anchor=\"middle\" x=\"919\" y=\"-559.8\" font-family=\"Helvetica,sans-Serif\" font-size=\"14.00\" fill=\"#000000\">8, 14, 7, 4, 3, 4, 1, 7, 13, 6, 3, 6, 3, 3</text>\n",
       "<text text-anchor=\"middle\" x=\"919\" y=\"-544.8\" font-family=\"Helvetica,sans-Serif\" font-size=\"14.00\" fill=\"#000000\">5, 7, 5, 1, 4, 3, 4, 9, 3, 3, 3, 7, 7, 12</text>\n",
       "<text text-anchor=\"middle\" x=\"919\" y=\"-529.8\" font-family=\"Helvetica,sans-Serif\" font-size=\"14.00\" fill=\"#000000\">5, 4, 7, 7, 10, 6, 8, 6, 6, 8, 2, 10, 9]</text>\n",
       "</g>\n",
       "<!-- 1 -->\n",
       "<g id=\"node2\" class=\"node\">\n",
       "<title>1</title>\n",
       "<path fill=\"none\" stroke=\"#000000\" d=\"M782,-486C782,-486 592,-486 592,-486 586,-486 580,-480 580,-474 580,-474 580,-355 580,-355 580,-349 586,-343 592,-343 592,-343 782,-343 782,-343 788,-343 794,-349 794,-355 794,-355 794,-474 794,-474 794,-480 788,-486 782,-486\"/>\n",
       "<text text-anchor=\"middle\" x=\"687\" y=\"-470.8\" font-family=\"Helvetica,sans-Serif\" font-size=\"14.00\" fill=\"#000000\">C(Post_month)[T.12] &lt;= 0.5</text>\n",
       "<text text-anchor=\"middle\" x=\"687\" y=\"-455.8\" font-family=\"Helvetica,sans-Serif\" font-size=\"14.00\" fill=\"#000000\">gini = 0.981</text>\n",
       "<text text-anchor=\"middle\" x=\"687\" y=\"-440.8\" font-family=\"Helvetica,sans-Serif\" font-size=\"14.00\" fill=\"#000000\">samples = 333</text>\n",
       "<text text-anchor=\"middle\" x=\"687\" y=\"-425.8\" font-family=\"Helvetica,sans-Serif\" font-size=\"14.00\" fill=\"#000000\">value = [3, 2, 5, 5, 4, 1, 1, 1, 1, 1, 1, 1, 1, 1</text>\n",
       "<text text-anchor=\"middle\" x=\"687\" y=\"-410.8\" font-family=\"Helvetica,sans-Serif\" font-size=\"14.00\" fill=\"#000000\">1, 1, 1, 1, 1, 1, 1, 1, 1, 1, 5, 2, 10, 5</text>\n",
       "<text text-anchor=\"middle\" x=\"687\" y=\"-395.8\" font-family=\"Helvetica,sans-Serif\" font-size=\"14.00\" fill=\"#000000\">5, 4, 10, 8, 5, 4, 1, 2, 6, 6, 5, 6, 4, 1</text>\n",
       "<text text-anchor=\"middle\" x=\"687\" y=\"-380.8\" font-family=\"Helvetica,sans-Serif\" font-size=\"14.00\" fill=\"#000000\">0, 0, 0, 0, 0, 3, 1, 7, 13, 6, 3, 6, 3, 3</text>\n",
       "<text text-anchor=\"middle\" x=\"687\" y=\"-365.8\" font-family=\"Helvetica,sans-Serif\" font-size=\"14.00\" fill=\"#000000\">5, 7, 5, 1, 4, 3, 4, 9, 3, 3, 3, 7, 7, 12</text>\n",
       "<text text-anchor=\"middle\" x=\"687\" y=\"-350.8\" font-family=\"Helvetica,sans-Serif\" font-size=\"14.00\" fill=\"#000000\">5, 4, 7, 7, 10, 6, 8, 6, 6, 8, 2, 10, 9]</text>\n",
       "</g>\n",
       "<!-- 0&#45;&gt;1 -->\n",
       "<g id=\"edge1\" class=\"edge\">\n",
       "<title>0&#45;&gt;1</title>\n",
       "<path fill=\"none\" stroke=\"#000000\" d=\"M826.3073,-521.9828C813.6603,-512.225 800.6279,-502.1698 787.8452,-492.3073\"/>\n",
       "<polygon fill=\"#000000\" stroke=\"#000000\" points=\"789.9795,-489.5334 779.9241,-486.1958 785.7035,-495.0755 789.9795,-489.5334\"/>\n",
       "<text text-anchor=\"middle\" x=\"783.1215\" y=\"-507.2905\" font-family=\"Helvetica,sans-Serif\" font-size=\"14.00\" fill=\"#000000\">True</text>\n",
       "</g>\n",
       "<!-- 8 -->\n",
       "<g id=\"node9\" class=\"node\">\n",
       "<title>8</title>\n",
       "<path fill=\"none\" stroke=\"#000000\" d=\"M1246,-486C1246,-486 1056,-486 1056,-486 1050,-486 1044,-480 1044,-474 1044,-474 1044,-355 1044,-355 1044,-349 1050,-343 1056,-343 1056,-343 1246,-343 1246,-343 1252,-343 1258,-349 1258,-355 1258,-355 1258,-474 1258,-474 1258,-480 1252,-486 1246,-486\"/>\n",
       "<text text-anchor=\"middle\" x=\"1151\" y=\"-470.8\" font-family=\"Helvetica,sans-Serif\" font-size=\"14.00\" fill=\"#000000\">C(Category)[T.3] &lt;= 0.5</text>\n",
       "<text text-anchor=\"middle\" x=\"1151\" y=\"-455.8\" font-family=\"Helvetica,sans-Serif\" font-size=\"14.00\" fill=\"#000000\">gini = 0.767</text>\n",
       "<text text-anchor=\"middle\" x=\"1151\" y=\"-440.8\" font-family=\"Helvetica,sans-Serif\" font-size=\"14.00\" fill=\"#000000\">samples = 38</text>\n",
       "<text text-anchor=\"middle\" x=\"1151\" y=\"-425.8\" font-family=\"Helvetica,sans-Serif\" font-size=\"14.00\" fill=\"#000000\">value = [0, 0, 0, 0, 0, 0, 0, 0, 0, 0, 0, 0, 0, 0</text>\n",
       "<text text-anchor=\"middle\" x=\"1151\" y=\"-410.8\" font-family=\"Helvetica,sans-Serif\" font-size=\"14.00\" fill=\"#000000\">0, 0, 0, 0, 0, 0, 0, 0, 0, 0, 0, 0, 0, 0</text>\n",
       "<text text-anchor=\"middle\" x=\"1151\" y=\"-395.8\" font-family=\"Helvetica,sans-Serif\" font-size=\"14.00\" fill=\"#000000\">0, 0, 0, 0, 0, 0, 0, 0, 0, 0, 0, 0, 0, 1</text>\n",
       "<text text-anchor=\"middle\" x=\"1151\" y=\"-380.8\" font-family=\"Helvetica,sans-Serif\" font-size=\"14.00\" fill=\"#000000\">8, 14, 7, 4, 3, 1, 0, 0, 0, 0, 0, 0, 0, 0</text>\n",
       "<text text-anchor=\"middle\" x=\"1151\" y=\"-365.8\" font-family=\"Helvetica,sans-Serif\" font-size=\"14.00\" fill=\"#000000\">0, 0, 0, 0, 0, 0, 0, 0, 0, 0, 0, 0, 0, 0</text>\n",
       "<text text-anchor=\"middle\" x=\"1151\" y=\"-350.8\" font-family=\"Helvetica,sans-Serif\" font-size=\"14.00\" fill=\"#000000\">0, 0, 0, 0, 0, 0, 0, 0, 0, 0, 0, 0, 0]</text>\n",
       "</g>\n",
       "<!-- 0&#45;&gt;8 -->\n",
       "<g id=\"edge8\" class=\"edge\">\n",
       "<title>0&#45;&gt;8</title>\n",
       "<path fill=\"none\" stroke=\"#000000\" d=\"M1011.6927,-521.9828C1024.3397,-512.225 1037.3721,-502.1698 1050.1548,-492.3073\"/>\n",
       "<polygon fill=\"#000000\" stroke=\"#000000\" points=\"1052.2965,-495.0755 1058.0759,-486.1958 1048.0205,-489.5334 1052.2965,-495.0755\"/>\n",
       "<text text-anchor=\"middle\" x=\"1054.8785\" y=\"-507.2905\" font-family=\"Helvetica,sans-Serif\" font-size=\"14.00\" fill=\"#000000\">False</text>\n",
       "</g>\n",
       "<!-- 2 -->\n",
       "<g id=\"node3\" class=\"node\">\n",
       "<title>2</title>\n",
       "<path fill=\"none\" stroke=\"#000000\" d=\"M434,-307C434,-307 244,-307 244,-307 238,-307 232,-301 232,-295 232,-295 232,-176 232,-176 232,-170 238,-164 244,-164 244,-164 434,-164 434,-164 440,-164 446,-170 446,-176 446,-176 446,-295 446,-295 446,-301 440,-307 434,-307\"/>\n",
       "<text text-anchor=\"middle\" x=\"339\" y=\"-291.8\" font-family=\"Helvetica,sans-Serif\" font-size=\"14.00\" fill=\"#000000\">C(Post_month)[T.7] &lt;= 0.5</text>\n",
       "<text text-anchor=\"middle\" x=\"339\" y=\"-276.8\" font-family=\"Helvetica,sans-Serif\" font-size=\"14.00\" fill=\"#000000\">gini = 0.979</text>\n",
       "<text text-anchor=\"middle\" x=\"339\" y=\"-261.8\" font-family=\"Helvetica,sans-Serif\" font-size=\"14.00\" fill=\"#000000\">samples = 299</text>\n",
       "<text text-anchor=\"middle\" x=\"339\" y=\"-246.8\" font-family=\"Helvetica,sans-Serif\" font-size=\"14.00\" fill=\"#000000\">value = [3, 2, 5, 5, 4, 1, 1, 1, 1, 1, 1, 1, 1, 1</text>\n",
       "<text text-anchor=\"middle\" x=\"339\" y=\"-231.8\" font-family=\"Helvetica,sans-Serif\" font-size=\"14.00\" fill=\"#000000\">1, 1, 1, 1, 1, 1, 1, 1, 1, 1, 5, 2, 10, 5</text>\n",
       "<text text-anchor=\"middle\" x=\"339\" y=\"-216.8\" font-family=\"Helvetica,sans-Serif\" font-size=\"14.00\" fill=\"#000000\">5, 4, 10, 8, 5, 4, 1, 2, 6, 6, 5, 6, 4, 1</text>\n",
       "<text text-anchor=\"middle\" x=\"339\" y=\"-201.8\" font-family=\"Helvetica,sans-Serif\" font-size=\"14.00\" fill=\"#000000\">0, 0, 0, 0, 0, 3, 1, 7, 13, 6, 3, 6, 3, 3</text>\n",
       "<text text-anchor=\"middle\" x=\"339\" y=\"-186.8\" font-family=\"Helvetica,sans-Serif\" font-size=\"14.00\" fill=\"#000000\">5, 7, 5, 1, 4, 3, 4, 9, 3, 3, 3, 7, 7, 12</text>\n",
       "<text text-anchor=\"middle\" x=\"339\" y=\"-171.8\" font-family=\"Helvetica,sans-Serif\" font-size=\"14.00\" fill=\"#000000\">5, 4, 7, 7, 10, 6, 8, 6, 1, 0, 0, 0, 0]</text>\n",
       "</g>\n",
       "<!-- 1&#45;&gt;2 -->\n",
       "<g id=\"edge2\" class=\"edge\">\n",
       "<title>1&#45;&gt;2</title>\n",
       "<path fill=\"none\" stroke=\"#000000\" d=\"M579.749,-359.3335C540.2949,-339.0396 495.444,-315.9698 455.2353,-295.2877\"/>\n",
       "<polygon fill=\"#000000\" stroke=\"#000000\" points=\"456.6899,-292.1 446.1963,-290.6383 453.488,-298.3249 456.6899,-292.1\"/>\n",
       "</g>\n",
       "<!-- 5 -->\n",
       "<g id=\"node6\" class=\"node\">\n",
       "<title>5</title>\n",
       "<path fill=\"none\" stroke=\"#000000\" d=\"M782,-307C782,-307 592,-307 592,-307 586,-307 580,-301 580,-295 580,-295 580,-176 580,-176 580,-170 586,-164 592,-164 592,-164 782,-164 782,-164 788,-164 794,-170 794,-176 794,-176 794,-295 794,-295 794,-301 788,-307 782,-307\"/>\n",
       "<text text-anchor=\"middle\" x=\"687\" y=\"-291.8\" font-family=\"Helvetica,sans-Serif\" font-size=\"14.00\" fill=\"#000000\">C(Category)[T.2] &lt;= 0.5</text>\n",
       "<text text-anchor=\"middle\" x=\"687\" y=\"-276.8\" font-family=\"Helvetica,sans-Serif\" font-size=\"14.00\" fill=\"#000000\">gini = 0.763</text>\n",
       "<text text-anchor=\"middle\" x=\"687\" y=\"-261.8\" font-family=\"Helvetica,sans-Serif\" font-size=\"14.00\" fill=\"#000000\">samples = 34</text>\n",
       "<text text-anchor=\"middle\" x=\"687\" y=\"-246.8\" font-family=\"Helvetica,sans-Serif\" font-size=\"14.00\" fill=\"#000000\">value = [0, 0, 0, 0, 0, 0, 0, 0, 0, 0, 0, 0, 0, 0</text>\n",
       "<text text-anchor=\"middle\" x=\"687\" y=\"-231.8\" font-family=\"Helvetica,sans-Serif\" font-size=\"14.00\" fill=\"#000000\">0, 0, 0, 0, 0, 0, 0, 0, 0, 0, 0, 0, 0, 0</text>\n",
       "<text text-anchor=\"middle\" x=\"687\" y=\"-216.8\" font-family=\"Helvetica,sans-Serif\" font-size=\"14.00\" fill=\"#000000\">0, 0, 0, 0, 0, 0, 0, 0, 0, 0, 0, 0, 0, 0</text>\n",
       "<text text-anchor=\"middle\" x=\"687\" y=\"-201.8\" font-family=\"Helvetica,sans-Serif\" font-size=\"14.00\" fill=\"#000000\">0, 0, 0, 0, 0, 0, 0, 0, 0, 0, 0, 0, 0, 0</text>\n",
       "<text text-anchor=\"middle\" x=\"687\" y=\"-186.8\" font-family=\"Helvetica,sans-Serif\" font-size=\"14.00\" fill=\"#000000\">0, 0, 0, 0, 0, 0, 0, 0, 0, 0, 0, 0, 0, 0</text>\n",
       "<text text-anchor=\"middle\" x=\"687\" y=\"-171.8\" font-family=\"Helvetica,sans-Serif\" font-size=\"14.00\" fill=\"#000000\">0, 0, 0, 0, 0, 0, 0, 0, 5, 8, 2, 10, 9]</text>\n",
       "</g>\n",
       "<!-- 1&#45;&gt;5 -->\n",
       "<g id=\"edge5\" class=\"edge\">\n",
       "<title>1&#45;&gt;5</title>\n",
       "<path fill=\"none\" stroke=\"#000000\" d=\"M687,-342.9828C687,-334.5138 687,-325.8207 687,-317.224\"/>\n",
       "<polygon fill=\"#000000\" stroke=\"#000000\" points=\"690.5001,-317.1957 687,-307.1958 683.5001,-317.1958 690.5001,-317.1957\"/>\n",
       "</g>\n",
       "<!-- 3 -->\n",
       "<g id=\"node4\" class=\"node\">\n",
       "<title>3</title>\n",
       "<path fill=\"none\" stroke=\"#000000\" d=\"M202,-128C202,-128 12,-128 12,-128 6,-128 0,-122 0,-116 0,-116 0,-12 0,-12 0,-6 6,0 12,0 12,0 202,0 202,0 208,0 214,-6 214,-12 214,-12 214,-116 214,-116 214,-122 208,-128 202,-128\"/>\n",
       "<text text-anchor=\"middle\" x=\"107\" y=\"-112.8\" font-family=\"Helvetica,sans-Serif\" font-size=\"14.00\" fill=\"#000000\">gini = 0.977</text>\n",
       "<text text-anchor=\"middle\" x=\"107\" y=\"-97.8\" font-family=\"Helvetica,sans-Serif\" font-size=\"14.00\" fill=\"#000000\">samples = 257</text>\n",
       "<text text-anchor=\"middle\" x=\"107\" y=\"-82.8\" font-family=\"Helvetica,sans-Serif\" font-size=\"14.00\" fill=\"#000000\">value = [3, 2, 5, 5, 4, 1, 1, 1, 1, 1, 1, 1, 1, 1</text>\n",
       "<text text-anchor=\"middle\" x=\"107\" y=\"-67.8\" font-family=\"Helvetica,sans-Serif\" font-size=\"14.00\" fill=\"#000000\">1, 1, 1, 1, 1, 1, 1, 1, 1, 1, 5, 2, 10, 5</text>\n",
       "<text text-anchor=\"middle\" x=\"107\" y=\"-52.8\" font-family=\"Helvetica,sans-Serif\" font-size=\"14.00\" fill=\"#000000\">5, 4, 10, 8, 5, 4, 1, 2, 6, 6, 5, 6, 4, 1</text>\n",
       "<text text-anchor=\"middle\" x=\"107\" y=\"-37.8\" font-family=\"Helvetica,sans-Serif\" font-size=\"14.00\" fill=\"#000000\">0, 0, 0, 0, 0, 0, 0, 0, 0, 0, 0, 0, 0, 3</text>\n",
       "<text text-anchor=\"middle\" x=\"107\" y=\"-22.8\" font-family=\"Helvetica,sans-Serif\" font-size=\"14.00\" fill=\"#000000\">5, 7, 5, 1, 4, 3, 4, 9, 3, 3, 3, 7, 7, 12</text>\n",
       "<text text-anchor=\"middle\" x=\"107\" y=\"-7.8\" font-family=\"Helvetica,sans-Serif\" font-size=\"14.00\" fill=\"#000000\">5, 4, 7, 7, 10, 6, 8, 6, 1, 0, 0, 0, 0]</text>\n",
       "</g>\n",
       "<!-- 2&#45;&gt;3 -->\n",
       "<g id=\"edge3\" class=\"edge\">\n",
       "<title>2&#45;&gt;3</title>\n",
       "<path fill=\"none\" stroke=\"#000000\" d=\"M241.9554,-163.7623C228.6907,-153.9567 215.0862,-143.8999 201.8611,-134.1236\"/>\n",
       "<polygon fill=\"#000000\" stroke=\"#000000\" points=\"203.804,-131.2074 193.6821,-128.0775 199.6429,-136.8364 203.804,-131.2074\"/>\n",
       "</g>\n",
       "<!-- 4 -->\n",
       "<g id=\"node5\" class=\"node\">\n",
       "<title>4</title>\n",
       "<path fill=\"none\" stroke=\"#000000\" d=\"M434,-128C434,-128 244,-128 244,-128 238,-128 232,-122 232,-116 232,-116 232,-12 232,-12 232,-6 238,0 244,0 244,0 434,0 434,0 440,0 446,-6 446,-12 446,-12 446,-116 446,-116 446,-122 440,-128 434,-128\"/>\n",
       "<text text-anchor=\"middle\" x=\"339\" y=\"-112.8\" font-family=\"Helvetica,sans-Serif\" font-size=\"14.00\" fill=\"#000000\">gini = 0.82</text>\n",
       "<text text-anchor=\"middle\" x=\"339\" y=\"-97.8\" font-family=\"Helvetica,sans-Serif\" font-size=\"14.00\" fill=\"#000000\">samples = 42</text>\n",
       "<text text-anchor=\"middle\" x=\"339\" y=\"-82.8\" font-family=\"Helvetica,sans-Serif\" font-size=\"14.00\" fill=\"#000000\">value = [0, 0, 0, 0, 0, 0, 0, 0, 0, 0, 0, 0, 0, 0</text>\n",
       "<text text-anchor=\"middle\" x=\"339\" y=\"-67.8\" font-family=\"Helvetica,sans-Serif\" font-size=\"14.00\" fill=\"#000000\">0, 0, 0, 0, 0, 0, 0, 0, 0, 0, 0, 0, 0, 0</text>\n",
       "<text text-anchor=\"middle\" x=\"339\" y=\"-52.8\" font-family=\"Helvetica,sans-Serif\" font-size=\"14.00\" fill=\"#000000\">0, 0, 0, 0, 0, 0, 0, 0, 0, 0, 0, 0, 0, 0</text>\n",
       "<text text-anchor=\"middle\" x=\"339\" y=\"-37.8\" font-family=\"Helvetica,sans-Serif\" font-size=\"14.00\" fill=\"#000000\">0, 0, 0, 0, 0, 3, 1, 7, 13, 6, 3, 6, 3, 0</text>\n",
       "<text text-anchor=\"middle\" x=\"339\" y=\"-22.8\" font-family=\"Helvetica,sans-Serif\" font-size=\"14.00\" fill=\"#000000\">0, 0, 0, 0, 0, 0, 0, 0, 0, 0, 0, 0, 0, 0</text>\n",
       "<text text-anchor=\"middle\" x=\"339\" y=\"-7.8\" font-family=\"Helvetica,sans-Serif\" font-size=\"14.00\" fill=\"#000000\">0, 0, 0, 0, 0, 0, 0, 0, 0, 0, 0, 0, 0]</text>\n",
       "</g>\n",
       "<!-- 2&#45;&gt;4 -->\n",
       "<g id=\"edge4\" class=\"edge\">\n",
       "<title>2&#45;&gt;4</title>\n",
       "<path fill=\"none\" stroke=\"#000000\" d=\"M339,-163.7623C339,-155.3443 339,-146.7412 339,-138.2893\"/>\n",
       "<polygon fill=\"#000000\" stroke=\"#000000\" points=\"342.5001,-138.0774 339,-128.0775 335.5001,-138.0775 342.5001,-138.0774\"/>\n",
       "</g>\n",
       "<!-- 6 -->\n",
       "<g id=\"node7\" class=\"node\">\n",
       "<title>6</title>\n",
       "<path fill=\"none\" stroke=\"#000000\" d=\"M666,-128C666,-128 476,-128 476,-128 470,-128 464,-122 464,-116 464,-116 464,-12 464,-12 464,-6 470,0 476,0 476,0 666,0 666,0 672,0 678,-6 678,-12 678,-12 678,-116 678,-116 678,-122 672,-128 666,-128\"/>\n",
       "<text text-anchor=\"middle\" x=\"571\" y=\"-112.8\" font-family=\"Helvetica,sans-Serif\" font-size=\"14.00\" fill=\"#000000\">gini = 0.75</text>\n",
       "<text text-anchor=\"middle\" x=\"571\" y=\"-97.8\" font-family=\"Helvetica,sans-Serif\" font-size=\"14.00\" fill=\"#000000\">samples = 20</text>\n",
       "<text text-anchor=\"middle\" x=\"571\" y=\"-82.8\" font-family=\"Helvetica,sans-Serif\" font-size=\"14.00\" fill=\"#000000\">value = [0, 0, 0, 0, 0, 0, 0, 0, 0, 0, 0, 0, 0, 0</text>\n",
       "<text text-anchor=\"middle\" x=\"571\" y=\"-67.8\" font-family=\"Helvetica,sans-Serif\" font-size=\"14.00\" fill=\"#000000\">0, 0, 0, 0, 0, 0, 0, 0, 0, 0, 0, 0, 0, 0</text>\n",
       "<text text-anchor=\"middle\" x=\"571\" y=\"-52.8\" font-family=\"Helvetica,sans-Serif\" font-size=\"14.00\" fill=\"#000000\">0, 0, 0, 0, 0, 0, 0, 0, 0, 0, 0, 0, 0, 0</text>\n",
       "<text text-anchor=\"middle\" x=\"571\" y=\"-37.8\" font-family=\"Helvetica,sans-Serif\" font-size=\"14.00\" fill=\"#000000\">0, 0, 0, 0, 0, 0, 0, 0, 0, 0, 0, 0, 0, 0</text>\n",
       "<text text-anchor=\"middle\" x=\"571\" y=\"-22.8\" font-family=\"Helvetica,sans-Serif\" font-size=\"14.00\" fill=\"#000000\">0, 0, 0, 0, 0, 0, 0, 0, 0, 0, 0, 0, 0, 0</text>\n",
       "<text text-anchor=\"middle\" x=\"571\" y=\"-7.8\" font-family=\"Helvetica,sans-Serif\" font-size=\"14.00\" fill=\"#000000\">0, 0, 0, 0, 0, 0, 0, 0, 5, 7, 1, 4, 3]</text>\n",
       "</g>\n",
       "<!-- 5&#45;&gt;6 -->\n",
       "<g id=\"edge6\" class=\"edge\">\n",
       "<title>5&#45;&gt;6</title>\n",
       "<path fill=\"none\" stroke=\"#000000\" d=\"M638.4777,-163.7623C632.4085,-154.7893 626.197,-145.6059 620.1188,-136.6195\"/>\n",
       "<polygon fill=\"#000000\" stroke=\"#000000\" points=\"622.8428,-134.3997 614.341,-128.0775 617.0446,-138.3216 622.8428,-134.3997\"/>\n",
       "</g>\n",
       "<!-- 7 -->\n",
       "<g id=\"node8\" class=\"node\">\n",
       "<title>7</title>\n",
       "<path fill=\"none\" stroke=\"#000000\" d=\"M898,-128C898,-128 708,-128 708,-128 702,-128 696,-122 696,-116 696,-116 696,-12 696,-12 696,-6 702,0 708,0 708,0 898,0 898,0 904,0 910,-6 910,-12 910,-12 910,-116 910,-116 910,-122 904,-128 898,-128\"/>\n",
       "<text text-anchor=\"middle\" x=\"803\" y=\"-112.8\" font-family=\"Helvetica,sans-Serif\" font-size=\"14.00\" fill=\"#000000\">gini = 0.622</text>\n",
       "<text text-anchor=\"middle\" x=\"803\" y=\"-97.8\" font-family=\"Helvetica,sans-Serif\" font-size=\"14.00\" fill=\"#000000\">samples = 14</text>\n",
       "<text text-anchor=\"middle\" x=\"803\" y=\"-82.8\" font-family=\"Helvetica,sans-Serif\" font-size=\"14.00\" fill=\"#000000\">value = [0, 0, 0, 0, 0, 0, 0, 0, 0, 0, 0, 0, 0, 0</text>\n",
       "<text text-anchor=\"middle\" x=\"803\" y=\"-67.8\" font-family=\"Helvetica,sans-Serif\" font-size=\"14.00\" fill=\"#000000\">0, 0, 0, 0, 0, 0, 0, 0, 0, 0, 0, 0, 0, 0</text>\n",
       "<text text-anchor=\"middle\" x=\"803\" y=\"-52.8\" font-family=\"Helvetica,sans-Serif\" font-size=\"14.00\" fill=\"#000000\">0, 0, 0, 0, 0, 0, 0, 0, 0, 0, 0, 0, 0, 0</text>\n",
       "<text text-anchor=\"middle\" x=\"803\" y=\"-37.8\" font-family=\"Helvetica,sans-Serif\" font-size=\"14.00\" fill=\"#000000\">0, 0, 0, 0, 0, 0, 0, 0, 0, 0, 0, 0, 0, 0</text>\n",
       "<text text-anchor=\"middle\" x=\"803\" y=\"-22.8\" font-family=\"Helvetica,sans-Serif\" font-size=\"14.00\" fill=\"#000000\">0, 0, 0, 0, 0, 0, 0, 0, 0, 0, 0, 0, 0, 0</text>\n",
       "<text text-anchor=\"middle\" x=\"803\" y=\"-7.8\" font-family=\"Helvetica,sans-Serif\" font-size=\"14.00\" fill=\"#000000\">0, 0, 0, 0, 0, 0, 0, 0, 0, 1, 1, 6, 6]</text>\n",
       "</g>\n",
       "<!-- 5&#45;&gt;7 -->\n",
       "<g id=\"edge7\" class=\"edge\">\n",
       "<title>5&#45;&gt;7</title>\n",
       "<path fill=\"none\" stroke=\"#000000\" d=\"M735.5223,-163.7623C741.5915,-154.7893 747.803,-145.6059 753.8812,-136.6195\"/>\n",
       "<polygon fill=\"#000000\" stroke=\"#000000\" points=\"756.9554,-138.3216 759.659,-128.0775 751.1572,-134.3997 756.9554,-138.3216\"/>\n",
       "</g>\n",
       "<!-- 9 -->\n",
       "<g id=\"node10\" class=\"node\">\n",
       "<title>9</title>\n",
       "<path fill=\"none\" stroke=\"#000000\" d=\"M1246,-307C1246,-307 1056,-307 1056,-307 1050,-307 1044,-301 1044,-295 1044,-295 1044,-176 1044,-176 1044,-170 1050,-164 1056,-164 1056,-164 1246,-164 1246,-164 1252,-164 1258,-170 1258,-176 1258,-176 1258,-295 1258,-295 1258,-301 1252,-307 1246,-307\"/>\n",
       "<text text-anchor=\"middle\" x=\"1151\" y=\"-291.8\" font-family=\"Helvetica,sans-Serif\" font-size=\"14.00\" fill=\"#000000\">C(Paid)[T.1.0] &lt;= 0.5</text>\n",
       "<text text-anchor=\"middle\" x=\"1151\" y=\"-276.8\" font-family=\"Helvetica,sans-Serif\" font-size=\"14.00\" fill=\"#000000\">gini = 0.807</text>\n",
       "<text text-anchor=\"middle\" x=\"1151\" y=\"-261.8\" font-family=\"Helvetica,sans-Serif\" font-size=\"14.00\" fill=\"#000000\">samples = 21</text>\n",
       "<text text-anchor=\"middle\" x=\"1151\" y=\"-246.8\" font-family=\"Helvetica,sans-Serif\" font-size=\"14.00\" fill=\"#000000\">value = [0, 0, 0, 0, 0, 0, 0, 0, 0, 0, 0, 0, 0, 0</text>\n",
       "<text text-anchor=\"middle\" x=\"1151\" y=\"-231.8\" font-family=\"Helvetica,sans-Serif\" font-size=\"14.00\" fill=\"#000000\">0, 0, 0, 0, 0, 0, 0, 0, 0, 0, 0, 0, 0, 0</text>\n",
       "<text text-anchor=\"middle\" x=\"1151\" y=\"-216.8\" font-family=\"Helvetica,sans-Serif\" font-size=\"14.00\" fill=\"#000000\">0, 0, 0, 0, 0, 0, 0, 0, 0, 0, 0, 0, 0, 0</text>\n",
       "<text text-anchor=\"middle\" x=\"1151\" y=\"-201.8\" font-family=\"Helvetica,sans-Serif\" font-size=\"14.00\" fill=\"#000000\">3, 5, 5, 4, 3, 1, 0, 0, 0, 0, 0, 0, 0, 0</text>\n",
       "<text text-anchor=\"middle\" x=\"1151\" y=\"-186.8\" font-family=\"Helvetica,sans-Serif\" font-size=\"14.00\" fill=\"#000000\">0, 0, 0, 0, 0, 0, 0, 0, 0, 0, 0, 0, 0, 0</text>\n",
       "<text text-anchor=\"middle\" x=\"1151\" y=\"-171.8\" font-family=\"Helvetica,sans-Serif\" font-size=\"14.00\" fill=\"#000000\">0, 0, 0, 0, 0, 0, 0, 0, 0, 0, 0, 0, 0]</text>\n",
       "</g>\n",
       "<!-- 8&#45;&gt;9 -->\n",
       "<g id=\"edge9\" class=\"edge\">\n",
       "<title>8&#45;&gt;9</title>\n",
       "<path fill=\"none\" stroke=\"#000000\" d=\"M1151,-342.9828C1151,-334.5138 1151,-325.8207 1151,-317.224\"/>\n",
       "<polygon fill=\"#000000\" stroke=\"#000000\" points=\"1154.5001,-317.1957 1151,-307.1958 1147.5001,-317.1958 1154.5001,-317.1957\"/>\n",
       "</g>\n",
       "<!-- 12 -->\n",
       "<g id=\"node13\" class=\"node\">\n",
       "<title>12</title>\n",
       "<path fill=\"none\" stroke=\"#000000\" d=\"M1594,-307C1594,-307 1404,-307 1404,-307 1398,-307 1392,-301 1392,-295 1392,-295 1392,-176 1392,-176 1392,-170 1398,-164 1404,-164 1404,-164 1594,-164 1594,-164 1600,-164 1606,-170 1606,-176 1606,-176 1606,-295 1606,-295 1606,-301 1600,-307 1594,-307\"/>\n",
       "<text text-anchor=\"middle\" x=\"1499\" y=\"-291.8\" font-family=\"Helvetica,sans-Serif\" font-size=\"14.00\" fill=\"#000000\">Post_hour &lt;= 4.5</text>\n",
       "<text text-anchor=\"middle\" x=\"1499\" y=\"-276.8\" font-family=\"Helvetica,sans-Serif\" font-size=\"14.00\" fill=\"#000000\">gini = 0.616</text>\n",
       "<text text-anchor=\"middle\" x=\"1499\" y=\"-261.8\" font-family=\"Helvetica,sans-Serif\" font-size=\"14.00\" fill=\"#000000\">samples = 17</text>\n",
       "<text text-anchor=\"middle\" x=\"1499\" y=\"-246.8\" font-family=\"Helvetica,sans-Serif\" font-size=\"14.00\" fill=\"#000000\">value = [0, 0, 0, 0, 0, 0, 0, 0, 0, 0, 0, 0, 0, 0</text>\n",
       "<text text-anchor=\"middle\" x=\"1499\" y=\"-231.8\" font-family=\"Helvetica,sans-Serif\" font-size=\"14.00\" fill=\"#000000\">0, 0, 0, 0, 0, 0, 0, 0, 0, 0, 0, 0, 0, 0</text>\n",
       "<text text-anchor=\"middle\" x=\"1499\" y=\"-216.8\" font-family=\"Helvetica,sans-Serif\" font-size=\"14.00\" fill=\"#000000\">0, 0, 0, 0, 0, 0, 0, 0, 0, 0, 0, 0, 0, 1</text>\n",
       "<text text-anchor=\"middle\" x=\"1499\" y=\"-201.8\" font-family=\"Helvetica,sans-Serif\" font-size=\"14.00\" fill=\"#000000\">5, 9, 2, 0, 0, 0, 0, 0, 0, 0, 0, 0, 0, 0</text>\n",
       "<text text-anchor=\"middle\" x=\"1499\" y=\"-186.8\" font-family=\"Helvetica,sans-Serif\" font-size=\"14.00\" fill=\"#000000\">0, 0, 0, 0, 0, 0, 0, 0, 0, 0, 0, 0, 0, 0</text>\n",
       "<text text-anchor=\"middle\" x=\"1499\" y=\"-171.8\" font-family=\"Helvetica,sans-Serif\" font-size=\"14.00\" fill=\"#000000\">0, 0, 0, 0, 0, 0, 0, 0, 0, 0, 0, 0, 0]</text>\n",
       "</g>\n",
       "<!-- 8&#45;&gt;12 -->\n",
       "<g id=\"edge12\" class=\"edge\">\n",
       "<title>8&#45;&gt;12</title>\n",
       "<path fill=\"none\" stroke=\"#000000\" d=\"M1258.251,-359.3335C1297.7051,-339.0396 1342.556,-315.9698 1382.7647,-295.2877\"/>\n",
       "<polygon fill=\"#000000\" stroke=\"#000000\" points=\"1384.512,-298.3249 1391.8037,-290.6383 1381.3101,-292.1 1384.512,-298.3249\"/>\n",
       "</g>\n",
       "<!-- 10 -->\n",
       "<g id=\"node11\" class=\"node\">\n",
       "<title>10</title>\n",
       "<path fill=\"none\" stroke=\"#000000\" d=\"M1130,-128C1130,-128 940,-128 940,-128 934,-128 928,-122 928,-116 928,-116 928,-12 928,-12 928,-6 934,0 940,0 940,0 1130,0 1130,0 1136,0 1142,-6 1142,-12 1142,-12 1142,-116 1142,-116 1142,-122 1136,-128 1130,-128\"/>\n",
       "<text text-anchor=\"middle\" x=\"1035\" y=\"-112.8\" font-family=\"Helvetica,sans-Serif\" font-size=\"14.00\" fill=\"#000000\">gini = 0.79</text>\n",
       "<text text-anchor=\"middle\" x=\"1035\" y=\"-97.8\" font-family=\"Helvetica,sans-Serif\" font-size=\"14.00\" fill=\"#000000\">samples = 18</text>\n",
       "<text text-anchor=\"middle\" x=\"1035\" y=\"-82.8\" font-family=\"Helvetica,sans-Serif\" font-size=\"14.00\" fill=\"#000000\">value = [0, 0, 0, 0, 0, 0, 0, 0, 0, 0, 0, 0, 0, 0</text>\n",
       "<text text-anchor=\"middle\" x=\"1035\" y=\"-67.8\" font-family=\"Helvetica,sans-Serif\" font-size=\"14.00\" fill=\"#000000\">0, 0, 0, 0, 0, 0, 0, 0, 0, 0, 0, 0, 0, 0</text>\n",
       "<text text-anchor=\"middle\" x=\"1035\" y=\"-52.8\" font-family=\"Helvetica,sans-Serif\" font-size=\"14.00\" fill=\"#000000\">0, 0, 0, 0, 0, 0, 0, 0, 0, 0, 0, 0, 0, 0</text>\n",
       "<text text-anchor=\"middle\" x=\"1035\" y=\"-37.8\" font-family=\"Helvetica,sans-Serif\" font-size=\"14.00\" fill=\"#000000\">2, 5, 5, 2, 3, 1, 0, 0, 0, 0, 0, 0, 0, 0</text>\n",
       "<text text-anchor=\"middle\" x=\"1035\" y=\"-22.8\" font-family=\"Helvetica,sans-Serif\" font-size=\"14.00\" fill=\"#000000\">0, 0, 0, 0, 0, 0, 0, 0, 0, 0, 0, 0, 0, 0</text>\n",
       "<text text-anchor=\"middle\" x=\"1035\" y=\"-7.8\" font-family=\"Helvetica,sans-Serif\" font-size=\"14.00\" fill=\"#000000\">0, 0, 0, 0, 0, 0, 0, 0, 0, 0, 0, 0, 0]</text>\n",
       "</g>\n",
       "<!-- 9&#45;&gt;10 -->\n",
       "<g id=\"edge10\" class=\"edge\">\n",
       "<title>9&#45;&gt;10</title>\n",
       "<path fill=\"none\" stroke=\"#000000\" d=\"M1102.4777,-163.7623C1096.4085,-154.7893 1090.197,-145.6059 1084.1188,-136.6195\"/>\n",
       "<polygon fill=\"#000000\" stroke=\"#000000\" points=\"1086.8428,-134.3997 1078.341,-128.0775 1081.0446,-138.3216 1086.8428,-134.3997\"/>\n",
       "</g>\n",
       "<!-- 11 -->\n",
       "<g id=\"node12\" class=\"node\">\n",
       "<title>11</title>\n",
       "<path fill=\"none\" stroke=\"#000000\" d=\"M1362,-128C1362,-128 1172,-128 1172,-128 1166,-128 1160,-122 1160,-116 1160,-116 1160,-12 1160,-12 1160,-6 1166,0 1172,0 1172,0 1362,0 1362,0 1368,0 1374,-6 1374,-12 1374,-12 1374,-116 1374,-116 1374,-122 1368,-128 1362,-128\"/>\n",
       "<text text-anchor=\"middle\" x=\"1267\" y=\"-112.8\" font-family=\"Helvetica,sans-Serif\" font-size=\"14.00\" fill=\"#000000\">gini = 0.444</text>\n",
       "<text text-anchor=\"middle\" x=\"1267\" y=\"-97.8\" font-family=\"Helvetica,sans-Serif\" font-size=\"14.00\" fill=\"#000000\">samples = 3</text>\n",
       "<text text-anchor=\"middle\" x=\"1267\" y=\"-82.8\" font-family=\"Helvetica,sans-Serif\" font-size=\"14.00\" fill=\"#000000\">value = [0, 0, 0, 0, 0, 0, 0, 0, 0, 0, 0, 0, 0, 0</text>\n",
       "<text text-anchor=\"middle\" x=\"1267\" y=\"-67.8\" font-family=\"Helvetica,sans-Serif\" font-size=\"14.00\" fill=\"#000000\">0, 0, 0, 0, 0, 0, 0, 0, 0, 0, 0, 0, 0, 0</text>\n",
       "<text text-anchor=\"middle\" x=\"1267\" y=\"-52.8\" font-family=\"Helvetica,sans-Serif\" font-size=\"14.00\" fill=\"#000000\">0, 0, 0, 0, 0, 0, 0, 0, 0, 0, 0, 0, 0, 0</text>\n",
       "<text text-anchor=\"middle\" x=\"1267\" y=\"-37.8\" font-family=\"Helvetica,sans-Serif\" font-size=\"14.00\" fill=\"#000000\">1, 0, 0, 2, 0, 0, 0, 0, 0, 0, 0, 0, 0, 0</text>\n",
       "<text text-anchor=\"middle\" x=\"1267\" y=\"-22.8\" font-family=\"Helvetica,sans-Serif\" font-size=\"14.00\" fill=\"#000000\">0, 0, 0, 0, 0, 0, 0, 0, 0, 0, 0, 0, 0, 0</text>\n",
       "<text text-anchor=\"middle\" x=\"1267\" y=\"-7.8\" font-family=\"Helvetica,sans-Serif\" font-size=\"14.00\" fill=\"#000000\">0, 0, 0, 0, 0, 0, 0, 0, 0, 0, 0, 0, 0]</text>\n",
       "</g>\n",
       "<!-- 9&#45;&gt;11 -->\n",
       "<g id=\"edge11\" class=\"edge\">\n",
       "<title>9&#45;&gt;11</title>\n",
       "<path fill=\"none\" stroke=\"#000000\" d=\"M1199.5223,-163.7623C1205.5915,-154.7893 1211.803,-145.6059 1217.8812,-136.6195\"/>\n",
       "<polygon fill=\"#000000\" stroke=\"#000000\" points=\"1220.9554,-138.3216 1223.659,-128.0775 1215.1572,-134.3997 1220.9554,-138.3216\"/>\n",
       "</g>\n",
       "<!-- 13 -->\n",
       "<g id=\"node14\" class=\"node\">\n",
       "<title>13</title>\n",
       "<path fill=\"none\" stroke=\"#000000\" d=\"M1594,-128C1594,-128 1404,-128 1404,-128 1398,-128 1392,-122 1392,-116 1392,-116 1392,-12 1392,-12 1392,-6 1398,0 1404,0 1404,0 1594,0 1594,0 1600,0 1606,-6 1606,-12 1606,-12 1606,-116 1606,-116 1606,-122 1600,-128 1594,-128\"/>\n",
       "<text text-anchor=\"middle\" x=\"1499\" y=\"-112.8\" font-family=\"Helvetica,sans-Serif\" font-size=\"14.00\" fill=\"#000000\">gini = 0.446</text>\n",
       "<text text-anchor=\"middle\" x=\"1499\" y=\"-97.8\" font-family=\"Helvetica,sans-Serif\" font-size=\"14.00\" fill=\"#000000\">samples = 11</text>\n",
       "<text text-anchor=\"middle\" x=\"1499\" y=\"-82.8\" font-family=\"Helvetica,sans-Serif\" font-size=\"14.00\" fill=\"#000000\">value = [0, 0, 0, 0, 0, 0, 0, 0, 0, 0, 0, 0, 0, 0</text>\n",
       "<text text-anchor=\"middle\" x=\"1499\" y=\"-67.8\" font-family=\"Helvetica,sans-Serif\" font-size=\"14.00\" fill=\"#000000\">0, 0, 0, 0, 0, 0, 0, 0, 0, 0, 0, 0, 0, 0</text>\n",
       "<text text-anchor=\"middle\" x=\"1499\" y=\"-52.8\" font-family=\"Helvetica,sans-Serif\" font-size=\"14.00\" fill=\"#000000\">0, 0, 0, 0, 0, 0, 0, 0, 0, 0, 0, 0, 0, 1</text>\n",
       "<text text-anchor=\"middle\" x=\"1499\" y=\"-37.8\" font-family=\"Helvetica,sans-Serif\" font-size=\"14.00\" fill=\"#000000\">1, 8, 1, 0, 0, 0, 0, 0, 0, 0, 0, 0, 0, 0</text>\n",
       "<text text-anchor=\"middle\" x=\"1499\" y=\"-22.8\" font-family=\"Helvetica,sans-Serif\" font-size=\"14.00\" fill=\"#000000\">0, 0, 0, 0, 0, 0, 0, 0, 0, 0, 0, 0, 0, 0</text>\n",
       "<text text-anchor=\"middle\" x=\"1499\" y=\"-7.8\" font-family=\"Helvetica,sans-Serif\" font-size=\"14.00\" fill=\"#000000\">0, 0, 0, 0, 0, 0, 0, 0, 0, 0, 0, 0, 0]</text>\n",
       "</g>\n",
       "<!-- 12&#45;&gt;13 -->\n",
       "<g id=\"edge13\" class=\"edge\">\n",
       "<title>12&#45;&gt;13</title>\n",
       "<path fill=\"none\" stroke=\"#000000\" d=\"M1499,-163.7623C1499,-155.3443 1499,-146.7412 1499,-138.2893\"/>\n",
       "<polygon fill=\"#000000\" stroke=\"#000000\" points=\"1502.5001,-138.0774 1499,-128.0775 1495.5001,-138.0775 1502.5001,-138.0774\"/>\n",
       "</g>\n",
       "<!-- 14 -->\n",
       "<g id=\"node15\" class=\"node\">\n",
       "<title>14</title>\n",
       "<path fill=\"none\" stroke=\"#000000\" d=\"M1826,-128C1826,-128 1636,-128 1636,-128 1630,-128 1624,-122 1624,-116 1624,-116 1624,-12 1624,-12 1624,-6 1630,0 1636,0 1636,0 1826,0 1826,0 1832,0 1838,-6 1838,-12 1838,-12 1838,-116 1838,-116 1838,-122 1832,-128 1826,-128\"/>\n",
       "<text text-anchor=\"middle\" x=\"1731\" y=\"-112.8\" font-family=\"Helvetica,sans-Serif\" font-size=\"14.00\" fill=\"#000000\">gini = 0.5</text>\n",
       "<text text-anchor=\"middle\" x=\"1731\" y=\"-97.8\" font-family=\"Helvetica,sans-Serif\" font-size=\"14.00\" fill=\"#000000\">samples = 6</text>\n",
       "<text text-anchor=\"middle\" x=\"1731\" y=\"-82.8\" font-family=\"Helvetica,sans-Serif\" font-size=\"14.00\" fill=\"#000000\">value = [0, 0, 0, 0, 0, 0, 0, 0, 0, 0, 0, 0, 0, 0</text>\n",
       "<text text-anchor=\"middle\" x=\"1731\" y=\"-67.8\" font-family=\"Helvetica,sans-Serif\" font-size=\"14.00\" fill=\"#000000\">0, 0, 0, 0, 0, 0, 0, 0, 0, 0, 0, 0, 0, 0</text>\n",
       "<text text-anchor=\"middle\" x=\"1731\" y=\"-52.8\" font-family=\"Helvetica,sans-Serif\" font-size=\"14.00\" fill=\"#000000\">0, 0, 0, 0, 0, 0, 0, 0, 0, 0, 0, 0, 0, 0</text>\n",
       "<text text-anchor=\"middle\" x=\"1731\" y=\"-37.8\" font-family=\"Helvetica,sans-Serif\" font-size=\"14.00\" fill=\"#000000\">4, 1, 1, 0, 0, 0, 0, 0, 0, 0, 0, 0, 0, 0</text>\n",
       "<text text-anchor=\"middle\" x=\"1731\" y=\"-22.8\" font-family=\"Helvetica,sans-Serif\" font-size=\"14.00\" fill=\"#000000\">0, 0, 0, 0, 0, 0, 0, 0, 0, 0, 0, 0, 0, 0</text>\n",
       "<text text-anchor=\"middle\" x=\"1731\" y=\"-7.8\" font-family=\"Helvetica,sans-Serif\" font-size=\"14.00\" fill=\"#000000\">0, 0, 0, 0, 0, 0, 0, 0, 0, 0, 0, 0, 0]</text>\n",
       "</g>\n",
       "<!-- 12&#45;&gt;14 -->\n",
       "<g id=\"edge14\" class=\"edge\">\n",
       "<title>12&#45;&gt;14</title>\n",
       "<path fill=\"none\" stroke=\"#000000\" d=\"M1596.0446,-163.7623C1609.3093,-153.9567 1622.9138,-143.8999 1636.1389,-134.1236\"/>\n",
       "<polygon fill=\"#000000\" stroke=\"#000000\" points=\"1638.3571,-136.8364 1644.3179,-128.0775 1634.196,-131.2074 1638.3571,-136.8364\"/>\n",
       "</g>\n",
       "</g>\n",
       "</svg>\n"
      ],
      "text/plain": [
       "<graphviz.files.Source at 0x1a1e2b2828>"
      ]
     },
     "execution_count": 68,
     "metadata": {},
     "output_type": "execute_result"
    }
   ],
   "source": [
    "fb_train, fb_test, likes_train, likes_test = train_test_split(fb_data, likes, \n",
    "                                                                   test_size = 0.25, random_state=123)\n",
    "from sklearn import tree\n",
    "tree = tree.DecisionTreeClassifier(max_depth = 3) \n",
    "tree = tree.fit(fb_train, likes_train)\n",
    "\n",
    "export_graphviz(tree, out_file=\"mytree.dot\", feature_names=fb_train.columns, rounded=True)\n",
    "with open(\"mytree.dot\") as f:\n",
    "    dot_graph = f.read()\n",
    "graphviz.Source(dot_graph)"
>>>>>>> 889b95742bd28ff876402ee859cdc2552fe7950f
   ]
  },
  {
   "cell_type": "markdown",
   "metadata": {},
   "source": [
<<<<<<< HEAD
    "Seems to be performing similarly to gradient boosting, even more focus on Age."
=======
    "TO DO fix so values are taken out"
>>>>>>> 889b95742bd28ff876402ee859cdc2552fe7950f
   ]
  },
  {
   "cell_type": "markdown",
   "metadata": {},
   "source": [
    "# Sources\n",
    "https://www.svds.com/machine-learning-vs-statistics/ \n",
    "\n",
    "https://github.com/xbno/Projects/blob/master/Models_Scratch/Decision%20Trees%20from%20scratch.ipynb\n",
    "\n",
    "http://scikit-learn.org/stable/modules/generated/sklearn.ensemble.RandomForestClassifier.html\n",
    "\n",
    "http://scikit-learn.org/stable/modules/ensemble.html\n",
    "\n",
    "\n",
    "Raschka and Mirjalili\n",
    "\n",
    "Muller and Guido\n"
   ]
  },
  {
   "cell_type": "markdown",
   "metadata": {},
   "source": [
    "https://machinelearningmastery.com/ensemble-machine-learning-algorithms-python-scikit-learn/"
   ]
<<<<<<< HEAD
=======
  },
  {
   "cell_type": "code",
   "execution_count": null,
   "metadata": {},
   "outputs": [],
   "source": []
>>>>>>> 889b95742bd28ff876402ee859cdc2552fe7950f
  }
 ],
 "metadata": {
  "kernelspec": {
   "display_name": "Python 3",
   "language": "python",
   "name": "python3"
  },
  "language_info": {
   "codemirror_mode": {
    "name": "ipython",
    "version": 3
   },
   "file_extension": ".py",
   "mimetype": "text/x-python",
   "name": "python",
   "nbconvert_exporter": "python",
   "pygments_lexer": "ipython3",
<<<<<<< HEAD
   "version": "3.6.5"
=======
   "version": "3.6.4"
>>>>>>> 889b95742bd28ff876402ee859cdc2552fe7950f
  }
 },
 "nbformat": 4,
 "nbformat_minor": 2
}
